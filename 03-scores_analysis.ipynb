{
 "cells": [
  {
   "cell_type": "markdown",
   "source": "### Scores analysis\n",
   "metadata": {
    "cell_id": "a648a9da-4594-44b4-9131-f41e1323b021",
    "tags": [],
    "deepnote_cell_height": 98,
    "deepnote_cell_type": "markdown"
   }
  },
  {
   "cell_type": "markdown",
   "source": "#### Importing the processed data ",
   "metadata": {
    "cell_id": "f69bb1e3-6591-43ed-8d19-9394baa22813",
    "tags": [],
    "deepnote_cell_type": "markdown"
   }
  },
  {
   "cell_type": "code",
   "source": "import pandas as pd\nimport matplotlib.pyplot as plt\nimport numpy as np",
   "metadata": {
    "cell_id": "45ee5e57-7f81-433c-9ea0-f33cce32c99a",
    "tags": [],
    "deepnote_to_be_reexecuted": false,
    "source_hash": "2c6f8d73",
    "execution_start": 1645457625339,
    "execution_millis": 2934,
    "deepnote_cell_type": "code"
   },
   "outputs": [],
   "execution_count": 1
  },
  {
   "cell_type": "code",
   "source": "df_meta = pd.read_csv('./data/processed/scores_metadata.csv')\ndf_scores = pd.read_csv('./data/processed/scores.csv')",
   "metadata": {
    "cell_id": "1c747b17-7482-4c61-aed2-b671f6d5db80",
    "tags": [],
    "deepnote_to_be_reexecuted": false,
    "source_hash": "d5f3caca",
    "execution_start": 1645457628289,
    "execution_millis": 1193,
    "deepnote_cell_type": "code"
   },
   "outputs": [],
   "execution_count": 2
  },
  {
   "cell_type": "markdown",
   "source": "First, we'll add a column indicating the difference between each note played and the tonic of the composition. I'll call this new column `relative_note`.  \nTo get this column, first I need to join the scores data with the scores metadata, because the tonic information is in the latter.  \n\nWith this column created, we will know which notes are being used on a chromatic scale. Thus, we may determine which scales and modes are used.",
   "metadata": {
    "cell_id": "47fcc815-2935-4814-ba7e-b711aa276c1e",
    "tags": [],
    "deepnote_cell_type": "markdown"
   }
  },
  {
   "cell_type": "code",
   "source": "df_scores.head(5)",
   "metadata": {
    "cell_id": "4c1a5d4b-7544-47e0-a42d-50574b47a0df",
    "tags": [],
    "deepnote_to_be_reexecuted": false,
    "source_hash": "f876ec43",
    "execution_start": 1645457629501,
    "execution_millis": 169,
    "deepnote_cell_type": "code"
   },
   "outputs": [
    {
     "output_type": "execute_result",
     "execution_count": 3,
     "data": {
      "application/vnd.deepnote.dataframe.v3+json": {
       "column_count": 8,
       "row_count": 5,
       "columns": [
        {
         "name": "id",
         "dtype": "int64",
         "stats": {
          "unique_count": 1,
          "nan_count": 0,
          "min": "2416",
          "max": "2416",
          "histogram": [
           {
            "bin_start": 2415.5,
            "bin_end": 2415.6,
            "count": 0
           },
           {
            "bin_start": 2415.6,
            "bin_end": 2415.7,
            "count": 0
           },
           {
            "bin_start": 2415.7,
            "bin_end": 2415.8,
            "count": 0
           },
           {
            "bin_start": 2415.8,
            "bin_end": 2415.9,
            "count": 0
           },
           {
            "bin_start": 2415.9,
            "bin_end": 2416,
            "count": 0
           },
           {
            "bin_start": 2416,
            "bin_end": 2416.1,
            "count": 5
           },
           {
            "bin_start": 2416.1,
            "bin_end": 2416.2,
            "count": 0
           },
           {
            "bin_start": 2416.2,
            "bin_end": 2416.3,
            "count": 0
           },
           {
            "bin_start": 2416.3,
            "bin_end": 2416.4,
            "count": 0
           },
           {
            "bin_start": 2416.4,
            "bin_end": 2416.5,
            "count": 0
           }
          ]
         }
        },
        {
         "name": "start_time",
         "dtype": "int64",
         "stats": {
          "unique_count": 3,
          "nan_count": 0,
          "min": "10206",
          "max": "34782",
          "histogram": [
           {
            "bin_start": 10206,
            "bin_end": 12663.6,
            "count": 2
           },
           {
            "bin_start": 12663.6,
            "bin_end": 15121.2,
            "count": 0
           },
           {
            "bin_start": 15121.2,
            "bin_end": 17578.8,
            "count": 0
           },
           {
            "bin_start": 17578.8,
            "bin_end": 20036.4,
            "count": 0
           },
           {
            "bin_start": 20036.4,
            "bin_end": 22494,
            "count": 0
           },
           {
            "bin_start": 22494,
            "bin_end": 24951.6,
            "count": 2
           },
           {
            "bin_start": 24951.6,
            "bin_end": 27409.2,
            "count": 0
           },
           {
            "bin_start": 27409.2,
            "bin_end": 29866.8,
            "count": 0
           },
           {
            "bin_start": 29866.8,
            "bin_end": 32324.399999999998,
            "count": 0
           },
           {
            "bin_start": 32324.399999999998,
            "bin_end": 34782,
            "count": 1
           }
          ]
         }
        },
        {
         "name": "end_time",
         "dtype": "int64",
         "stats": {
          "unique_count": 3,
          "nan_count": 0,
          "min": "19934",
          "max": "42462",
          "histogram": [
           {
            "bin_start": 19934,
            "bin_end": 22186.8,
            "count": 2
           },
           {
            "bin_start": 22186.8,
            "bin_end": 24439.6,
            "count": 0
           },
           {
            "bin_start": 24439.6,
            "bin_end": 26692.4,
            "count": 0
           },
           {
            "bin_start": 26692.4,
            "bin_end": 28945.2,
            "count": 0
           },
           {
            "bin_start": 28945.2,
            "bin_end": 31198,
            "count": 0
           },
           {
            "bin_start": 31198,
            "bin_end": 33450.8,
            "count": 2
           },
           {
            "bin_start": 33450.8,
            "bin_end": 35703.600000000006,
            "count": 0
           },
           {
            "bin_start": 35703.600000000006,
            "bin_end": 37956.4,
            "count": 0
           },
           {
            "bin_start": 37956.4,
            "bin_end": 40209.2,
            "count": 0
           },
           {
            "bin_start": 40209.2,
            "bin_end": 42462,
            "count": 1
           }
          ]
         }
        },
        {
         "name": "instrument",
         "dtype": "int64",
         "stats": {
          "unique_count": 1,
          "nan_count": 0,
          "min": "61",
          "max": "61",
          "histogram": [
           {
            "bin_start": 60.5,
            "bin_end": 60.6,
            "count": 0
           },
           {
            "bin_start": 60.6,
            "bin_end": 60.7,
            "count": 0
           },
           {
            "bin_start": 60.7,
            "bin_end": 60.8,
            "count": 0
           },
           {
            "bin_start": 60.8,
            "bin_end": 60.9,
            "count": 0
           },
           {
            "bin_start": 60.9,
            "bin_end": 61,
            "count": 0
           },
           {
            "bin_start": 61,
            "bin_end": 61.1,
            "count": 5
           },
           {
            "bin_start": 61.1,
            "bin_end": 61.2,
            "count": 0
           },
           {
            "bin_start": 61.2,
            "bin_end": 61.3,
            "count": 0
           },
           {
            "bin_start": 61.3,
            "bin_end": 61.4,
            "count": 0
           },
           {
            "bin_start": 61.4,
            "bin_end": 61.5,
            "count": 0
           }
          ]
         }
        },
        {
         "name": "note",
         "dtype": "int64",
         "stats": {
          "unique_count": 2,
          "nan_count": 0,
          "min": "55",
          "max": "63",
          "histogram": [
           {
            "bin_start": 55,
            "bin_end": 55.8,
            "count": 3
           },
           {
            "bin_start": 55.8,
            "bin_end": 56.6,
            "count": 0
           },
           {
            "bin_start": 56.6,
            "bin_end": 57.4,
            "count": 0
           },
           {
            "bin_start": 57.4,
            "bin_end": 58.2,
            "count": 0
           },
           {
            "bin_start": 58.2,
            "bin_end": 59,
            "count": 0
           },
           {
            "bin_start": 59,
            "bin_end": 59.8,
            "count": 0
           },
           {
            "bin_start": 59.8,
            "bin_end": 60.6,
            "count": 0
           },
           {
            "bin_start": 60.6,
            "bin_end": 61.4,
            "count": 0
           },
           {
            "bin_start": 61.4,
            "bin_end": 62.2,
            "count": 0
           },
           {
            "bin_start": 62.2,
            "bin_end": 63,
            "count": 2
           }
          ]
         }
        },
        {
         "name": "start_beat",
         "dtype": "float64",
         "stats": {
          "unique_count": 3,
          "nan_count": 0,
          "min": "2.0",
          "max": "4.0",
          "histogram": [
           {
            "bin_start": 2,
            "bin_end": 2.2,
            "count": 2
           },
           {
            "bin_start": 2.2,
            "bin_end": 2.4,
            "count": 0
           },
           {
            "bin_start": 2.4,
            "bin_end": 2.6,
            "count": 0
           },
           {
            "bin_start": 2.6,
            "bin_end": 2.8,
            "count": 0
           },
           {
            "bin_start": 2.8,
            "bin_end": 3,
            "count": 0
           },
           {
            "bin_start": 3,
            "bin_end": 3.2,
            "count": 2
           },
           {
            "bin_start": 3.2,
            "bin_end": 3.4000000000000004,
            "count": 0
           },
           {
            "bin_start": 3.4000000000000004,
            "bin_end": 3.6,
            "count": 0
           },
           {
            "bin_start": 3.6,
            "bin_end": 3.8,
            "count": 0
           },
           {
            "bin_start": 3.8,
            "bin_end": 4,
            "count": 1
           }
          ]
         }
        },
        {
         "name": "end_beat",
         "dtype": "float64",
         "stats": {
          "unique_count": 1,
          "nan_count": 0,
          "min": "0.6875",
          "max": "0.6875",
          "histogram": [
           {
            "bin_start": 0.1875,
            "bin_end": 0.2875,
            "count": 0
           },
           {
            "bin_start": 0.2875,
            "bin_end": 0.3875,
            "count": 0
           },
           {
            "bin_start": 0.3875,
            "bin_end": 0.48750000000000004,
            "count": 0
           },
           {
            "bin_start": 0.48750000000000004,
            "bin_end": 0.5875,
            "count": 0
           },
           {
            "bin_start": 0.5875,
            "bin_end": 0.6875,
            "count": 0
           },
           {
            "bin_start": 0.6875,
            "bin_end": 0.7875000000000001,
            "count": 5
           },
           {
            "bin_start": 0.7875000000000001,
            "bin_end": 0.8875000000000001,
            "count": 0
           },
           {
            "bin_start": 0.8875000000000001,
            "bin_end": 0.9875,
            "count": 0
           },
           {
            "bin_start": 0.9875,
            "bin_end": 1.0875,
            "count": 0
           },
           {
            "bin_start": 1.0875,
            "bin_end": 1.1875,
            "count": 0
           }
          ]
         }
        },
        {
         "name": "note_value",
         "dtype": "object",
         "stats": {
          "unique_count": 1,
          "nan_count": 0,
          "categories": [
           {
            "name": "Dotted Eighth",
            "count": 5
           }
          ]
         }
        },
        {
         "name": "_deepnote_index_column",
         "dtype": "int64"
        }
       ],
       "rows": [
        {
         "id": 2416,
         "start_time": 10206,
         "end_time": 19934,
         "instrument": 61,
         "note": 63,
         "start_beat": 2,
         "end_beat": 0.6875,
         "note_value": "Dotted Eighth",
         "_deepnote_index_column": 0
        },
        {
         "id": 2416,
         "start_time": 10206,
         "end_time": 19934,
         "instrument": 61,
         "note": 55,
         "start_beat": 2,
         "end_beat": 0.6875,
         "note_value": "Dotted Eighth",
         "_deepnote_index_column": 1
        },
        {
         "id": 2416,
         "start_time": 24030,
         "end_time": 31710,
         "instrument": 61,
         "note": 63,
         "start_beat": 3,
         "end_beat": 0.6875,
         "note_value": "Dotted Eighth",
         "_deepnote_index_column": 2
        },
        {
         "id": 2416,
         "start_time": 24030,
         "end_time": 31710,
         "instrument": 61,
         "note": 55,
         "start_beat": 3,
         "end_beat": 0.6875,
         "note_value": "Dotted Eighth",
         "_deepnote_index_column": 3
        },
        {
         "id": 2416,
         "start_time": 34782,
         "end_time": 42462,
         "instrument": 61,
         "note": 55,
         "start_beat": 4,
         "end_beat": 0.6875,
         "note_value": "Dotted Eighth",
         "_deepnote_index_column": 4
        }
       ]
      },
      "text/plain": "     id  start_time  end_time  instrument  note  start_beat  end_beat  \\\n0  2416       10206     19934          61    63         2.0    0.6875   \n1  2416       10206     19934          61    55         2.0    0.6875   \n2  2416       24030     31710          61    63         3.0    0.6875   \n3  2416       24030     31710          61    55         3.0    0.6875   \n4  2416       34782     42462          61    55         4.0    0.6875   \n\n      note_value  \n0  Dotted Eighth  \n1  Dotted Eighth  \n2  Dotted Eighth  \n3  Dotted Eighth  \n4  Dotted Eighth  ",
      "text/html": "<div>\n<style scoped>\n    .dataframe tbody tr th:only-of-type {\n        vertical-align: middle;\n    }\n\n    .dataframe tbody tr th {\n        vertical-align: top;\n    }\n\n    .dataframe thead th {\n        text-align: right;\n    }\n</style>\n<table border=\"1\" class=\"dataframe\">\n  <thead>\n    <tr style=\"text-align: right;\">\n      <th></th>\n      <th>id</th>\n      <th>start_time</th>\n      <th>end_time</th>\n      <th>instrument</th>\n      <th>note</th>\n      <th>start_beat</th>\n      <th>end_beat</th>\n      <th>note_value</th>\n    </tr>\n  </thead>\n  <tbody>\n    <tr>\n      <th>0</th>\n      <td>2416</td>\n      <td>10206</td>\n      <td>19934</td>\n      <td>61</td>\n      <td>63</td>\n      <td>2.0</td>\n      <td>0.6875</td>\n      <td>Dotted Eighth</td>\n    </tr>\n    <tr>\n      <th>1</th>\n      <td>2416</td>\n      <td>10206</td>\n      <td>19934</td>\n      <td>61</td>\n      <td>55</td>\n      <td>2.0</td>\n      <td>0.6875</td>\n      <td>Dotted Eighth</td>\n    </tr>\n    <tr>\n      <th>2</th>\n      <td>2416</td>\n      <td>24030</td>\n      <td>31710</td>\n      <td>61</td>\n      <td>63</td>\n      <td>3.0</td>\n      <td>0.6875</td>\n      <td>Dotted Eighth</td>\n    </tr>\n    <tr>\n      <th>3</th>\n      <td>2416</td>\n      <td>24030</td>\n      <td>31710</td>\n      <td>61</td>\n      <td>55</td>\n      <td>3.0</td>\n      <td>0.6875</td>\n      <td>Dotted Eighth</td>\n    </tr>\n    <tr>\n      <th>4</th>\n      <td>2416</td>\n      <td>34782</td>\n      <td>42462</td>\n      <td>61</td>\n      <td>55</td>\n      <td>4.0</td>\n      <td>0.6875</td>\n      <td>Dotted Eighth</td>\n    </tr>\n  </tbody>\n</table>\n</div>"
     },
     "metadata": {}
    }
   ],
   "execution_count": 3
  },
  {
   "cell_type": "code",
   "source": "df_meta.head(5)",
   "metadata": {
    "cell_id": "9eb15461-5202-4e15-b6ec-25d8615f5102",
    "tags": [],
    "deepnote_to_be_reexecuted": false,
    "source_hash": "d54dd59a",
    "execution_start": 1645457629630,
    "execution_millis": 77,
    "deepnote_cell_type": "code"
   },
   "outputs": [
    {
     "output_type": "execute_result",
     "execution_count": 4,
     "data": {
      "application/vnd.deepnote.dataframe.v3+json": {
       "column_count": 10,
       "row_count": 5,
       "columns": [
        {
         "name": "id",
         "dtype": "int64",
         "stats": {
          "unique_count": 5,
          "nan_count": 0,
          "min": "1727",
          "max": "1733",
          "histogram": [
           {
            "bin_start": 1727,
            "bin_end": 1727.6,
            "count": 1
           },
           {
            "bin_start": 1727.6,
            "bin_end": 1728.2,
            "count": 1
           },
           {
            "bin_start": 1728.2,
            "bin_end": 1728.8,
            "count": 0
           },
           {
            "bin_start": 1728.8,
            "bin_end": 1729.4,
            "count": 1
           },
           {
            "bin_start": 1729.4,
            "bin_end": 1730,
            "count": 0
           },
           {
            "bin_start": 1730,
            "bin_end": 1730.6,
            "count": 1
           },
           {
            "bin_start": 1730.6,
            "bin_end": 1731.2,
            "count": 0
           },
           {
            "bin_start": 1731.2,
            "bin_end": 1731.8,
            "count": 0
           },
           {
            "bin_start": 1731.8,
            "bin_end": 1732.4,
            "count": 0
           },
           {
            "bin_start": 1732.4,
            "bin_end": 1733,
            "count": 1
           }
          ]
         }
        },
        {
         "name": "composer",
         "dtype": "object",
         "stats": {
          "unique_count": 1,
          "nan_count": 0,
          "categories": [
           {
            "name": "Schubert",
            "count": 5
           }
          ]
         }
        },
        {
         "name": "composition",
         "dtype": "object",
         "stats": {
          "unique_count": 2,
          "nan_count": 0,
          "categories": [
           {
            "name": "Piano Quintet in A major",
            "count": 4
           },
           {
            "name": "Piano Sonata in A major",
            "count": 1
           }
          ]
         }
        },
        {
         "name": "movement",
         "dtype": "object",
         "stats": {
          "unique_count": 5,
          "nan_count": 0,
          "categories": [
           {
            "name": "2. Andante",
            "count": 1
           },
           {
            "name": "3. Scherzo: Presto",
            "count": 1
           },
           {
            "name": "3 others",
            "count": 3
           }
          ]
         }
        },
        {
         "name": "ensemble",
         "dtype": "object",
         "stats": {
          "unique_count": 2,
          "nan_count": 0,
          "categories": [
           {
            "name": "Piano Quintet",
            "count": 4
           },
           {
            "name": "Solo Piano",
            "count": 1
           }
          ]
         }
        },
        {
         "name": "seconds",
         "dtype": "int64",
         "stats": {
          "unique_count": 5,
          "nan_count": 0,
          "min": "251",
          "max": "546",
          "histogram": [
           {
            "bin_start": 251,
            "bin_end": 280.5,
            "count": 1
           },
           {
            "bin_start": 280.5,
            "bin_end": 310,
            "count": 0
           },
           {
            "bin_start": 310,
            "bin_end": 339.5,
            "count": 0
           },
           {
            "bin_start": 339.5,
            "bin_end": 369,
            "count": 1
           },
           {
            "bin_start": 369,
            "bin_end": 398.5,
            "count": 0
           },
           {
            "bin_start": 398.5,
            "bin_end": 428,
            "count": 0
           },
           {
            "bin_start": 428,
            "bin_end": 457.5,
            "count": 2
           },
           {
            "bin_start": 457.5,
            "bin_end": 487,
            "count": 0
           },
           {
            "bin_start": 487,
            "bin_end": 516.5,
            "count": 0
           },
           {
            "bin_start": 516.5,
            "bin_end": 546,
            "count": 1
           }
          ]
         }
        },
        {
         "name": "key",
         "dtype": "object",
         "stats": {
          "unique_count": 1,
          "nan_count": 0,
          "categories": [
           {
            "name": "A major",
            "count": 5
           }
          ]
         }
        },
        {
         "name": "tonic",
         "dtype": "object",
         "stats": {
          "unique_count": 1,
          "nan_count": 0,
          "categories": [
           {
            "name": "A",
            "count": 5
           }
          ]
         }
        },
        {
         "name": "tonic_encoded",
         "dtype": "int64",
         "stats": {
          "unique_count": 1,
          "nan_count": 0,
          "min": "9",
          "max": "9",
          "histogram": [
           {
            "bin_start": 8.5,
            "bin_end": 8.6,
            "count": 0
           },
           {
            "bin_start": 8.6,
            "bin_end": 8.7,
            "count": 0
           },
           {
            "bin_start": 8.7,
            "bin_end": 8.8,
            "count": 0
           },
           {
            "bin_start": 8.8,
            "bin_end": 8.9,
            "count": 0
           },
           {
            "bin_start": 8.9,
            "bin_end": 9,
            "count": 0
           },
           {
            "bin_start": 9,
            "bin_end": 9.1,
            "count": 5
           },
           {
            "bin_start": 9.1,
            "bin_end": 9.2,
            "count": 0
           },
           {
            "bin_start": 9.2,
            "bin_end": 9.3,
            "count": 0
           },
           {
            "bin_start": 9.3,
            "bin_end": 9.4,
            "count": 0
           },
           {
            "bin_start": 9.4,
            "bin_end": 9.5,
            "count": 0
           }
          ]
         }
        },
        {
         "name": "mode",
         "dtype": "object",
         "stats": {
          "unique_count": 1,
          "nan_count": 0,
          "categories": [
           {
            "name": "major",
            "count": 5
           }
          ]
         }
        },
        {
         "name": "_deepnote_index_column",
         "dtype": "int64"
        }
       ],
       "rows": [
        {
         "id": 1727,
         "composer": "Schubert",
         "composition": "Piano Quintet in A major",
         "movement": "2. Andante",
         "ensemble": "Piano Quintet",
         "seconds": 447,
         "key": "A major",
         "tonic": "A",
         "tonic_encoded": 9,
         "mode": "major",
         "_deepnote_index_column": 0
        },
        {
         "id": 1728,
         "composer": "Schubert",
         "composition": "Piano Quintet in A major",
         "movement": "3. Scherzo: Presto",
         "ensemble": "Piano Quintet",
         "seconds": 251,
         "key": "A major",
         "tonic": "A",
         "tonic_encoded": 9,
         "mode": "major",
         "_deepnote_index_column": 1
        },
        {
         "id": 1729,
         "composer": "Schubert",
         "composition": "Piano Quintet in A major",
         "movement": "4. Andantino - Allegretto",
         "ensemble": "Piano Quintet",
         "seconds": 444,
         "key": "A major",
         "tonic": "A",
         "tonic_encoded": 9,
         "mode": "major",
         "_deepnote_index_column": 2
        },
        {
         "id": 1730,
         "composer": "Schubert",
         "composition": "Piano Quintet in A major",
         "movement": "5. Allegro giusto",
         "ensemble": "Piano Quintet",
         "seconds": 368,
         "key": "A major",
         "tonic": "A",
         "tonic_encoded": 9,
         "mode": "major",
         "_deepnote_index_column": 3
        },
        {
         "id": 1733,
         "composer": "Schubert",
         "composition": "Piano Sonata in A major",
         "movement": "2. Andantino",
         "ensemble": "Solo Piano",
         "seconds": 546,
         "key": "A major",
         "tonic": "A",
         "tonic_encoded": 9,
         "mode": "major",
         "_deepnote_index_column": 4
        }
       ]
      },
      "text/plain": "     id  composer               composition                   movement  \\\n0  1727  Schubert  Piano Quintet in A major                 2. Andante   \n1  1728  Schubert  Piano Quintet in A major         3. Scherzo: Presto   \n2  1729  Schubert  Piano Quintet in A major  4. Andantino - Allegretto   \n3  1730  Schubert  Piano Quintet in A major          5. Allegro giusto   \n4  1733  Schubert   Piano Sonata in A major               2. Andantino   \n\n        ensemble  seconds      key tonic  tonic_encoded   mode  \n0  Piano Quintet      447  A major     A              9  major  \n1  Piano Quintet      251  A major     A              9  major  \n2  Piano Quintet      444  A major     A              9  major  \n3  Piano Quintet      368  A major     A              9  major  \n4     Solo Piano      546  A major     A              9  major  ",
      "text/html": "<div>\n<style scoped>\n    .dataframe tbody tr th:only-of-type {\n        vertical-align: middle;\n    }\n\n    .dataframe tbody tr th {\n        vertical-align: top;\n    }\n\n    .dataframe thead th {\n        text-align: right;\n    }\n</style>\n<table border=\"1\" class=\"dataframe\">\n  <thead>\n    <tr style=\"text-align: right;\">\n      <th></th>\n      <th>id</th>\n      <th>composer</th>\n      <th>composition</th>\n      <th>movement</th>\n      <th>ensemble</th>\n      <th>seconds</th>\n      <th>key</th>\n      <th>tonic</th>\n      <th>tonic_encoded</th>\n      <th>mode</th>\n    </tr>\n  </thead>\n  <tbody>\n    <tr>\n      <th>0</th>\n      <td>1727</td>\n      <td>Schubert</td>\n      <td>Piano Quintet in A major</td>\n      <td>2. Andante</td>\n      <td>Piano Quintet</td>\n      <td>447</td>\n      <td>A major</td>\n      <td>A</td>\n      <td>9</td>\n      <td>major</td>\n    </tr>\n    <tr>\n      <th>1</th>\n      <td>1728</td>\n      <td>Schubert</td>\n      <td>Piano Quintet in A major</td>\n      <td>3. Scherzo: Presto</td>\n      <td>Piano Quintet</td>\n      <td>251</td>\n      <td>A major</td>\n      <td>A</td>\n      <td>9</td>\n      <td>major</td>\n    </tr>\n    <tr>\n      <th>2</th>\n      <td>1729</td>\n      <td>Schubert</td>\n      <td>Piano Quintet in A major</td>\n      <td>4. Andantino - Allegretto</td>\n      <td>Piano Quintet</td>\n      <td>444</td>\n      <td>A major</td>\n      <td>A</td>\n      <td>9</td>\n      <td>major</td>\n    </tr>\n    <tr>\n      <th>3</th>\n      <td>1730</td>\n      <td>Schubert</td>\n      <td>Piano Quintet in A major</td>\n      <td>5. Allegro giusto</td>\n      <td>Piano Quintet</td>\n      <td>368</td>\n      <td>A major</td>\n      <td>A</td>\n      <td>9</td>\n      <td>major</td>\n    </tr>\n    <tr>\n      <th>4</th>\n      <td>1733</td>\n      <td>Schubert</td>\n      <td>Piano Sonata in A major</td>\n      <td>2. Andantino</td>\n      <td>Solo Piano</td>\n      <td>546</td>\n      <td>A major</td>\n      <td>A</td>\n      <td>9</td>\n      <td>major</td>\n    </tr>\n  </tbody>\n</table>\n</div>"
     },
     "metadata": {}
    }
   ],
   "execution_count": 4
  },
  {
   "cell_type": "code",
   "source": "# Joining the data\ndf = df_scores.merge(df_meta, how='inner', on='id')",
   "metadata": {
    "cell_id": "fdd38993-6c24-4fc9-97ce-39d2155c8551",
    "tags": [],
    "deepnote_to_be_reexecuted": false,
    "source_hash": "90abeeb1",
    "execution_start": 1645457629716,
    "execution_millis": 569,
    "deepnote_cell_type": "code"
   },
   "outputs": [],
   "execution_count": 5
  },
  {
   "cell_type": "code",
   "source": "df.head(5)",
   "metadata": {
    "cell_id": "2eb1dbf5-3120-4e8d-b668-93f4aed0c841",
    "tags": [],
    "deepnote_to_be_reexecuted": false,
    "source_hash": "245876d0",
    "execution_start": 1645457630383,
    "execution_millis": 10,
    "deepnote_cell_type": "code"
   },
   "outputs": [
    {
     "output_type": "execute_result",
     "execution_count": 6,
     "data": {
      "application/vnd.deepnote.dataframe.v3+json": {
       "column_count": 17,
       "row_count": 5,
       "columns": [
        {
         "name": "id",
         "dtype": "int64",
         "stats": {
          "unique_count": 1,
          "nan_count": 0,
          "min": "2416",
          "max": "2416",
          "histogram": [
           {
            "bin_start": 2415.5,
            "bin_end": 2415.6,
            "count": 0
           },
           {
            "bin_start": 2415.6,
            "bin_end": 2415.7,
            "count": 0
           },
           {
            "bin_start": 2415.7,
            "bin_end": 2415.8,
            "count": 0
           },
           {
            "bin_start": 2415.8,
            "bin_end": 2415.9,
            "count": 0
           },
           {
            "bin_start": 2415.9,
            "bin_end": 2416,
            "count": 0
           },
           {
            "bin_start": 2416,
            "bin_end": 2416.1,
            "count": 5
           },
           {
            "bin_start": 2416.1,
            "bin_end": 2416.2,
            "count": 0
           },
           {
            "bin_start": 2416.2,
            "bin_end": 2416.3,
            "count": 0
           },
           {
            "bin_start": 2416.3,
            "bin_end": 2416.4,
            "count": 0
           },
           {
            "bin_start": 2416.4,
            "bin_end": 2416.5,
            "count": 0
           }
          ]
         }
        },
        {
         "name": "start_time",
         "dtype": "int64",
         "stats": {
          "unique_count": 3,
          "nan_count": 0,
          "min": "10206",
          "max": "34782",
          "histogram": [
           {
            "bin_start": 10206,
            "bin_end": 12663.6,
            "count": 2
           },
           {
            "bin_start": 12663.6,
            "bin_end": 15121.2,
            "count": 0
           },
           {
            "bin_start": 15121.2,
            "bin_end": 17578.8,
            "count": 0
           },
           {
            "bin_start": 17578.8,
            "bin_end": 20036.4,
            "count": 0
           },
           {
            "bin_start": 20036.4,
            "bin_end": 22494,
            "count": 0
           },
           {
            "bin_start": 22494,
            "bin_end": 24951.6,
            "count": 2
           },
           {
            "bin_start": 24951.6,
            "bin_end": 27409.2,
            "count": 0
           },
           {
            "bin_start": 27409.2,
            "bin_end": 29866.8,
            "count": 0
           },
           {
            "bin_start": 29866.8,
            "bin_end": 32324.399999999998,
            "count": 0
           },
           {
            "bin_start": 32324.399999999998,
            "bin_end": 34782,
            "count": 1
           }
          ]
         }
        },
        {
         "name": "end_time",
         "dtype": "int64",
         "stats": {
          "unique_count": 3,
          "nan_count": 0,
          "min": "19934",
          "max": "42462",
          "histogram": [
           {
            "bin_start": 19934,
            "bin_end": 22186.8,
            "count": 2
           },
           {
            "bin_start": 22186.8,
            "bin_end": 24439.6,
            "count": 0
           },
           {
            "bin_start": 24439.6,
            "bin_end": 26692.4,
            "count": 0
           },
           {
            "bin_start": 26692.4,
            "bin_end": 28945.2,
            "count": 0
           },
           {
            "bin_start": 28945.2,
            "bin_end": 31198,
            "count": 0
           },
           {
            "bin_start": 31198,
            "bin_end": 33450.8,
            "count": 2
           },
           {
            "bin_start": 33450.8,
            "bin_end": 35703.600000000006,
            "count": 0
           },
           {
            "bin_start": 35703.600000000006,
            "bin_end": 37956.4,
            "count": 0
           },
           {
            "bin_start": 37956.4,
            "bin_end": 40209.2,
            "count": 0
           },
           {
            "bin_start": 40209.2,
            "bin_end": 42462,
            "count": 1
           }
          ]
         }
        },
        {
         "name": "instrument",
         "dtype": "int64",
         "stats": {
          "unique_count": 1,
          "nan_count": 0,
          "min": "61",
          "max": "61",
          "histogram": [
           {
            "bin_start": 60.5,
            "bin_end": 60.6,
            "count": 0
           },
           {
            "bin_start": 60.6,
            "bin_end": 60.7,
            "count": 0
           },
           {
            "bin_start": 60.7,
            "bin_end": 60.8,
            "count": 0
           },
           {
            "bin_start": 60.8,
            "bin_end": 60.9,
            "count": 0
           },
           {
            "bin_start": 60.9,
            "bin_end": 61,
            "count": 0
           },
           {
            "bin_start": 61,
            "bin_end": 61.1,
            "count": 5
           },
           {
            "bin_start": 61.1,
            "bin_end": 61.2,
            "count": 0
           },
           {
            "bin_start": 61.2,
            "bin_end": 61.3,
            "count": 0
           },
           {
            "bin_start": 61.3,
            "bin_end": 61.4,
            "count": 0
           },
           {
            "bin_start": 61.4,
            "bin_end": 61.5,
            "count": 0
           }
          ]
         }
        },
        {
         "name": "note",
         "dtype": "int64",
         "stats": {
          "unique_count": 2,
          "nan_count": 0,
          "min": "55",
          "max": "63",
          "histogram": [
           {
            "bin_start": 55,
            "bin_end": 55.8,
            "count": 3
           },
           {
            "bin_start": 55.8,
            "bin_end": 56.6,
            "count": 0
           },
           {
            "bin_start": 56.6,
            "bin_end": 57.4,
            "count": 0
           },
           {
            "bin_start": 57.4,
            "bin_end": 58.2,
            "count": 0
           },
           {
            "bin_start": 58.2,
            "bin_end": 59,
            "count": 0
           },
           {
            "bin_start": 59,
            "bin_end": 59.8,
            "count": 0
           },
           {
            "bin_start": 59.8,
            "bin_end": 60.6,
            "count": 0
           },
           {
            "bin_start": 60.6,
            "bin_end": 61.4,
            "count": 0
           },
           {
            "bin_start": 61.4,
            "bin_end": 62.2,
            "count": 0
           },
           {
            "bin_start": 62.2,
            "bin_end": 63,
            "count": 2
           }
          ]
         }
        },
        {
         "name": "start_beat",
         "dtype": "float64",
         "stats": {
          "unique_count": 3,
          "nan_count": 0,
          "min": "2.0",
          "max": "4.0",
          "histogram": [
           {
            "bin_start": 2,
            "bin_end": 2.2,
            "count": 2
           },
           {
            "bin_start": 2.2,
            "bin_end": 2.4,
            "count": 0
           },
           {
            "bin_start": 2.4,
            "bin_end": 2.6,
            "count": 0
           },
           {
            "bin_start": 2.6,
            "bin_end": 2.8,
            "count": 0
           },
           {
            "bin_start": 2.8,
            "bin_end": 3,
            "count": 0
           },
           {
            "bin_start": 3,
            "bin_end": 3.2,
            "count": 2
           },
           {
            "bin_start": 3.2,
            "bin_end": 3.4000000000000004,
            "count": 0
           },
           {
            "bin_start": 3.4000000000000004,
            "bin_end": 3.6,
            "count": 0
           },
           {
            "bin_start": 3.6,
            "bin_end": 3.8,
            "count": 0
           },
           {
            "bin_start": 3.8,
            "bin_end": 4,
            "count": 1
           }
          ]
         }
        },
        {
         "name": "end_beat",
         "dtype": "float64",
         "stats": {
          "unique_count": 1,
          "nan_count": 0,
          "min": "0.6875",
          "max": "0.6875",
          "histogram": [
           {
            "bin_start": 0.1875,
            "bin_end": 0.2875,
            "count": 0
           },
           {
            "bin_start": 0.2875,
            "bin_end": 0.3875,
            "count": 0
           },
           {
            "bin_start": 0.3875,
            "bin_end": 0.48750000000000004,
            "count": 0
           },
           {
            "bin_start": 0.48750000000000004,
            "bin_end": 0.5875,
            "count": 0
           },
           {
            "bin_start": 0.5875,
            "bin_end": 0.6875,
            "count": 0
           },
           {
            "bin_start": 0.6875,
            "bin_end": 0.7875000000000001,
            "count": 5
           },
           {
            "bin_start": 0.7875000000000001,
            "bin_end": 0.8875000000000001,
            "count": 0
           },
           {
            "bin_start": 0.8875000000000001,
            "bin_end": 0.9875,
            "count": 0
           },
           {
            "bin_start": 0.9875,
            "bin_end": 1.0875,
            "count": 0
           },
           {
            "bin_start": 1.0875,
            "bin_end": 1.1875,
            "count": 0
           }
          ]
         }
        },
        {
         "name": "note_value",
         "dtype": "object",
         "stats": {
          "unique_count": 1,
          "nan_count": 0,
          "categories": [
           {
            "name": "Dotted Eighth",
            "count": 5
           }
          ]
         }
        },
        {
         "name": "composer",
         "dtype": "object",
         "stats": {
          "unique_count": 1,
          "nan_count": 0,
          "categories": [
           {
            "name": "Beethoven",
            "count": 5
           }
          ]
         }
        },
        {
         "name": "composition",
         "dtype": "object",
         "stats": {
          "unique_count": 1,
          "nan_count": 0,
          "categories": [
           {
            "name": "Sextet in E-flat major for Winds",
            "count": 5
           }
          ]
         }
        },
        {
         "name": "movement",
         "dtype": "object",
         "stats": {
          "unique_count": 1,
          "nan_count": 0,
          "categories": [
           {
            "name": "3. Menuetto. Quasi Allegretto - Trio",
            "count": 5
           }
          ]
         }
        },
        {
         "name": "ensemble",
         "dtype": "object",
         "stats": {
          "unique_count": 1,
          "nan_count": 0,
          "categories": [
           {
            "name": "Pairs Clarinet-Horn-Bassoon",
            "count": 5
           }
          ]
         }
        },
        {
         "name": "seconds",
         "dtype": "int64",
         "stats": {
          "unique_count": 1,
          "nan_count": 0,
          "min": "139",
          "max": "139",
          "histogram": [
           {
            "bin_start": 138.5,
            "bin_end": 138.6,
            "count": 0
           },
           {
            "bin_start": 138.6,
            "bin_end": 138.7,
            "count": 0
           },
           {
            "bin_start": 138.7,
            "bin_end": 138.8,
            "count": 0
           },
           {
            "bin_start": 138.8,
            "bin_end": 138.9,
            "count": 0
           },
           {
            "bin_start": 138.9,
            "bin_end": 139,
            "count": 0
           },
           {
            "bin_start": 139,
            "bin_end": 139.1,
            "count": 5
           },
           {
            "bin_start": 139.1,
            "bin_end": 139.2,
            "count": 0
           },
           {
            "bin_start": 139.2,
            "bin_end": 139.3,
            "count": 0
           },
           {
            "bin_start": 139.3,
            "bin_end": 139.4,
            "count": 0
           },
           {
            "bin_start": 139.4,
            "bin_end": 139.5,
            "count": 0
           }
          ]
         }
        },
        {
         "name": "key",
         "dtype": "object",
         "stats": {
          "unique_count": 1,
          "nan_count": 0,
          "categories": [
           {
            "name": "E-flat major",
            "count": 5
           }
          ]
         }
        },
        {
         "name": "tonic",
         "dtype": "object",
         "stats": {
          "unique_count": 1,
          "nan_count": 0,
          "categories": [
           {
            "name": "E-flat",
            "count": 5
           }
          ]
         }
        },
        {
         "name": "tonic_encoded",
         "dtype": "int64",
         "stats": {
          "unique_count": 1,
          "nan_count": 0,
          "min": "3",
          "max": "3",
          "histogram": [
           {
            "bin_start": 2.5,
            "bin_end": 2.6,
            "count": 0
           },
           {
            "bin_start": 2.6,
            "bin_end": 2.7,
            "count": 0
           },
           {
            "bin_start": 2.7,
            "bin_end": 2.8,
            "count": 0
           },
           {
            "bin_start": 2.8,
            "bin_end": 2.9,
            "count": 0
           },
           {
            "bin_start": 2.9,
            "bin_end": 3,
            "count": 0
           },
           {
            "bin_start": 3,
            "bin_end": 3.1,
            "count": 5
           },
           {
            "bin_start": 3.1,
            "bin_end": 3.2,
            "count": 0
           },
           {
            "bin_start": 3.2,
            "bin_end": 3.3,
            "count": 0
           },
           {
            "bin_start": 3.3,
            "bin_end": 3.4,
            "count": 0
           },
           {
            "bin_start": 3.4,
            "bin_end": 3.5,
            "count": 0
           }
          ]
         }
        },
        {
         "name": "mode",
         "dtype": "object",
         "stats": {
          "unique_count": 1,
          "nan_count": 0,
          "categories": [
           {
            "name": "major",
            "count": 5
           }
          ]
         }
        },
        {
         "name": "_deepnote_index_column",
         "dtype": "int64"
        }
       ],
       "rows": [
        {
         "id": 2416,
         "start_time": 10206,
         "end_time": 19934,
         "instrument": 61,
         "note": 63,
         "start_beat": 2,
         "end_beat": 0.6875,
         "note_value": "Dotted Eighth",
         "composer": "Beethoven",
         "composition": "Sextet in E-flat major for Winds",
         "movement": "3. Menuetto. Quasi Allegretto - Trio",
         "ensemble": "Pairs Clarinet-Horn-Bassoon",
         "seconds": 139,
         "key": "E-flat major",
         "tonic": "E-flat",
         "tonic_encoded": 3,
         "mode": "major",
         "_deepnote_index_column": 0
        },
        {
         "id": 2416,
         "start_time": 10206,
         "end_time": 19934,
         "instrument": 61,
         "note": 55,
         "start_beat": 2,
         "end_beat": 0.6875,
         "note_value": "Dotted Eighth",
         "composer": "Beethoven",
         "composition": "Sextet in E-flat major for Winds",
         "movement": "3. Menuetto. Quasi Allegretto - Trio",
         "ensemble": "Pairs Clarinet-Horn-Bassoon",
         "seconds": 139,
         "key": "E-flat major",
         "tonic": "E-flat",
         "tonic_encoded": 3,
         "mode": "major",
         "_deepnote_index_column": 1
        },
        {
         "id": 2416,
         "start_time": 24030,
         "end_time": 31710,
         "instrument": 61,
         "note": 63,
         "start_beat": 3,
         "end_beat": 0.6875,
         "note_value": "Dotted Eighth",
         "composer": "Beethoven",
         "composition": "Sextet in E-flat major for Winds",
         "movement": "3. Menuetto. Quasi Allegretto - Trio",
         "ensemble": "Pairs Clarinet-Horn-Bassoon",
         "seconds": 139,
         "key": "E-flat major",
         "tonic": "E-flat",
         "tonic_encoded": 3,
         "mode": "major",
         "_deepnote_index_column": 2
        },
        {
         "id": 2416,
         "start_time": 24030,
         "end_time": 31710,
         "instrument": 61,
         "note": 55,
         "start_beat": 3,
         "end_beat": 0.6875,
         "note_value": "Dotted Eighth",
         "composer": "Beethoven",
         "composition": "Sextet in E-flat major for Winds",
         "movement": "3. Menuetto. Quasi Allegretto - Trio",
         "ensemble": "Pairs Clarinet-Horn-Bassoon",
         "seconds": 139,
         "key": "E-flat major",
         "tonic": "E-flat",
         "tonic_encoded": 3,
         "mode": "major",
         "_deepnote_index_column": 3
        },
        {
         "id": 2416,
         "start_time": 34782,
         "end_time": 42462,
         "instrument": 61,
         "note": 55,
         "start_beat": 4,
         "end_beat": 0.6875,
         "note_value": "Dotted Eighth",
         "composer": "Beethoven",
         "composition": "Sextet in E-flat major for Winds",
         "movement": "3. Menuetto. Quasi Allegretto - Trio",
         "ensemble": "Pairs Clarinet-Horn-Bassoon",
         "seconds": 139,
         "key": "E-flat major",
         "tonic": "E-flat",
         "tonic_encoded": 3,
         "mode": "major",
         "_deepnote_index_column": 4
        }
       ]
      },
      "text/plain": "     id  start_time  end_time  instrument  note  start_beat  end_beat  \\\n0  2416       10206     19934          61    63         2.0    0.6875   \n1  2416       10206     19934          61    55         2.0    0.6875   \n2  2416       24030     31710          61    63         3.0    0.6875   \n3  2416       24030     31710          61    55         3.0    0.6875   \n4  2416       34782     42462          61    55         4.0    0.6875   \n\n      note_value   composer                       composition  \\\n0  Dotted Eighth  Beethoven  Sextet in E-flat major for Winds   \n1  Dotted Eighth  Beethoven  Sextet in E-flat major for Winds   \n2  Dotted Eighth  Beethoven  Sextet in E-flat major for Winds   \n3  Dotted Eighth  Beethoven  Sextet in E-flat major for Winds   \n4  Dotted Eighth  Beethoven  Sextet in E-flat major for Winds   \n\n                               movement                     ensemble  seconds  \\\n0  3. Menuetto. Quasi Allegretto - Trio  Pairs Clarinet-Horn-Bassoon      139   \n1  3. Menuetto. Quasi Allegretto - Trio  Pairs Clarinet-Horn-Bassoon      139   \n2  3. Menuetto. Quasi Allegretto - Trio  Pairs Clarinet-Horn-Bassoon      139   \n3  3. Menuetto. Quasi Allegretto - Trio  Pairs Clarinet-Horn-Bassoon      139   \n4  3. Menuetto. Quasi Allegretto - Trio  Pairs Clarinet-Horn-Bassoon      139   \n\n            key   tonic  tonic_encoded   mode  \n0  E-flat major  E-flat              3  major  \n1  E-flat major  E-flat              3  major  \n2  E-flat major  E-flat              3  major  \n3  E-flat major  E-flat              3  major  \n4  E-flat major  E-flat              3  major  ",
      "text/html": "<div>\n<style scoped>\n    .dataframe tbody tr th:only-of-type {\n        vertical-align: middle;\n    }\n\n    .dataframe tbody tr th {\n        vertical-align: top;\n    }\n\n    .dataframe thead th {\n        text-align: right;\n    }\n</style>\n<table border=\"1\" class=\"dataframe\">\n  <thead>\n    <tr style=\"text-align: right;\">\n      <th></th>\n      <th>id</th>\n      <th>start_time</th>\n      <th>end_time</th>\n      <th>instrument</th>\n      <th>note</th>\n      <th>start_beat</th>\n      <th>end_beat</th>\n      <th>note_value</th>\n      <th>composer</th>\n      <th>composition</th>\n      <th>movement</th>\n      <th>ensemble</th>\n      <th>seconds</th>\n      <th>key</th>\n      <th>tonic</th>\n      <th>tonic_encoded</th>\n      <th>mode</th>\n    </tr>\n  </thead>\n  <tbody>\n    <tr>\n      <th>0</th>\n      <td>2416</td>\n      <td>10206</td>\n      <td>19934</td>\n      <td>61</td>\n      <td>63</td>\n      <td>2.0</td>\n      <td>0.6875</td>\n      <td>Dotted Eighth</td>\n      <td>Beethoven</td>\n      <td>Sextet in E-flat major for Winds</td>\n      <td>3. Menuetto. Quasi Allegretto - Trio</td>\n      <td>Pairs Clarinet-Horn-Bassoon</td>\n      <td>139</td>\n      <td>E-flat major</td>\n      <td>E-flat</td>\n      <td>3</td>\n      <td>major</td>\n    </tr>\n    <tr>\n      <th>1</th>\n      <td>2416</td>\n      <td>10206</td>\n      <td>19934</td>\n      <td>61</td>\n      <td>55</td>\n      <td>2.0</td>\n      <td>0.6875</td>\n      <td>Dotted Eighth</td>\n      <td>Beethoven</td>\n      <td>Sextet in E-flat major for Winds</td>\n      <td>3. Menuetto. Quasi Allegretto - Trio</td>\n      <td>Pairs Clarinet-Horn-Bassoon</td>\n      <td>139</td>\n      <td>E-flat major</td>\n      <td>E-flat</td>\n      <td>3</td>\n      <td>major</td>\n    </tr>\n    <tr>\n      <th>2</th>\n      <td>2416</td>\n      <td>24030</td>\n      <td>31710</td>\n      <td>61</td>\n      <td>63</td>\n      <td>3.0</td>\n      <td>0.6875</td>\n      <td>Dotted Eighth</td>\n      <td>Beethoven</td>\n      <td>Sextet in E-flat major for Winds</td>\n      <td>3. Menuetto. Quasi Allegretto - Trio</td>\n      <td>Pairs Clarinet-Horn-Bassoon</td>\n      <td>139</td>\n      <td>E-flat major</td>\n      <td>E-flat</td>\n      <td>3</td>\n      <td>major</td>\n    </tr>\n    <tr>\n      <th>3</th>\n      <td>2416</td>\n      <td>24030</td>\n      <td>31710</td>\n      <td>61</td>\n      <td>55</td>\n      <td>3.0</td>\n      <td>0.6875</td>\n      <td>Dotted Eighth</td>\n      <td>Beethoven</td>\n      <td>Sextet in E-flat major for Winds</td>\n      <td>3. Menuetto. Quasi Allegretto - Trio</td>\n      <td>Pairs Clarinet-Horn-Bassoon</td>\n      <td>139</td>\n      <td>E-flat major</td>\n      <td>E-flat</td>\n      <td>3</td>\n      <td>major</td>\n    </tr>\n    <tr>\n      <th>4</th>\n      <td>2416</td>\n      <td>34782</td>\n      <td>42462</td>\n      <td>61</td>\n      <td>55</td>\n      <td>4.0</td>\n      <td>0.6875</td>\n      <td>Dotted Eighth</td>\n      <td>Beethoven</td>\n      <td>Sextet in E-flat major for Winds</td>\n      <td>3. Menuetto. Quasi Allegretto - Trio</td>\n      <td>Pairs Clarinet-Horn-Bassoon</td>\n      <td>139</td>\n      <td>E-flat major</td>\n      <td>E-flat</td>\n      <td>3</td>\n      <td>major</td>\n    </tr>\n  </tbody>\n</table>\n</div>"
     },
     "metadata": {}
    }
   ],
   "execution_count": 6
  },
  {
   "cell_type": "code",
   "metadata": {
    "tags": [],
    "cell_id": "d8ae32d8-754e-46e3-a686-c3517c77341e",
    "deepnote_cell_height": 138,
    "deepnote_to_be_reexecuted": false,
    "source_hash": "cb2c6f95",
    "execution_start": 1645457670127,
    "execution_millis": 82,
    "deepnote_cell_type": "code"
   },
   "source": "df['relative_note'] = df.note - df.tonic_encoded\ndf.head(5)",
   "execution_count": 10,
   "outputs": [
    {
     "output_type": "execute_result",
     "execution_count": 10,
     "data": {
      "application/vnd.deepnote.dataframe.v3+json": {
       "column_count": 18,
       "row_count": 5,
       "columns": [
        {
         "name": "id",
         "dtype": "int64",
         "stats": {
          "unique_count": 1,
          "nan_count": 0,
          "min": "2416",
          "max": "2416",
          "histogram": [
           {
            "bin_start": 2415.5,
            "bin_end": 2415.6,
            "count": 0
           },
           {
            "bin_start": 2415.6,
            "bin_end": 2415.7,
            "count": 0
           },
           {
            "bin_start": 2415.7,
            "bin_end": 2415.8,
            "count": 0
           },
           {
            "bin_start": 2415.8,
            "bin_end": 2415.9,
            "count": 0
           },
           {
            "bin_start": 2415.9,
            "bin_end": 2416,
            "count": 0
           },
           {
            "bin_start": 2416,
            "bin_end": 2416.1,
            "count": 5
           },
           {
            "bin_start": 2416.1,
            "bin_end": 2416.2,
            "count": 0
           },
           {
            "bin_start": 2416.2,
            "bin_end": 2416.3,
            "count": 0
           },
           {
            "bin_start": 2416.3,
            "bin_end": 2416.4,
            "count": 0
           },
           {
            "bin_start": 2416.4,
            "bin_end": 2416.5,
            "count": 0
           }
          ]
         }
        },
        {
         "name": "start_time",
         "dtype": "int64",
         "stats": {
          "unique_count": 3,
          "nan_count": 0,
          "min": "10206",
          "max": "34782",
          "histogram": [
           {
            "bin_start": 10206,
            "bin_end": 12663.6,
            "count": 2
           },
           {
            "bin_start": 12663.6,
            "bin_end": 15121.2,
            "count": 0
           },
           {
            "bin_start": 15121.2,
            "bin_end": 17578.8,
            "count": 0
           },
           {
            "bin_start": 17578.8,
            "bin_end": 20036.4,
            "count": 0
           },
           {
            "bin_start": 20036.4,
            "bin_end": 22494,
            "count": 0
           },
           {
            "bin_start": 22494,
            "bin_end": 24951.6,
            "count": 2
           },
           {
            "bin_start": 24951.6,
            "bin_end": 27409.2,
            "count": 0
           },
           {
            "bin_start": 27409.2,
            "bin_end": 29866.8,
            "count": 0
           },
           {
            "bin_start": 29866.8,
            "bin_end": 32324.399999999998,
            "count": 0
           },
           {
            "bin_start": 32324.399999999998,
            "bin_end": 34782,
            "count": 1
           }
          ]
         }
        },
        {
         "name": "end_time",
         "dtype": "int64",
         "stats": {
          "unique_count": 3,
          "nan_count": 0,
          "min": "19934",
          "max": "42462",
          "histogram": [
           {
            "bin_start": 19934,
            "bin_end": 22186.8,
            "count": 2
           },
           {
            "bin_start": 22186.8,
            "bin_end": 24439.6,
            "count": 0
           },
           {
            "bin_start": 24439.6,
            "bin_end": 26692.4,
            "count": 0
           },
           {
            "bin_start": 26692.4,
            "bin_end": 28945.2,
            "count": 0
           },
           {
            "bin_start": 28945.2,
            "bin_end": 31198,
            "count": 0
           },
           {
            "bin_start": 31198,
            "bin_end": 33450.8,
            "count": 2
           },
           {
            "bin_start": 33450.8,
            "bin_end": 35703.600000000006,
            "count": 0
           },
           {
            "bin_start": 35703.600000000006,
            "bin_end": 37956.4,
            "count": 0
           },
           {
            "bin_start": 37956.4,
            "bin_end": 40209.2,
            "count": 0
           },
           {
            "bin_start": 40209.2,
            "bin_end": 42462,
            "count": 1
           }
          ]
         }
        },
        {
         "name": "instrument",
         "dtype": "int64",
         "stats": {
          "unique_count": 1,
          "nan_count": 0,
          "min": "61",
          "max": "61",
          "histogram": [
           {
            "bin_start": 60.5,
            "bin_end": 60.6,
            "count": 0
           },
           {
            "bin_start": 60.6,
            "bin_end": 60.7,
            "count": 0
           },
           {
            "bin_start": 60.7,
            "bin_end": 60.8,
            "count": 0
           },
           {
            "bin_start": 60.8,
            "bin_end": 60.9,
            "count": 0
           },
           {
            "bin_start": 60.9,
            "bin_end": 61,
            "count": 0
           },
           {
            "bin_start": 61,
            "bin_end": 61.1,
            "count": 5
           },
           {
            "bin_start": 61.1,
            "bin_end": 61.2,
            "count": 0
           },
           {
            "bin_start": 61.2,
            "bin_end": 61.3,
            "count": 0
           },
           {
            "bin_start": 61.3,
            "bin_end": 61.4,
            "count": 0
           },
           {
            "bin_start": 61.4,
            "bin_end": 61.5,
            "count": 0
           }
          ]
         }
        },
        {
         "name": "note",
         "dtype": "int64",
         "stats": {
          "unique_count": 2,
          "nan_count": 0,
          "min": "55",
          "max": "63",
          "histogram": [
           {
            "bin_start": 55,
            "bin_end": 55.8,
            "count": 3
           },
           {
            "bin_start": 55.8,
            "bin_end": 56.6,
            "count": 0
           },
           {
            "bin_start": 56.6,
            "bin_end": 57.4,
            "count": 0
           },
           {
            "bin_start": 57.4,
            "bin_end": 58.2,
            "count": 0
           },
           {
            "bin_start": 58.2,
            "bin_end": 59,
            "count": 0
           },
           {
            "bin_start": 59,
            "bin_end": 59.8,
            "count": 0
           },
           {
            "bin_start": 59.8,
            "bin_end": 60.6,
            "count": 0
           },
           {
            "bin_start": 60.6,
            "bin_end": 61.4,
            "count": 0
           },
           {
            "bin_start": 61.4,
            "bin_end": 62.2,
            "count": 0
           },
           {
            "bin_start": 62.2,
            "bin_end": 63,
            "count": 2
           }
          ]
         }
        },
        {
         "name": "start_beat",
         "dtype": "float64",
         "stats": {
          "unique_count": 3,
          "nan_count": 0,
          "min": "2.0",
          "max": "4.0",
          "histogram": [
           {
            "bin_start": 2,
            "bin_end": 2.2,
            "count": 2
           },
           {
            "bin_start": 2.2,
            "bin_end": 2.4,
            "count": 0
           },
           {
            "bin_start": 2.4,
            "bin_end": 2.6,
            "count": 0
           },
           {
            "bin_start": 2.6,
            "bin_end": 2.8,
            "count": 0
           },
           {
            "bin_start": 2.8,
            "bin_end": 3,
            "count": 0
           },
           {
            "bin_start": 3,
            "bin_end": 3.2,
            "count": 2
           },
           {
            "bin_start": 3.2,
            "bin_end": 3.4000000000000004,
            "count": 0
           },
           {
            "bin_start": 3.4000000000000004,
            "bin_end": 3.6,
            "count": 0
           },
           {
            "bin_start": 3.6,
            "bin_end": 3.8,
            "count": 0
           },
           {
            "bin_start": 3.8,
            "bin_end": 4,
            "count": 1
           }
          ]
         }
        },
        {
         "name": "end_beat",
         "dtype": "float64",
         "stats": {
          "unique_count": 1,
          "nan_count": 0,
          "min": "0.6875",
          "max": "0.6875",
          "histogram": [
           {
            "bin_start": 0.1875,
            "bin_end": 0.2875,
            "count": 0
           },
           {
            "bin_start": 0.2875,
            "bin_end": 0.3875,
            "count": 0
           },
           {
            "bin_start": 0.3875,
            "bin_end": 0.48750000000000004,
            "count": 0
           },
           {
            "bin_start": 0.48750000000000004,
            "bin_end": 0.5875,
            "count": 0
           },
           {
            "bin_start": 0.5875,
            "bin_end": 0.6875,
            "count": 0
           },
           {
            "bin_start": 0.6875,
            "bin_end": 0.7875000000000001,
            "count": 5
           },
           {
            "bin_start": 0.7875000000000001,
            "bin_end": 0.8875000000000001,
            "count": 0
           },
           {
            "bin_start": 0.8875000000000001,
            "bin_end": 0.9875,
            "count": 0
           },
           {
            "bin_start": 0.9875,
            "bin_end": 1.0875,
            "count": 0
           },
           {
            "bin_start": 1.0875,
            "bin_end": 1.1875,
            "count": 0
           }
          ]
         }
        },
        {
         "name": "note_value",
         "dtype": "object",
         "stats": {
          "unique_count": 1,
          "nan_count": 0,
          "categories": [
           {
            "name": "Dotted Eighth",
            "count": 5
           }
          ]
         }
        },
        {
         "name": "composer",
         "dtype": "object",
         "stats": {
          "unique_count": 1,
          "nan_count": 0,
          "categories": [
           {
            "name": "Beethoven",
            "count": 5
           }
          ]
         }
        },
        {
         "name": "composition",
         "dtype": "object",
         "stats": {
          "unique_count": 1,
          "nan_count": 0,
          "categories": [
           {
            "name": "Sextet in E-flat major for Winds",
            "count": 5
           }
          ]
         }
        },
        {
         "name": "movement",
         "dtype": "object",
         "stats": {
          "unique_count": 1,
          "nan_count": 0,
          "categories": [
           {
            "name": "3. Menuetto. Quasi Allegretto - Trio",
            "count": 5
           }
          ]
         }
        },
        {
         "name": "ensemble",
         "dtype": "object",
         "stats": {
          "unique_count": 1,
          "nan_count": 0,
          "categories": [
           {
            "name": "Pairs Clarinet-Horn-Bassoon",
            "count": 5
           }
          ]
         }
        },
        {
         "name": "seconds",
         "dtype": "int64",
         "stats": {
          "unique_count": 1,
          "nan_count": 0,
          "min": "139",
          "max": "139",
          "histogram": [
           {
            "bin_start": 138.5,
            "bin_end": 138.6,
            "count": 0
           },
           {
            "bin_start": 138.6,
            "bin_end": 138.7,
            "count": 0
           },
           {
            "bin_start": 138.7,
            "bin_end": 138.8,
            "count": 0
           },
           {
            "bin_start": 138.8,
            "bin_end": 138.9,
            "count": 0
           },
           {
            "bin_start": 138.9,
            "bin_end": 139,
            "count": 0
           },
           {
            "bin_start": 139,
            "bin_end": 139.1,
            "count": 5
           },
           {
            "bin_start": 139.1,
            "bin_end": 139.2,
            "count": 0
           },
           {
            "bin_start": 139.2,
            "bin_end": 139.3,
            "count": 0
           },
           {
            "bin_start": 139.3,
            "bin_end": 139.4,
            "count": 0
           },
           {
            "bin_start": 139.4,
            "bin_end": 139.5,
            "count": 0
           }
          ]
         }
        },
        {
         "name": "key",
         "dtype": "object",
         "stats": {
          "unique_count": 1,
          "nan_count": 0,
          "categories": [
           {
            "name": "E-flat major",
            "count": 5
           }
          ]
         }
        },
        {
         "name": "tonic",
         "dtype": "object",
         "stats": {
          "unique_count": 1,
          "nan_count": 0,
          "categories": [
           {
            "name": "E-flat",
            "count": 5
           }
          ]
         }
        },
        {
         "name": "tonic_encoded",
         "dtype": "int64",
         "stats": {
          "unique_count": 1,
          "nan_count": 0,
          "min": "3",
          "max": "3",
          "histogram": [
           {
            "bin_start": 2.5,
            "bin_end": 2.6,
            "count": 0
           },
           {
            "bin_start": 2.6,
            "bin_end": 2.7,
            "count": 0
           },
           {
            "bin_start": 2.7,
            "bin_end": 2.8,
            "count": 0
           },
           {
            "bin_start": 2.8,
            "bin_end": 2.9,
            "count": 0
           },
           {
            "bin_start": 2.9,
            "bin_end": 3,
            "count": 0
           },
           {
            "bin_start": 3,
            "bin_end": 3.1,
            "count": 5
           },
           {
            "bin_start": 3.1,
            "bin_end": 3.2,
            "count": 0
           },
           {
            "bin_start": 3.2,
            "bin_end": 3.3,
            "count": 0
           },
           {
            "bin_start": 3.3,
            "bin_end": 3.4,
            "count": 0
           },
           {
            "bin_start": 3.4,
            "bin_end": 3.5,
            "count": 0
           }
          ]
         }
        },
        {
         "name": "mode",
         "dtype": "object",
         "stats": {
          "unique_count": 1,
          "nan_count": 0,
          "categories": [
           {
            "name": "major",
            "count": 5
           }
          ]
         }
        },
        {
         "name": "relative_note",
         "dtype": "int64",
         "stats": {
          "unique_count": 2,
          "nan_count": 0,
          "min": "52",
          "max": "60",
          "histogram": [
           {
            "bin_start": 52,
            "bin_end": 52.8,
            "count": 3
           },
           {
            "bin_start": 52.8,
            "bin_end": 53.6,
            "count": 0
           },
           {
            "bin_start": 53.6,
            "bin_end": 54.4,
            "count": 0
           },
           {
            "bin_start": 54.4,
            "bin_end": 55.2,
            "count": 0
           },
           {
            "bin_start": 55.2,
            "bin_end": 56,
            "count": 0
           },
           {
            "bin_start": 56,
            "bin_end": 56.8,
            "count": 0
           },
           {
            "bin_start": 56.8,
            "bin_end": 57.6,
            "count": 0
           },
           {
            "bin_start": 57.6,
            "bin_end": 58.4,
            "count": 0
           },
           {
            "bin_start": 58.4,
            "bin_end": 59.2,
            "count": 0
           },
           {
            "bin_start": 59.2,
            "bin_end": 60,
            "count": 2
           }
          ]
         }
        },
        {
         "name": "_deepnote_index_column",
         "dtype": "int64"
        }
       ],
       "rows": [
        {
         "id": 2416,
         "start_time": 10206,
         "end_time": 19934,
         "instrument": 61,
         "note": 63,
         "start_beat": 2,
         "end_beat": 0.6875,
         "note_value": "Dotted Eighth",
         "composer": "Beethoven",
         "composition": "Sextet in E-flat major for Winds",
         "movement": "3. Menuetto. Quasi Allegretto - Trio",
         "ensemble": "Pairs Clarinet-Horn-Bassoon",
         "seconds": 139,
         "key": "E-flat major",
         "tonic": "E-flat",
         "tonic_encoded": 3,
         "mode": "major",
         "relative_note": 60,
         "_deepnote_index_column": 0
        },
        {
         "id": 2416,
         "start_time": 10206,
         "end_time": 19934,
         "instrument": 61,
         "note": 55,
         "start_beat": 2,
         "end_beat": 0.6875,
         "note_value": "Dotted Eighth",
         "composer": "Beethoven",
         "composition": "Sextet in E-flat major for Winds",
         "movement": "3. Menuetto. Quasi Allegretto - Trio",
         "ensemble": "Pairs Clarinet-Horn-Bassoon",
         "seconds": 139,
         "key": "E-flat major",
         "tonic": "E-flat",
         "tonic_encoded": 3,
         "mode": "major",
         "relative_note": 52,
         "_deepnote_index_column": 1
        },
        {
         "id": 2416,
         "start_time": 24030,
         "end_time": 31710,
         "instrument": 61,
         "note": 63,
         "start_beat": 3,
         "end_beat": 0.6875,
         "note_value": "Dotted Eighth",
         "composer": "Beethoven",
         "composition": "Sextet in E-flat major for Winds",
         "movement": "3. Menuetto. Quasi Allegretto - Trio",
         "ensemble": "Pairs Clarinet-Horn-Bassoon",
         "seconds": 139,
         "key": "E-flat major",
         "tonic": "E-flat",
         "tonic_encoded": 3,
         "mode": "major",
         "relative_note": 60,
         "_deepnote_index_column": 2
        },
        {
         "id": 2416,
         "start_time": 24030,
         "end_time": 31710,
         "instrument": 61,
         "note": 55,
         "start_beat": 3,
         "end_beat": 0.6875,
         "note_value": "Dotted Eighth",
         "composer": "Beethoven",
         "composition": "Sextet in E-flat major for Winds",
         "movement": "3. Menuetto. Quasi Allegretto - Trio",
         "ensemble": "Pairs Clarinet-Horn-Bassoon",
         "seconds": 139,
         "key": "E-flat major",
         "tonic": "E-flat",
         "tonic_encoded": 3,
         "mode": "major",
         "relative_note": 52,
         "_deepnote_index_column": 3
        },
        {
         "id": 2416,
         "start_time": 34782,
         "end_time": 42462,
         "instrument": 61,
         "note": 55,
         "start_beat": 4,
         "end_beat": 0.6875,
         "note_value": "Dotted Eighth",
         "composer": "Beethoven",
         "composition": "Sextet in E-flat major for Winds",
         "movement": "3. Menuetto. Quasi Allegretto - Trio",
         "ensemble": "Pairs Clarinet-Horn-Bassoon",
         "seconds": 139,
         "key": "E-flat major",
         "tonic": "E-flat",
         "tonic_encoded": 3,
         "mode": "major",
         "relative_note": 52,
         "_deepnote_index_column": 4
        }
       ]
      },
      "text/plain": "     id  start_time  end_time  instrument  note  start_beat  end_beat  \\\n0  2416       10206     19934          61    63         2.0    0.6875   \n1  2416       10206     19934          61    55         2.0    0.6875   \n2  2416       24030     31710          61    63         3.0    0.6875   \n3  2416       24030     31710          61    55         3.0    0.6875   \n4  2416       34782     42462          61    55         4.0    0.6875   \n\n      note_value   composer                       composition  \\\n0  Dotted Eighth  Beethoven  Sextet in E-flat major for Winds   \n1  Dotted Eighth  Beethoven  Sextet in E-flat major for Winds   \n2  Dotted Eighth  Beethoven  Sextet in E-flat major for Winds   \n3  Dotted Eighth  Beethoven  Sextet in E-flat major for Winds   \n4  Dotted Eighth  Beethoven  Sextet in E-flat major for Winds   \n\n                               movement                     ensemble  seconds  \\\n0  3. Menuetto. Quasi Allegretto - Trio  Pairs Clarinet-Horn-Bassoon      139   \n1  3. Menuetto. Quasi Allegretto - Trio  Pairs Clarinet-Horn-Bassoon      139   \n2  3. Menuetto. Quasi Allegretto - Trio  Pairs Clarinet-Horn-Bassoon      139   \n3  3. Menuetto. Quasi Allegretto - Trio  Pairs Clarinet-Horn-Bassoon      139   \n4  3. Menuetto. Quasi Allegretto - Trio  Pairs Clarinet-Horn-Bassoon      139   \n\n            key   tonic  tonic_encoded   mode  relative_note  \n0  E-flat major  E-flat              3  major             60  \n1  E-flat major  E-flat              3  major             52  \n2  E-flat major  E-flat              3  major             60  \n3  E-flat major  E-flat              3  major             52  \n4  E-flat major  E-flat              3  major             52  ",
      "text/html": "<div>\n<style scoped>\n    .dataframe tbody tr th:only-of-type {\n        vertical-align: middle;\n    }\n\n    .dataframe tbody tr th {\n        vertical-align: top;\n    }\n\n    .dataframe thead th {\n        text-align: right;\n    }\n</style>\n<table border=\"1\" class=\"dataframe\">\n  <thead>\n    <tr style=\"text-align: right;\">\n      <th></th>\n      <th>id</th>\n      <th>start_time</th>\n      <th>end_time</th>\n      <th>instrument</th>\n      <th>note</th>\n      <th>start_beat</th>\n      <th>end_beat</th>\n      <th>note_value</th>\n      <th>composer</th>\n      <th>composition</th>\n      <th>movement</th>\n      <th>ensemble</th>\n      <th>seconds</th>\n      <th>key</th>\n      <th>tonic</th>\n      <th>tonic_encoded</th>\n      <th>mode</th>\n      <th>relative_note</th>\n    </tr>\n  </thead>\n  <tbody>\n    <tr>\n      <th>0</th>\n      <td>2416</td>\n      <td>10206</td>\n      <td>19934</td>\n      <td>61</td>\n      <td>63</td>\n      <td>2.0</td>\n      <td>0.6875</td>\n      <td>Dotted Eighth</td>\n      <td>Beethoven</td>\n      <td>Sextet in E-flat major for Winds</td>\n      <td>3. Menuetto. Quasi Allegretto - Trio</td>\n      <td>Pairs Clarinet-Horn-Bassoon</td>\n      <td>139</td>\n      <td>E-flat major</td>\n      <td>E-flat</td>\n      <td>3</td>\n      <td>major</td>\n      <td>60</td>\n    </tr>\n    <tr>\n      <th>1</th>\n      <td>2416</td>\n      <td>10206</td>\n      <td>19934</td>\n      <td>61</td>\n      <td>55</td>\n      <td>2.0</td>\n      <td>0.6875</td>\n      <td>Dotted Eighth</td>\n      <td>Beethoven</td>\n      <td>Sextet in E-flat major for Winds</td>\n      <td>3. Menuetto. Quasi Allegretto - Trio</td>\n      <td>Pairs Clarinet-Horn-Bassoon</td>\n      <td>139</td>\n      <td>E-flat major</td>\n      <td>E-flat</td>\n      <td>3</td>\n      <td>major</td>\n      <td>52</td>\n    </tr>\n    <tr>\n      <th>2</th>\n      <td>2416</td>\n      <td>24030</td>\n      <td>31710</td>\n      <td>61</td>\n      <td>63</td>\n      <td>3.0</td>\n      <td>0.6875</td>\n      <td>Dotted Eighth</td>\n      <td>Beethoven</td>\n      <td>Sextet in E-flat major for Winds</td>\n      <td>3. Menuetto. Quasi Allegretto - Trio</td>\n      <td>Pairs Clarinet-Horn-Bassoon</td>\n      <td>139</td>\n      <td>E-flat major</td>\n      <td>E-flat</td>\n      <td>3</td>\n      <td>major</td>\n      <td>60</td>\n    </tr>\n    <tr>\n      <th>3</th>\n      <td>2416</td>\n      <td>24030</td>\n      <td>31710</td>\n      <td>61</td>\n      <td>55</td>\n      <td>3.0</td>\n      <td>0.6875</td>\n      <td>Dotted Eighth</td>\n      <td>Beethoven</td>\n      <td>Sextet in E-flat major for Winds</td>\n      <td>3. Menuetto. Quasi Allegretto - Trio</td>\n      <td>Pairs Clarinet-Horn-Bassoon</td>\n      <td>139</td>\n      <td>E-flat major</td>\n      <td>E-flat</td>\n      <td>3</td>\n      <td>major</td>\n      <td>52</td>\n    </tr>\n    <tr>\n      <th>4</th>\n      <td>2416</td>\n      <td>34782</td>\n      <td>42462</td>\n      <td>61</td>\n      <td>55</td>\n      <td>4.0</td>\n      <td>0.6875</td>\n      <td>Dotted Eighth</td>\n      <td>Beethoven</td>\n      <td>Sextet in E-flat major for Winds</td>\n      <td>3. Menuetto. Quasi Allegretto - Trio</td>\n      <td>Pairs Clarinet-Horn-Bassoon</td>\n      <td>139</td>\n      <td>E-flat major</td>\n      <td>E-flat</td>\n      <td>3</td>\n      <td>major</td>\n      <td>52</td>\n    </tr>\n  </tbody>\n</table>\n</div>"
     },
     "metadata": {}
    }
   ]
  },
  {
   "cell_type": "code",
   "source": "instruments = sorted(df_scores['instrument'].unique())",
   "metadata": {
    "cell_id": "90550db5-6e73-4058-811d-90ec30466711",
    "tags": [],
    "deepnote_to_be_reexecuted": false,
    "source_hash": "feae90b7",
    "execution_start": 1645460846450,
    "execution_millis": 7,
    "deepnote_cell_type": "code"
   },
   "outputs": [],
   "execution_count": 13
  },
  {
   "cell_type": "code",
   "source": "# Joining the data\ndf = df_scores.merge(df_meta, how='inner', on='id')\ndf[['id','instrument','ensemble']].drop_duplicates()",
   "metadata": {
    "cell_id": "b200e79c-74b5-412b-bf62-e27f17213727",
    "tags": [],
    "deepnote_to_be_reexecuted": false,
    "source_hash": "45a32bd0",
    "execution_start": 1645461276657,
    "execution_millis": 178,
    "deepnote_cell_type": "code"
   },
   "outputs": [
    {
     "output_type": "execute_result",
     "execution_count": 16,
     "data": {
      "application/vnd.deepnote.dataframe.v3+json": {
       "column_count": 3,
       "row_count": 640,
       "columns": [
        {
         "name": "id",
         "dtype": "int64",
         "stats": {
          "unique_count": 318,
          "nan_count": 0,
          "min": "1727",
          "max": "2678",
          "histogram": [
           {
            "bin_start": 1727,
            "bin_end": 1822.1,
            "count": 98
           },
           {
            "bin_start": 1822.1,
            "bin_end": 1917.2,
            "count": 30
           },
           {
            "bin_start": 1917.2,
            "bin_end": 2012.3,
            "count": 21
           },
           {
            "bin_start": 2012.3,
            "bin_end": 2107.4,
            "count": 54
           },
           {
            "bin_start": 2107.4,
            "bin_end": 2202.5,
            "count": 118
           },
           {
            "bin_start": 2202.5,
            "bin_end": 2297.6,
            "count": 47
           },
           {
            "bin_start": 2297.6,
            "bin_end": 2392.7,
            "count": 88
           },
           {
            "bin_start": 2392.7,
            "bin_end": 2487.8,
            "count": 70
           },
           {
            "bin_start": 2487.8,
            "bin_end": 2582.9,
            "count": 78
           },
           {
            "bin_start": 2582.9,
            "bin_end": 2678,
            "count": 36
           }
          ]
         }
        },
        {
         "name": "instrument",
         "dtype": "int64",
         "stats": {
          "unique_count": 11,
          "nan_count": 0,
          "min": "1",
          "max": "74",
          "histogram": [
           {
            "bin_start": 1,
            "bin_end": 8.3,
            "count": 219
           },
           {
            "bin_start": 8.3,
            "bin_end": 15.6,
            "count": 0
           },
           {
            "bin_start": 15.6,
            "bin_end": 22.9,
            "count": 0
           },
           {
            "bin_start": 22.9,
            "bin_end": 30.2,
            "count": 0
           },
           {
            "bin_start": 30.2,
            "bin_end": 37.5,
            "count": 0
           },
           {
            "bin_start": 37.5,
            "bin_end": 44.8,
            "count": 316
           },
           {
            "bin_start": 44.8,
            "bin_end": 52.1,
            "count": 0
           },
           {
            "bin_start": 52.1,
            "bin_end": 59.4,
            "count": 0
           },
           {
            "bin_start": 59.4,
            "bin_end": 66.7,
            "count": 25
           },
           {
            "bin_start": 66.7,
            "bin_end": 74,
            "count": 80
           }
          ]
         }
        },
        {
         "name": "ensemble",
         "dtype": "object",
         "stats": {
          "unique_count": 20,
          "nan_count": 0,
          "categories": [
           {
            "name": "String Quartet",
            "count": 172
           },
           {
            "name": "Solo Piano",
            "count": 156
           },
           {
            "name": "18 others",
            "count": 312
           }
          ]
         }
        },
        {
         "name": "_deepnote_index_column",
         "dtype": "int64"
        }
       ],
       "rows": [
        {
         "id": 2416,
         "instrument": 61,
         "ensemble": "Pairs Clarinet-Horn-Bassoon",
         "_deepnote_index_column": 0
        },
        {
         "id": 2416,
         "instrument": 72,
         "ensemble": "Pairs Clarinet-Horn-Bassoon",
         "_deepnote_index_column": 13
        },
        {
         "id": 2416,
         "instrument": 71,
         "ensemble": "Pairs Clarinet-Horn-Bassoon",
         "_deepnote_index_column": 16
        },
        {
         "id": 2077,
         "instrument": 72,
         "ensemble": "Wind Quintet",
         "_deepnote_index_column": 1386
        },
        {
         "id": 2077,
         "instrument": 61,
         "ensemble": "Wind Quintet",
         "_deepnote_index_column": 1388
        },
        {
         "id": 2077,
         "instrument": 69,
         "ensemble": "Wind Quintet",
         "_deepnote_index_column": 1389
        },
        {
         "id": 2077,
         "instrument": 71,
         "ensemble": "Wind Quintet",
         "_deepnote_index_column": 1391
        },
        {
         "id": 2077,
         "instrument": 74,
         "ensemble": "Wind Quintet",
         "_deepnote_index_column": 1427
        },
        {
         "id": 2659,
         "instrument": 41,
         "ensemble": "Solo Violin",
         "_deepnote_index_column": 3765
        },
        {
         "id": 2238,
         "instrument": 1,
         "ensemble": "Solo Piano",
         "_deepnote_index_column": 4334
        }
       ]
      },
      "text/plain": "           id  instrument                     ensemble\n0        2416          61  Pairs Clarinet-Horn-Bassoon\n13       2416          72  Pairs Clarinet-Horn-Bassoon\n16       2416          71  Pairs Clarinet-Horn-Bassoon\n1386     2077          72                 Wind Quintet\n1388     2077          61                 Wind Quintet\n...       ...         ...                          ...\n1073054  2614           1                   Solo Piano\n1075123  1818          71  Pairs Clarinet-Horn-Bassoon\n1075125  1818          72  Pairs Clarinet-Horn-Bassoon\n1075126  1818          61  Pairs Clarinet-Horn-Bassoon\n1077355  2209           1                   Solo Piano\n\n[640 rows x 3 columns]",
      "text/html": "<div>\n<style scoped>\n    .dataframe tbody tr th:only-of-type {\n        vertical-align: middle;\n    }\n\n    .dataframe tbody tr th {\n        vertical-align: top;\n    }\n\n    .dataframe thead th {\n        text-align: right;\n    }\n</style>\n<table border=\"1\" class=\"dataframe\">\n  <thead>\n    <tr style=\"text-align: right;\">\n      <th></th>\n      <th>id</th>\n      <th>instrument</th>\n      <th>ensemble</th>\n    </tr>\n  </thead>\n  <tbody>\n    <tr>\n      <th>0</th>\n      <td>2416</td>\n      <td>61</td>\n      <td>Pairs Clarinet-Horn-Bassoon</td>\n    </tr>\n    <tr>\n      <th>13</th>\n      <td>2416</td>\n      <td>72</td>\n      <td>Pairs Clarinet-Horn-Bassoon</td>\n    </tr>\n    <tr>\n      <th>16</th>\n      <td>2416</td>\n      <td>71</td>\n      <td>Pairs Clarinet-Horn-Bassoon</td>\n    </tr>\n    <tr>\n      <th>1386</th>\n      <td>2077</td>\n      <td>72</td>\n      <td>Wind Quintet</td>\n    </tr>\n    <tr>\n      <th>1388</th>\n      <td>2077</td>\n      <td>61</td>\n      <td>Wind Quintet</td>\n    </tr>\n    <tr>\n      <th>...</th>\n      <td>...</td>\n      <td>...</td>\n      <td>...</td>\n    </tr>\n    <tr>\n      <th>1073054</th>\n      <td>2614</td>\n      <td>1</td>\n      <td>Solo Piano</td>\n    </tr>\n    <tr>\n      <th>1075123</th>\n      <td>1818</td>\n      <td>71</td>\n      <td>Pairs Clarinet-Horn-Bassoon</td>\n    </tr>\n    <tr>\n      <th>1075125</th>\n      <td>1818</td>\n      <td>72</td>\n      <td>Pairs Clarinet-Horn-Bassoon</td>\n    </tr>\n    <tr>\n      <th>1075126</th>\n      <td>1818</td>\n      <td>61</td>\n      <td>Pairs Clarinet-Horn-Bassoon</td>\n    </tr>\n    <tr>\n      <th>1077355</th>\n      <td>2209</td>\n      <td>1</td>\n      <td>Solo Piano</td>\n    </tr>\n  </tbody>\n</table>\n<p>640 rows × 3 columns</p>\n</div>"
     },
     "metadata": {}
    }
   ],
   "execution_count": 16
  },
  {
   "cell_type": "markdown",
   "source": "<a style='text-decoration:none;line-height:16px;display:flex;color:#5B5B62;padding:10px;justify-content:end;' href='https://deepnote.com?utm_source=created-in-deepnote-cell&projectId=177ea176-1f94-4265-9666-0cca06278d8e' target=\"_blank\">\n<img alt='Created in deepnote.com' style='display:inline;max-height:16px;margin:0px;margin-right:7.5px;' src='data:image/svg+xml;base64,PD94bWwgdmVyc2lvbj0iMS4wIiBlbmNvZGluZz0iVVRGLTgiPz4KPHN2ZyB3aWR0aD0iODBweCIgaGVpZ2h0PSI4MHB4IiB2aWV3Qm94PSIwIDAgODAgODAiIHZlcnNpb249IjEuMSIgeG1sbnM9Imh0dHA6Ly93d3cudzMub3JnLzIwMDAvc3ZnIiB4bWxuczp4bGluaz0iaHR0cDovL3d3dy53My5vcmcvMTk5OS94bGluayI+CiAgICA8IS0tIEdlbmVyYXRvcjogU2tldGNoIDU0LjEgKDc2NDkwKSAtIGh0dHBzOi8vc2tldGNoYXBwLmNvbSAtLT4KICAgIDx0aXRsZT5Hcm91cCAzPC90aXRsZT4KICAgIDxkZXNjPkNyZWF0ZWQgd2l0aCBTa2V0Y2guPC9kZXNjPgogICAgPGcgaWQ9IkxhbmRpbmciIHN0cm9rZT0ibm9uZSIgc3Ryb2tlLXdpZHRoPSIxIiBmaWxsPSJub25lIiBmaWxsLXJ1bGU9ImV2ZW5vZGQiPgogICAgICAgIDxnIGlkPSJBcnRib2FyZCIgdHJhbnNmb3JtPSJ0cmFuc2xhdGUoLTEyMzUuMDAwMDAwLCAtNzkuMDAwMDAwKSI+CiAgICAgICAgICAgIDxnIGlkPSJHcm91cC0zIiB0cmFuc2Zvcm09InRyYW5zbGF0ZSgxMjM1LjAwMDAwMCwgNzkuMDAwMDAwKSI+CiAgICAgICAgICAgICAgICA8cG9seWdvbiBpZD0iUGF0aC0yMCIgZmlsbD0iIzAyNjVCNCIgcG9pbnRzPSIyLjM3NjIzNzYyIDgwIDM4LjA0NzY2NjcgODAgNTcuODIxNzgyMiA3My44MDU3NTkyIDU3LjgyMTc4MjIgMzIuNzU5MjczOSAzOS4xNDAyMjc4IDMxLjY4MzE2ODMiPjwvcG9seWdvbj4KICAgICAgICAgICAgICAgIDxwYXRoIGQ9Ik0zNS4wMDc3MTgsODAgQzQyLjkwNjIwMDcsNzYuNDU0OTM1OCA0Ny41NjQ5MTY3LDcxLjU0MjI2NzEgNDguOTgzODY2LDY1LjI2MTk5MzkgQzUxLjExMjI4OTksNTUuODQxNTg0MiA0MS42NzcxNzk1LDQ5LjIxMjIyODQgMjUuNjIzOTg0Niw0OS4yMTIyMjg0IEMyNS40ODQ5Mjg5LDQ5LjEyNjg0NDggMjkuODI2MTI5Niw0My4yODM4MjQ4IDM4LjY0NzU4NjksMzEuNjgzMTY4MyBMNzIuODcxMjg3MSwzMi41NTQ0MjUgTDY1LjI4MDk3Myw2Ny42NzYzNDIxIEw1MS4xMTIyODk5LDc3LjM3NjE0NCBMMzUuMDA3NzE4LDgwIFoiIGlkPSJQYXRoLTIyIiBmaWxsPSIjMDAyODY4Ij48L3BhdGg+CiAgICAgICAgICAgICAgICA8cGF0aCBkPSJNMCwzNy43MzA0NDA1IEwyNy4xMTQ1MzcsMC4yNTcxMTE0MzYgQzYyLjM3MTUxMjMsLTEuOTkwNzE3MDEgODAsMTAuNTAwMzkyNyA4MCwzNy43MzA0NDA1IEM4MCw2NC45NjA0ODgyIDY0Ljc3NjUwMzgsNzkuMDUwMzQxNCAzNC4zMjk1MTEzLDgwIEM0Ny4wNTUzNDg5LDc3LjU2NzA4MDggNTMuNDE4MjY3Nyw3MC4zMTM2MTAzIDUzLjQxODI2NzcsNTguMjM5NTg4NSBDNTMuNDE4MjY3Nyw0MC4xMjg1NTU3IDM2LjMwMzk1NDQsMzcuNzMwNDQwNSAyNS4yMjc0MTcsMzcuNzMwNDQwNSBDMTcuODQzMDU4NiwzNy43MzA0NDA1IDkuNDMzOTE5NjYsMzcuNzMwNDQwNSAwLDM3LjczMDQ0MDUgWiIgaWQ9IlBhdGgtMTkiIGZpbGw9IiMzNzkzRUYiPjwvcGF0aD4KICAgICAgICAgICAgPC9nPgogICAgICAgIDwvZz4KICAgIDwvZz4KPC9zdmc+' > </img>\nCreated in <span style='font-weight:600;margin-left:4px;'>Deepnote</span></a>",
   "metadata": {
    "tags": [],
    "created_in_deepnote_cell": true,
    "deepnote_cell_type": "markdown"
   }
  }
 ],
 "nbformat": 4,
 "nbformat_minor": 2,
 "metadata": {
  "orig_nbformat": 2,
  "deepnote": {
   "is_reactive": false
  },
  "deepnote_notebook_id": "51262fac-24f7-4644-af5e-4b9cb43d5b97",
  "deepnote_execution_queue": []
 }
}