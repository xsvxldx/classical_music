{
 "cells": [
  {
   "cell_type": "markdown",
   "source": "### Data Import",
   "metadata": {
    "cell_id": "d032bb05-cfc6-4863-9f63-42222beeb484",
    "tags": [],
    "deepnote_cell_type": "markdown"
   }
  },
  {
   "cell_type": "markdown",
   "source": "La data de la transcripción que se utilizará se compone de un archivo csv por cada pieza musical. También había archivos wav con la interpretación de cada tema.  \n\nTambién venía un archivo con metadata de cada composición, con información de autor, nombre de la pieza, duración, etc.\n\nLa data utilizada fue encontrada en Kaggle.",
   "metadata": {
    "cell_id": "004b20e7-d61b-42f7-9883-9fd748cd03ed",
    "tags": [],
    "deepnote_cell_type": "markdown"
   }
  },
  {
   "cell_type": "code",
   "metadata": {
    "cell_id": "e5e3a7ec-f17b-4df9-91b2-df4365e3e128",
    "tags": [],
    "deepnote_to_be_reexecuted": false,
    "source_hash": "51c63cf1",
    "execution_start": 1644867789589,
    "execution_millis": 190061,
    "deepnote_cell_type": "code"
   },
   "source": "import pandas as pd\nimport numpy as np\nimport glob\nimport os",
   "outputs": [],
   "execution_count": null
  },
  {
   "cell_type": "markdown",
   "source": "#### Metadata\n\nWe'll import the **metadata** first to take a peak.",
   "metadata": {
    "cell_id": "ac973ff1-3504-4d26-8c57-097ab5f7b097",
    "tags": [],
    "deepnote_cell_type": "markdown"
   }
  },
  {
   "cell_type": "code",
   "metadata": {
    "cell_id": "9c822b00-e686-4f30-8eaf-0f1e5d63b36d",
    "tags": [],
    "deepnote_to_be_reexecuted": false,
    "source_hash": "f65fc743",
    "execution_start": 1644867789590,
    "execution_millis": 89,
    "deepnote_cell_type": "code"
   },
   "source": "df_meta = pd.read_csv('./data/raw/musicnet_metadata.csv')\ndf_meta.head(10)",
   "outputs": [
    {
     "output_type": "execute_result",
     "execution_count": 2,
     "data": {
      "application/vnd.deepnote.dataframe.v3+json": {
       "column_count": 9,
       "row_count": 10,
       "columns": [
        {
         "name": "id",
         "dtype": "int64",
         "stats": {
          "unique_count": 10,
          "nan_count": 0,
          "min": "1727",
          "max": "1749",
          "histogram": [
           {
            "bin_start": 1727,
            "bin_end": 1729.2,
            "count": 3
           },
           {
            "bin_start": 1729.2,
            "bin_end": 1731.4,
            "count": 1
           },
           {
            "bin_start": 1731.4,
            "bin_end": 1733.6,
            "count": 1
           },
           {
            "bin_start": 1733.6,
            "bin_end": 1735.8,
            "count": 2
           },
           {
            "bin_start": 1735.8,
            "bin_end": 1738,
            "count": 0
           },
           {
            "bin_start": 1738,
            "bin_end": 1740.2,
            "count": 1
           },
           {
            "bin_start": 1740.2,
            "bin_end": 1742.4,
            "count": 1
           },
           {
            "bin_start": 1742.4,
            "bin_end": 1744.6,
            "count": 0
           },
           {
            "bin_start": 1744.6,
            "bin_end": 1746.8,
            "count": 0
           },
           {
            "bin_start": 1746.8,
            "bin_end": 1749,
            "count": 1
           }
          ]
         }
        },
        {
         "name": "composer",
         "dtype": "object",
         "stats": {
          "unique_count": 1,
          "nan_count": 0,
          "categories": [
           {
            "name": "Schubert",
            "count": 10
           }
          ]
         }
        },
        {
         "name": "composition",
         "dtype": "object",
         "stats": {
          "unique_count": 5,
          "nan_count": 0,
          "categories": [
           {
            "name": "Piano Quintet in A major",
            "count": 4
           },
           {
            "name": "Piano Sonata in A major",
            "count": 3
           },
           {
            "name": "3 others",
            "count": 3
           }
          ]
         }
        },
        {
         "name": "movement",
         "dtype": "object",
         "stats": {
          "unique_count": 10,
          "nan_count": 0,
          "categories": [
           {
            "name": "2. Andante",
            "count": 1
           },
           {
            "name": "3. Scherzo: Presto",
            "count": 1
           },
           {
            "name": "8 others",
            "count": 8
           }
          ]
         }
        },
        {
         "name": "ensemble",
         "dtype": "object",
         "stats": {
          "unique_count": 4,
          "nan_count": 0,
          "categories": [
           {
            "name": "Piano Quintet",
            "count": 4
           },
           {
            "name": "Solo Piano",
            "count": 4
           },
           {
            "name": "2 others",
            "count": 2
           }
          ]
         }
        },
        {
         "name": "source",
         "dtype": "object",
         "stats": {
          "unique_count": 2,
          "nan_count": 0,
          "categories": [
           {
            "name": "European Archive",
            "count": 6
           },
           {
            "name": "Museopen",
            "count": 4
           }
          ]
         }
        },
        {
         "name": "transcriber",
         "dtype": "object",
         "stats": {
          "unique_count": 3,
          "nan_count": 0,
          "categories": [
           {
            "name": "http://tirolmusic.blogspot.com/",
            "count": 4
           },
           {
            "name": "Segundo G. Yogore",
            "count": 4
           },
           {
            "name": "harfesoft.de",
            "count": 2
           }
          ]
         }
        },
        {
         "name": "catalog_name",
         "dtype": "object",
         "stats": {
          "unique_count": 5,
          "nan_count": 0,
          "categories": [
           {
            "name": "OP114",
            "count": 4
           },
           {
            "name": "D959",
            "count": 3
           },
           {
            "name": "3 others",
            "count": 3
           }
          ]
         }
        },
        {
         "name": "seconds",
         "dtype": "int64",
         "stats": {
          "unique_count": 10,
          "nan_count": 0,
          "min": "251",
          "max": "924",
          "histogram": [
           {
            "bin_start": 251,
            "bin_end": 318.3,
            "count": 1
           },
           {
            "bin_start": 318.3,
            "bin_end": 385.6,
            "count": 2
           },
           {
            "bin_start": 385.6,
            "bin_end": 452.9,
            "count": 2
           },
           {
            "bin_start": 452.9,
            "bin_end": 520.2,
            "count": 1
           },
           {
            "bin_start": 520.2,
            "bin_end": 587.5,
            "count": 1
           },
           {
            "bin_start": 587.5,
            "bin_end": 654.8,
            "count": 0
           },
           {
            "bin_start": 654.8,
            "bin_end": 722.0999999999999,
            "count": 2
           },
           {
            "bin_start": 722.0999999999999,
            "bin_end": 789.4,
            "count": 0
           },
           {
            "bin_start": 789.4,
            "bin_end": 856.6999999999999,
            "count": 0
           },
           {
            "bin_start": 856.6999999999999,
            "bin_end": 924,
            "count": 1
           }
          ]
         }
        },
        {
         "name": "_deepnote_index_column",
         "dtype": "int64"
        }
       ],
       "rows": [
        {
         "id": 1727,
         "composer": "Schubert",
         "composition": "Piano Quintet in A major",
         "movement": "2. Andante",
         "ensemble": "Piano Quintet",
         "source": "European Archive",
         "transcriber": "http://tirolmusic.blogspot.com/",
         "catalog_name": "OP114",
         "seconds": 447,
         "_deepnote_index_column": 0
        },
        {
         "id": 1728,
         "composer": "Schubert",
         "composition": "Piano Quintet in A major",
         "movement": "3. Scherzo: Presto",
         "ensemble": "Piano Quintet",
         "source": "European Archive",
         "transcriber": "http://tirolmusic.blogspot.com/",
         "catalog_name": "OP114",
         "seconds": 251,
         "_deepnote_index_column": 1
        },
        {
         "id": 1729,
         "composer": "Schubert",
         "composition": "Piano Quintet in A major",
         "movement": "4. Andantino - Allegretto",
         "ensemble": "Piano Quintet",
         "source": "European Archive",
         "transcriber": "http://tirolmusic.blogspot.com/",
         "catalog_name": "OP114",
         "seconds": 444,
         "_deepnote_index_column": 2
        },
        {
         "id": 1730,
         "composer": "Schubert",
         "composition": "Piano Quintet in A major",
         "movement": "5. Allegro giusto",
         "ensemble": "Piano Quintet",
         "source": "European Archive",
         "transcriber": "http://tirolmusic.blogspot.com/",
         "catalog_name": "OP114",
         "seconds": 368,
         "_deepnote_index_column": 3
        },
        {
         "id": 1733,
         "composer": "Schubert",
         "composition": "Piano Sonata in A major",
         "movement": "2. Andantino",
         "ensemble": "Solo Piano",
         "source": "Museopen",
         "transcriber": "Segundo G. Yogore",
         "catalog_name": "D959",
         "seconds": 546,
         "_deepnote_index_column": 4
        },
        {
         "id": 1734,
         "composer": "Schubert",
         "composition": "Piano Sonata in A major",
         "movement": "3. Scherzo. Allegro vivace",
         "ensemble": "Solo Piano",
         "source": "Museopen",
         "transcriber": "Segundo G. Yogore",
         "catalog_name": "D959",
         "seconds": 325,
         "_deepnote_index_column": 5
        },
        {
         "id": 1735,
         "composer": "Schubert",
         "composition": "Piano Sonata in A major",
         "movement": "4. Rondo. Allegretto",
         "ensemble": "Solo Piano",
         "source": "Museopen",
         "transcriber": "Segundo G. Yogore",
         "catalog_name": "D959",
         "seconds": 714,
         "_deepnote_index_column": 6
        },
        {
         "id": 1739,
         "composer": "Schubert",
         "composition": "Piano Trio in B-flat major",
         "movement": "4. Rondo. Allegro vivace",
         "ensemble": "Piano Trio",
         "source": "European Archive",
         "transcriber": "harfesoft.de",
         "catalog_name": "OP99",
         "seconds": 490,
         "_deepnote_index_column": 7
        },
        {
         "id": 1742,
         "composer": "Schubert",
         "composition": "String Quintet in C major",
         "movement": "2. Adagio",
         "ensemble": "Viola Quintet",
         "source": "European Archive",
         "transcriber": "harfesoft.de",
         "catalog_name": "OP163",
         "seconds": 924,
         "_deepnote_index_column": 8
        },
        {
         "id": 1749,
         "composer": "Schubert",
         "composition": "Piano Sonata in A minor",
         "movement": "1. Moderato",
         "ensemble": "Solo Piano",
         "source": "Museopen",
         "transcriber": "Segundo G. Yogore",
         "catalog_name": "D845",
         "seconds": 696,
         "_deepnote_index_column": 9
        }
       ]
      },
      "text/plain": "     id  composer                 composition                    movement  \\\n0  1727  Schubert    Piano Quintet in A major                  2. Andante   \n1  1728  Schubert    Piano Quintet in A major          3. Scherzo: Presto   \n2  1729  Schubert    Piano Quintet in A major   4. Andantino - Allegretto   \n3  1730  Schubert    Piano Quintet in A major           5. Allegro giusto   \n4  1733  Schubert     Piano Sonata in A major                2. Andantino   \n5  1734  Schubert     Piano Sonata in A major  3. Scherzo. Allegro vivace   \n6  1735  Schubert     Piano Sonata in A major        4. Rondo. Allegretto   \n7  1739  Schubert  Piano Trio in B-flat major    4. Rondo. Allegro vivace   \n8  1742  Schubert   String Quintet in C major                   2. Adagio   \n9  1749  Schubert     Piano Sonata in A minor                 1. Moderato   \n\n        ensemble            source                      transcriber  \\\n0  Piano Quintet  European Archive  http://tirolmusic.blogspot.com/   \n1  Piano Quintet  European Archive  http://tirolmusic.blogspot.com/   \n2  Piano Quintet  European Archive  http://tirolmusic.blogspot.com/   \n3  Piano Quintet  European Archive  http://tirolmusic.blogspot.com/   \n4     Solo Piano          Museopen                Segundo G. Yogore   \n5     Solo Piano          Museopen                Segundo G. Yogore   \n6     Solo Piano          Museopen                Segundo G. Yogore   \n7     Piano Trio  European Archive                     harfesoft.de   \n8  Viola Quintet  European Archive                     harfesoft.de   \n9     Solo Piano          Museopen                Segundo G. Yogore   \n\n  catalog_name  seconds  \n0        OP114      447  \n1        OP114      251  \n2        OP114      444  \n3        OP114      368  \n4         D959      546  \n5         D959      325  \n6         D959      714  \n7         OP99      490  \n8        OP163      924  \n9         D845      696  ",
      "text/html": "<div>\n<style scoped>\n    .dataframe tbody tr th:only-of-type {\n        vertical-align: middle;\n    }\n\n    .dataframe tbody tr th {\n        vertical-align: top;\n    }\n\n    .dataframe thead th {\n        text-align: right;\n    }\n</style>\n<table border=\"1\" class=\"dataframe\">\n  <thead>\n    <tr style=\"text-align: right;\">\n      <th></th>\n      <th>id</th>\n      <th>composer</th>\n      <th>composition</th>\n      <th>movement</th>\n      <th>ensemble</th>\n      <th>source</th>\n      <th>transcriber</th>\n      <th>catalog_name</th>\n      <th>seconds</th>\n    </tr>\n  </thead>\n  <tbody>\n    <tr>\n      <th>0</th>\n      <td>1727</td>\n      <td>Schubert</td>\n      <td>Piano Quintet in A major</td>\n      <td>2. Andante</td>\n      <td>Piano Quintet</td>\n      <td>European Archive</td>\n      <td>http://tirolmusic.blogspot.com/</td>\n      <td>OP114</td>\n      <td>447</td>\n    </tr>\n    <tr>\n      <th>1</th>\n      <td>1728</td>\n      <td>Schubert</td>\n      <td>Piano Quintet in A major</td>\n      <td>3. Scherzo: Presto</td>\n      <td>Piano Quintet</td>\n      <td>European Archive</td>\n      <td>http://tirolmusic.blogspot.com/</td>\n      <td>OP114</td>\n      <td>251</td>\n    </tr>\n    <tr>\n      <th>2</th>\n      <td>1729</td>\n      <td>Schubert</td>\n      <td>Piano Quintet in A major</td>\n      <td>4. Andantino - Allegretto</td>\n      <td>Piano Quintet</td>\n      <td>European Archive</td>\n      <td>http://tirolmusic.blogspot.com/</td>\n      <td>OP114</td>\n      <td>444</td>\n    </tr>\n    <tr>\n      <th>3</th>\n      <td>1730</td>\n      <td>Schubert</td>\n      <td>Piano Quintet in A major</td>\n      <td>5. Allegro giusto</td>\n      <td>Piano Quintet</td>\n      <td>European Archive</td>\n      <td>http://tirolmusic.blogspot.com/</td>\n      <td>OP114</td>\n      <td>368</td>\n    </tr>\n    <tr>\n      <th>4</th>\n      <td>1733</td>\n      <td>Schubert</td>\n      <td>Piano Sonata in A major</td>\n      <td>2. Andantino</td>\n      <td>Solo Piano</td>\n      <td>Museopen</td>\n      <td>Segundo G. Yogore</td>\n      <td>D959</td>\n      <td>546</td>\n    </tr>\n    <tr>\n      <th>5</th>\n      <td>1734</td>\n      <td>Schubert</td>\n      <td>Piano Sonata in A major</td>\n      <td>3. Scherzo. Allegro vivace</td>\n      <td>Solo Piano</td>\n      <td>Museopen</td>\n      <td>Segundo G. Yogore</td>\n      <td>D959</td>\n      <td>325</td>\n    </tr>\n    <tr>\n      <th>6</th>\n      <td>1735</td>\n      <td>Schubert</td>\n      <td>Piano Sonata in A major</td>\n      <td>4. Rondo. Allegretto</td>\n      <td>Solo Piano</td>\n      <td>Museopen</td>\n      <td>Segundo G. Yogore</td>\n      <td>D959</td>\n      <td>714</td>\n    </tr>\n    <tr>\n      <th>7</th>\n      <td>1739</td>\n      <td>Schubert</td>\n      <td>Piano Trio in B-flat major</td>\n      <td>4. Rondo. Allegro vivace</td>\n      <td>Piano Trio</td>\n      <td>European Archive</td>\n      <td>harfesoft.de</td>\n      <td>OP99</td>\n      <td>490</td>\n    </tr>\n    <tr>\n      <th>8</th>\n      <td>1742</td>\n      <td>Schubert</td>\n      <td>String Quintet in C major</td>\n      <td>2. Adagio</td>\n      <td>Viola Quintet</td>\n      <td>European Archive</td>\n      <td>harfesoft.de</td>\n      <td>OP163</td>\n      <td>924</td>\n    </tr>\n    <tr>\n      <th>9</th>\n      <td>1749</td>\n      <td>Schubert</td>\n      <td>Piano Sonata in A minor</td>\n      <td>1. Moderato</td>\n      <td>Solo Piano</td>\n      <td>Museopen</td>\n      <td>Segundo G. Yogore</td>\n      <td>D845</td>\n      <td>696</td>\n    </tr>\n  </tbody>\n</table>\n</div>"
     },
     "metadata": {}
    }
   ],
   "execution_count": null
  },
  {
   "cell_type": "markdown",
   "source": "In the column `composer`, almost half of the scores are Beethoven's, and Bach has got quite a few also. We'll check this one to see what analysis by composer we can make.  \n\nWe have some other interesting fields too. The column `id` links this dataset with each score dataset.   \nFrom `composition` we might get what key is the piece in. Gotta dig in that column later.  \nColumn `seconds` shows the duration of each piece.\n  \nI don't think `transcriber` is gonna do much for us. Neither the `catalog_name` nor `source`.\n\nFirst, we check some basic attributes of our dataset, like dimension and data types. Then we check there are no duplicated rows nor NAs.",
   "metadata": {
    "cell_id": "387ea97e-a633-4e6e-b322-e0ea13142913",
    "tags": [],
    "deepnote_cell_type": "markdown"
   }
  },
  {
   "cell_type": "code",
   "metadata": {
    "cell_id": "a65d8da0-36c2-4d3c-b97e-fabb47507d93",
    "tags": [],
    "deepnote_to_be_reexecuted": false,
    "source_hash": "48af79c3",
    "execution_start": 1644867789974,
    "execution_millis": 22,
    "deepnote_output_heights": [
     21
    ],
    "deepnote_cell_type": "code"
   },
   "source": "df_meta.shape",
   "outputs": [
    {
     "output_type": "execute_result",
     "execution_count": 3,
     "data": {
      "text/plain": "(330, 9)"
     },
     "metadata": {}
    }
   ],
   "execution_count": null
  },
  {
   "cell_type": "code",
   "metadata": {
    "cell_id": "a2cb4886-421c-4024-9030-f1885c11d5bf",
    "tags": [],
    "deepnote_to_be_reexecuted": false,
    "source_hash": "541cd688",
    "execution_start": 1644867789975,
    "execution_millis": 21,
    "deepnote_cell_type": "code"
   },
   "source": "df_meta.info()",
   "outputs": [
    {
     "name": "stdout",
     "text": "<class 'pandas.core.frame.DataFrame'>\nRangeIndex: 330 entries, 0 to 329\nData columns (total 9 columns):\n #   Column        Non-Null Count  Dtype \n---  ------        --------------  ----- \n 0   id            330 non-null    int64 \n 1   composer      330 non-null    object\n 2   composition   330 non-null    object\n 3   movement      330 non-null    object\n 4   ensemble      330 non-null    object\n 5   source        330 non-null    object\n 6   transcriber   330 non-null    object\n 7   catalog_name  330 non-null    object\n 8   seconds       330 non-null    int64 \ndtypes: int64(2), object(7)\nmemory usage: 23.3+ KB\n",
     "output_type": "stream"
    }
   ],
   "execution_count": null
  },
  {
   "cell_type": "code",
   "metadata": {
    "cell_id": "6157ad70-8244-47b3-9902-c3bb41218e97",
    "tags": [],
    "deepnote_to_be_reexecuted": false,
    "source_hash": "3049bcbb",
    "execution_start": 1644867789976,
    "execution_millis": 20,
    "deepnote_output_heights": [
     40
    ],
    "deepnote_cell_type": "code"
   },
   "source": "# Verifying there are no duplicated rows\ndf_meta.duplicated().value_counts()",
   "outputs": [
    {
     "output_type": "execute_result",
     "execution_count": 5,
     "data": {
      "text/plain": "False    330\ndtype: int64"
     },
     "metadata": {}
    }
   ],
   "execution_count": null
  },
  {
   "cell_type": "code",
   "metadata": {
    "cell_id": "ffade99a-3c19-40d0-bc91-cb30c4514f86",
    "tags": [],
    "deepnote_to_be_reexecuted": false,
    "source_hash": "5ae3af3e",
    "execution_start": 1644867789977,
    "execution_millis": 0,
    "deepnote_output_heights": [
     1
    ],
    "deepnote_cell_type": "code"
   },
   "source": "# Checking there are no NAs\ndf_meta.isna().any(axis=1).value_counts()",
   "outputs": [
    {
     "output_type": "execute_result",
     "execution_count": 6,
     "data": {
      "text/plain": "False    330\ndtype: int64"
     },
     "metadata": {}
    }
   ],
   "execution_count": null
  },
  {
   "cell_type": "markdown",
   "source": "#### Score datasets\n\nLet's check one of the <b>score datasets</b> now to see what we've got.",
   "metadata": {
    "cell_id": "caa3c68e-4016-4030-ac57-0648a1370873",
    "tags": [],
    "deepnote_cell_type": "markdown"
   }
  },
  {
   "cell_type": "code",
   "metadata": {
    "cell_id": "cf5b1d39-a18d-4670-b8e4-3871a05a1747",
    "tags": [],
    "deepnote_to_be_reexecuted": false,
    "source_hash": "3832c67",
    "execution_start": 1644867789977,
    "execution_millis": 62,
    "deepnote_table_state": {
     "pageSize": 10,
     "pageIndex": 2,
     "filters": [],
     "sortBy": []
    },
    "deepnote_table_loading": false,
    "deepnote_cell_type": "code"
   },
   "source": "# First score dataset is imported\ndf_1 = pd.read_csv('./data/raw/scores/1727.csv')\ndf_1",
   "outputs": [
    {
     "output_type": "execute_result",
     "execution_count": 7,
     "data": {
      "application/vnd.deepnote.dataframe.v3+json": {
       "column_count": 7,
       "row_count": 6580,
       "columns": [
        {
         "name": "start_time",
         "dtype": "int64",
         "stats": {
          "unique_count": 2149,
          "nan_count": 0,
          "min": "9182",
          "max": "19233758",
          "histogram": [
           {
            "bin_start": 9182,
            "bin_end": 1931639.6,
            "count": 408
           },
           {
            "bin_start": 1931639.6,
            "bin_end": 3854097.2,
            "count": 485
           },
           {
            "bin_start": 3854097.2,
            "bin_end": 5776554.800000001,
            "count": 501
           },
           {
            "bin_start": 5776554.800000001,
            "bin_end": 7699012.4,
            "count": 1217
           },
           {
            "bin_start": 7699012.4,
            "bin_end": 9621470,
            "count": 664
           },
           {
            "bin_start": 9621470,
            "bin_end": 11543927.600000001,
            "count": 410
           },
           {
            "bin_start": 11543927.600000001,
            "bin_end": 13466385.200000001,
            "count": 466
           },
           {
            "bin_start": 13466385.200000001,
            "bin_end": 15388842.8,
            "count": 481
           },
           {
            "bin_start": 15388842.8,
            "bin_end": 17311300.400000002,
            "count": 1187
           },
           {
            "bin_start": 17311300.400000002,
            "bin_end": 19233758,
            "count": 761
           }
          ]
         }
        },
        {
         "name": "end_time",
         "dtype": "int64",
         "stats": {
          "unique_count": 2583,
          "nan_count": 0,
          "min": "33758",
          "max": "19421150",
          "histogram": [
           {
            "bin_start": 33758,
            "bin_end": 1972497.2,
            "count": 415
           },
           {
            "bin_start": 1972497.2,
            "bin_end": 3911236.4,
            "count": 492
           },
           {
            "bin_start": 3911236.4,
            "bin_end": 5849975.6,
            "count": 498
           },
           {
            "bin_start": 5849975.6,
            "bin_end": 7788714.8,
            "count": 1246
           },
           {
            "bin_start": 7788714.8,
            "bin_end": 9727454,
            "count": 658
           },
           {
            "bin_start": 9727454,
            "bin_end": 11666193.2,
            "count": 396
           },
           {
            "bin_start": 11666193.2,
            "bin_end": 13604932.4,
            "count": 482
           },
           {
            "bin_start": 13604932.4,
            "bin_end": 15543671.6,
            "count": 478
           },
           {
            "bin_start": 15543671.6,
            "bin_end": 17482410.8,
            "count": 1255
           },
           {
            "bin_start": 17482410.8,
            "bin_end": 19421150,
            "count": 660
           }
          ]
         }
        },
        {
         "name": "instrument",
         "dtype": "int64",
         "stats": {
          "unique_count": 5,
          "nan_count": 0,
          "min": "1",
          "max": "44",
          "histogram": [
           {
            "bin_start": 1,
            "bin_end": 5.3,
            "count": 2366
           },
           {
            "bin_start": 5.3,
            "bin_end": 9.6,
            "count": 0
           },
           {
            "bin_start": 9.6,
            "bin_end": 13.899999999999999,
            "count": 0
           },
           {
            "bin_start": 13.899999999999999,
            "bin_end": 18.2,
            "count": 0
           },
           {
            "bin_start": 18.2,
            "bin_end": 22.5,
            "count": 0
           },
           {
            "bin_start": 22.5,
            "bin_end": 26.799999999999997,
            "count": 0
           },
           {
            "bin_start": 26.799999999999997,
            "bin_end": 31.099999999999998,
            "count": 0
           },
           {
            "bin_start": 31.099999999999998,
            "bin_end": 35.4,
            "count": 0
           },
           {
            "bin_start": 35.4,
            "bin_end": 39.699999999999996,
            "count": 0
           },
           {
            "bin_start": 39.699999999999996,
            "bin_end": 44,
            "count": 4214
           }
          ]
         }
        },
        {
         "name": "note",
         "dtype": "int64",
         "stats": {
          "unique_count": 75,
          "nan_count": 0,
          "min": "24",
          "max": "100",
          "histogram": [
           {
            "bin_start": 24,
            "bin_end": 31.6,
            "count": 186
           },
           {
            "bin_start": 31.6,
            "bin_end": 39.2,
            "count": 168
           },
           {
            "bin_start": 39.2,
            "bin_end": 46.8,
            "count": 255
           },
           {
            "bin_start": 46.8,
            "bin_end": 54.4,
            "count": 645
           },
           {
            "bin_start": 54.4,
            "bin_end": 62,
            "count": 1661
           },
           {
            "bin_start": 62,
            "bin_end": 69.6,
            "count": 1919
           },
           {
            "bin_start": 69.6,
            "bin_end": 77.19999999999999,
            "count": 969
           },
           {
            "bin_start": 77.19999999999999,
            "bin_end": 84.8,
            "count": 522
           },
           {
            "bin_start": 84.8,
            "bin_end": 92.39999999999999,
            "count": 204
           },
           {
            "bin_start": 92.39999999999999,
            "bin_end": 100,
            "count": 51
           }
          ]
         }
        },
        {
         "name": "start_beat",
         "dtype": "float64",
         "stats": {
          "unique_count": 2149,
          "nan_count": 0,
          "min": "4.0",
          "max": "365.5",
          "histogram": [
           {
            "bin_start": 4,
            "bin_end": 40.15,
            "count": 435
           },
           {
            "bin_start": 40.15,
            "bin_end": 76.3,
            "count": 530
           },
           {
            "bin_start": 76.3,
            "bin_end": 112.44999999999999,
            "count": 535
           },
           {
            "bin_start": 112.44999999999999,
            "bin_end": 148.6,
            "count": 1087
           },
           {
            "bin_start": 148.6,
            "bin_end": 184.75,
            "count": 669
           },
           {
            "bin_start": 184.75,
            "bin_end": 220.89999999999998,
            "count": 429
           },
           {
            "bin_start": 220.89999999999998,
            "bin_end": 257.04999999999995,
            "count": 535
           },
           {
            "bin_start": 257.04999999999995,
            "bin_end": 293.2,
            "count": 530
           },
           {
            "bin_start": 293.2,
            "bin_end": 329.34999999999997,
            "count": 1095
           },
           {
            "bin_start": 329.34999999999997,
            "bin_end": 365.5,
            "count": 735
           }
          ]
         }
        },
        {
         "name": "end_beat",
         "dtype": "float64",
         "stats": {
          "unique_count": 20,
          "nan_count": 0,
          "min": "0.0625",
          "max": "3.5",
          "histogram": [
           {
            "bin_start": 0.0625,
            "bin_end": 0.40625,
            "count": 5220
           },
           {
            "bin_start": 0.40625,
            "bin_end": 0.75,
            "count": 880
           },
           {
            "bin_start": 0.75,
            "bin_end": 1.09375,
            "count": 370
           },
           {
            "bin_start": 1.09375,
            "bin_end": 1.4375,
            "count": 14
           },
           {
            "bin_start": 1.4375,
            "bin_end": 1.78125,
            "count": 50
           },
           {
            "bin_start": 1.78125,
            "bin_end": 2.125,
            "count": 12
           },
           {
            "bin_start": 2.125,
            "bin_end": 2.46875,
            "count": 0
           },
           {
            "bin_start": 2.46875,
            "bin_end": 2.8125,
            "count": 4
           },
           {
            "bin_start": 2.8125,
            "bin_end": 3.15625,
            "count": 20
           },
           {
            "bin_start": 3.15625,
            "bin_end": 3.5,
            "count": 10
           }
          ]
         }
        },
        {
         "name": "note_value",
         "dtype": "object",
         "stats": {
          "unique_count": 14,
          "nan_count": 0,
          "categories": [
           {
            "name": "Triplet Sixteenth",
            "count": 3039
           },
           {
            "name": "Eighth",
            "count": 848
           },
           {
            "name": "12 others",
            "count": 2693
           }
          ]
         }
        },
        {
         "name": "_deepnote_index_column",
         "dtype": "int64"
        }
       ],
       "rows": [
        {
         "start_time": 172510,
         "end_time": 175582,
         "instrument": 1,
         "note": 65,
         "start_beat": 7,
         "end_beat": 0.0625,
         "note_value": "Sixty Fourth",
         "_deepnote_index_column": 20
        },
        {
         "start_time": 172510,
         "end_time": 175582,
         "instrument": 1,
         "note": 77,
         "start_beat": 7,
         "end_beat": 0.0625,
         "note_value": "Sixty Fourth",
         "_deepnote_index_column": 21
        },
        {
         "start_time": 172510,
         "end_time": 202206,
         "instrument": 43,
         "note": 53,
         "start_beat": 7,
         "end_beat": 0.5,
         "note_value": "Eighth",
         "_deepnote_index_column": 22
        },
        {
         "start_time": 175582,
         "end_time": 180190,
         "instrument": 1,
         "note": 67,
         "start_beat": 7.0625,
         "end_beat": 0.0625,
         "note_value": "Sixty Fourth",
         "_deepnote_index_column": 23
        },
        {
         "start_time": 175582,
         "end_time": 180190,
         "instrument": 1,
         "note": 79,
         "start_beat": 7.0625,
         "end_beat": 0.0625,
         "note_value": "Sixty Fourth",
         "_deepnote_index_column": 24
        },
        {
         "start_time": 180190,
         "end_time": 183262,
         "instrument": 1,
         "note": 65,
         "start_beat": 7.125,
         "end_beat": 0.0625,
         "note_value": "Sixty Fourth",
         "_deepnote_index_column": 25
        },
        {
         "start_time": 180190,
         "end_time": 183262,
         "instrument": 1,
         "note": 77,
         "start_beat": 7.125,
         "end_beat": 0.0625,
         "note_value": "Sixty Fourth",
         "_deepnote_index_column": 26
        },
        {
         "start_time": 183262,
         "end_time": 187870,
         "instrument": 1,
         "note": 67,
         "start_beat": 7.1875,
         "end_beat": 0.0625,
         "note_value": "Sixty Fourth",
         "_deepnote_index_column": 27
        },
        {
         "start_time": 183262,
         "end_time": 187870,
         "instrument": 1,
         "note": 79,
         "start_beat": 7.1875,
         "end_beat": 0.0625,
         "note_value": "Sixty Fourth",
         "_deepnote_index_column": 28
        },
        {
         "start_time": 187870,
         "end_time": 193502,
         "instrument": 1,
         "note": 77,
         "start_beat": 7.25,
         "end_beat": 0.0625,
         "note_value": "Sixty Fourth",
         "_deepnote_index_column": 29
        }
       ]
      },
      "text/plain": "      start_time  end_time  instrument  note  start_beat  end_beat  \\\n0           9182     90078          43    53       4.000     1.500   \n1           9182     33758          42    65       4.000     0.500   \n2           9182     62430           1    69       4.000     1.000   \n3           9182    202206          44    41       4.000     3.500   \n4           9182     62430           1    81       4.000     1.000   \n...          ...       ...         ...   ...         ...       ...   \n6575    19196894  19421150          44    29     365.000     3.000   \n6576    19226590  19233758           1    60     365.375     0.125   \n6577    19226590  19233758           1    48     365.375     0.125   \n6578    19233758  19421150           1    65     365.500     2.500   \n6579    19233758  19421150           1    53     365.500     2.500   \n\n          note_value  \n0     Dotted Quarter  \n1             Eighth  \n2            Quarter  \n3              Whole  \n4            Quarter  \n...              ...  \n6575     Dotted Half  \n6576   Thirty Second  \n6577   Thirty Second  \n6578     Dotted Half  \n6579     Dotted Half  \n\n[6580 rows x 7 columns]",
      "text/html": "<div>\n<style scoped>\n    .dataframe tbody tr th:only-of-type {\n        vertical-align: middle;\n    }\n\n    .dataframe tbody tr th {\n        vertical-align: top;\n    }\n\n    .dataframe thead th {\n        text-align: right;\n    }\n</style>\n<table border=\"1\" class=\"dataframe\">\n  <thead>\n    <tr style=\"text-align: right;\">\n      <th></th>\n      <th>start_time</th>\n      <th>end_time</th>\n      <th>instrument</th>\n      <th>note</th>\n      <th>start_beat</th>\n      <th>end_beat</th>\n      <th>note_value</th>\n    </tr>\n  </thead>\n  <tbody>\n    <tr>\n      <th>0</th>\n      <td>9182</td>\n      <td>90078</td>\n      <td>43</td>\n      <td>53</td>\n      <td>4.000</td>\n      <td>1.500</td>\n      <td>Dotted Quarter</td>\n    </tr>\n    <tr>\n      <th>1</th>\n      <td>9182</td>\n      <td>33758</td>\n      <td>42</td>\n      <td>65</td>\n      <td>4.000</td>\n      <td>0.500</td>\n      <td>Eighth</td>\n    </tr>\n    <tr>\n      <th>2</th>\n      <td>9182</td>\n      <td>62430</td>\n      <td>1</td>\n      <td>69</td>\n      <td>4.000</td>\n      <td>1.000</td>\n      <td>Quarter</td>\n    </tr>\n    <tr>\n      <th>3</th>\n      <td>9182</td>\n      <td>202206</td>\n      <td>44</td>\n      <td>41</td>\n      <td>4.000</td>\n      <td>3.500</td>\n      <td>Whole</td>\n    </tr>\n    <tr>\n      <th>4</th>\n      <td>9182</td>\n      <td>62430</td>\n      <td>1</td>\n      <td>81</td>\n      <td>4.000</td>\n      <td>1.000</td>\n      <td>Quarter</td>\n    </tr>\n    <tr>\n      <th>...</th>\n      <td>...</td>\n      <td>...</td>\n      <td>...</td>\n      <td>...</td>\n      <td>...</td>\n      <td>...</td>\n      <td>...</td>\n    </tr>\n    <tr>\n      <th>6575</th>\n      <td>19196894</td>\n      <td>19421150</td>\n      <td>44</td>\n      <td>29</td>\n      <td>365.000</td>\n      <td>3.000</td>\n      <td>Dotted Half</td>\n    </tr>\n    <tr>\n      <th>6576</th>\n      <td>19226590</td>\n      <td>19233758</td>\n      <td>1</td>\n      <td>60</td>\n      <td>365.375</td>\n      <td>0.125</td>\n      <td>Thirty Second</td>\n    </tr>\n    <tr>\n      <th>6577</th>\n      <td>19226590</td>\n      <td>19233758</td>\n      <td>1</td>\n      <td>48</td>\n      <td>365.375</td>\n      <td>0.125</td>\n      <td>Thirty Second</td>\n    </tr>\n    <tr>\n      <th>6578</th>\n      <td>19233758</td>\n      <td>19421150</td>\n      <td>1</td>\n      <td>65</td>\n      <td>365.500</td>\n      <td>2.500</td>\n      <td>Dotted Half</td>\n    </tr>\n    <tr>\n      <th>6579</th>\n      <td>19233758</td>\n      <td>19421150</td>\n      <td>1</td>\n      <td>53</td>\n      <td>365.500</td>\n      <td>2.500</td>\n      <td>Dotted Half</td>\n    </tr>\n  </tbody>\n</table>\n<p>6580 rows × 7 columns</p>\n</div>"
     },
     "metadata": {}
    }
   ],
   "execution_count": null
  },
  {
   "cell_type": "code",
   "metadata": {
    "cell_id": "ede17784-a4b1-4ce8-b5b3-17df90fdf328",
    "tags": [],
    "deepnote_to_be_reexecuted": false,
    "source_hash": "afd7c9d9",
    "execution_start": 1644867790066,
    "execution_millis": 190218,
    "deepnote_output_heights": [
     1
    ],
    "deepnote_cell_type": "code"
   },
   "source": "df_1.shape",
   "outputs": [
    {
     "output_type": "execute_result",
     "execution_count": 8,
     "data": {
      "text/plain": "(6580, 7)"
     },
     "metadata": {}
    }
   ],
   "execution_count": null
  },
  {
   "cell_type": "code",
   "metadata": {
    "cell_id": "2b0dbce5-d33e-4697-a464-6a8e0177546a",
    "tags": [],
    "deepnote_to_be_reexecuted": false,
    "source_hash": "1fe1ce02",
    "execution_start": 1644867790071,
    "execution_millis": 1,
    "deepnote_cell_type": "code"
   },
   "source": "df_1.info()",
   "outputs": [
    {
     "name": "stdout",
     "text": "<class 'pandas.core.frame.DataFrame'>\nRangeIndex: 6580 entries, 0 to 6579\nData columns (total 7 columns):\n #   Column      Non-Null Count  Dtype  \n---  ------      --------------  -----  \n 0   start_time  6580 non-null   int64  \n 1   end_time    6580 non-null   int64  \n 2   instrument  6580 non-null   int64  \n 3   note        6580 non-null   int64  \n 4   start_beat  6580 non-null   float64\n 5   end_beat    6580 non-null   float64\n 6   note_value  6580 non-null   object \ndtypes: float64(2), int64(4), object(1)\nmemory usage: 360.0+ KB\n",
     "output_type": "stream"
    }
   ],
   "execution_count": null
  },
  {
   "cell_type": "markdown",
   "source": "Interesting. What most catches my attention is the `instrument` and the `note` column. Didn't find a dictionary to decode any of them, but listening to some of the wav files we can get the notes codification, and with the ensemble column in the metadata we might mostly figure out the instruments, too.\n\nI listened to a couple of wav files and couldn't understand the `start_time` and `end_time` columns. They are clearly not in seconds nor miliseconds. Shame.\n\nAnother quick listen to some of the audio files led me to the conclusion that the note C is mapped as 0. Thus, C-sharp is 1, D is 2, and so on. 12 would be C again.\n  \nIf we can get the key of each composition from the metadata table, we can get what scales and modes are used.",
   "metadata": {
    "cell_id": "9b4b9f56-b264-4f35-9d7b-265620909d34",
    "tags": [],
    "deepnote_cell_type": "markdown"
   }
  },
  {
   "cell_type": "markdown",
   "source": "### Data wrangling: Metadata",
   "metadata": {
    "cell_id": "a3492f43-4019-458c-9a10-96783ebed66c",
    "tags": [],
    "deepnote_cell_type": "markdown"
   }
  },
  {
   "cell_type": "markdown",
   "source": "#### Creating column \"key\" \n\nWe'll start extracting from the metadata table (`composition` and `movement` columns) the key of each composition",
   "metadata": {
    "cell_id": "f75658ee-f654-4e46-b48a-9d39c5dcad3e",
    "tags": [],
    "deepnote_cell_type": "markdown"
   }
  },
  {
   "cell_type": "code",
   "metadata": {
    "cell_id": "881f6c15-0d57-40d4-8cc4-1813df4107ef",
    "tags": [],
    "deepnote_to_be_reexecuted": false,
    "source_hash": "2dc12700",
    "execution_start": 1644867790074,
    "execution_millis": 12,
    "deepnote_output_heights": [
     328.1875
    ],
    "deepnote_table_state": {
     "pageSize": 10,
     "pageIndex": 14,
     "filters": [],
     "sortBy": []
    },
    "deepnote_table_loading": false,
    "deepnote_table_invalid": false,
    "deepnote_cell_type": "code"
   },
   "source": "# Splitting the column composition\ndf_meta['composition'].str.split(' in ', expand=True)",
   "outputs": [
    {
     "output_type": "execute_result",
     "execution_count": 10,
     "data": {
      "application/vnd.deepnote.dataframe.v3+json": {
       "column_count": 2,
       "row_count": 330,
       "columns": [
        {
         "name": 0,
         "dtype": "object",
         "stats": {
          "unique_count": 111,
          "nan_count": 0,
          "categories": [
           {
            "name": "Piano Sonata",
            "count": 20
           },
           {
            "name": "Piano Sonata No 20",
            "count": 9
           },
           {
            "name": "109 others",
            "count": 301
           }
          ]
         }
        },
        {
         "name": 1,
         "dtype": "object",
         "stats": {
          "unique_count": 31,
          "nan_count": 16,
          "categories": [
           {
            "name": "E-flat major",
            "count": 35
           },
           {
            "name": "30 others",
            "count": 279
           },
           {
            "name": "Missing",
            "count": 16
           }
          ]
         }
        },
        {
         "name": "_deepnote_index_column",
         "dtype": "int64"
        }
       ],
       "rows": [
        {
         "0": "WTK I, No. 11: Prelude and Fugue",
         "1": "F major",
         "_deepnote_index_column": 140
        },
        {
         "0": "WTK I, No. 23: Prelude and Fugue",
         "1": "B major",
         "_deepnote_index_column": 141
        },
        {
         "0": "WTK I, No. 23: Prelude and Fugue",
         "1": "B major",
         "_deepnote_index_column": 142
        },
        {
         "0": "WTK I, No. 17: Prelude and Fugue",
         "1": "A-flat major",
         "_deepnote_index_column": 143
        },
        {
         "0": "WTK I, No. 17: Prelude and Fugue",
         "1": "A-flat major",
         "_deepnote_index_column": 144
        },
        {
         "0": "Violin Sonata No 1",
         "1": "G minor",
         "_deepnote_index_column": 145
        },
        {
         "0": "Violin Sonata No 1",
         "1": "G minor",
         "_deepnote_index_column": 146
        },
        {
         "0": "Violin Sonata No 1",
         "1": "G minor",
         "_deepnote_index_column": 147
        },
        {
         "0": "Violin Sonata No 1",
         "1": "G minor",
         "_deepnote_index_column": 148
        },
        {
         "0": "WTK I, No. 9: Prelude and Fugue",
         "1": "E major",
         "_deepnote_index_column": 149
        }
       ]
      },
      "text/plain": "                       0        1\n0          Piano Quintet  A major\n1          Piano Quintet  A major\n2          Piano Quintet  A major\n3          Piano Quintet  A major\n4           Piano Sonata  A major\n..                   ...      ...\n325   Piano Sonata No 10  G major\n326   Piano Sonata No 10  G major\n327  Violin Partita No 1  B minor\n328    Piano Sonata No 9  E major\n329   Piano Sonata No 10  G major\n\n[330 rows x 2 columns]",
      "text/html": "<div>\n<style scoped>\n    .dataframe tbody tr th:only-of-type {\n        vertical-align: middle;\n    }\n\n    .dataframe tbody tr th {\n        vertical-align: top;\n    }\n\n    .dataframe thead th {\n        text-align: right;\n    }\n</style>\n<table border=\"1\" class=\"dataframe\">\n  <thead>\n    <tr style=\"text-align: right;\">\n      <th></th>\n      <th>0</th>\n      <th>1</th>\n    </tr>\n  </thead>\n  <tbody>\n    <tr>\n      <th>0</th>\n      <td>Piano Quintet</td>\n      <td>A major</td>\n    </tr>\n    <tr>\n      <th>1</th>\n      <td>Piano Quintet</td>\n      <td>A major</td>\n    </tr>\n    <tr>\n      <th>2</th>\n      <td>Piano Quintet</td>\n      <td>A major</td>\n    </tr>\n    <tr>\n      <th>3</th>\n      <td>Piano Quintet</td>\n      <td>A major</td>\n    </tr>\n    <tr>\n      <th>4</th>\n      <td>Piano Sonata</td>\n      <td>A major</td>\n    </tr>\n    <tr>\n      <th>...</th>\n      <td>...</td>\n      <td>...</td>\n    </tr>\n    <tr>\n      <th>325</th>\n      <td>Piano Sonata No 10</td>\n      <td>G major</td>\n    </tr>\n    <tr>\n      <th>326</th>\n      <td>Piano Sonata No 10</td>\n      <td>G major</td>\n    </tr>\n    <tr>\n      <th>327</th>\n      <td>Violin Partita No 1</td>\n      <td>B minor</td>\n    </tr>\n    <tr>\n      <th>328</th>\n      <td>Piano Sonata No 9</td>\n      <td>E major</td>\n    </tr>\n    <tr>\n      <th>329</th>\n      <td>Piano Sonata No 10</td>\n      <td>G major</td>\n    </tr>\n  </tbody>\n</table>\n<p>330 rows × 2 columns</p>\n</div>"
     },
     "metadata": {}
    }
   ],
   "execution_count": null
  },
  {
   "cell_type": "code",
   "metadata": {
    "cell_id": "2495731f-6471-432a-89a4-a44f383def81",
    "tags": [],
    "deepnote_to_be_reexecuted": false,
    "source_hash": "f5a4a9d9",
    "execution_start": 1644867790136,
    "execution_millis": 90,
    "deepnote_output_heights": [
     290
    ],
    "deepnote_table_state": {
     "pageSize": 10,
     "pageIndex": 1,
     "filters": [],
     "sortBy": []
    },
    "deepnote_table_loading": false,
    "deepnote_cell_type": "code"
   },
   "source": "# There are some missing values, let's check that\nsr_key1 = df_meta['composition'].str.split(' in ', expand=True)[1]\ndf_meta[sr_key1.isna()]",
   "outputs": [
    {
     "output_type": "execute_result",
     "execution_count": 11,
     "data": {
      "application/vnd.deepnote.dataframe.v3+json": {
       "column_count": 9,
       "row_count": 16,
       "columns": [
        {
         "name": "id",
         "dtype": "int64",
         "stats": {
          "unique_count": 16,
          "nan_count": 0,
          "min": "1763",
          "max": "2298",
          "histogram": [
           {
            "bin_start": 1763,
            "bin_end": 1816.5,
            "count": 4
           },
           {
            "bin_start": 1816.5,
            "bin_end": 1870,
            "count": 0
           },
           {
            "bin_start": 1870,
            "bin_end": 1923.5,
            "count": 0
           },
           {
            "bin_start": 1923.5,
            "bin_end": 1977,
            "count": 0
           },
           {
            "bin_start": 1977,
            "bin_end": 2030.5,
            "count": 0
           },
           {
            "bin_start": 2030.5,
            "bin_end": 2084,
            "count": 0
           },
           {
            "bin_start": 2084,
            "bin_end": 2137.5,
            "count": 0
           },
           {
            "bin_start": 2137.5,
            "bin_end": 2191,
            "count": 0
           },
           {
            "bin_start": 2191,
            "bin_end": 2244.5,
            "count": 6
           },
           {
            "bin_start": 2244.5,
            "bin_end": 2298,
            "count": 6
           }
          ]
         }
        },
        {
         "name": "composer",
         "dtype": "object",
         "stats": {
          "unique_count": 2,
          "nan_count": 0,
          "categories": [
           {
            "name": "Bach",
            "count": 12
           },
           {
            "name": "Schubert",
            "count": 4
           }
          ]
         }
        },
        {
         "name": "composition",
         "dtype": "object",
         "stats": {
          "unique_count": 3,
          "nan_count": 0,
          "categories": [
           {
            "name": "Cello Suite 3",
            "count": 6
           },
           {
            "name": "Cello Suite 4",
            "count": 6
           },
           {
            "name": "4 Impromptus",
            "count": 4
           }
          ]
         }
        },
        {
         "name": "movement",
         "dtype": "object",
         "stats": {
          "unique_count": 10,
          "nan_count": 0,
          "categories": [
           {
            "name": "1. Prelude",
            "count": 2
           },
           {
            "name": "2. Allemande",
            "count": 2
           },
           {
            "name": "8 others",
            "count": 12
           }
          ]
         }
        },
        {
         "name": "ensemble",
         "dtype": "object",
         "stats": {
          "unique_count": 2,
          "nan_count": 0,
          "categories": [
           {
            "name": "Solo Cello",
            "count": 12
           },
           {
            "name": "Solo Piano",
            "count": 4
           }
          ]
         }
        },
        {
         "name": "source",
         "dtype": "object",
         "stats": {
          "unique_count": 2,
          "nan_count": 0,
          "categories": [
           {
            "name": "European Archive",
            "count": 12
           },
           {
            "name": "Charlie Albright",
            "count": 4
           }
          ]
         }
        },
        {
         "name": "transcriber",
         "dtype": "object",
         "stats": {
          "unique_count": 2,
          "nan_count": 0,
          "categories": [
           {
            "name": "David J. Grossman",
            "count": 12
           },
           {
            "name": "Jeruen Espino Dery",
            "count": 4
           }
          ]
         }
        },
        {
         "name": "catalog_name",
         "dtype": "object",
         "stats": {
          "unique_count": 3,
          "nan_count": 0,
          "categories": [
           {
            "name": "BWV1009",
            "count": 6
           },
           {
            "name": "BWV1010",
            "count": 6
           },
           {
            "name": "OP142",
            "count": 4
           }
          ]
         }
        },
        {
         "name": "seconds",
         "dtype": "int64",
         "stats": {
          "unique_count": 16,
          "nan_count": 0,
          "min": "153",
          "max": "676",
          "histogram": [
           {
            "bin_start": 153,
            "bin_end": 205.3,
            "count": 4
           },
           {
            "bin_start": 205.3,
            "bin_end": 257.6,
            "count": 2
           },
           {
            "bin_start": 257.6,
            "bin_end": 309.9,
            "count": 4
           },
           {
            "bin_start": 309.9,
            "bin_end": 362.2,
            "count": 2
           },
           {
            "bin_start": 362.2,
            "bin_end": 414.5,
            "count": 0
           },
           {
            "bin_start": 414.5,
            "bin_end": 466.79999999999995,
            "count": 2
           },
           {
            "bin_start": 466.79999999999995,
            "bin_end": 519.0999999999999,
            "count": 0
           },
           {
            "bin_start": 519.0999999999999,
            "bin_end": 571.4,
            "count": 0
           },
           {
            "bin_start": 571.4,
            "bin_end": 623.7,
            "count": 1
           },
           {
            "bin_start": 623.7,
            "bin_end": 676,
            "count": 1
           }
          ]
         }
        },
        {
         "name": "_deepnote_index_column",
         "dtype": "int64"
        }
       ],
       "rows": [
        {
         "id": 2293,
         "composer": "Bach",
         "composition": "Cello Suite 4",
         "movement": "1. Prelude",
         "ensemble": "Solo Cello",
         "source": "European Archive",
         "transcriber": "David J. Grossman",
         "catalog_name": "BWV1010",
         "seconds": 310,
         "_deepnote_index_column": 158
        },
        {
         "id": 2294,
         "composer": "Bach",
         "composition": "Cello Suite 4",
         "movement": "2. Allemande",
         "ensemble": "Solo Cello",
         "source": "European Archive",
         "transcriber": "David J. Grossman",
         "catalog_name": "BWV1010",
         "seconds": 228,
         "_deepnote_index_column": 159
        },
        {
         "id": 2295,
         "composer": "Bach",
         "composition": "Cello Suite 4",
         "movement": "3. Courante",
         "ensemble": "Solo Cello",
         "source": "European Archive",
         "transcriber": "David J. Grossman",
         "catalog_name": "BWV1010",
         "seconds": 259,
         "_deepnote_index_column": 160
        },
        {
         "id": 2296,
         "composer": "Bach",
         "composition": "Cello Suite 4",
         "movement": "4. Sarabande",
         "ensemble": "Solo Cello",
         "source": "European Archive",
         "transcriber": "David J. Grossman",
         "catalog_name": "BWV1010",
         "seconds": 291,
         "_deepnote_index_column": 161
        },
        {
         "id": 2297,
         "composer": "Bach",
         "composition": "Cello Suite 4",
         "movement": "5. Bouree",
         "ensemble": "Solo Cello",
         "source": "European Archive",
         "transcriber": "David J. Grossman",
         "catalog_name": "BWV1010",
         "seconds": 334,
         "_deepnote_index_column": 162
        },
        {
         "id": 2298,
         "composer": "Bach",
         "composition": "Cello Suite 4",
         "movement": "6. Gigue",
         "ensemble": "Solo Cello",
         "source": "European Archive",
         "transcriber": "David J. Grossman",
         "catalog_name": "BWV1010",
         "seconds": 153,
         "_deepnote_index_column": 163
        }
       ]
      },
      "text/plain": "       id  composer    composition                      movement    ensemble  \\\n19   1763  Schubert   4 Impromptus       1. Impromptu in F minor  Solo Piano   \n20   1764  Schubert   4 Impromptus  2. Impromptu in A-flat major  Solo Piano   \n21   1765  Schubert   4 Impromptus  3. Impromptu in B-flat major  Solo Piano   \n22   1766  Schubert   4 Impromptus       4. Impromptu in F minor  Solo Piano   \n126  2217      Bach  Cello Suite 3                    1. Prelude  Solo Cello   \n127  2218      Bach  Cello Suite 3                  2. Allemande  Solo Cello   \n128  2219      Bach  Cello Suite 3                   3. Courante  Solo Cello   \n129  2220      Bach  Cello Suite 3                  4. Sarabande  Solo Cello   \n130  2221      Bach  Cello Suite 3                     5. Bouree  Solo Cello   \n131  2222      Bach  Cello Suite 3                      6. Gigue  Solo Cello   \n158  2293      Bach  Cello Suite 4                    1. Prelude  Solo Cello   \n159  2294      Bach  Cello Suite 4                  2. Allemande  Solo Cello   \n160  2295      Bach  Cello Suite 4                   3. Courante  Solo Cello   \n161  2296      Bach  Cello Suite 4                  4. Sarabande  Solo Cello   \n162  2297      Bach  Cello Suite 4                     5. Bouree  Solo Cello   \n163  2298      Bach  Cello Suite 4                      6. Gigue  Solo Cello   \n\n               source         transcriber catalog_name  seconds  \n19   Charlie Albright  Jeruen Espino Dery        OP142      600  \n20   Charlie Albright  Jeruen Espino Dery        OP142      438  \n21   Charlie Albright  Jeruen Espino Dery        OP142      676  \n22   Charlie Albright  Jeruen Espino Dery        OP142      427  \n126  European Archive   David J. Grossman      BWV1009      186  \n127  European Archive   David J. Grossman      BWV1009      199  \n128  European Archive   David J. Grossman      BWV1009      260  \n129  European Archive   David J. Grossman      BWV1009      302  \n130  European Archive   David J. Grossman      BWV1009      241  \n131  European Archive   David J. Grossman      BWV1009      202  \n158  European Archive   David J. Grossman      BWV1010      310  \n159  European Archive   David J. Grossman      BWV1010      228  \n160  European Archive   David J. Grossman      BWV1010      259  \n161  European Archive   David J. Grossman      BWV1010      291  \n162  European Archive   David J. Grossman      BWV1010      334  \n163  European Archive   David J. Grossman      BWV1010      153  ",
      "text/html": "<div>\n<style scoped>\n    .dataframe tbody tr th:only-of-type {\n        vertical-align: middle;\n    }\n\n    .dataframe tbody tr th {\n        vertical-align: top;\n    }\n\n    .dataframe thead th {\n        text-align: right;\n    }\n</style>\n<table border=\"1\" class=\"dataframe\">\n  <thead>\n    <tr style=\"text-align: right;\">\n      <th></th>\n      <th>id</th>\n      <th>composer</th>\n      <th>composition</th>\n      <th>movement</th>\n      <th>ensemble</th>\n      <th>source</th>\n      <th>transcriber</th>\n      <th>catalog_name</th>\n      <th>seconds</th>\n    </tr>\n  </thead>\n  <tbody>\n    <tr>\n      <th>19</th>\n      <td>1763</td>\n      <td>Schubert</td>\n      <td>4 Impromptus</td>\n      <td>1. Impromptu in F minor</td>\n      <td>Solo Piano</td>\n      <td>Charlie Albright</td>\n      <td>Jeruen Espino Dery</td>\n      <td>OP142</td>\n      <td>600</td>\n    </tr>\n    <tr>\n      <th>20</th>\n      <td>1764</td>\n      <td>Schubert</td>\n      <td>4 Impromptus</td>\n      <td>2. Impromptu in A-flat major</td>\n      <td>Solo Piano</td>\n      <td>Charlie Albright</td>\n      <td>Jeruen Espino Dery</td>\n      <td>OP142</td>\n      <td>438</td>\n    </tr>\n    <tr>\n      <th>21</th>\n      <td>1765</td>\n      <td>Schubert</td>\n      <td>4 Impromptus</td>\n      <td>3. Impromptu in B-flat major</td>\n      <td>Solo Piano</td>\n      <td>Charlie Albright</td>\n      <td>Jeruen Espino Dery</td>\n      <td>OP142</td>\n      <td>676</td>\n    </tr>\n    <tr>\n      <th>22</th>\n      <td>1766</td>\n      <td>Schubert</td>\n      <td>4 Impromptus</td>\n      <td>4. Impromptu in F minor</td>\n      <td>Solo Piano</td>\n      <td>Charlie Albright</td>\n      <td>Jeruen Espino Dery</td>\n      <td>OP142</td>\n      <td>427</td>\n    </tr>\n    <tr>\n      <th>126</th>\n      <td>2217</td>\n      <td>Bach</td>\n      <td>Cello Suite 3</td>\n      <td>1. Prelude</td>\n      <td>Solo Cello</td>\n      <td>European Archive</td>\n      <td>David J. Grossman</td>\n      <td>BWV1009</td>\n      <td>186</td>\n    </tr>\n    <tr>\n      <th>127</th>\n      <td>2218</td>\n      <td>Bach</td>\n      <td>Cello Suite 3</td>\n      <td>2. Allemande</td>\n      <td>Solo Cello</td>\n      <td>European Archive</td>\n      <td>David J. Grossman</td>\n      <td>BWV1009</td>\n      <td>199</td>\n    </tr>\n    <tr>\n      <th>128</th>\n      <td>2219</td>\n      <td>Bach</td>\n      <td>Cello Suite 3</td>\n      <td>3. Courante</td>\n      <td>Solo Cello</td>\n      <td>European Archive</td>\n      <td>David J. Grossman</td>\n      <td>BWV1009</td>\n      <td>260</td>\n    </tr>\n    <tr>\n      <th>129</th>\n      <td>2220</td>\n      <td>Bach</td>\n      <td>Cello Suite 3</td>\n      <td>4. Sarabande</td>\n      <td>Solo Cello</td>\n      <td>European Archive</td>\n      <td>David J. Grossman</td>\n      <td>BWV1009</td>\n      <td>302</td>\n    </tr>\n    <tr>\n      <th>130</th>\n      <td>2221</td>\n      <td>Bach</td>\n      <td>Cello Suite 3</td>\n      <td>5. Bouree</td>\n      <td>Solo Cello</td>\n      <td>European Archive</td>\n      <td>David J. Grossman</td>\n      <td>BWV1009</td>\n      <td>241</td>\n    </tr>\n    <tr>\n      <th>131</th>\n      <td>2222</td>\n      <td>Bach</td>\n      <td>Cello Suite 3</td>\n      <td>6. Gigue</td>\n      <td>Solo Cello</td>\n      <td>European Archive</td>\n      <td>David J. Grossman</td>\n      <td>BWV1009</td>\n      <td>202</td>\n    </tr>\n    <tr>\n      <th>158</th>\n      <td>2293</td>\n      <td>Bach</td>\n      <td>Cello Suite 4</td>\n      <td>1. Prelude</td>\n      <td>Solo Cello</td>\n      <td>European Archive</td>\n      <td>David J. Grossman</td>\n      <td>BWV1010</td>\n      <td>310</td>\n    </tr>\n    <tr>\n      <th>159</th>\n      <td>2294</td>\n      <td>Bach</td>\n      <td>Cello Suite 4</td>\n      <td>2. Allemande</td>\n      <td>Solo Cello</td>\n      <td>European Archive</td>\n      <td>David J. Grossman</td>\n      <td>BWV1010</td>\n      <td>228</td>\n    </tr>\n    <tr>\n      <th>160</th>\n      <td>2295</td>\n      <td>Bach</td>\n      <td>Cello Suite 4</td>\n      <td>3. Courante</td>\n      <td>Solo Cello</td>\n      <td>European Archive</td>\n      <td>David J. Grossman</td>\n      <td>BWV1010</td>\n      <td>259</td>\n    </tr>\n    <tr>\n      <th>161</th>\n      <td>2296</td>\n      <td>Bach</td>\n      <td>Cello Suite 4</td>\n      <td>4. Sarabande</td>\n      <td>Solo Cello</td>\n      <td>European Archive</td>\n      <td>David J. Grossman</td>\n      <td>BWV1010</td>\n      <td>291</td>\n    </tr>\n    <tr>\n      <th>162</th>\n      <td>2297</td>\n      <td>Bach</td>\n      <td>Cello Suite 4</td>\n      <td>5. Bouree</td>\n      <td>Solo Cello</td>\n      <td>European Archive</td>\n      <td>David J. Grossman</td>\n      <td>BWV1010</td>\n      <td>334</td>\n    </tr>\n    <tr>\n      <th>163</th>\n      <td>2298</td>\n      <td>Bach</td>\n      <td>Cello Suite 4</td>\n      <td>6. Gigue</td>\n      <td>Solo Cello</td>\n      <td>European Archive</td>\n      <td>David J. Grossman</td>\n      <td>BWV1010</td>\n      <td>153</td>\n    </tr>\n  </tbody>\n</table>\n</div>"
     },
     "metadata": {}
    }
   ],
   "execution_count": null
  },
  {
   "cell_type": "code",
   "metadata": {
    "cell_id": "873af0eb-f2d7-4565-8f5f-c6c6f1a45e2f",
    "tags": [],
    "deepnote_to_be_reexecuted": false,
    "source_hash": "4311d431",
    "execution_start": 1644867790231,
    "execution_millis": 18,
    "deepnote_output_heights": [
     97.9375
    ],
    "deepnote_cell_type": "code"
   },
   "source": "# We can get the key for the Schubert pieces from the column 'movement'.\n# No luck with Bach's (at least, within this dataset)\n# We repeat the process and check the rows where the split method didn't get a NA\n\nsr_key2 = df_meta['movement'].str.split(' in ', expand = True)[1]\nsr_key2[sr_key2.notna()]",
   "outputs": [
    {
     "output_type": "execute_result",
     "execution_count": 12,
     "data": {
      "text/plain": "19         F minor\n20    A-flat major\n21    B-flat major\n22         F minor\nName: 1, dtype: object"
     },
     "metadata": {}
    }
   ],
   "execution_count": null
  },
  {
   "cell_type": "code",
   "metadata": {
    "cell_id": "99852093-5fd7-4cd7-84a1-3be9675f8fd7",
    "tags": [],
    "deepnote_to_be_reexecuted": false,
    "source_hash": "20932d45",
    "execution_start": 1644867790304,
    "execution_millis": 45,
    "deepnote_output_heights": [
     611
    ],
    "deepnote_cell_type": "code"
   },
   "source": "# We create the column 'key' from both series.\n\nkeys = {'key1': sr_key1, 'key2': sr_key2}\ndf_keys = pd.DataFrame(keys)        # Converting to frame to operate\n\ndf_keys.fillna('', inplace=True)    # Filling null values with empty strings\n\nkeys = df_keys['key1'] + df_keys['key2']      # Combining into one series object\n\nkeys.value_counts().sort_index()     # Frequency of keys",
   "outputs": [
    {
     "output_type": "execute_result",
     "execution_count": 13,
     "data": {
      "text/plain": "                          12\nA major                   30\nA minor                   17\nA-flat major               9\nB major                    2\nB minor                    7\nB-flat Major               3\nB-flat major              21\nB-flat minor               1\nC major                   16\nC minor                   21\nC-sharp major              2\nC-sharp minor              7\nD Major                    2\nD Minor                    3\nD major                   15\nD minor                   10\nD-flat major               3\nE major                   12\nE minor                   10\nE-flat major              35\nE-flat major for Winds     7\nE-flat minor               1\nF                          4\nF Major                    4\nF major                   15\nF minor                   15\nF-sharp major              2\nF-sharp minor              2\nG major                   24\nG minor                   16\nG-sharp minor              2\ndtype: int64"
     },
     "metadata": {}
    }
   ],
   "execution_count": null
  },
  {
   "cell_type": "markdown",
   "source": "There are 12 blank values for key. They must surely be the Bach compositions that didn't have the key in the columns `composition` nor `movement`.\n\nThere are also 4 compositions with key in just F, not major nor minor.\nAnd about the majors, there are some rows with capital M in Major, so we'll standarize that.\n\nThere are some rows that indicate key in \"E-flat major for Winds\". That \"for Winds\" at the end kinda rattles me, so it will be stripped.",
   "metadata": {
    "cell_id": "f5fd4b65-aaa3-4b99-9575-000a7a3cd0e1",
    "tags": [],
    "deepnote_cell_type": "markdown"
   }
  },
  {
   "cell_type": "code",
   "metadata": {
    "cell_id": "45b63e9e-8b4c-41e8-9bf5-27b2d9396f72",
    "tags": [],
    "deepnote_to_be_reexecuted": false,
    "source_hash": "f4a88248",
    "execution_start": 1644867790349,
    "execution_millis": 73,
    "deepnote_table_state": {
     "pageSize": 10,
     "pageIndex": 0,
     "filters": [],
     "sortBy": []
    },
    "deepnote_table_loading": false,
    "deepnote_cell_type": "code"
   },
   "source": "# Checking the rows with an empty string as key\ndf_meta[keys == '']",
   "outputs": [
    {
     "output_type": "execute_result",
     "execution_count": 14,
     "data": {
      "application/vnd.deepnote.dataframe.v3+json": {
       "column_count": 9,
       "row_count": 12,
       "columns": [
        {
         "name": "id",
         "dtype": "int64",
         "stats": {
          "unique_count": 12,
          "nan_count": 0,
          "min": "2217",
          "max": "2298",
          "histogram": [
           {
            "bin_start": 2217,
            "bin_end": 2225.1,
            "count": 6
           },
           {
            "bin_start": 2225.1,
            "bin_end": 2233.2,
            "count": 0
           },
           {
            "bin_start": 2233.2,
            "bin_end": 2241.3,
            "count": 0
           },
           {
            "bin_start": 2241.3,
            "bin_end": 2249.4,
            "count": 0
           },
           {
            "bin_start": 2249.4,
            "bin_end": 2257.5,
            "count": 0
           },
           {
            "bin_start": 2257.5,
            "bin_end": 2265.6,
            "count": 0
           },
           {
            "bin_start": 2265.6,
            "bin_end": 2273.7,
            "count": 0
           },
           {
            "bin_start": 2273.7,
            "bin_end": 2281.8,
            "count": 0
           },
           {
            "bin_start": 2281.8,
            "bin_end": 2289.9,
            "count": 0
           },
           {
            "bin_start": 2289.9,
            "bin_end": 2298,
            "count": 6
           }
          ]
         }
        },
        {
         "name": "composer",
         "dtype": "object",
         "stats": {
          "unique_count": 1,
          "nan_count": 0,
          "categories": [
           {
            "name": "Bach",
            "count": 12
           }
          ]
         }
        },
        {
         "name": "composition",
         "dtype": "object",
         "stats": {
          "unique_count": 2,
          "nan_count": 0,
          "categories": [
           {
            "name": "Cello Suite 3",
            "count": 6
           },
           {
            "name": "Cello Suite 4",
            "count": 6
           }
          ]
         }
        },
        {
         "name": "movement",
         "dtype": "object",
         "stats": {
          "unique_count": 6,
          "nan_count": 0,
          "categories": [
           {
            "name": "1. Prelude",
            "count": 2
           },
           {
            "name": "2. Allemande",
            "count": 2
           },
           {
            "name": "4 others",
            "count": 8
           }
          ]
         }
        },
        {
         "name": "ensemble",
         "dtype": "object",
         "stats": {
          "unique_count": 1,
          "nan_count": 0,
          "categories": [
           {
            "name": "Solo Cello",
            "count": 12
           }
          ]
         }
        },
        {
         "name": "source",
         "dtype": "object",
         "stats": {
          "unique_count": 1,
          "nan_count": 0,
          "categories": [
           {
            "name": "European Archive",
            "count": 12
           }
          ]
         }
        },
        {
         "name": "transcriber",
         "dtype": "object",
         "stats": {
          "unique_count": 1,
          "nan_count": 0,
          "categories": [
           {
            "name": "David J. Grossman",
            "count": 12
           }
          ]
         }
        },
        {
         "name": "catalog_name",
         "dtype": "object",
         "stats": {
          "unique_count": 2,
          "nan_count": 0,
          "categories": [
           {
            "name": "BWV1009",
            "count": 6
           },
           {
            "name": "BWV1010",
            "count": 6
           }
          ]
         }
        },
        {
         "name": "seconds",
         "dtype": "int64",
         "stats": {
          "unique_count": 12,
          "nan_count": 0,
          "min": "153",
          "max": "334",
          "histogram": [
           {
            "bin_start": 153,
            "bin_end": 171.1,
            "count": 1
           },
           {
            "bin_start": 171.1,
            "bin_end": 189.2,
            "count": 1
           },
           {
            "bin_start": 189.2,
            "bin_end": 207.3,
            "count": 2
           },
           {
            "bin_start": 207.3,
            "bin_end": 225.4,
            "count": 0
           },
           {
            "bin_start": 225.4,
            "bin_end": 243.5,
            "count": 2
           },
           {
            "bin_start": 243.5,
            "bin_end": 261.6,
            "count": 2
           },
           {
            "bin_start": 261.6,
            "bin_end": 279.70000000000005,
            "count": 0
           },
           {
            "bin_start": 279.70000000000005,
            "bin_end": 297.8,
            "count": 1
           },
           {
            "bin_start": 297.8,
            "bin_end": 315.9,
            "count": 2
           },
           {
            "bin_start": 315.9,
            "bin_end": 334,
            "count": 1
           }
          ]
         }
        },
        {
         "name": "_deepnote_index_column",
         "dtype": "int64"
        }
       ],
       "rows": [
        {
         "id": 2217,
         "composer": "Bach",
         "composition": "Cello Suite 3",
         "movement": "1. Prelude",
         "ensemble": "Solo Cello",
         "source": "European Archive",
         "transcriber": "David J. Grossman",
         "catalog_name": "BWV1009",
         "seconds": 186,
         "_deepnote_index_column": 126
        },
        {
         "id": 2218,
         "composer": "Bach",
         "composition": "Cello Suite 3",
         "movement": "2. Allemande",
         "ensemble": "Solo Cello",
         "source": "European Archive",
         "transcriber": "David J. Grossman",
         "catalog_name": "BWV1009",
         "seconds": 199,
         "_deepnote_index_column": 127
        },
        {
         "id": 2219,
         "composer": "Bach",
         "composition": "Cello Suite 3",
         "movement": "3. Courante",
         "ensemble": "Solo Cello",
         "source": "European Archive",
         "transcriber": "David J. Grossman",
         "catalog_name": "BWV1009",
         "seconds": 260,
         "_deepnote_index_column": 128
        },
        {
         "id": 2220,
         "composer": "Bach",
         "composition": "Cello Suite 3",
         "movement": "4. Sarabande",
         "ensemble": "Solo Cello",
         "source": "European Archive",
         "transcriber": "David J. Grossman",
         "catalog_name": "BWV1009",
         "seconds": 302,
         "_deepnote_index_column": 129
        },
        {
         "id": 2221,
         "composer": "Bach",
         "composition": "Cello Suite 3",
         "movement": "5. Bouree",
         "ensemble": "Solo Cello",
         "source": "European Archive",
         "transcriber": "David J. Grossman",
         "catalog_name": "BWV1009",
         "seconds": 241,
         "_deepnote_index_column": 130
        },
        {
         "id": 2222,
         "composer": "Bach",
         "composition": "Cello Suite 3",
         "movement": "6. Gigue",
         "ensemble": "Solo Cello",
         "source": "European Archive",
         "transcriber": "David J. Grossman",
         "catalog_name": "BWV1009",
         "seconds": 202,
         "_deepnote_index_column": 131
        },
        {
         "id": 2293,
         "composer": "Bach",
         "composition": "Cello Suite 4",
         "movement": "1. Prelude",
         "ensemble": "Solo Cello",
         "source": "European Archive",
         "transcriber": "David J. Grossman",
         "catalog_name": "BWV1010",
         "seconds": 310,
         "_deepnote_index_column": 158
        },
        {
         "id": 2294,
         "composer": "Bach",
         "composition": "Cello Suite 4",
         "movement": "2. Allemande",
         "ensemble": "Solo Cello",
         "source": "European Archive",
         "transcriber": "David J. Grossman",
         "catalog_name": "BWV1010",
         "seconds": 228,
         "_deepnote_index_column": 159
        },
        {
         "id": 2295,
         "composer": "Bach",
         "composition": "Cello Suite 4",
         "movement": "3. Courante",
         "ensemble": "Solo Cello",
         "source": "European Archive",
         "transcriber": "David J. Grossman",
         "catalog_name": "BWV1010",
         "seconds": 259,
         "_deepnote_index_column": 160
        },
        {
         "id": 2296,
         "composer": "Bach",
         "composition": "Cello Suite 4",
         "movement": "4. Sarabande",
         "ensemble": "Solo Cello",
         "source": "European Archive",
         "transcriber": "David J. Grossman",
         "catalog_name": "BWV1010",
         "seconds": 291,
         "_deepnote_index_column": 161
        }
       ]
      },
      "text/plain": "       id composer    composition      movement    ensemble            source  \\\n126  2217     Bach  Cello Suite 3    1. Prelude  Solo Cello  European Archive   \n127  2218     Bach  Cello Suite 3  2. Allemande  Solo Cello  European Archive   \n128  2219     Bach  Cello Suite 3   3. Courante  Solo Cello  European Archive   \n129  2220     Bach  Cello Suite 3  4. Sarabande  Solo Cello  European Archive   \n130  2221     Bach  Cello Suite 3     5. Bouree  Solo Cello  European Archive   \n131  2222     Bach  Cello Suite 3      6. Gigue  Solo Cello  European Archive   \n158  2293     Bach  Cello Suite 4    1. Prelude  Solo Cello  European Archive   \n159  2294     Bach  Cello Suite 4  2. Allemande  Solo Cello  European Archive   \n160  2295     Bach  Cello Suite 4   3. Courante  Solo Cello  European Archive   \n161  2296     Bach  Cello Suite 4  4. Sarabande  Solo Cello  European Archive   \n162  2297     Bach  Cello Suite 4     5. Bouree  Solo Cello  European Archive   \n163  2298     Bach  Cello Suite 4      6. Gigue  Solo Cello  European Archive   \n\n           transcriber catalog_name  seconds  \n126  David J. Grossman      BWV1009      186  \n127  David J. Grossman      BWV1009      199  \n128  David J. Grossman      BWV1009      260  \n129  David J. Grossman      BWV1009      302  \n130  David J. Grossman      BWV1009      241  \n131  David J. Grossman      BWV1009      202  \n158  David J. Grossman      BWV1010      310  \n159  David J. Grossman      BWV1010      228  \n160  David J. Grossman      BWV1010      259  \n161  David J. Grossman      BWV1010      291  \n162  David J. Grossman      BWV1010      334  \n163  David J. Grossman      BWV1010      153  ",
      "text/html": "<div>\n<style scoped>\n    .dataframe tbody tr th:only-of-type {\n        vertical-align: middle;\n    }\n\n    .dataframe tbody tr th {\n        vertical-align: top;\n    }\n\n    .dataframe thead th {\n        text-align: right;\n    }\n</style>\n<table border=\"1\" class=\"dataframe\">\n  <thead>\n    <tr style=\"text-align: right;\">\n      <th></th>\n      <th>id</th>\n      <th>composer</th>\n      <th>composition</th>\n      <th>movement</th>\n      <th>ensemble</th>\n      <th>source</th>\n      <th>transcriber</th>\n      <th>catalog_name</th>\n      <th>seconds</th>\n    </tr>\n  </thead>\n  <tbody>\n    <tr>\n      <th>126</th>\n      <td>2217</td>\n      <td>Bach</td>\n      <td>Cello Suite 3</td>\n      <td>1. Prelude</td>\n      <td>Solo Cello</td>\n      <td>European Archive</td>\n      <td>David J. Grossman</td>\n      <td>BWV1009</td>\n      <td>186</td>\n    </tr>\n    <tr>\n      <th>127</th>\n      <td>2218</td>\n      <td>Bach</td>\n      <td>Cello Suite 3</td>\n      <td>2. Allemande</td>\n      <td>Solo Cello</td>\n      <td>European Archive</td>\n      <td>David J. Grossman</td>\n      <td>BWV1009</td>\n      <td>199</td>\n    </tr>\n    <tr>\n      <th>128</th>\n      <td>2219</td>\n      <td>Bach</td>\n      <td>Cello Suite 3</td>\n      <td>3. Courante</td>\n      <td>Solo Cello</td>\n      <td>European Archive</td>\n      <td>David J. Grossman</td>\n      <td>BWV1009</td>\n      <td>260</td>\n    </tr>\n    <tr>\n      <th>129</th>\n      <td>2220</td>\n      <td>Bach</td>\n      <td>Cello Suite 3</td>\n      <td>4. Sarabande</td>\n      <td>Solo Cello</td>\n      <td>European Archive</td>\n      <td>David J. Grossman</td>\n      <td>BWV1009</td>\n      <td>302</td>\n    </tr>\n    <tr>\n      <th>130</th>\n      <td>2221</td>\n      <td>Bach</td>\n      <td>Cello Suite 3</td>\n      <td>5. Bouree</td>\n      <td>Solo Cello</td>\n      <td>European Archive</td>\n      <td>David J. Grossman</td>\n      <td>BWV1009</td>\n      <td>241</td>\n    </tr>\n    <tr>\n      <th>131</th>\n      <td>2222</td>\n      <td>Bach</td>\n      <td>Cello Suite 3</td>\n      <td>6. Gigue</td>\n      <td>Solo Cello</td>\n      <td>European Archive</td>\n      <td>David J. Grossman</td>\n      <td>BWV1009</td>\n      <td>202</td>\n    </tr>\n    <tr>\n      <th>158</th>\n      <td>2293</td>\n      <td>Bach</td>\n      <td>Cello Suite 4</td>\n      <td>1. Prelude</td>\n      <td>Solo Cello</td>\n      <td>European Archive</td>\n      <td>David J. Grossman</td>\n      <td>BWV1010</td>\n      <td>310</td>\n    </tr>\n    <tr>\n      <th>159</th>\n      <td>2294</td>\n      <td>Bach</td>\n      <td>Cello Suite 4</td>\n      <td>2. Allemande</td>\n      <td>Solo Cello</td>\n      <td>European Archive</td>\n      <td>David J. Grossman</td>\n      <td>BWV1010</td>\n      <td>228</td>\n    </tr>\n    <tr>\n      <th>160</th>\n      <td>2295</td>\n      <td>Bach</td>\n      <td>Cello Suite 4</td>\n      <td>3. Courante</td>\n      <td>Solo Cello</td>\n      <td>European Archive</td>\n      <td>David J. Grossman</td>\n      <td>BWV1010</td>\n      <td>259</td>\n    </tr>\n    <tr>\n      <th>161</th>\n      <td>2296</td>\n      <td>Bach</td>\n      <td>Cello Suite 4</td>\n      <td>4. Sarabande</td>\n      <td>Solo Cello</td>\n      <td>European Archive</td>\n      <td>David J. Grossman</td>\n      <td>BWV1010</td>\n      <td>291</td>\n    </tr>\n    <tr>\n      <th>162</th>\n      <td>2297</td>\n      <td>Bach</td>\n      <td>Cello Suite 4</td>\n      <td>5. Bouree</td>\n      <td>Solo Cello</td>\n      <td>European Archive</td>\n      <td>David J. Grossman</td>\n      <td>BWV1010</td>\n      <td>334</td>\n    </tr>\n    <tr>\n      <th>163</th>\n      <td>2298</td>\n      <td>Bach</td>\n      <td>Cello Suite 4</td>\n      <td>6. Gigue</td>\n      <td>Solo Cello</td>\n      <td>European Archive</td>\n      <td>David J. Grossman</td>\n      <td>BWV1010</td>\n      <td>153</td>\n    </tr>\n  </tbody>\n</table>\n</div>"
     },
     "metadata": {}
    }
   ],
   "execution_count": null
  },
  {
   "cell_type": "code",
   "metadata": {
    "cell_id": "e119d48e-4dd8-4ff4-bb44-17451177de70",
    "tags": [],
    "deepnote_to_be_reexecuted": false,
    "source_hash": "573237e0",
    "execution_start": 1644867790433,
    "execution_millis": 63,
    "deepnote_cell_type": "code"
   },
   "source": "# Checking the rows with key in just F\ndf_meta[keys == 'F']",
   "outputs": [
    {
     "output_type": "execute_result",
     "execution_count": 15,
     "data": {
      "application/vnd.deepnote.dataframe.v3+json": {
       "column_count": 9,
       "row_count": 4,
       "columns": [
        {
         "name": "id",
         "dtype": "int64",
         "stats": {
          "unique_count": 4,
          "nan_count": 0,
          "min": "2177",
          "max": "2180",
          "histogram": [
           {
            "bin_start": 2177,
            "bin_end": 2177.3,
            "count": 1
           },
           {
            "bin_start": 2177.3,
            "bin_end": 2177.6,
            "count": 0
           },
           {
            "bin_start": 2177.6,
            "bin_end": 2177.9,
            "count": 0
           },
           {
            "bin_start": 2177.9,
            "bin_end": 2178.2,
            "count": 1
           },
           {
            "bin_start": 2178.2,
            "bin_end": 2178.5,
            "count": 0
           },
           {
            "bin_start": 2178.5,
            "bin_end": 2178.8,
            "count": 0
           },
           {
            "bin_start": 2178.8,
            "bin_end": 2179.1,
            "count": 1
           },
           {
            "bin_start": 2179.1,
            "bin_end": 2179.4,
            "count": 0
           },
           {
            "bin_start": 2179.4,
            "bin_end": 2179.7,
            "count": 0
           },
           {
            "bin_start": 2179.7,
            "bin_end": 2180,
            "count": 1
           }
          ]
         }
        },
        {
         "name": "composer",
         "dtype": "object",
         "stats": {
          "unique_count": 1,
          "nan_count": 0,
          "categories": [
           {
            "name": "Ravel",
            "count": 4
           }
          ]
         }
        },
        {
         "name": "composition",
         "dtype": "object",
         "stats": {
          "unique_count": 1,
          "nan_count": 0,
          "categories": [
           {
            "name": "String Quartet in F",
            "count": 4
           }
          ]
         }
        },
        {
         "name": "movement",
         "dtype": "object",
         "stats": {
          "unique_count": 4,
          "nan_count": 0,
          "categories": [
           {
            "name": "1. Allegro moderato - tres doux",
            "count": 1
           },
           {
            "name": "2. Assez vif - tres rythme",
            "count": 1
           },
           {
            "name": "2 others",
            "count": 2
           }
          ]
         }
        },
        {
         "name": "ensemble",
         "dtype": "object",
         "stats": {
          "unique_count": 1,
          "nan_count": 0,
          "categories": [
           {
            "name": "String Quartet",
            "count": 4
           }
          ]
         }
        },
        {
         "name": "source",
         "dtype": "object",
         "stats": {
          "unique_count": 1,
          "nan_count": 0,
          "categories": [
           {
            "name": "Musicians from Marlboro",
            "count": 4
           }
          ]
         }
        },
        {
         "name": "transcriber",
         "dtype": "object",
         "stats": {
          "unique_count": 1,
          "nan_count": 0,
          "categories": [
           {
            "name": "Gregory Richardson",
            "count": 4
           }
          ]
         }
        },
        {
         "name": "catalog_name",
         "dtype": "object",
         "stats": {
          "unique_count": 1,
          "nan_count": 0,
          "categories": [
           {
            "name": "35",
            "count": 4
           }
          ]
         }
        },
        {
         "name": "seconds",
         "dtype": "int64",
         "stats": {
          "unique_count": 4,
          "nan_count": 0,
          "min": "293",
          "max": "505",
          "histogram": [
           {
            "bin_start": 293,
            "bin_end": 314.2,
            "count": 1
           },
           {
            "bin_start": 314.2,
            "bin_end": 335.4,
            "count": 0
           },
           {
            "bin_start": 335.4,
            "bin_end": 356.6,
            "count": 1
           },
           {
            "bin_start": 356.6,
            "bin_end": 377.8,
            "count": 0
           },
           {
            "bin_start": 377.8,
            "bin_end": 399,
            "count": 0
           },
           {
            "bin_start": 399,
            "bin_end": 420.2,
            "count": 0
           },
           {
            "bin_start": 420.2,
            "bin_end": 441.4,
            "count": 0
           },
           {
            "bin_start": 441.4,
            "bin_end": 462.6,
            "count": 0
           },
           {
            "bin_start": 462.6,
            "bin_end": 483.79999999999995,
            "count": 0
           },
           {
            "bin_start": 483.79999999999995,
            "bin_end": 505,
            "count": 2
           }
          ]
         }
        },
        {
         "name": "_deepnote_index_column",
         "dtype": "int64"
        }
       ],
       "rows": [
        {
         "id": 2177,
         "composer": "Ravel",
         "composition": "String Quartet in F",
         "movement": "1. Allegro moderato - tres doux",
         "ensemble": "String Quartet",
         "source": "Musicians from Marlboro",
         "transcriber": "Gregory Richardson",
         "catalog_name": "35",
         "seconds": 490,
         "_deepnote_index_column": 102
        },
        {
         "id": 2178,
         "composer": "Ravel",
         "composition": "String Quartet in F",
         "movement": "2. Assez vif - tres rythme",
         "ensemble": "String Quartet",
         "source": "Musicians from Marlboro",
         "transcriber": "Gregory Richardson",
         "catalog_name": "35",
         "seconds": 355,
         "_deepnote_index_column": 103
        },
        {
         "id": 2179,
         "composer": "Ravel",
         "composition": "String Quartet in F",
         "movement": "3. Tres lent",
         "ensemble": "String Quartet",
         "source": "Musicians from Marlboro",
         "transcriber": "Gregory Richardson",
         "catalog_name": "35",
         "seconds": 505,
         "_deepnote_index_column": 104
        },
        {
         "id": 2180,
         "composer": "Ravel",
         "composition": "String Quartet in F",
         "movement": "4. Vif et agite",
         "ensemble": "String Quartet",
         "source": "Musicians from Marlboro",
         "transcriber": "Gregory Richardson",
         "catalog_name": "35",
         "seconds": 293,
         "_deepnote_index_column": 105
        }
       ]
      },
      "text/plain": "       id composer          composition                         movement  \\\n102  2177    Ravel  String Quartet in F  1. Allegro moderato - tres doux   \n103  2178    Ravel  String Quartet in F       2. Assez vif - tres rythme   \n104  2179    Ravel  String Quartet in F                     3. Tres lent   \n105  2180    Ravel  String Quartet in F                  4. Vif et agite   \n\n           ensemble                   source         transcriber catalog_name  \\\n102  String Quartet  Musicians from Marlboro  Gregory Richardson           35   \n103  String Quartet  Musicians from Marlboro  Gregory Richardson           35   \n104  String Quartet  Musicians from Marlboro  Gregory Richardson           35   \n105  String Quartet  Musicians from Marlboro  Gregory Richardson           35   \n\n     seconds  \n102      490  \n103      355  \n104      505  \n105      293  ",
      "text/html": "<div>\n<style scoped>\n    .dataframe tbody tr th:only-of-type {\n        vertical-align: middle;\n    }\n\n    .dataframe tbody tr th {\n        vertical-align: top;\n    }\n\n    .dataframe thead th {\n        text-align: right;\n    }\n</style>\n<table border=\"1\" class=\"dataframe\">\n  <thead>\n    <tr style=\"text-align: right;\">\n      <th></th>\n      <th>id</th>\n      <th>composer</th>\n      <th>composition</th>\n      <th>movement</th>\n      <th>ensemble</th>\n      <th>source</th>\n      <th>transcriber</th>\n      <th>catalog_name</th>\n      <th>seconds</th>\n    </tr>\n  </thead>\n  <tbody>\n    <tr>\n      <th>102</th>\n      <td>2177</td>\n      <td>Ravel</td>\n      <td>String Quartet in F</td>\n      <td>1. Allegro moderato - tres doux</td>\n      <td>String Quartet</td>\n      <td>Musicians from Marlboro</td>\n      <td>Gregory Richardson</td>\n      <td>35</td>\n      <td>490</td>\n    </tr>\n    <tr>\n      <th>103</th>\n      <td>2178</td>\n      <td>Ravel</td>\n      <td>String Quartet in F</td>\n      <td>2. Assez vif - tres rythme</td>\n      <td>String Quartet</td>\n      <td>Musicians from Marlboro</td>\n      <td>Gregory Richardson</td>\n      <td>35</td>\n      <td>355</td>\n    </tr>\n    <tr>\n      <th>104</th>\n      <td>2179</td>\n      <td>Ravel</td>\n      <td>String Quartet in F</td>\n      <td>3. Tres lent</td>\n      <td>String Quartet</td>\n      <td>Musicians from Marlboro</td>\n      <td>Gregory Richardson</td>\n      <td>35</td>\n      <td>505</td>\n    </tr>\n    <tr>\n      <th>105</th>\n      <td>2180</td>\n      <td>Ravel</td>\n      <td>String Quartet in F</td>\n      <td>4. Vif et agite</td>\n      <td>String Quartet</td>\n      <td>Musicians from Marlboro</td>\n      <td>Gregory Richardson</td>\n      <td>35</td>\n      <td>293</td>\n    </tr>\n  </tbody>\n</table>\n</div>"
     },
     "metadata": {}
    }
   ],
   "execution_count": null
  },
  {
   "cell_type": "markdown",
   "source": "Ok, these Ravel compositions are in just F.",
   "metadata": {
    "cell_id": "adae653c-da81-47ea-923f-aadd09459cb5",
    "tags": [],
    "deepnote_cell_type": "markdown"
   }
  },
  {
   "cell_type": "code",
   "metadata": {
    "cell_id": "a0d3023a-e84d-4478-ac3f-4afc477e82c0",
    "tags": [],
    "deepnote_to_be_reexecuted": false,
    "source_hash": "6cc0fba9",
    "execution_start": 1644867790509,
    "execution_millis": 33,
    "deepnote_output_heights": [
     539.25
    ],
    "deepnote_cell_type": "code"
   },
   "source": "# Removing the ' for Winds' suffix and standarizing capitalization\nkeys = keys.str.replace(' for Winds','').str.replace('M', 'm')\nkeys.value_counts().sort_index()",
   "outputs": [
    {
     "output_type": "execute_result",
     "execution_count": 16,
     "data": {
      "text/plain": "                 12\nA major          30\nA minor          17\nA-flat major      9\nB major           2\nB minor           7\nB-flat major     24\nB-flat minor      1\nC major          16\nC minor          21\nC-sharp major     2\nC-sharp minor     7\nD major          17\nD minor          13\nD-flat major      3\nE major          12\nE minor          10\nE-flat major     42\nE-flat minor      1\nF                 4\nF major          19\nF minor          15\nF-sharp major     2\nF-sharp minor     2\nG major          24\nG minor          16\nG-sharp minor     2\ndtype: int64"
     },
     "metadata": {}
    }
   ],
   "execution_count": null
  },
  {
   "cell_type": "markdown",
   "source": "And thus, we're good to go with our column `key`",
   "metadata": {
    "cell_id": "3d0032af-3055-48ec-b2eb-c0da6b5387d7",
    "tags": [],
    "deepnote_cell_type": "markdown"
   }
  },
  {
   "cell_type": "markdown",
   "source": "#### Tonic columns\n\nIn order to analyze the notes and scales used, we need a column for the tonic so we can establish the relationship between each of the notes and the tonic.  \n\nWe can get the tonic from the keys column we just made (technically is a series by now, but it will be a column in a while). We need just the tonic, so we'll take out the majors and minors. Then, we will create a column with the tonic encoded to an integer, according to the system used in the notes column in the score datasets.",
   "metadata": {
    "cell_id": "6d94224b-6f77-434d-92bb-92a5dd3fe9f8",
    "tags": [],
    "deepnote_cell_type": "markdown"
   }
  },
  {
   "cell_type": "code",
   "metadata": {
    "cell_id": "ba7b4dd0-1b63-4576-a190-050211bc791f",
    "tags": [],
    "deepnote_to_be_reexecuted": false,
    "source_hash": "400a3d44",
    "execution_start": 1644867790550,
    "execution_millis": 25,
    "deepnote_output_heights": [
     290
    ],
    "deepnote_cell_type": "code"
   },
   "source": "tonic = keys.str.replace(' major','').str.replace(' minor','')    # Creating the tonic series\n\n# Now, we need to create the encoded tonic series.\n# For this, we will make a dictionary.\n\nsorted(tonic.unique())",
   "outputs": [
    {
     "output_type": "execute_result",
     "execution_count": 17,
     "data": {
      "text/plain": "['',\n 'A',\n 'A-flat',\n 'B',\n 'B-flat',\n 'C',\n 'C-sharp',\n 'D',\n 'D-flat',\n 'E',\n 'E-flat',\n 'F',\n 'F-sharp',\n 'G',\n 'G-sharp']"
     },
     "metadata": {}
    }
   ],
   "execution_count": null
  },
  {
   "cell_type": "code",
   "metadata": {
    "cell_id": "bb3a1cf7-acea-475b-99eb-3b67510ceb8a",
    "tags": [],
    "deepnote_to_be_reexecuted": false,
    "source_hash": "2c70323b",
    "execution_start": 1644867790628,
    "execution_millis": 51,
    "deepnote_output_heights": [
     232.25
    ],
    "deepnote_cell_type": "code"
   },
   "source": "# Dictionary to map the notes to the system used\ndict_notes = {\n    'C': 0,\n    'C-sharp': 1,\n    'D': 2,\n    'D-flat': 1,\n    'E': 4,\n    'E-flat': 3,\n    'F': 5,\n    'F-sharp': 6,\n    'G': 7,\n    'G-sharp': 8,\n    'A': 9,\n    'A-flat': 8,\n    'B': 11,\n    'B-flat': 10}\n\ntonic_encoded = tonic.replace(to_replace = dict_notes)\n\ntonic_encoded",
   "outputs": [
    {
     "output_type": "execute_result",
     "execution_count": 18,
     "data": {
      "text/plain": "0       9\n1       9\n2       9\n3       9\n4       9\n       ..\n325     7\n326     7\n327    11\n328     4\n329     7\nLength: 330, dtype: object"
     },
     "metadata": {}
    }
   ],
   "execution_count": null
  },
  {
   "cell_type": "markdown",
   "source": "We set now the metadata dataframe with the 3 columns created, and drop the columns with no use.",
   "metadata": {
    "cell_id": "6513045b-6978-49f1-a0a6-7fe39d9c87ec",
    "tags": [],
    "deepnote_cell_type": "markdown"
   }
  },
  {
   "cell_type": "code",
   "source": "# Generating a frame with just the new columns\ndf_key = pd.DataFrame({\n    'key': keys,\n    'tonic': tonic,\n    'tonic_encoded': tonic_encoded})\n\n# Concatenating the new columns to the metadata frame. Then, dropping the columns that serve no purpose.\ndf = pd.concat([df_meta, df_key], axis = 1).drop(columns=['source', 'transcriber', 'catalog_name'])",
   "metadata": {
    "cell_id": "693d0373-08f4-4249-8935-99d8f250b15e",
    "tags": [],
    "deepnote_to_be_reexecuted": false,
    "source_hash": "14d1aed8",
    "execution_start": 1644867790677,
    "execution_millis": 0,
    "deepnote_cell_type": "code"
   },
   "outputs": [],
   "execution_count": null
  },
  {
   "cell_type": "code",
   "source": "# Ok, now for the blanks in the column `key`, from those Bach compositions. We get rid of them.\ndf=df[df.key!='']",
   "metadata": {
    "cell_id": "9ac5304e-433d-4ecb-9926-50a131aeebef",
    "tags": [],
    "deepnote_to_be_reexecuted": false,
    "source_hash": "8a00073d",
    "execution_start": 1644868000752,
    "execution_millis": 1,
    "deepnote_output_heights": [
     270.625
    ],
    "deepnote_cell_type": "code"
   },
   "outputs": [],
   "execution_count": null
  },
  {
   "cell_type": "code",
   "metadata": {
    "cell_id": "0bafdd2b-eaa7-4f9d-b3f0-0f8d6edf450b",
    "tags": [],
    "deepnote_to_be_reexecuted": false,
    "source_hash": "c65e4c26",
    "execution_start": 1644868007291,
    "execution_millis": 173,
    "deepnote_output_heights": [
     232.25
    ],
    "deepnote_cell_type": "code"
   },
   "source": "# Saving the dataframe into a csv\ndf.to_csv('./data/processed/scores_metadata.csv', index=False)\n\ndf",
   "outputs": [
    {
     "output_type": "execute_result",
     "execution_count": 33,
     "data": {
      "application/vnd.deepnote.dataframe.v3+json": {
       "column_count": 9,
       "row_count": 318,
       "columns": [
        {
         "name": "id",
         "dtype": "int64",
         "stats": {
          "unique_count": 318,
          "nan_count": 0,
          "min": "1727",
          "max": "2678",
          "histogram": [
           {
            "bin_start": 1727,
            "bin_end": 1822.1,
            "count": 45
           },
           {
            "bin_start": 1822.1,
            "bin_end": 1917.2,
            "count": 10
           },
           {
            "bin_start": 1917.2,
            "bin_end": 2012.3,
            "count": 7
           },
           {
            "bin_start": 2012.3,
            "bin_end": 2107.4,
            "count": 12
           },
           {
            "bin_start": 2107.4,
            "bin_end": 2202.5,
            "count": 41
           },
           {
            "bin_start": 2202.5,
            "bin_end": 2297.6,
            "count": 37
           },
           {
            "bin_start": 2297.6,
            "bin_end": 2392.7,
            "count": 50
           },
           {
            "bin_start": 2392.7,
            "bin_end": 2487.8,
            "count": 40
           },
           {
            "bin_start": 2487.8,
            "bin_end": 2582.9,
            "count": 49
           },
           {
            "bin_start": 2582.9,
            "bin_end": 2678,
            "count": 27
           }
          ]
         }
        },
        {
         "name": "composer",
         "dtype": "object",
         "stats": {
          "unique_count": 10,
          "nan_count": 0,
          "categories": [
           {
            "name": "Beethoven",
            "count": 157
           },
           {
            "name": "Bach",
            "count": 55
           },
           {
            "name": "8 others",
            "count": 106
           }
          ]
         }
        },
        {
         "name": "composition",
         "dtype": "object",
         "stats": {
          "unique_count": 119,
          "nan_count": 0,
          "categories": [
           {
            "name": "Piano Sonata in A minor",
            "count": 6
           },
           {
            "name": "String Quartet No 19 in C major",
            "count": 6
           },
           {
            "name": "117 others",
            "count": 306
           }
          ]
         }
        },
        {
         "name": "movement",
         "dtype": "object",
         "stats": {
          "unique_count": 191,
          "nan_count": 0,
          "categories": [
           {
            "name": "1. Prelude",
            "count": 21
           },
           {
            "name": "2. Fugue",
            "count": 18
           },
           {
            "name": "189 others",
            "count": 279
           }
          ]
         }
        },
        {
         "name": "ensemble",
         "dtype": "object",
         "stats": {
          "unique_count": 20,
          "nan_count": 0,
          "categories": [
           {
            "name": "Solo Piano",
            "count": 156
           },
           {
            "name": "String Quartet",
            "count": 57
           },
           {
            "name": "18 others",
            "count": 105
           }
          ]
         }
        },
        {
         "name": "seconds",
         "dtype": "int64",
         "stats": {
          "unique_count": 256,
          "nan_count": 0,
          "min": "55",
          "max": "1069",
          "histogram": [
           {
            "bin_start": 55,
            "bin_end": 156.4,
            "count": 41
           },
           {
            "bin_start": 156.4,
            "bin_end": 257.8,
            "count": 61
           },
           {
            "bin_start": 257.8,
            "bin_end": 359.20000000000005,
            "count": 59
           },
           {
            "bin_start": 359.20000000000005,
            "bin_end": 460.6,
            "count": 61
           },
           {
            "bin_start": 460.6,
            "bin_end": 562,
            "count": 46
           },
           {
            "bin_start": 562,
            "bin_end": 663.4000000000001,
            "count": 26
           },
           {
            "bin_start": 663.4000000000001,
            "bin_end": 764.8000000000001,
            "count": 10
           },
           {
            "bin_start": 764.8000000000001,
            "bin_end": 866.2,
            "count": 5
           },
           {
            "bin_start": 866.2,
            "bin_end": 967.6,
            "count": 5
           },
           {
            "bin_start": 967.6,
            "bin_end": 1069,
            "count": 4
           }
          ]
         }
        },
        {
         "name": "key",
         "dtype": "object",
         "stats": {
          "unique_count": 26,
          "nan_count": 0,
          "categories": [
           {
            "name": "E-flat major",
            "count": 42
           },
           {
            "name": "A major",
            "count": 30
           },
           {
            "name": "24 others",
            "count": 246
           }
          ]
         }
        },
        {
         "name": "tonic",
         "dtype": "object",
         "stats": {
          "unique_count": 14,
          "nan_count": 0,
          "categories": [
           {
            "name": "A",
            "count": 47
           },
           {
            "name": "E-flat",
            "count": 43
           },
           {
            "name": "12 others",
            "count": 228
           }
          ]
         }
        },
        {
         "name": "tonic_encoded",
         "dtype": "object",
         "stats": {
          "unique_count": 12,
          "nan_count": 0,
          "categories": [
           {
            "name": "9",
            "count": 47
           },
           {
            "name": "3",
            "count": 43
           },
           {
            "name": "10 others",
            "count": 228
           }
          ]
         }
        },
        {
         "name": "_deepnote_index_column",
         "dtype": "int64"
        }
       ],
       "rows": [
        {
         "id": 1727,
         "composer": "Schubert",
         "composition": "Piano Quintet in A major",
         "movement": "2. Andante",
         "ensemble": "Piano Quintet",
         "seconds": 447,
         "key": "A major",
         "tonic": "A",
         "tonic_encoded": "9",
         "_deepnote_index_column": 0
        },
        {
         "id": 1728,
         "composer": "Schubert",
         "composition": "Piano Quintet in A major",
         "movement": "3. Scherzo: Presto",
         "ensemble": "Piano Quintet",
         "seconds": 251,
         "key": "A major",
         "tonic": "A",
         "tonic_encoded": "9",
         "_deepnote_index_column": 1
        },
        {
         "id": 1729,
         "composer": "Schubert",
         "composition": "Piano Quintet in A major",
         "movement": "4. Andantino - Allegretto",
         "ensemble": "Piano Quintet",
         "seconds": 444,
         "key": "A major",
         "tonic": "A",
         "tonic_encoded": "9",
         "_deepnote_index_column": 2
        },
        {
         "id": 1730,
         "composer": "Schubert",
         "composition": "Piano Quintet in A major",
         "movement": "5. Allegro giusto",
         "ensemble": "Piano Quintet",
         "seconds": 368,
         "key": "A major",
         "tonic": "A",
         "tonic_encoded": "9",
         "_deepnote_index_column": 3
        },
        {
         "id": 1733,
         "composer": "Schubert",
         "composition": "Piano Sonata in A major",
         "movement": "2. Andantino",
         "ensemble": "Solo Piano",
         "seconds": 546,
         "key": "A major",
         "tonic": "A",
         "tonic_encoded": "9",
         "_deepnote_index_column": 4
        },
        {
         "id": 1734,
         "composer": "Schubert",
         "composition": "Piano Sonata in A major",
         "movement": "3. Scherzo. Allegro vivace",
         "ensemble": "Solo Piano",
         "seconds": 325,
         "key": "A major",
         "tonic": "A",
         "tonic_encoded": "9",
         "_deepnote_index_column": 5
        },
        {
         "id": 1735,
         "composer": "Schubert",
         "composition": "Piano Sonata in A major",
         "movement": "4. Rondo. Allegretto",
         "ensemble": "Solo Piano",
         "seconds": 714,
         "key": "A major",
         "tonic": "A",
         "tonic_encoded": "9",
         "_deepnote_index_column": 6
        },
        {
         "id": 1739,
         "composer": "Schubert",
         "composition": "Piano Trio in B-flat major",
         "movement": "4. Rondo. Allegro vivace",
         "ensemble": "Piano Trio",
         "seconds": 490,
         "key": "B-flat major",
         "tonic": "B-flat",
         "tonic_encoded": "10",
         "_deepnote_index_column": 7
        },
        {
         "id": 1742,
         "composer": "Schubert",
         "composition": "String Quintet in C major",
         "movement": "2. Adagio",
         "ensemble": "Viola Quintet",
         "seconds": 924,
         "key": "C major",
         "tonic": "C",
         "tonic_encoded": "0",
         "_deepnote_index_column": 8
        },
        {
         "id": 1749,
         "composer": "Schubert",
         "composition": "Piano Sonata in A minor",
         "movement": "1. Moderato",
         "ensemble": "Solo Piano",
         "seconds": 696,
         "key": "A minor",
         "tonic": "A",
         "tonic_encoded": "9",
         "_deepnote_index_column": 9
        }
       ]
      },
      "text/plain": "       id   composer                     composition  \\\n0    1727   Schubert        Piano Quintet in A major   \n1    1728   Schubert        Piano Quintet in A major   \n2    1729   Schubert        Piano Quintet in A major   \n3    1730   Schubert        Piano Quintet in A major   \n4    1733   Schubert         Piano Sonata in A major   \n..    ...        ...                             ...   \n325  2632  Beethoven   Piano Sonata No 10 in G major   \n326  2633  Beethoven   Piano Sonata No 10 in G major   \n327  2659       Bach  Violin Partita No 1 in B minor   \n328  2677  Beethoven    Piano Sonata No 9 in E major   \n329  2678  Beethoven   Piano Sonata No 10 in G major   \n\n                      movement       ensemble  seconds      key tonic  \\\n0                   2. Andante  Piano Quintet      447  A major     A   \n1           3. Scherzo: Presto  Piano Quintet      251  A major     A   \n2    4. Andantino - Allegretto  Piano Quintet      444  A major     A   \n3            5. Allegro giusto  Piano Quintet      368  A major     A   \n4                 2. Andantino     Solo Piano      546  A major     A   \n..                         ...            ...      ...      ...   ...   \n325                 2. Andante     Solo Piano      341  G major     G   \n326  3. Scherzo: Allegro assai     Solo Piano      227  G major     G   \n327                  6. Double    Solo Violin      108  B minor     B   \n328                 1. Allegro     Solo Piano      445  E major     E   \n329                 1. Allegro     Solo Piano      472  G major     G   \n\n    tonic_encoded  \n0               9  \n1               9  \n2               9  \n3               9  \n4               9  \n..            ...  \n325             7  \n326             7  \n327            11  \n328             4  \n329             7  \n\n[318 rows x 9 columns]",
      "text/html": "<div>\n<style scoped>\n    .dataframe tbody tr th:only-of-type {\n        vertical-align: middle;\n    }\n\n    .dataframe tbody tr th {\n        vertical-align: top;\n    }\n\n    .dataframe thead th {\n        text-align: right;\n    }\n</style>\n<table border=\"1\" class=\"dataframe\">\n  <thead>\n    <tr style=\"text-align: right;\">\n      <th></th>\n      <th>id</th>\n      <th>composer</th>\n      <th>composition</th>\n      <th>movement</th>\n      <th>ensemble</th>\n      <th>seconds</th>\n      <th>key</th>\n      <th>tonic</th>\n      <th>tonic_encoded</th>\n    </tr>\n  </thead>\n  <tbody>\n    <tr>\n      <th>0</th>\n      <td>1727</td>\n      <td>Schubert</td>\n      <td>Piano Quintet in A major</td>\n      <td>2. Andante</td>\n      <td>Piano Quintet</td>\n      <td>447</td>\n      <td>A major</td>\n      <td>A</td>\n      <td>9</td>\n    </tr>\n    <tr>\n      <th>1</th>\n      <td>1728</td>\n      <td>Schubert</td>\n      <td>Piano Quintet in A major</td>\n      <td>3. Scherzo: Presto</td>\n      <td>Piano Quintet</td>\n      <td>251</td>\n      <td>A major</td>\n      <td>A</td>\n      <td>9</td>\n    </tr>\n    <tr>\n      <th>2</th>\n      <td>1729</td>\n      <td>Schubert</td>\n      <td>Piano Quintet in A major</td>\n      <td>4. Andantino - Allegretto</td>\n      <td>Piano Quintet</td>\n      <td>444</td>\n      <td>A major</td>\n      <td>A</td>\n      <td>9</td>\n    </tr>\n    <tr>\n      <th>3</th>\n      <td>1730</td>\n      <td>Schubert</td>\n      <td>Piano Quintet in A major</td>\n      <td>5. Allegro giusto</td>\n      <td>Piano Quintet</td>\n      <td>368</td>\n      <td>A major</td>\n      <td>A</td>\n      <td>9</td>\n    </tr>\n    <tr>\n      <th>4</th>\n      <td>1733</td>\n      <td>Schubert</td>\n      <td>Piano Sonata in A major</td>\n      <td>2. Andantino</td>\n      <td>Solo Piano</td>\n      <td>546</td>\n      <td>A major</td>\n      <td>A</td>\n      <td>9</td>\n    </tr>\n    <tr>\n      <th>...</th>\n      <td>...</td>\n      <td>...</td>\n      <td>...</td>\n      <td>...</td>\n      <td>...</td>\n      <td>...</td>\n      <td>...</td>\n      <td>...</td>\n      <td>...</td>\n    </tr>\n    <tr>\n      <th>325</th>\n      <td>2632</td>\n      <td>Beethoven</td>\n      <td>Piano Sonata No 10 in G major</td>\n      <td>2. Andante</td>\n      <td>Solo Piano</td>\n      <td>341</td>\n      <td>G major</td>\n      <td>G</td>\n      <td>7</td>\n    </tr>\n    <tr>\n      <th>326</th>\n      <td>2633</td>\n      <td>Beethoven</td>\n      <td>Piano Sonata No 10 in G major</td>\n      <td>3. Scherzo: Allegro assai</td>\n      <td>Solo Piano</td>\n      <td>227</td>\n      <td>G major</td>\n      <td>G</td>\n      <td>7</td>\n    </tr>\n    <tr>\n      <th>327</th>\n      <td>2659</td>\n      <td>Bach</td>\n      <td>Violin Partita No 1 in B minor</td>\n      <td>6. Double</td>\n      <td>Solo Violin</td>\n      <td>108</td>\n      <td>B minor</td>\n      <td>B</td>\n      <td>11</td>\n    </tr>\n    <tr>\n      <th>328</th>\n      <td>2677</td>\n      <td>Beethoven</td>\n      <td>Piano Sonata No 9 in E major</td>\n      <td>1. Allegro</td>\n      <td>Solo Piano</td>\n      <td>445</td>\n      <td>E major</td>\n      <td>E</td>\n      <td>4</td>\n    </tr>\n    <tr>\n      <th>329</th>\n      <td>2678</td>\n      <td>Beethoven</td>\n      <td>Piano Sonata No 10 in G major</td>\n      <td>1. Allegro</td>\n      <td>Solo Piano</td>\n      <td>472</td>\n      <td>G major</td>\n      <td>G</td>\n      <td>7</td>\n    </tr>\n  </tbody>\n</table>\n<p>318 rows × 9 columns</p>\n</div>"
     },
     "metadata": {}
    }
   ],
   "execution_count": null
  },
  {
   "cell_type": "markdown",
   "source": "### Data Wrangling: Score Datasets\nThere's a csv file with the score for each composition. In this section, we just have to concatenate all the score datasets into one dataframe, creating a column with the `id` of the composition. The id can be found in the name of each csv file.\n\nThis is the best way I came up with to do this. Doesn't feel too efficient, so I'll probably get back to this topic.",
   "metadata": {
    "cell_id": "9552e36d-f3b1-4c3c-b582-78310849f679",
    "tags": [],
    "deepnote_cell_type": "markdown"
   }
  },
  {
   "cell_type": "code",
   "metadata": {
    "cell_id": "7e42a82d-9f51-42ee-9a32-f4b810ba0e58",
    "tags": [],
    "deepnote_to_be_reexecuted": false,
    "source_hash": "9d50424f",
    "execution_start": 1644867790827,
    "execution_millis": 4706,
    "deepnote_output_heights": [
     611
    ],
    "deepnote_cell_type": "code"
   },
   "source": "# Defining the path for every csv file and storing them in a list\nscores_path = './data/raw/scores'\nscores_list = glob.glob(os.path.join(scores_path, '*.csv'))\n\n# Creating dictionary with id of composition (from filename) as key and it's corresponding dataframe as the value\ndf_dict = {\n    os.path.basename(f)[:-4] : pd.read_csv(f) for f in scores_list\n}\n\n# Creating a column with the id for each dataframe in the dictionary\nfor key in df_dict:\n    df_dict[key]['id'] = int(key)\n\n# Concatenating all scores into one dataframe\ndf_scores = pd.concat(df_dict.values())\n\n# Changing the order of columns to have the id as first column\ndf_columns = df_scores.columns.tolist()\ndf_columns = df_columns[-1:] + df_columns[:-1] \ndf_scores = df_scores[df_columns]\n\ndf_scores",
   "outputs": [
    {
     "output_type": "execute_result",
     "execution_count": 22,
     "data": {
      "application/vnd.deepnote.dataframe.v3+json": {
       "column_count": 8,
       "row_count": 1089540,
       "columns": [
        {
         "name": "id",
         "dtype": "int64"
        },
        {
         "name": "start_time",
         "dtype": "int64"
        },
        {
         "name": "end_time",
         "dtype": "int64"
        },
        {
         "name": "instrument",
         "dtype": "int64"
        },
        {
         "name": "note",
         "dtype": "int64"
        },
        {
         "name": "start_beat",
         "dtype": "float64"
        },
        {
         "name": "end_beat",
         "dtype": "float64"
        },
        {
         "name": "note_value",
         "dtype": "object"
        },
        {
         "name": "_deepnote_index_column",
         "dtype": "int64"
        }
       ],
       "rows": [
        {
         "id": 2416,
         "start_time": 10206,
         "end_time": 19934,
         "instrument": 61,
         "note": 63,
         "start_beat": 2,
         "end_beat": 0.6875,
         "note_value": "Dotted Eighth",
         "_deepnote_index_column": 0
        },
        {
         "id": 2416,
         "start_time": 10206,
         "end_time": 19934,
         "instrument": 61,
         "note": 55,
         "start_beat": 2,
         "end_beat": 0.6875,
         "note_value": "Dotted Eighth",
         "_deepnote_index_column": 1
        },
        {
         "id": 2416,
         "start_time": 24030,
         "end_time": 31710,
         "instrument": 61,
         "note": 63,
         "start_beat": 3,
         "end_beat": 0.6875,
         "note_value": "Dotted Eighth",
         "_deepnote_index_column": 2
        },
        {
         "id": 2416,
         "start_time": 24030,
         "end_time": 31710,
         "instrument": 61,
         "note": 55,
         "start_beat": 3,
         "end_beat": 0.6875,
         "note_value": "Dotted Eighth",
         "_deepnote_index_column": 3
        },
        {
         "id": 2416,
         "start_time": 34782,
         "end_time": 42462,
         "instrument": 61,
         "note": 55,
         "start_beat": 4,
         "end_beat": 0.6875,
         "note_value": "Dotted Eighth",
         "_deepnote_index_column": 4
        },
        {
         "id": 2416,
         "start_time": 34782,
         "end_time": 42462,
         "instrument": 61,
         "note": 63,
         "start_beat": 4,
         "end_beat": 0.6875,
         "note_value": "Dotted Eighth",
         "_deepnote_index_column": 5
        },
        {
         "id": 2416,
         "start_time": 45534,
         "end_time": 54238,
         "instrument": 61,
         "note": 63,
         "start_beat": 5,
         "end_beat": 0.6875,
         "note_value": "Dotted Eighth",
         "_deepnote_index_column": 6
        },
        {
         "id": 2416,
         "start_time": 45534,
         "end_time": 54238,
         "instrument": 61,
         "note": 55,
         "start_beat": 5,
         "end_beat": 0.6875,
         "note_value": "Dotted Eighth",
         "_deepnote_index_column": 7
        },
        {
         "id": 2416,
         "start_time": 57822,
         "end_time": 71646,
         "instrument": 61,
         "note": 58,
         "start_beat": 6,
         "end_beat": 1,
         "note_value": "Quarter",
         "_deepnote_index_column": 8
        },
        {
         "id": 2416,
         "start_time": 57822,
         "end_time": 61406,
         "instrument": 61,
         "note": 67,
         "start_beat": 6,
         "end_beat": 0.25,
         "note_value": "Sixteenth",
         "_deepnote_index_column": 9
        }
       ]
      },
      "text/plain": "        id  start_time  end_time  instrument  note  start_beat  end_beat  \\\n0     2416       10206     19934          61    63     2.00000    0.6875   \n1     2416       10206     19934          61    55     2.00000    0.6875   \n2     2416       24030     31710          61    63     3.00000    0.6875   \n3     2416       24030     31710          61    55     3.00000    0.6875   \n4     2416       34782     42462          61    55     4.00000    0.6875   \n...    ...         ...       ...         ...   ...         ...       ...   \n1304  2209     6551006   6572510           1    56   227.13750    0.5000   \n1305  2209     6570973   6597598           1    63   227.61875    0.5000   \n1306  2209     6572510   6598622           1    54   227.63750    0.5000   \n1307  2209     6597598   6864350           1    65   228.11875    2.0000   \n1308  2209     6598622   6865374           1    56   228.13750    2.0000   \n\n         note_value  \n0     Dotted Eighth  \n1     Dotted Eighth  \n2     Dotted Eighth  \n3     Dotted Eighth  \n4     Dotted Eighth  \n...             ...  \n1304        Quarter  \n1305        Quarter  \n1306        Quarter  \n1307          Whole  \n1308          Whole  \n\n[1089540 rows x 8 columns]",
      "text/html": "<div>\n<style scoped>\n    .dataframe tbody tr th:only-of-type {\n        vertical-align: middle;\n    }\n\n    .dataframe tbody tr th {\n        vertical-align: top;\n    }\n\n    .dataframe thead th {\n        text-align: right;\n    }\n</style>\n<table border=\"1\" class=\"dataframe\">\n  <thead>\n    <tr style=\"text-align: right;\">\n      <th></th>\n      <th>id</th>\n      <th>start_time</th>\n      <th>end_time</th>\n      <th>instrument</th>\n      <th>note</th>\n      <th>start_beat</th>\n      <th>end_beat</th>\n      <th>note_value</th>\n    </tr>\n  </thead>\n  <tbody>\n    <tr>\n      <th>0</th>\n      <td>2416</td>\n      <td>10206</td>\n      <td>19934</td>\n      <td>61</td>\n      <td>63</td>\n      <td>2.00000</td>\n      <td>0.6875</td>\n      <td>Dotted Eighth</td>\n    </tr>\n    <tr>\n      <th>1</th>\n      <td>2416</td>\n      <td>10206</td>\n      <td>19934</td>\n      <td>61</td>\n      <td>55</td>\n      <td>2.00000</td>\n      <td>0.6875</td>\n      <td>Dotted Eighth</td>\n    </tr>\n    <tr>\n      <th>2</th>\n      <td>2416</td>\n      <td>24030</td>\n      <td>31710</td>\n      <td>61</td>\n      <td>63</td>\n      <td>3.00000</td>\n      <td>0.6875</td>\n      <td>Dotted Eighth</td>\n    </tr>\n    <tr>\n      <th>3</th>\n      <td>2416</td>\n      <td>24030</td>\n      <td>31710</td>\n      <td>61</td>\n      <td>55</td>\n      <td>3.00000</td>\n      <td>0.6875</td>\n      <td>Dotted Eighth</td>\n    </tr>\n    <tr>\n      <th>4</th>\n      <td>2416</td>\n      <td>34782</td>\n      <td>42462</td>\n      <td>61</td>\n      <td>55</td>\n      <td>4.00000</td>\n      <td>0.6875</td>\n      <td>Dotted Eighth</td>\n    </tr>\n    <tr>\n      <th>...</th>\n      <td>...</td>\n      <td>...</td>\n      <td>...</td>\n      <td>...</td>\n      <td>...</td>\n      <td>...</td>\n      <td>...</td>\n      <td>...</td>\n    </tr>\n    <tr>\n      <th>1304</th>\n      <td>2209</td>\n      <td>6551006</td>\n      <td>6572510</td>\n      <td>1</td>\n      <td>56</td>\n      <td>227.13750</td>\n      <td>0.5000</td>\n      <td>Quarter</td>\n    </tr>\n    <tr>\n      <th>1305</th>\n      <td>2209</td>\n      <td>6570973</td>\n      <td>6597598</td>\n      <td>1</td>\n      <td>63</td>\n      <td>227.61875</td>\n      <td>0.5000</td>\n      <td>Quarter</td>\n    </tr>\n    <tr>\n      <th>1306</th>\n      <td>2209</td>\n      <td>6572510</td>\n      <td>6598622</td>\n      <td>1</td>\n      <td>54</td>\n      <td>227.63750</td>\n      <td>0.5000</td>\n      <td>Quarter</td>\n    </tr>\n    <tr>\n      <th>1307</th>\n      <td>2209</td>\n      <td>6597598</td>\n      <td>6864350</td>\n      <td>1</td>\n      <td>65</td>\n      <td>228.11875</td>\n      <td>2.0000</td>\n      <td>Whole</td>\n    </tr>\n    <tr>\n      <th>1308</th>\n      <td>2209</td>\n      <td>6598622</td>\n      <td>6865374</td>\n      <td>1</td>\n      <td>56</td>\n      <td>228.13750</td>\n      <td>2.0000</td>\n      <td>Whole</td>\n    </tr>\n  </tbody>\n</table>\n<p>1089540 rows × 8 columns</p>\n</div>"
     },
     "metadata": {}
    }
   ],
   "execution_count": null
  },
  {
   "cell_type": "code",
   "metadata": {
    "cell_id": "9e1cc96a-4456-434a-ae72-a0092d3132e3",
    "tags": [],
    "deepnote_to_be_reexecuted": false,
    "source_hash": "7a1314d2",
    "execution_start": 1644867795592,
    "execution_millis": 9009,
    "deepnote_cell_type": "code"
   },
   "source": "# It worked, so I'll just export it\ndf_scores.to_csv('./data/processed/scores.csv', index=False)",
   "outputs": [],
   "execution_count": null
  },
  {
   "cell_type": "markdown",
   "source": "<a style='text-decoration:none;line-height:16px;display:flex;color:#5B5B62;padding:10px;justify-content:end;' href='https://deepnote.com?utm_source=created-in-deepnote-cell&projectId=177ea176-1f94-4265-9666-0cca06278d8e' target=\"_blank\">\n<img alt='Created in deepnote.com' style='display:inline;max-height:16px;margin:0px;margin-right:7.5px;' src='data:image/svg+xml;base64,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' > </img>\nCreated in <span style='font-weight:600;margin-left:4px;'>Deepnote</span></a>",
   "metadata": {
    "tags": [],
    "created_in_deepnote_cell": true,
    "deepnote_cell_type": "markdown"
   }
  }
 ],
 "nbformat": 4,
 "nbformat_minor": 2,
 "metadata": {
  "orig_nbformat": 2,
  "deepnote": {
   "is_reactive": false
  },
  "deepnote_notebook_id": "b8b8d46a-1b5b-4306-81e8-ac6822478f39",
  "deepnote_execution_queue": []
 }
}