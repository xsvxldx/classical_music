{
 "cells": [
  {
   "cell_type": "markdown",
   "source": "### Scores analysis\n",
   "metadata": {
    "cell_id": "a648a9da-4594-44b4-9131-f41e1323b021",
    "tags": [],
    "deepnote_cell_height": 98,
    "deepnote_cell_type": "markdown"
   }
  },
  {
   "cell_type": "markdown",
   "source": "#### Importing the processed data and a bit of preparation",
   "metadata": {
    "cell_id": "f69bb1e3-6591-43ed-8d19-9394baa22813",
    "tags": [],
    "deepnote_cell_type": "markdown"
   }
  },
  {
   "cell_type": "code",
   "metadata": {
    "cell_id": "45ee5e57-7f81-433c-9ea0-f33cce32c99a",
    "tags": [],
    "deepnote_to_be_reexecuted": false,
    "source_hash": "2c6f8d73",
    "execution_start": 1645737237288,
    "execution_millis": 1315,
    "deepnote_cell_type": "code"
   },
   "source": "import pandas as pd\nimport matplotlib.pyplot as plt\nimport numpy as np",
   "execution_count": null,
   "outputs": []
  },
  {
   "cell_type": "code",
   "metadata": {
    "cell_id": "1c747b17-7482-4c61-aed2-b671f6d5db80",
    "tags": [],
    "deepnote_to_be_reexecuted": false,
    "source_hash": "d5f3caca",
    "execution_start": 1645737238604,
    "execution_millis": 990,
    "deepnote_cell_type": "code"
   },
   "source": "df_meta = pd.read_csv('../data/processed/scores_metadata.csv')\ndf_scores = pd.read_csv('../data/processed/scores.csv')",
   "execution_count": null,
   "outputs": []
  },
  {
   "cell_type": "markdown",
   "source": "First, we'll add a column indicating the difference between each note played and the tonic of the composition. I'll call this new column `relative_note`.  \nTo get this column, first I need to join the scores data with the scores metadata, because the tonic information is in the latter.  \n\nWith this column created, we will know which notes are being used on a chromatic scale. Thus, we may determine which scales and modes are used.",
   "metadata": {
    "cell_id": "47fcc815-2935-4814-ba7e-b711aa276c1e",
    "tags": [],
    "deepnote_cell_type": "markdown"
   }
  },
  {
   "cell_type": "code",
   "metadata": {
    "cell_id": "4c1a5d4b-7544-47e0-a42d-50574b47a0df",
    "tags": [],
    "deepnote_to_be_reexecuted": false,
    "source_hash": "f876ec43",
    "execution_start": 1645737239595,
    "execution_millis": 28,
    "deepnote_cell_type": "code"
   },
   "source": "df_scores.head(5)",
   "execution_count": null,
   "outputs": [
    {
     "output_type": "execute_result",
     "execution_count": 3,
     "data": {
      "application/vnd.deepnote.dataframe.v3+json": {
       "column_count": 8,
       "row_count": 5,
       "columns": [
        {
         "name": "id",
         "dtype": "int64",
         "stats": {
          "unique_count": 1,
          "nan_count": 0,
          "min": "2416",
          "max": "2416",
          "histogram": [
           {
            "bin_start": 2415.5,
            "bin_end": 2415.6,
            "count": 0
           },
           {
            "bin_start": 2415.6,
            "bin_end": 2415.7,
            "count": 0
           },
           {
            "bin_start": 2415.7,
            "bin_end": 2415.8,
            "count": 0
           },
           {
            "bin_start": 2415.8,
            "bin_end": 2415.9,
            "count": 0
           },
           {
            "bin_start": 2415.9,
            "bin_end": 2416,
            "count": 0
           },
           {
            "bin_start": 2416,
            "bin_end": 2416.1,
            "count": 5
           },
           {
            "bin_start": 2416.1,
            "bin_end": 2416.2,
            "count": 0
           },
           {
            "bin_start": 2416.2,
            "bin_end": 2416.3,
            "count": 0
           },
           {
            "bin_start": 2416.3,
            "bin_end": 2416.4,
            "count": 0
           },
           {
            "bin_start": 2416.4,
            "bin_end": 2416.5,
            "count": 0
           }
          ]
         }
        },
        {
         "name": "start_time",
         "dtype": "int64",
         "stats": {
          "unique_count": 3,
          "nan_count": 0,
          "min": "10206",
          "max": "34782",
          "histogram": [
           {
            "bin_start": 10206,
            "bin_end": 12663.6,
            "count": 2
           },
           {
            "bin_start": 12663.6,
            "bin_end": 15121.2,
            "count": 0
           },
           {
            "bin_start": 15121.2,
            "bin_end": 17578.8,
            "count": 0
           },
           {
            "bin_start": 17578.8,
            "bin_end": 20036.4,
            "count": 0
           },
           {
            "bin_start": 20036.4,
            "bin_end": 22494,
            "count": 0
           },
           {
            "bin_start": 22494,
            "bin_end": 24951.6,
            "count": 2
           },
           {
            "bin_start": 24951.6,
            "bin_end": 27409.2,
            "count": 0
           },
           {
            "bin_start": 27409.2,
            "bin_end": 29866.8,
            "count": 0
           },
           {
            "bin_start": 29866.8,
            "bin_end": 32324.399999999998,
            "count": 0
           },
           {
            "bin_start": 32324.399999999998,
            "bin_end": 34782,
            "count": 1
           }
          ]
         }
        },
        {
         "name": "end_time",
         "dtype": "int64",
         "stats": {
          "unique_count": 3,
          "nan_count": 0,
          "min": "19934",
          "max": "42462",
          "histogram": [
           {
            "bin_start": 19934,
            "bin_end": 22186.8,
            "count": 2
           },
           {
            "bin_start": 22186.8,
            "bin_end": 24439.6,
            "count": 0
           },
           {
            "bin_start": 24439.6,
            "bin_end": 26692.4,
            "count": 0
           },
           {
            "bin_start": 26692.4,
            "bin_end": 28945.2,
            "count": 0
           },
           {
            "bin_start": 28945.2,
            "bin_end": 31198,
            "count": 0
           },
           {
            "bin_start": 31198,
            "bin_end": 33450.8,
            "count": 2
           },
           {
            "bin_start": 33450.8,
            "bin_end": 35703.600000000006,
            "count": 0
           },
           {
            "bin_start": 35703.600000000006,
            "bin_end": 37956.4,
            "count": 0
           },
           {
            "bin_start": 37956.4,
            "bin_end": 40209.2,
            "count": 0
           },
           {
            "bin_start": 40209.2,
            "bin_end": 42462,
            "count": 1
           }
          ]
         }
        },
        {
         "name": "instrument",
         "dtype": "int64",
         "stats": {
          "unique_count": 1,
          "nan_count": 0,
          "min": "61",
          "max": "61",
          "histogram": [
           {
            "bin_start": 60.5,
            "bin_end": 60.6,
            "count": 0
           },
           {
            "bin_start": 60.6,
            "bin_end": 60.7,
            "count": 0
           },
           {
            "bin_start": 60.7,
            "bin_end": 60.8,
            "count": 0
           },
           {
            "bin_start": 60.8,
            "bin_end": 60.9,
            "count": 0
           },
           {
            "bin_start": 60.9,
            "bin_end": 61,
            "count": 0
           },
           {
            "bin_start": 61,
            "bin_end": 61.1,
            "count": 5
           },
           {
            "bin_start": 61.1,
            "bin_end": 61.2,
            "count": 0
           },
           {
            "bin_start": 61.2,
            "bin_end": 61.3,
            "count": 0
           },
           {
            "bin_start": 61.3,
            "bin_end": 61.4,
            "count": 0
           },
           {
            "bin_start": 61.4,
            "bin_end": 61.5,
            "count": 0
           }
          ]
         }
        },
        {
         "name": "note",
         "dtype": "int64",
         "stats": {
          "unique_count": 2,
          "nan_count": 0,
          "min": "55",
          "max": "63",
          "histogram": [
           {
            "bin_start": 55,
            "bin_end": 55.8,
            "count": 3
           },
           {
            "bin_start": 55.8,
            "bin_end": 56.6,
            "count": 0
           },
           {
            "bin_start": 56.6,
            "bin_end": 57.4,
            "count": 0
           },
           {
            "bin_start": 57.4,
            "bin_end": 58.2,
            "count": 0
           },
           {
            "bin_start": 58.2,
            "bin_end": 59,
            "count": 0
           },
           {
            "bin_start": 59,
            "bin_end": 59.8,
            "count": 0
           },
           {
            "bin_start": 59.8,
            "bin_end": 60.6,
            "count": 0
           },
           {
            "bin_start": 60.6,
            "bin_end": 61.4,
            "count": 0
           },
           {
            "bin_start": 61.4,
            "bin_end": 62.2,
            "count": 0
           },
           {
            "bin_start": 62.2,
            "bin_end": 63,
            "count": 2
           }
          ]
         }
        },
        {
         "name": "start_beat",
         "dtype": "float64",
         "stats": {
          "unique_count": 3,
          "nan_count": 0,
          "min": "2.0",
          "max": "4.0",
          "histogram": [
           {
            "bin_start": 2,
            "bin_end": 2.2,
            "count": 2
           },
           {
            "bin_start": 2.2,
            "bin_end": 2.4,
            "count": 0
           },
           {
            "bin_start": 2.4,
            "bin_end": 2.6,
            "count": 0
           },
           {
            "bin_start": 2.6,
            "bin_end": 2.8,
            "count": 0
           },
           {
            "bin_start": 2.8,
            "bin_end": 3,
            "count": 0
           },
           {
            "bin_start": 3,
            "bin_end": 3.2,
            "count": 2
           },
           {
            "bin_start": 3.2,
            "bin_end": 3.4000000000000004,
            "count": 0
           },
           {
            "bin_start": 3.4000000000000004,
            "bin_end": 3.6,
            "count": 0
           },
           {
            "bin_start": 3.6,
            "bin_end": 3.8,
            "count": 0
           },
           {
            "bin_start": 3.8,
            "bin_end": 4,
            "count": 1
           }
          ]
         }
        },
        {
         "name": "end_beat",
         "dtype": "float64",
         "stats": {
          "unique_count": 1,
          "nan_count": 0,
          "min": "0.6875",
          "max": "0.6875",
          "histogram": [
           {
            "bin_start": 0.1875,
            "bin_end": 0.2875,
            "count": 0
           },
           {
            "bin_start": 0.2875,
            "bin_end": 0.3875,
            "count": 0
           },
           {
            "bin_start": 0.3875,
            "bin_end": 0.48750000000000004,
            "count": 0
           },
           {
            "bin_start": 0.48750000000000004,
            "bin_end": 0.5875,
            "count": 0
           },
           {
            "bin_start": 0.5875,
            "bin_end": 0.6875,
            "count": 0
           },
           {
            "bin_start": 0.6875,
            "bin_end": 0.7875000000000001,
            "count": 5
           },
           {
            "bin_start": 0.7875000000000001,
            "bin_end": 0.8875000000000001,
            "count": 0
           },
           {
            "bin_start": 0.8875000000000001,
            "bin_end": 0.9875,
            "count": 0
           },
           {
            "bin_start": 0.9875,
            "bin_end": 1.0875,
            "count": 0
           },
           {
            "bin_start": 1.0875,
            "bin_end": 1.1875,
            "count": 0
           }
          ]
         }
        },
        {
         "name": "note_value",
         "dtype": "object",
         "stats": {
          "unique_count": 1,
          "nan_count": 0,
          "categories": [
           {
            "name": "Dotted Eighth",
            "count": 5
           }
          ]
         }
        },
        {
         "name": "_deepnote_index_column",
         "dtype": "int64"
        }
       ],
       "rows": [
        {
         "id": 2416,
         "start_time": 10206,
         "end_time": 19934,
         "instrument": 61,
         "note": 63,
         "start_beat": 2,
         "end_beat": 0.6875,
         "note_value": "Dotted Eighth",
         "_deepnote_index_column": 0
        },
        {
         "id": 2416,
         "start_time": 10206,
         "end_time": 19934,
         "instrument": 61,
         "note": 55,
         "start_beat": 2,
         "end_beat": 0.6875,
         "note_value": "Dotted Eighth",
         "_deepnote_index_column": 1
        },
        {
         "id": 2416,
         "start_time": 24030,
         "end_time": 31710,
         "instrument": 61,
         "note": 63,
         "start_beat": 3,
         "end_beat": 0.6875,
         "note_value": "Dotted Eighth",
         "_deepnote_index_column": 2
        },
        {
         "id": 2416,
         "start_time": 24030,
         "end_time": 31710,
         "instrument": 61,
         "note": 55,
         "start_beat": 3,
         "end_beat": 0.6875,
         "note_value": "Dotted Eighth",
         "_deepnote_index_column": 3
        },
        {
         "id": 2416,
         "start_time": 34782,
         "end_time": 42462,
         "instrument": 61,
         "note": 55,
         "start_beat": 4,
         "end_beat": 0.6875,
         "note_value": "Dotted Eighth",
         "_deepnote_index_column": 4
        }
       ]
      },
      "text/plain": "     id  start_time  end_time  instrument  note  start_beat  end_beat  \\\n0  2416       10206     19934          61    63         2.0    0.6875   \n1  2416       10206     19934          61    55         2.0    0.6875   \n2  2416       24030     31710          61    63         3.0    0.6875   \n3  2416       24030     31710          61    55         3.0    0.6875   \n4  2416       34782     42462          61    55         4.0    0.6875   \n\n      note_value  \n0  Dotted Eighth  \n1  Dotted Eighth  \n2  Dotted Eighth  \n3  Dotted Eighth  \n4  Dotted Eighth  ",
      "text/html": "<div>\n<style scoped>\n    .dataframe tbody tr th:only-of-type {\n        vertical-align: middle;\n    }\n\n    .dataframe tbody tr th {\n        vertical-align: top;\n    }\n\n    .dataframe thead th {\n        text-align: right;\n    }\n</style>\n<table border=\"1\" class=\"dataframe\">\n  <thead>\n    <tr style=\"text-align: right;\">\n      <th></th>\n      <th>id</th>\n      <th>start_time</th>\n      <th>end_time</th>\n      <th>instrument</th>\n      <th>note</th>\n      <th>start_beat</th>\n      <th>end_beat</th>\n      <th>note_value</th>\n    </tr>\n  </thead>\n  <tbody>\n    <tr>\n      <th>0</th>\n      <td>2416</td>\n      <td>10206</td>\n      <td>19934</td>\n      <td>61</td>\n      <td>63</td>\n      <td>2.0</td>\n      <td>0.6875</td>\n      <td>Dotted Eighth</td>\n    </tr>\n    <tr>\n      <th>1</th>\n      <td>2416</td>\n      <td>10206</td>\n      <td>19934</td>\n      <td>61</td>\n      <td>55</td>\n      <td>2.0</td>\n      <td>0.6875</td>\n      <td>Dotted Eighth</td>\n    </tr>\n    <tr>\n      <th>2</th>\n      <td>2416</td>\n      <td>24030</td>\n      <td>31710</td>\n      <td>61</td>\n      <td>63</td>\n      <td>3.0</td>\n      <td>0.6875</td>\n      <td>Dotted Eighth</td>\n    </tr>\n    <tr>\n      <th>3</th>\n      <td>2416</td>\n      <td>24030</td>\n      <td>31710</td>\n      <td>61</td>\n      <td>55</td>\n      <td>3.0</td>\n      <td>0.6875</td>\n      <td>Dotted Eighth</td>\n    </tr>\n    <tr>\n      <th>4</th>\n      <td>2416</td>\n      <td>34782</td>\n      <td>42462</td>\n      <td>61</td>\n      <td>55</td>\n      <td>4.0</td>\n      <td>0.6875</td>\n      <td>Dotted Eighth</td>\n    </tr>\n  </tbody>\n</table>\n</div>"
     },
     "metadata": {}
    }
   ]
  },
  {
   "cell_type": "code",
   "metadata": {
    "cell_id": "9eb15461-5202-4e15-b6ec-25d8615f5102",
    "tags": [],
    "deepnote_to_be_reexecuted": false,
    "source_hash": "d54dd59a",
    "execution_start": 1645737239656,
    "execution_millis": 23,
    "deepnote_cell_type": "code"
   },
   "source": "df_meta.head(5)",
   "execution_count": null,
   "outputs": [
    {
     "output_type": "execute_result",
     "execution_count": 4,
     "data": {
      "application/vnd.deepnote.dataframe.v3+json": {
       "column_count": 10,
       "row_count": 5,
       "columns": [
        {
         "name": "id",
         "dtype": "int64",
         "stats": {
          "unique_count": 5,
          "nan_count": 0,
          "min": "1727",
          "max": "1733",
          "histogram": [
           {
            "bin_start": 1727,
            "bin_end": 1727.6,
            "count": 1
           },
           {
            "bin_start": 1727.6,
            "bin_end": 1728.2,
            "count": 1
           },
           {
            "bin_start": 1728.2,
            "bin_end": 1728.8,
            "count": 0
           },
           {
            "bin_start": 1728.8,
            "bin_end": 1729.4,
            "count": 1
           },
           {
            "bin_start": 1729.4,
            "bin_end": 1730,
            "count": 0
           },
           {
            "bin_start": 1730,
            "bin_end": 1730.6,
            "count": 1
           },
           {
            "bin_start": 1730.6,
            "bin_end": 1731.2,
            "count": 0
           },
           {
            "bin_start": 1731.2,
            "bin_end": 1731.8,
            "count": 0
           },
           {
            "bin_start": 1731.8,
            "bin_end": 1732.4,
            "count": 0
           },
           {
            "bin_start": 1732.4,
            "bin_end": 1733,
            "count": 1
           }
          ]
         }
        },
        {
         "name": "composer",
         "dtype": "object",
         "stats": {
          "unique_count": 1,
          "nan_count": 0,
          "categories": [
           {
            "name": "Schubert",
            "count": 5
           }
          ]
         }
        },
        {
         "name": "composition",
         "dtype": "object",
         "stats": {
          "unique_count": 2,
          "nan_count": 0,
          "categories": [
           {
            "name": "Piano Quintet in A major",
            "count": 4
           },
           {
            "name": "Piano Sonata in A major",
            "count": 1
           }
          ]
         }
        },
        {
         "name": "movement",
         "dtype": "object",
         "stats": {
          "unique_count": 5,
          "nan_count": 0,
          "categories": [
           {
            "name": "2. Andante",
            "count": 1
           },
           {
            "name": "3. Scherzo: Presto",
            "count": 1
           },
           {
            "name": "3 others",
            "count": 3
           }
          ]
         }
        },
        {
         "name": "ensemble",
         "dtype": "object",
         "stats": {
          "unique_count": 2,
          "nan_count": 0,
          "categories": [
           {
            "name": "Piano Quintet",
            "count": 4
           },
           {
            "name": "Solo Piano",
            "count": 1
           }
          ]
         }
        },
        {
         "name": "seconds",
         "dtype": "int64",
         "stats": {
          "unique_count": 5,
          "nan_count": 0,
          "min": "251",
          "max": "546",
          "histogram": [
           {
            "bin_start": 251,
            "bin_end": 280.5,
            "count": 1
           },
           {
            "bin_start": 280.5,
            "bin_end": 310,
            "count": 0
           },
           {
            "bin_start": 310,
            "bin_end": 339.5,
            "count": 0
           },
           {
            "bin_start": 339.5,
            "bin_end": 369,
            "count": 1
           },
           {
            "bin_start": 369,
            "bin_end": 398.5,
            "count": 0
           },
           {
            "bin_start": 398.5,
            "bin_end": 428,
            "count": 0
           },
           {
            "bin_start": 428,
            "bin_end": 457.5,
            "count": 2
           },
           {
            "bin_start": 457.5,
            "bin_end": 487,
            "count": 0
           },
           {
            "bin_start": 487,
            "bin_end": 516.5,
            "count": 0
           },
           {
            "bin_start": 516.5,
            "bin_end": 546,
            "count": 1
           }
          ]
         }
        },
        {
         "name": "key",
         "dtype": "object",
         "stats": {
          "unique_count": 1,
          "nan_count": 0,
          "categories": [
           {
            "name": "A major",
            "count": 5
           }
          ]
         }
        },
        {
         "name": "tonic",
         "dtype": "object",
         "stats": {
          "unique_count": 1,
          "nan_count": 0,
          "categories": [
           {
            "name": "A",
            "count": 5
           }
          ]
         }
        },
        {
         "name": "tonic_encoded",
         "dtype": "int64",
         "stats": {
          "unique_count": 1,
          "nan_count": 0,
          "min": "9",
          "max": "9",
          "histogram": [
           {
            "bin_start": 8.5,
            "bin_end": 8.6,
            "count": 0
           },
           {
            "bin_start": 8.6,
            "bin_end": 8.7,
            "count": 0
           },
           {
            "bin_start": 8.7,
            "bin_end": 8.8,
            "count": 0
           },
           {
            "bin_start": 8.8,
            "bin_end": 8.9,
            "count": 0
           },
           {
            "bin_start": 8.9,
            "bin_end": 9,
            "count": 0
           },
           {
            "bin_start": 9,
            "bin_end": 9.1,
            "count": 5
           },
           {
            "bin_start": 9.1,
            "bin_end": 9.2,
            "count": 0
           },
           {
            "bin_start": 9.2,
            "bin_end": 9.3,
            "count": 0
           },
           {
            "bin_start": 9.3,
            "bin_end": 9.4,
            "count": 0
           },
           {
            "bin_start": 9.4,
            "bin_end": 9.5,
            "count": 0
           }
          ]
         }
        },
        {
         "name": "mode",
         "dtype": "object",
         "stats": {
          "unique_count": 1,
          "nan_count": 0,
          "categories": [
           {
            "name": "major",
            "count": 5
           }
          ]
         }
        },
        {
         "name": "_deepnote_index_column",
         "dtype": "int64"
        }
       ],
       "rows": [
        {
         "id": 1727,
         "composer": "Schubert",
         "composition": "Piano Quintet in A major",
         "movement": "2. Andante",
         "ensemble": "Piano Quintet",
         "seconds": 447,
         "key": "A major",
         "tonic": "A",
         "tonic_encoded": 9,
         "mode": "major",
         "_deepnote_index_column": 0
        },
        {
         "id": 1728,
         "composer": "Schubert",
         "composition": "Piano Quintet in A major",
         "movement": "3. Scherzo: Presto",
         "ensemble": "Piano Quintet",
         "seconds": 251,
         "key": "A major",
         "tonic": "A",
         "tonic_encoded": 9,
         "mode": "major",
         "_deepnote_index_column": 1
        },
        {
         "id": 1729,
         "composer": "Schubert",
         "composition": "Piano Quintet in A major",
         "movement": "4. Andantino - Allegretto",
         "ensemble": "Piano Quintet",
         "seconds": 444,
         "key": "A major",
         "tonic": "A",
         "tonic_encoded": 9,
         "mode": "major",
         "_deepnote_index_column": 2
        },
        {
         "id": 1730,
         "composer": "Schubert",
         "composition": "Piano Quintet in A major",
         "movement": "5. Allegro giusto",
         "ensemble": "Piano Quintet",
         "seconds": 368,
         "key": "A major",
         "tonic": "A",
         "tonic_encoded": 9,
         "mode": "major",
         "_deepnote_index_column": 3
        },
        {
         "id": 1733,
         "composer": "Schubert",
         "composition": "Piano Sonata in A major",
         "movement": "2. Andantino",
         "ensemble": "Solo Piano",
         "seconds": 546,
         "key": "A major",
         "tonic": "A",
         "tonic_encoded": 9,
         "mode": "major",
         "_deepnote_index_column": 4
        }
       ]
      },
      "text/plain": "     id  composer               composition                   movement  \\\n0  1727  Schubert  Piano Quintet in A major                 2. Andante   \n1  1728  Schubert  Piano Quintet in A major         3. Scherzo: Presto   \n2  1729  Schubert  Piano Quintet in A major  4. Andantino - Allegretto   \n3  1730  Schubert  Piano Quintet in A major          5. Allegro giusto   \n4  1733  Schubert   Piano Sonata in A major               2. Andantino   \n\n        ensemble  seconds      key tonic  tonic_encoded   mode  \n0  Piano Quintet      447  A major     A              9  major  \n1  Piano Quintet      251  A major     A              9  major  \n2  Piano Quintet      444  A major     A              9  major  \n3  Piano Quintet      368  A major     A              9  major  \n4     Solo Piano      546  A major     A              9  major  ",
      "text/html": "<div>\n<style scoped>\n    .dataframe tbody tr th:only-of-type {\n        vertical-align: middle;\n    }\n\n    .dataframe tbody tr th {\n        vertical-align: top;\n    }\n\n    .dataframe thead th {\n        text-align: right;\n    }\n</style>\n<table border=\"1\" class=\"dataframe\">\n  <thead>\n    <tr style=\"text-align: right;\">\n      <th></th>\n      <th>id</th>\n      <th>composer</th>\n      <th>composition</th>\n      <th>movement</th>\n      <th>ensemble</th>\n      <th>seconds</th>\n      <th>key</th>\n      <th>tonic</th>\n      <th>tonic_encoded</th>\n      <th>mode</th>\n    </tr>\n  </thead>\n  <tbody>\n    <tr>\n      <th>0</th>\n      <td>1727</td>\n      <td>Schubert</td>\n      <td>Piano Quintet in A major</td>\n      <td>2. Andante</td>\n      <td>Piano Quintet</td>\n      <td>447</td>\n      <td>A major</td>\n      <td>A</td>\n      <td>9</td>\n      <td>major</td>\n    </tr>\n    <tr>\n      <th>1</th>\n      <td>1728</td>\n      <td>Schubert</td>\n      <td>Piano Quintet in A major</td>\n      <td>3. Scherzo: Presto</td>\n      <td>Piano Quintet</td>\n      <td>251</td>\n      <td>A major</td>\n      <td>A</td>\n      <td>9</td>\n      <td>major</td>\n    </tr>\n    <tr>\n      <th>2</th>\n      <td>1729</td>\n      <td>Schubert</td>\n      <td>Piano Quintet in A major</td>\n      <td>4. Andantino - Allegretto</td>\n      <td>Piano Quintet</td>\n      <td>444</td>\n      <td>A major</td>\n      <td>A</td>\n      <td>9</td>\n      <td>major</td>\n    </tr>\n    <tr>\n      <th>3</th>\n      <td>1730</td>\n      <td>Schubert</td>\n      <td>Piano Quintet in A major</td>\n      <td>5. Allegro giusto</td>\n      <td>Piano Quintet</td>\n      <td>368</td>\n      <td>A major</td>\n      <td>A</td>\n      <td>9</td>\n      <td>major</td>\n    </tr>\n    <tr>\n      <th>4</th>\n      <td>1733</td>\n      <td>Schubert</td>\n      <td>Piano Sonata in A major</td>\n      <td>2. Andantino</td>\n      <td>Solo Piano</td>\n      <td>546</td>\n      <td>A major</td>\n      <td>A</td>\n      <td>9</td>\n      <td>major</td>\n    </tr>\n  </tbody>\n</table>\n</div>"
     },
     "metadata": {}
    }
   ]
  },
  {
   "cell_type": "code",
   "metadata": {
    "cell_id": "fdd38993-6c24-4fc9-97ce-39d2155c8551",
    "tags": [],
    "deepnote_to_be_reexecuted": false,
    "source_hash": "f5678a0f",
    "execution_start": 1645737239657,
    "execution_millis": 1276,
    "deepnote_cell_type": "code"
   },
   "source": "# Joining the data and keeping only the  columns needed\ndf = df_scores.merge(df_meta, how='inner', on='id')\ndf = df[['id', 'composer', 'instrument', 'start_beat', 'end_beat', 'note_value', 'note', 'tonic_encoded']]\ndf.head(5)",
   "execution_count": null,
   "outputs": [
    {
     "output_type": "execute_result",
     "execution_count": 5,
     "data": {
      "application/vnd.deepnote.dataframe.v3+json": {
       "column_count": 8,
       "row_count": 5,
       "columns": [
        {
         "name": "id",
         "dtype": "int64",
         "stats": {
          "unique_count": 1,
          "nan_count": 0,
          "min": "2416",
          "max": "2416",
          "histogram": [
           {
            "bin_start": 2415.5,
            "bin_end": 2415.6,
            "count": 0
           },
           {
            "bin_start": 2415.6,
            "bin_end": 2415.7,
            "count": 0
           },
           {
            "bin_start": 2415.7,
            "bin_end": 2415.8,
            "count": 0
           },
           {
            "bin_start": 2415.8,
            "bin_end": 2415.9,
            "count": 0
           },
           {
            "bin_start": 2415.9,
            "bin_end": 2416,
            "count": 0
           },
           {
            "bin_start": 2416,
            "bin_end": 2416.1,
            "count": 5
           },
           {
            "bin_start": 2416.1,
            "bin_end": 2416.2,
            "count": 0
           },
           {
            "bin_start": 2416.2,
            "bin_end": 2416.3,
            "count": 0
           },
           {
            "bin_start": 2416.3,
            "bin_end": 2416.4,
            "count": 0
           },
           {
            "bin_start": 2416.4,
            "bin_end": 2416.5,
            "count": 0
           }
          ]
         }
        },
        {
         "name": "composer",
         "dtype": "object",
         "stats": {
          "unique_count": 1,
          "nan_count": 0,
          "categories": [
           {
            "name": "Beethoven",
            "count": 5
           }
          ]
         }
        },
        {
         "name": "instrument",
         "dtype": "int64",
         "stats": {
          "unique_count": 1,
          "nan_count": 0,
          "min": "61",
          "max": "61",
          "histogram": [
           {
            "bin_start": 60.5,
            "bin_end": 60.6,
            "count": 0
           },
           {
            "bin_start": 60.6,
            "bin_end": 60.7,
            "count": 0
           },
           {
            "bin_start": 60.7,
            "bin_end": 60.8,
            "count": 0
           },
           {
            "bin_start": 60.8,
            "bin_end": 60.9,
            "count": 0
           },
           {
            "bin_start": 60.9,
            "bin_end": 61,
            "count": 0
           },
           {
            "bin_start": 61,
            "bin_end": 61.1,
            "count": 5
           },
           {
            "bin_start": 61.1,
            "bin_end": 61.2,
            "count": 0
           },
           {
            "bin_start": 61.2,
            "bin_end": 61.3,
            "count": 0
           },
           {
            "bin_start": 61.3,
            "bin_end": 61.4,
            "count": 0
           },
           {
            "bin_start": 61.4,
            "bin_end": 61.5,
            "count": 0
           }
          ]
         }
        },
        {
         "name": "start_beat",
         "dtype": "float64",
         "stats": {
          "unique_count": 3,
          "nan_count": 0,
          "min": "2.0",
          "max": "4.0",
          "histogram": [
           {
            "bin_start": 2,
            "bin_end": 2.2,
            "count": 2
           },
           {
            "bin_start": 2.2,
            "bin_end": 2.4,
            "count": 0
           },
           {
            "bin_start": 2.4,
            "bin_end": 2.6,
            "count": 0
           },
           {
            "bin_start": 2.6,
            "bin_end": 2.8,
            "count": 0
           },
           {
            "bin_start": 2.8,
            "bin_end": 3,
            "count": 0
           },
           {
            "bin_start": 3,
            "bin_end": 3.2,
            "count": 2
           },
           {
            "bin_start": 3.2,
            "bin_end": 3.4000000000000004,
            "count": 0
           },
           {
            "bin_start": 3.4000000000000004,
            "bin_end": 3.6,
            "count": 0
           },
           {
            "bin_start": 3.6,
            "bin_end": 3.8,
            "count": 0
           },
           {
            "bin_start": 3.8,
            "bin_end": 4,
            "count": 1
           }
          ]
         }
        },
        {
         "name": "end_beat",
         "dtype": "float64",
         "stats": {
          "unique_count": 1,
          "nan_count": 0,
          "min": "0.6875",
          "max": "0.6875",
          "histogram": [
           {
            "bin_start": 0.1875,
            "bin_end": 0.2875,
            "count": 0
           },
           {
            "bin_start": 0.2875,
            "bin_end": 0.3875,
            "count": 0
           },
           {
            "bin_start": 0.3875,
            "bin_end": 0.48750000000000004,
            "count": 0
           },
           {
            "bin_start": 0.48750000000000004,
            "bin_end": 0.5875,
            "count": 0
           },
           {
            "bin_start": 0.5875,
            "bin_end": 0.6875,
            "count": 0
           },
           {
            "bin_start": 0.6875,
            "bin_end": 0.7875000000000001,
            "count": 5
           },
           {
            "bin_start": 0.7875000000000001,
            "bin_end": 0.8875000000000001,
            "count": 0
           },
           {
            "bin_start": 0.8875000000000001,
            "bin_end": 0.9875,
            "count": 0
           },
           {
            "bin_start": 0.9875,
            "bin_end": 1.0875,
            "count": 0
           },
           {
            "bin_start": 1.0875,
            "bin_end": 1.1875,
            "count": 0
           }
          ]
         }
        },
        {
         "name": "note_value",
         "dtype": "object",
         "stats": {
          "unique_count": 1,
          "nan_count": 0,
          "categories": [
           {
            "name": "Dotted Eighth",
            "count": 5
           }
          ]
         }
        },
        {
         "name": "note",
         "dtype": "int64",
         "stats": {
          "unique_count": 2,
          "nan_count": 0,
          "min": "55",
          "max": "63",
          "histogram": [
           {
            "bin_start": 55,
            "bin_end": 55.8,
            "count": 3
           },
           {
            "bin_start": 55.8,
            "bin_end": 56.6,
            "count": 0
           },
           {
            "bin_start": 56.6,
            "bin_end": 57.4,
            "count": 0
           },
           {
            "bin_start": 57.4,
            "bin_end": 58.2,
            "count": 0
           },
           {
            "bin_start": 58.2,
            "bin_end": 59,
            "count": 0
           },
           {
            "bin_start": 59,
            "bin_end": 59.8,
            "count": 0
           },
           {
            "bin_start": 59.8,
            "bin_end": 60.6,
            "count": 0
           },
           {
            "bin_start": 60.6,
            "bin_end": 61.4,
            "count": 0
           },
           {
            "bin_start": 61.4,
            "bin_end": 62.2,
            "count": 0
           },
           {
            "bin_start": 62.2,
            "bin_end": 63,
            "count": 2
           }
          ]
         }
        },
        {
         "name": "tonic_encoded",
         "dtype": "int64",
         "stats": {
          "unique_count": 1,
          "nan_count": 0,
          "min": "3",
          "max": "3",
          "histogram": [
           {
            "bin_start": 2.5,
            "bin_end": 2.6,
            "count": 0
           },
           {
            "bin_start": 2.6,
            "bin_end": 2.7,
            "count": 0
           },
           {
            "bin_start": 2.7,
            "bin_end": 2.8,
            "count": 0
           },
           {
            "bin_start": 2.8,
            "bin_end": 2.9,
            "count": 0
           },
           {
            "bin_start": 2.9,
            "bin_end": 3,
            "count": 0
           },
           {
            "bin_start": 3,
            "bin_end": 3.1,
            "count": 5
           },
           {
            "bin_start": 3.1,
            "bin_end": 3.2,
            "count": 0
           },
           {
            "bin_start": 3.2,
            "bin_end": 3.3,
            "count": 0
           },
           {
            "bin_start": 3.3,
            "bin_end": 3.4,
            "count": 0
           },
           {
            "bin_start": 3.4,
            "bin_end": 3.5,
            "count": 0
           }
          ]
         }
        },
        {
         "name": "_deepnote_index_column",
         "dtype": "int64"
        }
       ],
       "rows": [
        {
         "id": 2416,
         "composer": "Beethoven",
         "instrument": 61,
         "start_beat": 2,
         "end_beat": 0.6875,
         "note_value": "Dotted Eighth",
         "note": 63,
         "tonic_encoded": 3,
         "_deepnote_index_column": 0
        },
        {
         "id": 2416,
         "composer": "Beethoven",
         "instrument": 61,
         "start_beat": 2,
         "end_beat": 0.6875,
         "note_value": "Dotted Eighth",
         "note": 55,
         "tonic_encoded": 3,
         "_deepnote_index_column": 1
        },
        {
         "id": 2416,
         "composer": "Beethoven",
         "instrument": 61,
         "start_beat": 3,
         "end_beat": 0.6875,
         "note_value": "Dotted Eighth",
         "note": 63,
         "tonic_encoded": 3,
         "_deepnote_index_column": 2
        },
        {
         "id": 2416,
         "composer": "Beethoven",
         "instrument": 61,
         "start_beat": 3,
         "end_beat": 0.6875,
         "note_value": "Dotted Eighth",
         "note": 55,
         "tonic_encoded": 3,
         "_deepnote_index_column": 3
        },
        {
         "id": 2416,
         "composer": "Beethoven",
         "instrument": 61,
         "start_beat": 4,
         "end_beat": 0.6875,
         "note_value": "Dotted Eighth",
         "note": 55,
         "tonic_encoded": 3,
         "_deepnote_index_column": 4
        }
       ]
      },
      "text/plain": "     id   composer  instrument  start_beat  end_beat     note_value  note  \\\n0  2416  Beethoven          61         2.0    0.6875  Dotted Eighth    63   \n1  2416  Beethoven          61         2.0    0.6875  Dotted Eighth    55   \n2  2416  Beethoven          61         3.0    0.6875  Dotted Eighth    63   \n3  2416  Beethoven          61         3.0    0.6875  Dotted Eighth    55   \n4  2416  Beethoven          61         4.0    0.6875  Dotted Eighth    55   \n\n   tonic_encoded  \n0              3  \n1              3  \n2              3  \n3              3  \n4              3  ",
      "text/html": "<div>\n<style scoped>\n    .dataframe tbody tr th:only-of-type {\n        vertical-align: middle;\n    }\n\n    .dataframe tbody tr th {\n        vertical-align: top;\n    }\n\n    .dataframe thead th {\n        text-align: right;\n    }\n</style>\n<table border=\"1\" class=\"dataframe\">\n  <thead>\n    <tr style=\"text-align: right;\">\n      <th></th>\n      <th>id</th>\n      <th>composer</th>\n      <th>instrument</th>\n      <th>start_beat</th>\n      <th>end_beat</th>\n      <th>note_value</th>\n      <th>note</th>\n      <th>tonic_encoded</th>\n    </tr>\n  </thead>\n  <tbody>\n    <tr>\n      <th>0</th>\n      <td>2416</td>\n      <td>Beethoven</td>\n      <td>61</td>\n      <td>2.0</td>\n      <td>0.6875</td>\n      <td>Dotted Eighth</td>\n      <td>63</td>\n      <td>3</td>\n    </tr>\n    <tr>\n      <th>1</th>\n      <td>2416</td>\n      <td>Beethoven</td>\n      <td>61</td>\n      <td>2.0</td>\n      <td>0.6875</td>\n      <td>Dotted Eighth</td>\n      <td>55</td>\n      <td>3</td>\n    </tr>\n    <tr>\n      <th>2</th>\n      <td>2416</td>\n      <td>Beethoven</td>\n      <td>61</td>\n      <td>3.0</td>\n      <td>0.6875</td>\n      <td>Dotted Eighth</td>\n      <td>63</td>\n      <td>3</td>\n    </tr>\n    <tr>\n      <th>3</th>\n      <td>2416</td>\n      <td>Beethoven</td>\n      <td>61</td>\n      <td>3.0</td>\n      <td>0.6875</td>\n      <td>Dotted Eighth</td>\n      <td>55</td>\n      <td>3</td>\n    </tr>\n    <tr>\n      <th>4</th>\n      <td>2416</td>\n      <td>Beethoven</td>\n      <td>61</td>\n      <td>4.0</td>\n      <td>0.6875</td>\n      <td>Dotted Eighth</td>\n      <td>55</td>\n      <td>3</td>\n    </tr>\n  </tbody>\n</table>\n</div>"
     },
     "metadata": {}
    }
   ]
  },
  {
   "cell_type": "code",
   "metadata": {
    "tags": [],
    "cell_id": "d8ae32d8-754e-46e3-a686-c3517c77341e",
    "deepnote_cell_height": 138,
    "deepnote_to_be_reexecuted": false,
    "source_hash": "3fb84b5",
    "execution_start": 1645737240844,
    "execution_millis": 91,
    "deepnote_cell_type": "code"
   },
   "source": "# Creating the column 'relative_note'\n# We need the remainder of the note divided by 12, so we get the note regardless of the octave used.\ndf['relative_note'] = (df.note - df.tonic_encoded)%12\ndf.head(5)",
   "execution_count": null,
   "outputs": [
    {
     "output_type": "execute_result",
     "execution_count": 6,
     "data": {
      "application/vnd.deepnote.dataframe.v3+json": {
       "column_count": 9,
       "row_count": 5,
       "columns": [
        {
         "name": "id",
         "dtype": "int64",
         "stats": {
          "unique_count": 1,
          "nan_count": 0,
          "min": "2416",
          "max": "2416",
          "histogram": [
           {
            "bin_start": 2415.5,
            "bin_end": 2415.6,
            "count": 0
           },
           {
            "bin_start": 2415.6,
            "bin_end": 2415.7,
            "count": 0
           },
           {
            "bin_start": 2415.7,
            "bin_end": 2415.8,
            "count": 0
           },
           {
            "bin_start": 2415.8,
            "bin_end": 2415.9,
            "count": 0
           },
           {
            "bin_start": 2415.9,
            "bin_end": 2416,
            "count": 0
           },
           {
            "bin_start": 2416,
            "bin_end": 2416.1,
            "count": 5
           },
           {
            "bin_start": 2416.1,
            "bin_end": 2416.2,
            "count": 0
           },
           {
            "bin_start": 2416.2,
            "bin_end": 2416.3,
            "count": 0
           },
           {
            "bin_start": 2416.3,
            "bin_end": 2416.4,
            "count": 0
           },
           {
            "bin_start": 2416.4,
            "bin_end": 2416.5,
            "count": 0
           }
          ]
         }
        },
        {
         "name": "composer",
         "dtype": "object",
         "stats": {
          "unique_count": 1,
          "nan_count": 0,
          "categories": [
           {
            "name": "Beethoven",
            "count": 5
           }
          ]
         }
        },
        {
         "name": "instrument",
         "dtype": "int64",
         "stats": {
          "unique_count": 1,
          "nan_count": 0,
          "min": "61",
          "max": "61",
          "histogram": [
           {
            "bin_start": 60.5,
            "bin_end": 60.6,
            "count": 0
           },
           {
            "bin_start": 60.6,
            "bin_end": 60.7,
            "count": 0
           },
           {
            "bin_start": 60.7,
            "bin_end": 60.8,
            "count": 0
           },
           {
            "bin_start": 60.8,
            "bin_end": 60.9,
            "count": 0
           },
           {
            "bin_start": 60.9,
            "bin_end": 61,
            "count": 0
           },
           {
            "bin_start": 61,
            "bin_end": 61.1,
            "count": 5
           },
           {
            "bin_start": 61.1,
            "bin_end": 61.2,
            "count": 0
           },
           {
            "bin_start": 61.2,
            "bin_end": 61.3,
            "count": 0
           },
           {
            "bin_start": 61.3,
            "bin_end": 61.4,
            "count": 0
           },
           {
            "bin_start": 61.4,
            "bin_end": 61.5,
            "count": 0
           }
          ]
         }
        },
        {
         "name": "start_beat",
         "dtype": "float64",
         "stats": {
          "unique_count": 3,
          "nan_count": 0,
          "min": "2.0",
          "max": "4.0",
          "histogram": [
           {
            "bin_start": 2,
            "bin_end": 2.2,
            "count": 2
           },
           {
            "bin_start": 2.2,
            "bin_end": 2.4,
            "count": 0
           },
           {
            "bin_start": 2.4,
            "bin_end": 2.6,
            "count": 0
           },
           {
            "bin_start": 2.6,
            "bin_end": 2.8,
            "count": 0
           },
           {
            "bin_start": 2.8,
            "bin_end": 3,
            "count": 0
           },
           {
            "bin_start": 3,
            "bin_end": 3.2,
            "count": 2
           },
           {
            "bin_start": 3.2,
            "bin_end": 3.4000000000000004,
            "count": 0
           },
           {
            "bin_start": 3.4000000000000004,
            "bin_end": 3.6,
            "count": 0
           },
           {
            "bin_start": 3.6,
            "bin_end": 3.8,
            "count": 0
           },
           {
            "bin_start": 3.8,
            "bin_end": 4,
            "count": 1
           }
          ]
         }
        },
        {
         "name": "end_beat",
         "dtype": "float64",
         "stats": {
          "unique_count": 1,
          "nan_count": 0,
          "min": "0.6875",
          "max": "0.6875",
          "histogram": [
           {
            "bin_start": 0.1875,
            "bin_end": 0.2875,
            "count": 0
           },
           {
            "bin_start": 0.2875,
            "bin_end": 0.3875,
            "count": 0
           },
           {
            "bin_start": 0.3875,
            "bin_end": 0.48750000000000004,
            "count": 0
           },
           {
            "bin_start": 0.48750000000000004,
            "bin_end": 0.5875,
            "count": 0
           },
           {
            "bin_start": 0.5875,
            "bin_end": 0.6875,
            "count": 0
           },
           {
            "bin_start": 0.6875,
            "bin_end": 0.7875000000000001,
            "count": 5
           },
           {
            "bin_start": 0.7875000000000001,
            "bin_end": 0.8875000000000001,
            "count": 0
           },
           {
            "bin_start": 0.8875000000000001,
            "bin_end": 0.9875,
            "count": 0
           },
           {
            "bin_start": 0.9875,
            "bin_end": 1.0875,
            "count": 0
           },
           {
            "bin_start": 1.0875,
            "bin_end": 1.1875,
            "count": 0
           }
          ]
         }
        },
        {
         "name": "note_value",
         "dtype": "object",
         "stats": {
          "unique_count": 1,
          "nan_count": 0,
          "categories": [
           {
            "name": "Dotted Eighth",
            "count": 5
           }
          ]
         }
        },
        {
         "name": "note",
         "dtype": "int64",
         "stats": {
          "unique_count": 2,
          "nan_count": 0,
          "min": "55",
          "max": "63",
          "histogram": [
           {
            "bin_start": 55,
            "bin_end": 55.8,
            "count": 3
           },
           {
            "bin_start": 55.8,
            "bin_end": 56.6,
            "count": 0
           },
           {
            "bin_start": 56.6,
            "bin_end": 57.4,
            "count": 0
           },
           {
            "bin_start": 57.4,
            "bin_end": 58.2,
            "count": 0
           },
           {
            "bin_start": 58.2,
            "bin_end": 59,
            "count": 0
           },
           {
            "bin_start": 59,
            "bin_end": 59.8,
            "count": 0
           },
           {
            "bin_start": 59.8,
            "bin_end": 60.6,
            "count": 0
           },
           {
            "bin_start": 60.6,
            "bin_end": 61.4,
            "count": 0
           },
           {
            "bin_start": 61.4,
            "bin_end": 62.2,
            "count": 0
           },
           {
            "bin_start": 62.2,
            "bin_end": 63,
            "count": 2
           }
          ]
         }
        },
        {
         "name": "tonic_encoded",
         "dtype": "int64",
         "stats": {
          "unique_count": 1,
          "nan_count": 0,
          "min": "3",
          "max": "3",
          "histogram": [
           {
            "bin_start": 2.5,
            "bin_end": 2.6,
            "count": 0
           },
           {
            "bin_start": 2.6,
            "bin_end": 2.7,
            "count": 0
           },
           {
            "bin_start": 2.7,
            "bin_end": 2.8,
            "count": 0
           },
           {
            "bin_start": 2.8,
            "bin_end": 2.9,
            "count": 0
           },
           {
            "bin_start": 2.9,
            "bin_end": 3,
            "count": 0
           },
           {
            "bin_start": 3,
            "bin_end": 3.1,
            "count": 5
           },
           {
            "bin_start": 3.1,
            "bin_end": 3.2,
            "count": 0
           },
           {
            "bin_start": 3.2,
            "bin_end": 3.3,
            "count": 0
           },
           {
            "bin_start": 3.3,
            "bin_end": 3.4,
            "count": 0
           },
           {
            "bin_start": 3.4,
            "bin_end": 3.5,
            "count": 0
           }
          ]
         }
        },
        {
         "name": "relative_note",
         "dtype": "int64",
         "stats": {
          "unique_count": 2,
          "nan_count": 0,
          "min": "0",
          "max": "4",
          "histogram": [
           {
            "bin_start": 0,
            "bin_end": 0.4,
            "count": 2
           },
           {
            "bin_start": 0.4,
            "bin_end": 0.8,
            "count": 0
           },
           {
            "bin_start": 0.8,
            "bin_end": 1.2000000000000002,
            "count": 0
           },
           {
            "bin_start": 1.2000000000000002,
            "bin_end": 1.6,
            "count": 0
           },
           {
            "bin_start": 1.6,
            "bin_end": 2,
            "count": 0
           },
           {
            "bin_start": 2,
            "bin_end": 2.4000000000000004,
            "count": 0
           },
           {
            "bin_start": 2.4000000000000004,
            "bin_end": 2.8000000000000003,
            "count": 0
           },
           {
            "bin_start": 2.8000000000000003,
            "bin_end": 3.2,
            "count": 0
           },
           {
            "bin_start": 3.2,
            "bin_end": 3.6,
            "count": 0
           },
           {
            "bin_start": 3.6,
            "bin_end": 4,
            "count": 3
           }
          ]
         }
        },
        {
         "name": "_deepnote_index_column",
         "dtype": "int64"
        }
       ],
       "rows": [
        {
         "id": 2416,
         "composer": "Beethoven",
         "instrument": 61,
         "start_beat": 2,
         "end_beat": 0.6875,
         "note_value": "Dotted Eighth",
         "note": 63,
         "tonic_encoded": 3,
         "relative_note": 0,
         "_deepnote_index_column": 0
        },
        {
         "id": 2416,
         "composer": "Beethoven",
         "instrument": 61,
         "start_beat": 2,
         "end_beat": 0.6875,
         "note_value": "Dotted Eighth",
         "note": 55,
         "tonic_encoded": 3,
         "relative_note": 4,
         "_deepnote_index_column": 1
        },
        {
         "id": 2416,
         "composer": "Beethoven",
         "instrument": 61,
         "start_beat": 3,
         "end_beat": 0.6875,
         "note_value": "Dotted Eighth",
         "note": 63,
         "tonic_encoded": 3,
         "relative_note": 0,
         "_deepnote_index_column": 2
        },
        {
         "id": 2416,
         "composer": "Beethoven",
         "instrument": 61,
         "start_beat": 3,
         "end_beat": 0.6875,
         "note_value": "Dotted Eighth",
         "note": 55,
         "tonic_encoded": 3,
         "relative_note": 4,
         "_deepnote_index_column": 3
        },
        {
         "id": 2416,
         "composer": "Beethoven",
         "instrument": 61,
         "start_beat": 4,
         "end_beat": 0.6875,
         "note_value": "Dotted Eighth",
         "note": 55,
         "tonic_encoded": 3,
         "relative_note": 4,
         "_deepnote_index_column": 4
        }
       ]
      },
      "text/plain": "     id   composer  instrument  start_beat  end_beat     note_value  note  \\\n0  2416  Beethoven          61         2.0    0.6875  Dotted Eighth    63   \n1  2416  Beethoven          61         2.0    0.6875  Dotted Eighth    55   \n2  2416  Beethoven          61         3.0    0.6875  Dotted Eighth    63   \n3  2416  Beethoven          61         3.0    0.6875  Dotted Eighth    55   \n4  2416  Beethoven          61         4.0    0.6875  Dotted Eighth    55   \n\n   tonic_encoded  relative_note  \n0              3              0  \n1              3              4  \n2              3              0  \n3              3              4  \n4              3              4  ",
      "text/html": "<div>\n<style scoped>\n    .dataframe tbody tr th:only-of-type {\n        vertical-align: middle;\n    }\n\n    .dataframe tbody tr th {\n        vertical-align: top;\n    }\n\n    .dataframe thead th {\n        text-align: right;\n    }\n</style>\n<table border=\"1\" class=\"dataframe\">\n  <thead>\n    <tr style=\"text-align: right;\">\n      <th></th>\n      <th>id</th>\n      <th>composer</th>\n      <th>instrument</th>\n      <th>start_beat</th>\n      <th>end_beat</th>\n      <th>note_value</th>\n      <th>note</th>\n      <th>tonic_encoded</th>\n      <th>relative_note</th>\n    </tr>\n  </thead>\n  <tbody>\n    <tr>\n      <th>0</th>\n      <td>2416</td>\n      <td>Beethoven</td>\n      <td>61</td>\n      <td>2.0</td>\n      <td>0.6875</td>\n      <td>Dotted Eighth</td>\n      <td>63</td>\n      <td>3</td>\n      <td>0</td>\n    </tr>\n    <tr>\n      <th>1</th>\n      <td>2416</td>\n      <td>Beethoven</td>\n      <td>61</td>\n      <td>2.0</td>\n      <td>0.6875</td>\n      <td>Dotted Eighth</td>\n      <td>55</td>\n      <td>3</td>\n      <td>4</td>\n    </tr>\n    <tr>\n      <th>2</th>\n      <td>2416</td>\n      <td>Beethoven</td>\n      <td>61</td>\n      <td>3.0</td>\n      <td>0.6875</td>\n      <td>Dotted Eighth</td>\n      <td>63</td>\n      <td>3</td>\n      <td>0</td>\n    </tr>\n    <tr>\n      <th>3</th>\n      <td>2416</td>\n      <td>Beethoven</td>\n      <td>61</td>\n      <td>3.0</td>\n      <td>0.6875</td>\n      <td>Dotted Eighth</td>\n      <td>55</td>\n      <td>3</td>\n      <td>4</td>\n    </tr>\n    <tr>\n      <th>4</th>\n      <td>2416</td>\n      <td>Beethoven</td>\n      <td>61</td>\n      <td>4.0</td>\n      <td>0.6875</td>\n      <td>Dotted Eighth</td>\n      <td>55</td>\n      <td>3</td>\n      <td>4</td>\n    </tr>\n  </tbody>\n</table>\n</div>"
     },
     "metadata": {}
    }
   ]
  },
  {
   "cell_type": "code",
   "metadata": {
    "cell_id": "71cda42c-b9e1-4809-a0ff-73766a073225",
    "tags": [],
    "deepnote_to_be_reexecuted": false,
    "source_hash": "50c1c342",
    "execution_start": 1645737240848,
    "execution_millis": 87,
    "deepnote_cell_type": "code"
   },
   "source": "# I've just realised that the column 'end_beat' actually shows duration of the note measured in quarter notes\ndf.rename({'end_beat': 'note_duration'}, axis=1, inplace=True)\ndf.head(5)",
   "execution_count": null,
   "outputs": [
    {
     "output_type": "execute_result",
     "execution_count": 7,
     "data": {
      "application/vnd.deepnote.dataframe.v3+json": {
       "column_count": 9,
       "row_count": 5,
       "columns": [
        {
         "name": "id",
         "dtype": "int64",
         "stats": {
          "unique_count": 1,
          "nan_count": 0,
          "min": "2416",
          "max": "2416",
          "histogram": [
           {
            "bin_start": 2415.5,
            "bin_end": 2415.6,
            "count": 0
           },
           {
            "bin_start": 2415.6,
            "bin_end": 2415.7,
            "count": 0
           },
           {
            "bin_start": 2415.7,
            "bin_end": 2415.8,
            "count": 0
           },
           {
            "bin_start": 2415.8,
            "bin_end": 2415.9,
            "count": 0
           },
           {
            "bin_start": 2415.9,
            "bin_end": 2416,
            "count": 0
           },
           {
            "bin_start": 2416,
            "bin_end": 2416.1,
            "count": 5
           },
           {
            "bin_start": 2416.1,
            "bin_end": 2416.2,
            "count": 0
           },
           {
            "bin_start": 2416.2,
            "bin_end": 2416.3,
            "count": 0
           },
           {
            "bin_start": 2416.3,
            "bin_end": 2416.4,
            "count": 0
           },
           {
            "bin_start": 2416.4,
            "bin_end": 2416.5,
            "count": 0
           }
          ]
         }
        },
        {
         "name": "composer",
         "dtype": "object",
         "stats": {
          "unique_count": 1,
          "nan_count": 0,
          "categories": [
           {
            "name": "Beethoven",
            "count": 5
           }
          ]
         }
        },
        {
         "name": "instrument",
         "dtype": "int64",
         "stats": {
          "unique_count": 1,
          "nan_count": 0,
          "min": "61",
          "max": "61",
          "histogram": [
           {
            "bin_start": 60.5,
            "bin_end": 60.6,
            "count": 0
           },
           {
            "bin_start": 60.6,
            "bin_end": 60.7,
            "count": 0
           },
           {
            "bin_start": 60.7,
            "bin_end": 60.8,
            "count": 0
           },
           {
            "bin_start": 60.8,
            "bin_end": 60.9,
            "count": 0
           },
           {
            "bin_start": 60.9,
            "bin_end": 61,
            "count": 0
           },
           {
            "bin_start": 61,
            "bin_end": 61.1,
            "count": 5
           },
           {
            "bin_start": 61.1,
            "bin_end": 61.2,
            "count": 0
           },
           {
            "bin_start": 61.2,
            "bin_end": 61.3,
            "count": 0
           },
           {
            "bin_start": 61.3,
            "bin_end": 61.4,
            "count": 0
           },
           {
            "bin_start": 61.4,
            "bin_end": 61.5,
            "count": 0
           }
          ]
         }
        },
        {
         "name": "start_beat",
         "dtype": "float64",
         "stats": {
          "unique_count": 3,
          "nan_count": 0,
          "min": "2.0",
          "max": "4.0",
          "histogram": [
           {
            "bin_start": 2,
            "bin_end": 2.2,
            "count": 2
           },
           {
            "bin_start": 2.2,
            "bin_end": 2.4,
            "count": 0
           },
           {
            "bin_start": 2.4,
            "bin_end": 2.6,
            "count": 0
           },
           {
            "bin_start": 2.6,
            "bin_end": 2.8,
            "count": 0
           },
           {
            "bin_start": 2.8,
            "bin_end": 3,
            "count": 0
           },
           {
            "bin_start": 3,
            "bin_end": 3.2,
            "count": 2
           },
           {
            "bin_start": 3.2,
            "bin_end": 3.4000000000000004,
            "count": 0
           },
           {
            "bin_start": 3.4000000000000004,
            "bin_end": 3.6,
            "count": 0
           },
           {
            "bin_start": 3.6,
            "bin_end": 3.8,
            "count": 0
           },
           {
            "bin_start": 3.8,
            "bin_end": 4,
            "count": 1
           }
          ]
         }
        },
        {
         "name": "note_duration",
         "dtype": "float64",
         "stats": {
          "unique_count": 1,
          "nan_count": 0,
          "min": "0.6875",
          "max": "0.6875",
          "histogram": [
           {
            "bin_start": 0.1875,
            "bin_end": 0.2875,
            "count": 0
           },
           {
            "bin_start": 0.2875,
            "bin_end": 0.3875,
            "count": 0
           },
           {
            "bin_start": 0.3875,
            "bin_end": 0.48750000000000004,
            "count": 0
           },
           {
            "bin_start": 0.48750000000000004,
            "bin_end": 0.5875,
            "count": 0
           },
           {
            "bin_start": 0.5875,
            "bin_end": 0.6875,
            "count": 0
           },
           {
            "bin_start": 0.6875,
            "bin_end": 0.7875000000000001,
            "count": 5
           },
           {
            "bin_start": 0.7875000000000001,
            "bin_end": 0.8875000000000001,
            "count": 0
           },
           {
            "bin_start": 0.8875000000000001,
            "bin_end": 0.9875,
            "count": 0
           },
           {
            "bin_start": 0.9875,
            "bin_end": 1.0875,
            "count": 0
           },
           {
            "bin_start": 1.0875,
            "bin_end": 1.1875,
            "count": 0
           }
          ]
         }
        },
        {
         "name": "note_value",
         "dtype": "object",
         "stats": {
          "unique_count": 1,
          "nan_count": 0,
          "categories": [
           {
            "name": "Dotted Eighth",
            "count": 5
           }
          ]
         }
        },
        {
         "name": "note",
         "dtype": "int64",
         "stats": {
          "unique_count": 2,
          "nan_count": 0,
          "min": "55",
          "max": "63",
          "histogram": [
           {
            "bin_start": 55,
            "bin_end": 55.8,
            "count": 3
           },
           {
            "bin_start": 55.8,
            "bin_end": 56.6,
            "count": 0
           },
           {
            "bin_start": 56.6,
            "bin_end": 57.4,
            "count": 0
           },
           {
            "bin_start": 57.4,
            "bin_end": 58.2,
            "count": 0
           },
           {
            "bin_start": 58.2,
            "bin_end": 59,
            "count": 0
           },
           {
            "bin_start": 59,
            "bin_end": 59.8,
            "count": 0
           },
           {
            "bin_start": 59.8,
            "bin_end": 60.6,
            "count": 0
           },
           {
            "bin_start": 60.6,
            "bin_end": 61.4,
            "count": 0
           },
           {
            "bin_start": 61.4,
            "bin_end": 62.2,
            "count": 0
           },
           {
            "bin_start": 62.2,
            "bin_end": 63,
            "count": 2
           }
          ]
         }
        },
        {
         "name": "tonic_encoded",
         "dtype": "int64",
         "stats": {
          "unique_count": 1,
          "nan_count": 0,
          "min": "3",
          "max": "3",
          "histogram": [
           {
            "bin_start": 2.5,
            "bin_end": 2.6,
            "count": 0
           },
           {
            "bin_start": 2.6,
            "bin_end": 2.7,
            "count": 0
           },
           {
            "bin_start": 2.7,
            "bin_end": 2.8,
            "count": 0
           },
           {
            "bin_start": 2.8,
            "bin_end": 2.9,
            "count": 0
           },
           {
            "bin_start": 2.9,
            "bin_end": 3,
            "count": 0
           },
           {
            "bin_start": 3,
            "bin_end": 3.1,
            "count": 5
           },
           {
            "bin_start": 3.1,
            "bin_end": 3.2,
            "count": 0
           },
           {
            "bin_start": 3.2,
            "bin_end": 3.3,
            "count": 0
           },
           {
            "bin_start": 3.3,
            "bin_end": 3.4,
            "count": 0
           },
           {
            "bin_start": 3.4,
            "bin_end": 3.5,
            "count": 0
           }
          ]
         }
        },
        {
         "name": "relative_note",
         "dtype": "int64",
         "stats": {
          "unique_count": 2,
          "nan_count": 0,
          "min": "0",
          "max": "4",
          "histogram": [
           {
            "bin_start": 0,
            "bin_end": 0.4,
            "count": 2
           },
           {
            "bin_start": 0.4,
            "bin_end": 0.8,
            "count": 0
           },
           {
            "bin_start": 0.8,
            "bin_end": 1.2000000000000002,
            "count": 0
           },
           {
            "bin_start": 1.2000000000000002,
            "bin_end": 1.6,
            "count": 0
           },
           {
            "bin_start": 1.6,
            "bin_end": 2,
            "count": 0
           },
           {
            "bin_start": 2,
            "bin_end": 2.4000000000000004,
            "count": 0
           },
           {
            "bin_start": 2.4000000000000004,
            "bin_end": 2.8000000000000003,
            "count": 0
           },
           {
            "bin_start": 2.8000000000000003,
            "bin_end": 3.2,
            "count": 0
           },
           {
            "bin_start": 3.2,
            "bin_end": 3.6,
            "count": 0
           },
           {
            "bin_start": 3.6,
            "bin_end": 4,
            "count": 3
           }
          ]
         }
        },
        {
         "name": "_deepnote_index_column",
         "dtype": "int64"
        }
       ],
       "rows": [
        {
         "id": 2416,
         "composer": "Beethoven",
         "instrument": 61,
         "start_beat": 2,
         "note_duration": 0.6875,
         "note_value": "Dotted Eighth",
         "note": 63,
         "tonic_encoded": 3,
         "relative_note": 0,
         "_deepnote_index_column": 0
        },
        {
         "id": 2416,
         "composer": "Beethoven",
         "instrument": 61,
         "start_beat": 2,
         "note_duration": 0.6875,
         "note_value": "Dotted Eighth",
         "note": 55,
         "tonic_encoded": 3,
         "relative_note": 4,
         "_deepnote_index_column": 1
        },
        {
         "id": 2416,
         "composer": "Beethoven",
         "instrument": 61,
         "start_beat": 3,
         "note_duration": 0.6875,
         "note_value": "Dotted Eighth",
         "note": 63,
         "tonic_encoded": 3,
         "relative_note": 0,
         "_deepnote_index_column": 2
        },
        {
         "id": 2416,
         "composer": "Beethoven",
         "instrument": 61,
         "start_beat": 3,
         "note_duration": 0.6875,
         "note_value": "Dotted Eighth",
         "note": 55,
         "tonic_encoded": 3,
         "relative_note": 4,
         "_deepnote_index_column": 3
        },
        {
         "id": 2416,
         "composer": "Beethoven",
         "instrument": 61,
         "start_beat": 4,
         "note_duration": 0.6875,
         "note_value": "Dotted Eighth",
         "note": 55,
         "tonic_encoded": 3,
         "relative_note": 4,
         "_deepnote_index_column": 4
        }
       ]
      },
      "text/plain": "     id   composer  instrument  start_beat  note_duration     note_value  \\\n0  2416  Beethoven          61         2.0         0.6875  Dotted Eighth   \n1  2416  Beethoven          61         2.0         0.6875  Dotted Eighth   \n2  2416  Beethoven          61         3.0         0.6875  Dotted Eighth   \n3  2416  Beethoven          61         3.0         0.6875  Dotted Eighth   \n4  2416  Beethoven          61         4.0         0.6875  Dotted Eighth   \n\n   note  tonic_encoded  relative_note  \n0    63              3              0  \n1    55              3              4  \n2    63              3              0  \n3    55              3              4  \n4    55              3              4  ",
      "text/html": "<div>\n<style scoped>\n    .dataframe tbody tr th:only-of-type {\n        vertical-align: middle;\n    }\n\n    .dataframe tbody tr th {\n        vertical-align: top;\n    }\n\n    .dataframe thead th {\n        text-align: right;\n    }\n</style>\n<table border=\"1\" class=\"dataframe\">\n  <thead>\n    <tr style=\"text-align: right;\">\n      <th></th>\n      <th>id</th>\n      <th>composer</th>\n      <th>instrument</th>\n      <th>start_beat</th>\n      <th>note_duration</th>\n      <th>note_value</th>\n      <th>note</th>\n      <th>tonic_encoded</th>\n      <th>relative_note</th>\n    </tr>\n  </thead>\n  <tbody>\n    <tr>\n      <th>0</th>\n      <td>2416</td>\n      <td>Beethoven</td>\n      <td>61</td>\n      <td>2.0</td>\n      <td>0.6875</td>\n      <td>Dotted Eighth</td>\n      <td>63</td>\n      <td>3</td>\n      <td>0</td>\n    </tr>\n    <tr>\n      <th>1</th>\n      <td>2416</td>\n      <td>Beethoven</td>\n      <td>61</td>\n      <td>2.0</td>\n      <td>0.6875</td>\n      <td>Dotted Eighth</td>\n      <td>55</td>\n      <td>3</td>\n      <td>4</td>\n    </tr>\n    <tr>\n      <th>2</th>\n      <td>2416</td>\n      <td>Beethoven</td>\n      <td>61</td>\n      <td>3.0</td>\n      <td>0.6875</td>\n      <td>Dotted Eighth</td>\n      <td>63</td>\n      <td>3</td>\n      <td>0</td>\n    </tr>\n    <tr>\n      <th>3</th>\n      <td>2416</td>\n      <td>Beethoven</td>\n      <td>61</td>\n      <td>3.0</td>\n      <td>0.6875</td>\n      <td>Dotted Eighth</td>\n      <td>55</td>\n      <td>3</td>\n      <td>4</td>\n    </tr>\n    <tr>\n      <th>4</th>\n      <td>2416</td>\n      <td>Beethoven</td>\n      <td>61</td>\n      <td>4.0</td>\n      <td>0.6875</td>\n      <td>Dotted Eighth</td>\n      <td>55</td>\n      <td>3</td>\n      <td>4</td>\n    </tr>\n  </tbody>\n</table>\n</div>"
     },
     "metadata": {}
    }
   ]
  },
  {
   "cell_type": "markdown",
   "source": "#### General Overview\n\nOk, now we've got the `relative_note` column, we can start our analysis.",
   "metadata": {
    "cell_id": "f6dfbabf-eece-4b5b-83c1-bb19cbf4e56a",
    "tags": [],
    "deepnote_cell_type": "markdown"
   }
  },
  {
   "cell_type": "code",
   "metadata": {
    "cell_id": "58472887-dc18-4f12-893d-dbdba27d357a",
    "tags": [],
    "deepnote_to_be_reexecuted": false,
    "source_hash": "2935456a",
    "execution_start": 1645737240849,
    "execution_millis": 86,
    "deepnote_cell_type": "code"
   },
   "source": "# Shape of the dataset now we've joined with the metadata\ndf.shape",
   "execution_count": null,
   "outputs": [
    {
     "output_type": "execute_result",
     "execution_count": 8,
     "data": {
      "text/plain": "(1078664, 9)"
     },
     "metadata": {}
    }
   ]
  },
  {
   "cell_type": "code",
   "metadata": {
    "cell_id": "9a6433c6-d3d7-4897-82b5-8a6e6816bea9",
    "tags": [],
    "deepnote_to_be_reexecuted": false,
    "source_hash": "52430027",
    "execution_start": 1645737240851,
    "execution_millis": 84,
    "deepnote_cell_type": "code"
   },
   "source": "df.dtypes",
   "execution_count": null,
   "outputs": [
    {
     "output_type": "execute_result",
     "execution_count": 9,
     "data": {
      "text/plain": "id                 int64\ncomposer          object\ninstrument         int64\nstart_beat       float64\nnote_duration    float64\nnote_value        object\nnote               int64\ntonic_encoded      int64\nrelative_note      int64\ndtype: object"
     },
     "metadata": {}
    }
   ]
  },
  {
   "cell_type": "code",
   "metadata": {
    "cell_id": "a4df7872-1e37-467a-97a5-64379c120c98",
    "tags": [],
    "deepnote_to_be_reexecuted": false,
    "source_hash": "9f8aa7e5",
    "execution_start": 1645737240852,
    "execution_millis": 83,
    "deepnote_cell_type": "code"
   },
   "source": "# Checking for duplicated rows\ndf.duplicated().value_counts()",
   "execution_count": null,
   "outputs": [
    {
     "output_type": "execute_result",
     "execution_count": 10,
     "data": {
      "text/plain": "False    1078664\ndtype: int64"
     },
     "metadata": {}
    }
   ]
  },
  {
   "cell_type": "code",
   "metadata": {
    "cell_id": "610b62c3-ae53-459e-9385-60dace367c98",
    "tags": [],
    "deepnote_to_be_reexecuted": false,
    "source_hash": "449fbdc9",
    "execution_start": 1645737240937,
    "execution_millis": 94,
    "deepnote_cell_type": "code"
   },
   "source": "# Checking for NaN values\ndf.isna().any()",
   "execution_count": null,
   "outputs": [
    {
     "output_type": "execute_result",
     "execution_count": 11,
     "data": {
      "text/plain": "id               False\ncomposer         False\ninstrument       False\nstart_beat       False\nnote_duration    False\nnote_value       False\nnote             False\ntonic_encoded    False\nrelative_note    False\ndtype: bool"
     },
     "metadata": {}
    }
   ]
  },
  {
   "cell_type": "code",
   "metadata": {
    "cell_id": "1de75cf2-c784-4eab-a2c7-789b9f63b329",
    "tags": [],
    "deepnote_to_be_reexecuted": false,
    "source_hash": "5391d77c",
    "execution_start": 1645737240938,
    "execution_millis": 302,
    "deepnote_cell_type": "code"
   },
   "source": "# General check of numeric variables\ndf.describe()",
   "execution_count": null,
   "outputs": [
    {
     "output_type": "execute_result",
     "execution_count": 12,
     "data": {
      "application/vnd.deepnote.dataframe.v3+json": {
       "column_count": 7,
       "row_count": 8,
       "columns": [
        {
         "name": "id",
         "dtype": "float64",
         "stats": {
          "unique_count": 8,
          "nan_count": 0,
          "min": "288.18506605219056",
          "max": "1078664.0",
          "histogram": [
           {
            "bin_start": 288.18506605219056,
            "bin_end": 108125.76655944696,
            "count": 7
           },
           {
            "bin_start": 108125.76655944696,
            "bin_end": 215963.34805284173,
            "count": 0
           },
           {
            "bin_start": 215963.34805284173,
            "bin_end": 323800.92954623647,
            "count": 0
           },
           {
            "bin_start": 323800.92954623647,
            "bin_end": 431638.51103963127,
            "count": 0
           },
           {
            "bin_start": 431638.51103963127,
            "bin_end": 539476.0925330261,
            "count": 0
           },
           {
            "bin_start": 539476.0925330261,
            "bin_end": 647313.6740264208,
            "count": 0
           },
           {
            "bin_start": 647313.6740264208,
            "bin_end": 755151.2555198156,
            "count": 0
           },
           {
            "bin_start": 755151.2555198156,
            "bin_end": 862988.8370132104,
            "count": 0
           },
           {
            "bin_start": 862988.8370132104,
            "bin_end": 970826.4185066052,
            "count": 0
           },
           {
            "bin_start": 970826.4185066052,
            "bin_end": 1078664,
            "count": 1
           }
          ]
         }
        },
        {
         "name": "instrument",
         "dtype": "float64",
         "stats": {
          "unique_count": 6,
          "nan_count": 0,
          "min": "1.0",
          "max": "1078664.0",
          "histogram": [
           {
            "bin_start": 1,
            "bin_end": 107867.3,
            "count": 7
           },
           {
            "bin_start": 107867.3,
            "bin_end": 215733.6,
            "count": 0
           },
           {
            "bin_start": 215733.6,
            "bin_end": 323599.9,
            "count": 0
           },
           {
            "bin_start": 323599.9,
            "bin_end": 431466.2,
            "count": 0
           },
           {
            "bin_start": 431466.2,
            "bin_end": 539332.5,
            "count": 0
           },
           {
            "bin_start": 539332.5,
            "bin_end": 647198.8,
            "count": 0
           },
           {
            "bin_start": 647198.8,
            "bin_end": 755065.1,
            "count": 0
           },
           {
            "bin_start": 755065.1,
            "bin_end": 862931.4,
            "count": 0
           },
           {
            "bin_start": 862931.4,
            "bin_end": 970797.7000000001,
            "count": 0
           },
           {
            "bin_start": 970797.7000000001,
            "bin_end": 1078664,
            "count": 1
           }
          ]
         }
        },
        {
         "name": "start_beat",
         "dtype": "float64",
         "stats": {
          "unique_count": 8,
          "nan_count": 0,
          "min": "0.0",
          "max": "1078664.0",
          "histogram": [
           {
            "bin_start": 0,
            "bin_end": 107866.4,
            "count": 7
           },
           {
            "bin_start": 107866.4,
            "bin_end": 215732.8,
            "count": 0
           },
           {
            "bin_start": 215732.8,
            "bin_end": 323599.19999999995,
            "count": 0
           },
           {
            "bin_start": 323599.19999999995,
            "bin_end": 431465.6,
            "count": 0
           },
           {
            "bin_start": 431465.6,
            "bin_end": 539332,
            "count": 0
           },
           {
            "bin_start": 539332,
            "bin_end": 647198.3999999999,
            "count": 0
           },
           {
            "bin_start": 647198.3999999999,
            "bin_end": 755064.7999999999,
            "count": 0
           },
           {
            "bin_start": 755064.7999999999,
            "bin_end": 862931.2,
            "count": 0
           },
           {
            "bin_start": 862931.2,
            "bin_end": 970797.6,
            "count": 0
           },
           {
            "bin_start": 970797.6,
            "bin_end": 1078664,
            "count": 1
           }
          ]
         }
        },
        {
         "name": "note_duration",
         "dtype": "float64",
         "stats": {
          "unique_count": 8,
          "nan_count": 0,
          "min": "0.00833333333333",
          "max": "1078664.0",
          "histogram": [
           {
            "bin_start": 0.00833333333333,
            "bin_end": 107866.4075,
            "count": 7
           },
           {
            "bin_start": 107866.4075,
            "bin_end": 215732.80666666667,
            "count": 0
           },
           {
            "bin_start": 215732.80666666667,
            "bin_end": 323599.20583333337,
            "count": 0
           },
           {
            "bin_start": 323599.20583333337,
            "bin_end": 431465.60500000004,
            "count": 0
           },
           {
            "bin_start": 431465.60500000004,
            "bin_end": 539332.0041666667,
            "count": 0
           },
           {
            "bin_start": 539332.0041666667,
            "bin_end": 647198.4033333333,
            "count": 0
           },
           {
            "bin_start": 647198.4033333333,
            "bin_end": 755064.8025,
            "count": 0
           },
           {
            "bin_start": 755064.8025,
            "bin_end": 862931.2016666667,
            "count": 0
           },
           {
            "bin_start": 862931.2016666667,
            "bin_end": 970797.6008333333,
            "count": 0
           },
           {
            "bin_start": 970797.6008333333,
            "bin_end": 1078664,
            "count": 1
           }
          ]
         }
        },
        {
         "name": "note",
         "dtype": "float64",
         "stats": {
          "unique_count": 8,
          "nan_count": 0,
          "min": "12.665005885700015",
          "max": "1078664.0",
          "histogram": [
           {
            "bin_start": 12.665005885700015,
            "bin_end": 107877.79850529713,
            "count": 7
           },
           {
            "bin_start": 107877.79850529713,
            "bin_end": 215742.93200470856,
            "count": 0
           },
           {
            "bin_start": 215742.93200470856,
            "bin_end": 323608.06550412,
            "count": 0
           },
           {
            "bin_start": 323608.06550412,
            "bin_end": 431473.1990035314,
            "count": 0
           },
           {
            "bin_start": 431473.1990035314,
            "bin_end": 539338.3325029428,
            "count": 0
           },
           {
            "bin_start": 539338.3325029428,
            "bin_end": 647203.4660023543,
            "count": 0
           },
           {
            "bin_start": 647203.4660023543,
            "bin_end": 755068.5995017657,
            "count": 0
           },
           {
            "bin_start": 755068.5995017657,
            "bin_end": 862933.7330011771,
            "count": 0
           },
           {
            "bin_start": 862933.7330011771,
            "bin_end": 970798.8665005885,
            "count": 0
           },
           {
            "bin_start": 970798.8665005885,
            "bin_end": 1078664,
            "count": 1
           }
          ]
         }
        },
        {
         "name": "tonic_encoded",
         "dtype": "float64",
         "stats": {
          "unique_count": 8,
          "nan_count": 0,
          "min": "0.0",
          "max": "1078664.0",
          "histogram": [
           {
            "bin_start": 0,
            "bin_end": 107866.4,
            "count": 7
           },
           {
            "bin_start": 107866.4,
            "bin_end": 215732.8,
            "count": 0
           },
           {
            "bin_start": 215732.8,
            "bin_end": 323599.19999999995,
            "count": 0
           },
           {
            "bin_start": 323599.19999999995,
            "bin_end": 431465.6,
            "count": 0
           },
           {
            "bin_start": 431465.6,
            "bin_end": 539332,
            "count": 0
           },
           {
            "bin_start": 539332,
            "bin_end": 647198.3999999999,
            "count": 0
           },
           {
            "bin_start": 647198.3999999999,
            "bin_end": 755064.7999999999,
            "count": 0
           },
           {
            "bin_start": 755064.7999999999,
            "bin_end": 862931.2,
            "count": 0
           },
           {
            "bin_start": 862931.2,
            "bin_end": 970797.6,
            "count": 0
           },
           {
            "bin_start": 970797.6,
            "bin_end": 1078664,
            "count": 1
           }
          ]
         }
        },
        {
         "name": "relative_note",
         "dtype": "float64",
         "stats": {
          "unique_count": 8,
          "nan_count": 0,
          "min": "0.0",
          "max": "1078664.0",
          "histogram": [
           {
            "bin_start": 0,
            "bin_end": 107866.4,
            "count": 7
           },
           {
            "bin_start": 107866.4,
            "bin_end": 215732.8,
            "count": 0
           },
           {
            "bin_start": 215732.8,
            "bin_end": 323599.19999999995,
            "count": 0
           },
           {
            "bin_start": 323599.19999999995,
            "bin_end": 431465.6,
            "count": 0
           },
           {
            "bin_start": 431465.6,
            "bin_end": 539332,
            "count": 0
           },
           {
            "bin_start": 539332,
            "bin_end": 647198.3999999999,
            "count": 0
           },
           {
            "bin_start": 647198.3999999999,
            "bin_end": 755064.7999999999,
            "count": 0
           },
           {
            "bin_start": 755064.7999999999,
            "bin_end": 862931.2,
            "count": 0
           },
           {
            "bin_start": 862931.2,
            "bin_end": 970797.6,
            "count": 0
           },
           {
            "bin_start": 970797.6,
            "bin_end": 1078664,
            "count": 1
           }
          ]
         }
        },
        {
         "name": "_deepnote_index_column",
         "dtype": "object"
        }
       ],
       "rows": [
        {
         "id": 1078664,
         "instrument": 1078664,
         "start_beat": 1078664,
         "note_duration": 1078664,
         "note": 1078664,
         "tonic_encoded": 1078664,
         "relative_note": 1078664,
         "_deepnote_index_column": "count"
        },
        {
         "id": 2237.593422048015,
         "instrument": 19.38166287184888,
         "start_beat": 481.6420417221627,
         "note_duration": 0.6527726105340549,
         "note": 63.89427106123872,
         "tonic_encoded": 5.234182284752249,
         "relative_note": 5.143420008454903,
         "_deepnote_index_column": "mean"
        },
        {
         "id": 288.18506605219056,
         "instrument": 23.03962184337328,
         "start_beat": 442.1495392783329,
         "note_duration": 0.8411599330038249,
         "note": 12.665005885700015,
         "tonic_encoded": 3.349286367974945,
         "relative_note": 3.485569472437276,
         "_deepnote_index_column": "std"
        },
        {
         "id": 1727,
         "instrument": 1,
         "start_beat": 0,
         "note_duration": 0.00833333333333,
         "note": 21,
         "tonic_encoded": 0,
         "relative_note": 0,
         "_deepnote_index_column": "min"
        },
        {
         "id": 2080,
         "instrument": 1,
         "start_beat": 169,
         "note_duration": 0.241666666667,
         "note": 55,
         "tonic_encoded": 3,
         "relative_note": 2,
         "_deepnote_index_column": "25%"
        },
        {
         "id": 2320,
         "instrument": 1,
         "start_beat": 366,
         "note_duration": 0.489583333333,
         "note": 64,
         "tonic_encoded": 5,
         "relative_note": 5,
         "_deepnote_index_column": "50%"
        },
        {
         "id": 2483,
         "instrument": 41,
         "start_beat": 665.25,
         "note_duration": 0.875,
         "note": 74,
         "tonic_encoded": 9,
         "relative_note": 8,
         "_deepnote_index_column": "75%"
        },
        {
         "id": 2678,
         "instrument": 74,
         "start_beat": 4314,
         "note_duration": 102.979166667,
         "note": 104,
         "tonic_encoded": 11,
         "relative_note": 11,
         "_deepnote_index_column": "max"
        }
       ]
      },
      "text/plain": "                 id    instrument    start_beat  note_duration          note  \\\ncount  1.078664e+06  1.078664e+06  1.078664e+06   1.078664e+06  1.078664e+06   \nmean   2.237593e+03  1.938166e+01  4.816420e+02   6.527726e-01  6.389427e+01   \nstd    2.881851e+02  2.303962e+01  4.421495e+02   8.411599e-01  1.266501e+01   \nmin    1.727000e+03  1.000000e+00  0.000000e+00   8.333333e-03  2.100000e+01   \n25%    2.080000e+03  1.000000e+00  1.690000e+02   2.416667e-01  5.500000e+01   \n50%    2.320000e+03  1.000000e+00  3.660000e+02   4.895833e-01  6.400000e+01   \n75%    2.483000e+03  4.100000e+01  6.652500e+02   8.750000e-01  7.400000e+01   \nmax    2.678000e+03  7.400000e+01  4.314000e+03   1.029792e+02  1.040000e+02   \n\n       tonic_encoded  relative_note  \ncount   1.078664e+06   1.078664e+06  \nmean    5.234182e+00   5.143420e+00  \nstd     3.349286e+00   3.485569e+00  \nmin     0.000000e+00   0.000000e+00  \n25%     3.000000e+00   2.000000e+00  \n50%     5.000000e+00   5.000000e+00  \n75%     9.000000e+00   8.000000e+00  \nmax     1.100000e+01   1.100000e+01  ",
      "text/html": "<div>\n<style scoped>\n    .dataframe tbody tr th:only-of-type {\n        vertical-align: middle;\n    }\n\n    .dataframe tbody tr th {\n        vertical-align: top;\n    }\n\n    .dataframe thead th {\n        text-align: right;\n    }\n</style>\n<table border=\"1\" class=\"dataframe\">\n  <thead>\n    <tr style=\"text-align: right;\">\n      <th></th>\n      <th>id</th>\n      <th>instrument</th>\n      <th>start_beat</th>\n      <th>note_duration</th>\n      <th>note</th>\n      <th>tonic_encoded</th>\n      <th>relative_note</th>\n    </tr>\n  </thead>\n  <tbody>\n    <tr>\n      <th>count</th>\n      <td>1.078664e+06</td>\n      <td>1.078664e+06</td>\n      <td>1.078664e+06</td>\n      <td>1.078664e+06</td>\n      <td>1.078664e+06</td>\n      <td>1.078664e+06</td>\n      <td>1.078664e+06</td>\n    </tr>\n    <tr>\n      <th>mean</th>\n      <td>2.237593e+03</td>\n      <td>1.938166e+01</td>\n      <td>4.816420e+02</td>\n      <td>6.527726e-01</td>\n      <td>6.389427e+01</td>\n      <td>5.234182e+00</td>\n      <td>5.143420e+00</td>\n    </tr>\n    <tr>\n      <th>std</th>\n      <td>2.881851e+02</td>\n      <td>2.303962e+01</td>\n      <td>4.421495e+02</td>\n      <td>8.411599e-01</td>\n      <td>1.266501e+01</td>\n      <td>3.349286e+00</td>\n      <td>3.485569e+00</td>\n    </tr>\n    <tr>\n      <th>min</th>\n      <td>1.727000e+03</td>\n      <td>1.000000e+00</td>\n      <td>0.000000e+00</td>\n      <td>8.333333e-03</td>\n      <td>2.100000e+01</td>\n      <td>0.000000e+00</td>\n      <td>0.000000e+00</td>\n    </tr>\n    <tr>\n      <th>25%</th>\n      <td>2.080000e+03</td>\n      <td>1.000000e+00</td>\n      <td>1.690000e+02</td>\n      <td>2.416667e-01</td>\n      <td>5.500000e+01</td>\n      <td>3.000000e+00</td>\n      <td>2.000000e+00</td>\n    </tr>\n    <tr>\n      <th>50%</th>\n      <td>2.320000e+03</td>\n      <td>1.000000e+00</td>\n      <td>3.660000e+02</td>\n      <td>4.895833e-01</td>\n      <td>6.400000e+01</td>\n      <td>5.000000e+00</td>\n      <td>5.000000e+00</td>\n    </tr>\n    <tr>\n      <th>75%</th>\n      <td>2.483000e+03</td>\n      <td>4.100000e+01</td>\n      <td>6.652500e+02</td>\n      <td>8.750000e-01</td>\n      <td>7.400000e+01</td>\n      <td>9.000000e+00</td>\n      <td>8.000000e+00</td>\n    </tr>\n    <tr>\n      <th>max</th>\n      <td>2.678000e+03</td>\n      <td>7.400000e+01</td>\n      <td>4.314000e+03</td>\n      <td>1.029792e+02</td>\n      <td>1.040000e+02</td>\n      <td>1.100000e+01</td>\n      <td>1.100000e+01</td>\n    </tr>\n  </tbody>\n</table>\n</div>"
     },
     "metadata": {}
    }
   ]
  },
  {
   "cell_type": "markdown",
   "source": "Given the nature of the dataset, this statistical description is pretty much useless.  \n\nNow, we will do a count of the times each note is played in every composition, and relate it to the total number of notes played in the composition.",
   "metadata": {
    "cell_id": "98447f54-c82b-4089-915f-5d071ca47c0f",
    "tags": [],
    "deepnote_cell_type": "markdown"
   }
  },
  {
   "cell_type": "code",
   "metadata": {
    "cell_id": "86dc2ab9-bff5-4721-aa4d-3ecb9719af4d",
    "tags": [],
    "deepnote_to_be_reexecuted": false,
    "source_hash": "5a931506",
    "execution_start": 1645737241204,
    "execution_millis": 586,
    "deepnote_cell_type": "code"
   },
   "source": "# Analysing number of times each note is played by composition\ndf_composition_notes = df.groupby(['id', 'relative_note']).size().reset_index(name='count')\ndf_composition_notes",
   "execution_count": null,
   "outputs": [
    {
     "output_type": "execute_result",
     "execution_count": 13,
     "data": {
      "application/vnd.deepnote.dataframe.v3+json": {
       "column_count": 3,
       "row_count": 3802,
       "columns": [
        {
         "name": "id",
         "dtype": "int64",
         "stats": {
          "unique_count": 318,
          "nan_count": 0,
          "min": "1727",
          "max": "2678",
          "histogram": [
           {
            "bin_start": 1727,
            "bin_end": 1822.1,
            "count": 539
           },
           {
            "bin_start": 1822.1,
            "bin_end": 1917.2,
            "count": 120
           },
           {
            "bin_start": 1917.2,
            "bin_end": 2012.3,
            "count": 84
           },
           {
            "bin_start": 2012.3,
            "bin_end": 2107.4,
            "count": 144
           },
           {
            "bin_start": 2107.4,
            "bin_end": 2202.5,
            "count": 491
           },
           {
            "bin_start": 2202.5,
            "bin_end": 2297.6,
            "count": 437
           },
           {
            "bin_start": 2297.6,
            "bin_end": 2392.7,
            "count": 596
           },
           {
            "bin_start": 2392.7,
            "bin_end": 2487.8,
            "count": 479
           },
           {
            "bin_start": 2487.8,
            "bin_end": 2582.9,
            "count": 588
           },
           {
            "bin_start": 2582.9,
            "bin_end": 2678,
            "count": 324
           }
          ]
         }
        },
        {
         "name": "relative_note",
         "dtype": "int64",
         "stats": {
          "unique_count": 12,
          "nan_count": 0,
          "min": "0",
          "max": "11",
          "histogram": [
           {
            "bin_start": 0,
            "bin_end": 1.1,
            "count": 632
           },
           {
            "bin_start": 1.1,
            "bin_end": 2.2,
            "count": 318
           },
           {
            "bin_start": 2.2,
            "bin_end": 3.3000000000000003,
            "count": 312
           },
           {
            "bin_start": 3.3000000000000003,
            "bin_end": 4.4,
            "count": 318
           },
           {
            "bin_start": 4.4,
            "bin_end": 5.5,
            "count": 318
           },
           {
            "bin_start": 5.5,
            "bin_end": 6.6000000000000005,
            "count": 316
           },
           {
            "bin_start": 6.6000000000000005,
            "bin_end": 7.700000000000001,
            "count": 318
           },
           {
            "bin_start": 7.700000000000001,
            "bin_end": 8.8,
            "count": 317
           },
           {
            "bin_start": 8.8,
            "bin_end": 9.9,
            "count": 318
           },
           {
            "bin_start": 9.9,
            "bin_end": 11,
            "count": 635
           }
          ]
         }
        },
        {
         "name": "count",
         "dtype": "int64",
         "stats": {
          "unique_count": 880,
          "nan_count": 0,
          "min": "1",
          "max": "2226",
          "histogram": [
           {
            "bin_start": 1,
            "bin_end": 223.5,
            "count": 2074
           },
           {
            "bin_start": 223.5,
            "bin_end": 446,
            "count": 904
           },
           {
            "bin_start": 446,
            "bin_end": 668.5,
            "count": 438
           },
           {
            "bin_start": 668.5,
            "bin_end": 891,
            "count": 241
           },
           {
            "bin_start": 891,
            "bin_end": 1113.5,
            "count": 81
           },
           {
            "bin_start": 1113.5,
            "bin_end": 1336,
            "count": 37
           },
           {
            "bin_start": 1336,
            "bin_end": 1558.5,
            "count": 13
           },
           {
            "bin_start": 1558.5,
            "bin_end": 1781,
            "count": 10
           },
           {
            "bin_start": 1781,
            "bin_end": 2003.5,
            "count": 1
           },
           {
            "bin_start": 2003.5,
            "bin_end": 2226,
            "count": 3
           }
          ]
         }
        },
        {
         "name": "_deepnote_index_column",
         "dtype": "int64"
        }
       ],
       "rows": [
        {
         "id": 1727,
         "relative_note": 0,
         "count": 928,
         "_deepnote_index_column": 0
        },
        {
         "id": 1727,
         "relative_note": 1,
         "count": 498,
         "_deepnote_index_column": 1
        },
        {
         "id": 1727,
         "relative_note": 2,
         "count": 226,
         "_deepnote_index_column": 2
        },
        {
         "id": 1727,
         "relative_note": 3,
         "count": 1041,
         "_deepnote_index_column": 3
        },
        {
         "id": 1727,
         "relative_note": 4,
         "count": 370,
         "_deepnote_index_column": 4
        },
        {
         "id": 1727,
         "relative_note": 5,
         "count": 742,
         "_deepnote_index_column": 5
        },
        {
         "id": 1727,
         "relative_note": 6,
         "count": 276,
         "_deepnote_index_column": 6
        },
        {
         "id": 1727,
         "relative_note": 7,
         "count": 456,
         "_deepnote_index_column": 7
        },
        {
         "id": 1727,
         "relative_note": 8,
         "count": 682,
         "_deepnote_index_column": 8
        },
        {
         "id": 1727,
         "relative_note": 9,
         "count": 487,
         "_deepnote_index_column": 9
        }
       ]
      },
      "text/plain": "        id  relative_note  count\n0     1727              0    928\n1     1727              1    498\n2     1727              2    226\n3     1727              3   1041\n4     1727              4    370\n...    ...            ...    ...\n3797  2678              7    683\n3798  2678              8    103\n3799  2678              9    310\n3800  2678             10    108\n3801  2678             11    301\n\n[3802 rows x 3 columns]",
      "text/html": "<div>\n<style scoped>\n    .dataframe tbody tr th:only-of-type {\n        vertical-align: middle;\n    }\n\n    .dataframe tbody tr th {\n        vertical-align: top;\n    }\n\n    .dataframe thead th {\n        text-align: right;\n    }\n</style>\n<table border=\"1\" class=\"dataframe\">\n  <thead>\n    <tr style=\"text-align: right;\">\n      <th></th>\n      <th>id</th>\n      <th>relative_note</th>\n      <th>count</th>\n    </tr>\n  </thead>\n  <tbody>\n    <tr>\n      <th>0</th>\n      <td>1727</td>\n      <td>0</td>\n      <td>928</td>\n    </tr>\n    <tr>\n      <th>1</th>\n      <td>1727</td>\n      <td>1</td>\n      <td>498</td>\n    </tr>\n    <tr>\n      <th>2</th>\n      <td>1727</td>\n      <td>2</td>\n      <td>226</td>\n    </tr>\n    <tr>\n      <th>3</th>\n      <td>1727</td>\n      <td>3</td>\n      <td>1041</td>\n    </tr>\n    <tr>\n      <th>4</th>\n      <td>1727</td>\n      <td>4</td>\n      <td>370</td>\n    </tr>\n    <tr>\n      <th>...</th>\n      <td>...</td>\n      <td>...</td>\n      <td>...</td>\n    </tr>\n    <tr>\n      <th>3797</th>\n      <td>2678</td>\n      <td>7</td>\n      <td>683</td>\n    </tr>\n    <tr>\n      <th>3798</th>\n      <td>2678</td>\n      <td>8</td>\n      <td>103</td>\n    </tr>\n    <tr>\n      <th>3799</th>\n      <td>2678</td>\n      <td>9</td>\n      <td>310</td>\n    </tr>\n    <tr>\n      <th>3800</th>\n      <td>2678</td>\n      <td>10</td>\n      <td>108</td>\n    </tr>\n    <tr>\n      <th>3801</th>\n      <td>2678</td>\n      <td>11</td>\n      <td>301</td>\n    </tr>\n  </tbody>\n</table>\n<p>3802 rows × 3 columns</p>\n</div>"
     },
     "metadata": {}
    }
   ]
  },
  {
   "cell_type": "code",
   "metadata": {
    "cell_id": "7d28e45a-5113-4933-9034-1b9d8c36d910",
    "tags": [],
    "deepnote_to_be_reexecuted": false,
    "source_hash": "74df3b9b",
    "execution_start": 1645737241367,
    "execution_millis": 424,
    "deepnote_cell_type": "code"
   },
   "source": "# Creating series with the total notes of the composition\ns_totalnotes = df_composition_notes.groupby('id')['count'].sum().rename('total_notes')\n\n# Joining the series with the last dataframe to get the percentage each note is played by composition\ndf_notes_ratio = pd.merge(df_composition_notes, s_totalnotes, how='inner', left_on='id', right_index=True)\ndf_notes_ratio['note_ratio'] = df_notes_ratio['count']/df_notes_ratio['total_notes']\n\ndf_notes_ratio",
   "execution_count": null,
   "outputs": [
    {
     "output_type": "execute_result",
     "execution_count": 14,
     "data": {
      "application/vnd.deepnote.dataframe.v3+json": {
       "column_count": 5,
       "row_count": 3802,
       "columns": [
        {
         "name": "id",
         "dtype": "int64",
         "stats": {
          "unique_count": 318,
          "nan_count": 0,
          "min": "1727",
          "max": "2678",
          "histogram": [
           {
            "bin_start": 1727,
            "bin_end": 1822.1,
            "count": 539
           },
           {
            "bin_start": 1822.1,
            "bin_end": 1917.2,
            "count": 120
           },
           {
            "bin_start": 1917.2,
            "bin_end": 2012.3,
            "count": 84
           },
           {
            "bin_start": 2012.3,
            "bin_end": 2107.4,
            "count": 144
           },
           {
            "bin_start": 2107.4,
            "bin_end": 2202.5,
            "count": 491
           },
           {
            "bin_start": 2202.5,
            "bin_end": 2297.6,
            "count": 437
           },
           {
            "bin_start": 2297.6,
            "bin_end": 2392.7,
            "count": 596
           },
           {
            "bin_start": 2392.7,
            "bin_end": 2487.8,
            "count": 479
           },
           {
            "bin_start": 2487.8,
            "bin_end": 2582.9,
            "count": 588
           },
           {
            "bin_start": 2582.9,
            "bin_end": 2678,
            "count": 324
           }
          ]
         }
        },
        {
         "name": "relative_note",
         "dtype": "int64",
         "stats": {
          "unique_count": 12,
          "nan_count": 0,
          "min": "0",
          "max": "11",
          "histogram": [
           {
            "bin_start": 0,
            "bin_end": 1.1,
            "count": 632
           },
           {
            "bin_start": 1.1,
            "bin_end": 2.2,
            "count": 318
           },
           {
            "bin_start": 2.2,
            "bin_end": 3.3000000000000003,
            "count": 312
           },
           {
            "bin_start": 3.3000000000000003,
            "bin_end": 4.4,
            "count": 318
           },
           {
            "bin_start": 4.4,
            "bin_end": 5.5,
            "count": 318
           },
           {
            "bin_start": 5.5,
            "bin_end": 6.6000000000000005,
            "count": 316
           },
           {
            "bin_start": 6.6000000000000005,
            "bin_end": 7.700000000000001,
            "count": 318
           },
           {
            "bin_start": 7.700000000000001,
            "bin_end": 8.8,
            "count": 317
           },
           {
            "bin_start": 8.8,
            "bin_end": 9.9,
            "count": 318
           },
           {
            "bin_start": 9.9,
            "bin_end": 11,
            "count": 635
           }
          ]
         }
        },
        {
         "name": "count",
         "dtype": "int64",
         "stats": {
          "unique_count": 880,
          "nan_count": 0,
          "min": "1",
          "max": "2226",
          "histogram": [
           {
            "bin_start": 1,
            "bin_end": 223.5,
            "count": 2074
           },
           {
            "bin_start": 223.5,
            "bin_end": 446,
            "count": 904
           },
           {
            "bin_start": 446,
            "bin_end": 668.5,
            "count": 438
           },
           {
            "bin_start": 668.5,
            "bin_end": 891,
            "count": 241
           },
           {
            "bin_start": 891,
            "bin_end": 1113.5,
            "count": 81
           },
           {
            "bin_start": 1113.5,
            "bin_end": 1336,
            "count": 37
           },
           {
            "bin_start": 1336,
            "bin_end": 1558.5,
            "count": 13
           },
           {
            "bin_start": 1558.5,
            "bin_end": 1781,
            "count": 10
           },
           {
            "bin_start": 1781,
            "bin_end": 2003.5,
            "count": 1
           },
           {
            "bin_start": 2003.5,
            "bin_end": 2226,
            "count": 3
           }
          ]
         }
        },
        {
         "name": "total_notes",
         "dtype": "int64",
         "stats": {
          "unique_count": 292,
          "nan_count": 0,
          "min": "301",
          "max": "11381",
          "histogram": [
           {
            "bin_start": 301,
            "bin_end": 1409,
            "count": 767
           },
           {
            "bin_start": 1409,
            "bin_end": 2517,
            "count": 911
           },
           {
            "bin_start": 2517,
            "bin_end": 3625,
            "count": 636
           },
           {
            "bin_start": 3625,
            "bin_end": 4733,
            "count": 516
           },
           {
            "bin_start": 4733,
            "bin_end": 5841,
            "count": 348
           },
           {
            "bin_start": 5841,
            "bin_end": 6949,
            "count": 348
           },
           {
            "bin_start": 6949,
            "bin_end": 8057,
            "count": 156
           },
           {
            "bin_start": 8057,
            "bin_end": 9165,
            "count": 72
           },
           {
            "bin_start": 9165,
            "bin_end": 10273,
            "count": 24
           },
           {
            "bin_start": 10273,
            "bin_end": 11381,
            "count": 24
           }
          ]
         }
        },
        {
         "name": "note_ratio",
         "dtype": "float64",
         "stats": {
          "unique_count": 3482,
          "nan_count": 0,
          "min": "0.0004203446826397646",
          "max": "0.27450980392156865",
          "histogram": [
           {
            "bin_start": 0.0004203446826397646,
            "bin_end": 0.027829290606532654,
            "count": 763
           },
           {
            "bin_start": 0.027829290606532654,
            "bin_end": 0.05523823653042555,
            "count": 669
           },
           {
            "bin_start": 0.05523823653042555,
            "bin_end": 0.08264718245431843,
            "count": 527
           },
           {
            "bin_start": 0.08264718245431843,
            "bin_end": 0.11005612837821133,
            "count": 629
           },
           {
            "bin_start": 0.11005612837821133,
            "bin_end": 0.13746507430210422,
            "count": 505
           },
           {
            "bin_start": 0.13746507430210422,
            "bin_end": 0.1648740202259971,
            "count": 392
           },
           {
            "bin_start": 0.1648740202259971,
            "bin_end": 0.19228296614989,
            "count": 185
           },
           {
            "bin_start": 0.19228296614989,
            "bin_end": 0.21969191207378289,
            "count": 103
           },
           {
            "bin_start": 0.21969191207378289,
            "bin_end": 0.24710085799767578,
            "count": 23
           },
           {
            "bin_start": 0.24710085799767578,
            "bin_end": 0.27450980392156865,
            "count": 6
           }
          ]
         }
        },
        {
         "name": "_deepnote_index_column",
         "dtype": "int64"
        }
       ],
       "rows": [
        {
         "id": 1727,
         "relative_note": 0,
         "count": 928,
         "total_notes": 6580,
         "note_ratio": 0.14103343465045592,
         "_deepnote_index_column": 0
        },
        {
         "id": 1727,
         "relative_note": 1,
         "count": 498,
         "total_notes": 6580,
         "note_ratio": 0.0756838905775076,
         "_deepnote_index_column": 1
        },
        {
         "id": 1727,
         "relative_note": 2,
         "count": 226,
         "total_notes": 6580,
         "note_ratio": 0.03434650455927052,
         "_deepnote_index_column": 2
        },
        {
         "id": 1727,
         "relative_note": 3,
         "count": 1041,
         "total_notes": 6580,
         "note_ratio": 0.15820668693009118,
         "_deepnote_index_column": 3
        },
        {
         "id": 1727,
         "relative_note": 4,
         "count": 370,
         "total_notes": 6580,
         "note_ratio": 0.05623100303951368,
         "_deepnote_index_column": 4
        },
        {
         "id": 1727,
         "relative_note": 5,
         "count": 742,
         "total_notes": 6580,
         "note_ratio": 0.1127659574468085,
         "_deepnote_index_column": 5
        },
        {
         "id": 1727,
         "relative_note": 6,
         "count": 276,
         "total_notes": 6580,
         "note_ratio": 0.041945288753799395,
         "_deepnote_index_column": 6
        },
        {
         "id": 1727,
         "relative_note": 7,
         "count": 456,
         "total_notes": 6580,
         "note_ratio": 0.06930091185410335,
         "_deepnote_index_column": 7
        },
        {
         "id": 1727,
         "relative_note": 8,
         "count": 682,
         "total_notes": 6580,
         "note_ratio": 0.10364741641337386,
         "_deepnote_index_column": 8
        },
        {
         "id": 1727,
         "relative_note": 9,
         "count": 487,
         "total_notes": 6580,
         "note_ratio": 0.07401215805471124,
         "_deepnote_index_column": 9
        }
       ]
      },
      "text/plain": "        id  relative_note  count  total_notes  note_ratio\n0     1727              0    928         6580    0.141033\n1     1727              1    498         6580    0.075684\n2     1727              2    226         6580    0.034347\n3     1727              3   1041         6580    0.158207\n4     1727              4    370         6580    0.056231\n...    ...            ...    ...          ...         ...\n3797  2678              7    683         3373    0.202490\n3798  2678              8    103         3373    0.030537\n3799  2678              9    310         3373    0.091906\n3800  2678             10    108         3373    0.032019\n3801  2678             11    301         3373    0.089238\n\n[3802 rows x 5 columns]",
      "text/html": "<div>\n<style scoped>\n    .dataframe tbody tr th:only-of-type {\n        vertical-align: middle;\n    }\n\n    .dataframe tbody tr th {\n        vertical-align: top;\n    }\n\n    .dataframe thead th {\n        text-align: right;\n    }\n</style>\n<table border=\"1\" class=\"dataframe\">\n  <thead>\n    <tr style=\"text-align: right;\">\n      <th></th>\n      <th>id</th>\n      <th>relative_note</th>\n      <th>count</th>\n      <th>total_notes</th>\n      <th>note_ratio</th>\n    </tr>\n  </thead>\n  <tbody>\n    <tr>\n      <th>0</th>\n      <td>1727</td>\n      <td>0</td>\n      <td>928</td>\n      <td>6580</td>\n      <td>0.141033</td>\n    </tr>\n    <tr>\n      <th>1</th>\n      <td>1727</td>\n      <td>1</td>\n      <td>498</td>\n      <td>6580</td>\n      <td>0.075684</td>\n    </tr>\n    <tr>\n      <th>2</th>\n      <td>1727</td>\n      <td>2</td>\n      <td>226</td>\n      <td>6580</td>\n      <td>0.034347</td>\n    </tr>\n    <tr>\n      <th>3</th>\n      <td>1727</td>\n      <td>3</td>\n      <td>1041</td>\n      <td>6580</td>\n      <td>0.158207</td>\n    </tr>\n    <tr>\n      <th>4</th>\n      <td>1727</td>\n      <td>4</td>\n      <td>370</td>\n      <td>6580</td>\n      <td>0.056231</td>\n    </tr>\n    <tr>\n      <th>...</th>\n      <td>...</td>\n      <td>...</td>\n      <td>...</td>\n      <td>...</td>\n      <td>...</td>\n    </tr>\n    <tr>\n      <th>3797</th>\n      <td>2678</td>\n      <td>7</td>\n      <td>683</td>\n      <td>3373</td>\n      <td>0.202490</td>\n    </tr>\n    <tr>\n      <th>3798</th>\n      <td>2678</td>\n      <td>8</td>\n      <td>103</td>\n      <td>3373</td>\n      <td>0.030537</td>\n    </tr>\n    <tr>\n      <th>3799</th>\n      <td>2678</td>\n      <td>9</td>\n      <td>310</td>\n      <td>3373</td>\n      <td>0.091906</td>\n    </tr>\n    <tr>\n      <th>3800</th>\n      <td>2678</td>\n      <td>10</td>\n      <td>108</td>\n      <td>3373</td>\n      <td>0.032019</td>\n    </tr>\n    <tr>\n      <th>3801</th>\n      <td>2678</td>\n      <td>11</td>\n      <td>301</td>\n      <td>3373</td>\n      <td>0.089238</td>\n    </tr>\n  </tbody>\n</table>\n<p>3802 rows × 5 columns</p>\n</div>"
     },
     "metadata": {}
    }
   ]
  },
  {
   "cell_type": "code",
   "metadata": {
    "cell_id": "212988bc-982d-4558-96f7-06a2b082668f",
    "tags": [],
    "deepnote_to_be_reexecuted": false,
    "source_hash": "1f8096a0",
    "execution_start": 1645737241368,
    "execution_millis": 424,
    "deepnote_cell_type": "code"
   },
   "source": "# We will keep only the columns 'id', 'relative_note' and 'note_ratio'\ndf_notes_ratio = df_notes_ratio[['id', 'relative_note', 'note_ratio']]\n\n# Pivoting the relative_note column\ndf_notes_ratio = df_notes_ratio.pivot(index='id',columns='relative_note', values='note_ratio')\n\ndf_notes_ratio",
   "execution_count": null,
   "outputs": [
    {
     "output_type": "execute_result",
     "execution_count": 15,
     "data": {
      "application/vnd.deepnote.dataframe.v3+json": {
       "column_count": 12,
       "row_count": 318,
       "columns": [
        {
         "name": 0,
         "dtype": "float64",
         "stats": {
          "unique_count": 299,
          "nan_count": 0,
          "min": "0.0020100502512562816",
          "max": "0.2737940026075619",
          "histogram": [
           {
            "bin_start": 0.0020100502512562816,
            "bin_end": 0.029188445486886847,
            "count": 2
           },
           {
            "bin_start": 0.029188445486886847,
            "bin_end": 0.05636684072251741,
            "count": 8
           },
           {
            "bin_start": 0.05636684072251741,
            "bin_end": 0.08354523595814797,
            "count": 8
           },
           {
            "bin_start": 0.08354523595814797,
            "bin_end": 0.11072363119377854,
            "count": 19
           },
           {
            "bin_start": 0.11072363119377854,
            "bin_end": 0.1379020264294091,
            "count": 62
           },
           {
            "bin_start": 0.1379020264294091,
            "bin_end": 0.16508042166503967,
            "count": 118
           },
           {
            "bin_start": 0.16508042166503967,
            "bin_end": 0.19225881690067023,
            "count": 67
           },
           {
            "bin_start": 0.19225881690067023,
            "bin_end": 0.2194372121363008,
            "count": 26
           },
           {
            "bin_start": 0.2194372121363008,
            "bin_end": 0.24661560737193136,
            "count": 6
           },
           {
            "bin_start": 0.24661560737193136,
            "bin_end": 0.2737940026075619,
            "count": 2
           }
          ]
         }
        },
        {
         "name": 1,
         "dtype": "float64",
         "stats": {
          "unique_count": 295,
          "nan_count": 4,
          "min": "0.0006770480704129993",
          "max": "0.1748743718592965",
          "histogram": [
           {
            "bin_start": 0.0006770480704129993,
            "bin_end": 0.01809678044930135,
            "count": 125
           },
           {
            "bin_start": 0.01809678044930135,
            "bin_end": 0.035516512828189704,
            "count": 104
           },
           {
            "bin_start": 0.035516512828189704,
            "bin_end": 0.052936245207078056,
            "count": 35
           },
           {
            "bin_start": 0.052936245207078056,
            "bin_end": 0.0703559775859664,
            "count": 18
           },
           {
            "bin_start": 0.0703559775859664,
            "bin_end": 0.08777570996485476,
            "count": 15
           },
           {
            "bin_start": 0.08777570996485476,
            "bin_end": 0.1051954423437431,
            "count": 11
           },
           {
            "bin_start": 0.1051954423437431,
            "bin_end": 0.12261517472263145,
            "count": 3
           },
           {
            "bin_start": 0.12261517472263145,
            "bin_end": 0.1400349071015198,
            "count": 2
           },
           {
            "bin_start": 0.1400349071015198,
            "bin_end": 0.15745463948040817,
            "count": 0
           },
           {
            "bin_start": 0.15745463948040817,
            "bin_end": 0.1748743718592965,
            "count": 1
           }
          ]
         }
        },
        {
         "name": 2,
         "dtype": "float64",
         "stats": {
          "unique_count": 299,
          "nan_count": 0,
          "min": "0.014141414141414142",
          "max": "0.21868512110726643",
          "histogram": [
           {
            "bin_start": 0.014141414141414142,
            "bin_end": 0.03459578483799937,
            "count": 13
           },
           {
            "bin_start": 0.03459578483799937,
            "bin_end": 0.055050155534584595,
            "count": 11
           },
           {
            "bin_start": 0.055050155534584595,
            "bin_end": 0.07550452623116982,
            "count": 23
           },
           {
            "bin_start": 0.07550452623116982,
            "bin_end": 0.09595889692775506,
            "count": 44
           },
           {
            "bin_start": 0.09595889692775506,
            "bin_end": 0.11641326762434029,
            "count": 70
           },
           {
            "bin_start": 0.11641326762434029,
            "bin_end": 0.1368676383209255,
            "count": 87
           },
           {
            "bin_start": 0.1368676383209255,
            "bin_end": 0.15732200901751073,
            "count": 56
           },
           {
            "bin_start": 0.15732200901751073,
            "bin_end": 0.17777637971409596,
            "count": 6
           },
           {
            "bin_start": 0.17777637971409596,
            "bin_end": 0.1982307504106812,
            "count": 6
           },
           {
            "bin_start": 0.1982307504106812,
            "bin_end": 0.21868512110726643,
            "count": 2
           }
          ]
         }
        },
        {
         "name": 3,
         "dtype": "float64",
         "stats": {
          "unique_count": 293,
          "nan_count": 6,
          "min": "0.0004203446826397646",
          "max": "0.2410006101281269",
          "histogram": [
           {
            "bin_start": 0.0004203446826397646,
            "bin_end": 0.02447837122718848,
            "count": 92
           },
           {
            "bin_start": 0.02447837122718848,
            "bin_end": 0.0485363977717372,
            "count": 57
           },
           {
            "bin_start": 0.0485363977717372,
            "bin_end": 0.0725944243162859,
            "count": 34
           },
           {
            "bin_start": 0.0725944243162859,
            "bin_end": 0.09665245086083463,
            "count": 23
           },
           {
            "bin_start": 0.09665245086083463,
            "bin_end": 0.12071047740538335,
            "count": 45
           },
           {
            "bin_start": 0.12071047740538335,
            "bin_end": 0.14476850394993204,
            "count": 33
           },
           {
            "bin_start": 0.14476850394993204,
            "bin_end": 0.16882653049448076,
            "count": 11
           },
           {
            "bin_start": 0.16882653049448076,
            "bin_end": 0.1928845570390295,
            "count": 8
           },
           {
            "bin_start": 0.1928845570390295,
            "bin_end": 0.2169425835835782,
            "count": 6
           },
           {
            "bin_start": 0.2169425835835782,
            "bin_end": 0.2410006101281269,
            "count": 3
           }
          ]
         }
        },
        {
         "name": 4,
         "dtype": "float64",
         "stats": {
          "unique_count": 299,
          "nan_count": 0,
          "min": "0.0017497812773403325",
          "max": "0.2259636685866194",
          "histogram": [
           {
            "bin_start": 0.0017497812773403325,
            "bin_end": 0.024171170008268242,
            "count": 46
           },
           {
            "bin_start": 0.024171170008268242,
            "bin_end": 0.04659255873919615,
            "count": 52
           },
           {
            "bin_start": 0.04659255873919615,
            "bin_end": 0.06901394747012406,
            "count": 24
           },
           {
            "bin_start": 0.06901394747012406,
            "bin_end": 0.09143533620105197,
            "count": 39
           },
           {
            "bin_start": 0.09143533620105197,
            "bin_end": 0.11385672493197989,
            "count": 62
           },
           {
            "bin_start": 0.11385672493197989,
            "bin_end": 0.13627811366290776,
            "count": 44
           },
           {
            "bin_start": 0.13627811366290776,
            "bin_end": 0.15869950239383568,
            "count": 35
           },
           {
            "bin_start": 0.15869950239383568,
            "bin_end": 0.1811208911247636,
            "count": 7
           },
           {
            "bin_start": 0.1811208911247636,
            "bin_end": 0.2035422798556915,
            "count": 7
           },
           {
            "bin_start": 0.2035422798556915,
            "bin_end": 0.2259636685866194,
            "count": 2
           }
          ]
         }
        },
        {
         "name": 5,
         "dtype": "float64",
         "stats": {
          "unique_count": 299,
          "nan_count": 0,
          "min": "0.005527638190954774",
          "max": "0.20255498485447124",
          "histogram": [
           {
            "bin_start": 0.005527638190954774,
            "bin_end": 0.02523037285730642,
            "count": 7
           },
           {
            "bin_start": 0.02523037285730642,
            "bin_end": 0.04493310752365807,
            "count": 9
           },
           {
            "bin_start": 0.04493310752365807,
            "bin_end": 0.06463584219000972,
            "count": 27
           },
           {
            "bin_start": 0.06463584219000972,
            "bin_end": 0.08433857685636137,
            "count": 73
           },
           {
            "bin_start": 0.08433857685636137,
            "bin_end": 0.10404131152271301,
            "count": 84
           },
           {
            "bin_start": 0.10404131152271301,
            "bin_end": 0.12374404618906465,
            "count": 48
           },
           {
            "bin_start": 0.12374404618906465,
            "bin_end": 0.14344678085541632,
            "count": 35
           },
           {
            "bin_start": 0.14344678085541632,
            "bin_end": 0.16314951552176796,
            "count": 18
           },
           {
            "bin_start": 0.16314951552176796,
            "bin_end": 0.1828522501881196,
            "count": 8
           },
           {
            "bin_start": 0.1828522501881196,
            "bin_end": 0.20255498485447124,
            "count": 9
           }
          ]
         }
        },
        {
         "name": 6,
         "dtype": "float64",
         "stats": {
          "unique_count": 297,
          "nan_count": 2,
          "min": "0.0014652014652014652",
          "max": "0.1385083713850837",
          "histogram": [
           {
            "bin_start": 0.0014652014652014652,
            "bin_end": 0.01516951845718969,
            "count": 38
           },
           {
            "bin_start": 0.01516951845718969,
            "bin_end": 0.028873835449177918,
            "count": 105
           },
           {
            "bin_start": 0.028873835449177918,
            "bin_end": 0.042578152441166146,
            "count": 90
           },
           {
            "bin_start": 0.042578152441166146,
            "bin_end": 0.05628246943315437,
            "count": 49
           },
           {
            "bin_start": 0.05628246943315437,
            "bin_end": 0.06998678642514258,
            "count": 14
           },
           {
            "bin_start": 0.06998678642514258,
            "bin_end": 0.08369110341713082,
            "count": 8
           },
           {
            "bin_start": 0.08369110341713082,
            "bin_end": 0.09739542040911904,
            "count": 6
           },
           {
            "bin_start": 0.09739542040911904,
            "bin_end": 0.11109973740110726,
            "count": 2
           },
           {
            "bin_start": 0.11109973740110726,
            "bin_end": 0.12480405439309548,
            "count": 2
           },
           {
            "bin_start": 0.12480405439309548,
            "bin_end": 0.1385083713850837,
            "count": 2
           }
          ]
         }
        },
        {
         "name": 7,
         "dtype": "float64",
         "stats": {
          "unique_count": 299,
          "nan_count": 0,
          "min": "0.016080402010050253",
          "max": "0.27450980392156865",
          "histogram": [
           {
            "bin_start": 0.016080402010050253,
            "bin_end": 0.0419233422012021,
            "count": 5
           },
           {
            "bin_start": 0.0419233422012021,
            "bin_end": 0.06776628239235394,
            "count": 4
           },
           {
            "bin_start": 0.06776628239235394,
            "bin_end": 0.09360922258350579,
            "count": 22
           },
           {
            "bin_start": 0.09360922258350579,
            "bin_end": 0.11945216277465762,
            "count": 25
           },
           {
            "bin_start": 0.11945216277465762,
            "bin_end": 0.14529510296580947,
            "count": 57
           },
           {
            "bin_start": 0.14529510296580947,
            "bin_end": 0.17113804315696132,
            "count": 83
           },
           {
            "bin_start": 0.17113804315696132,
            "bin_end": 0.19698098334811315,
            "count": 65
           },
           {
            "bin_start": 0.19698098334811315,
            "bin_end": 0.222823923539265,
            "count": 41
           },
           {
            "bin_start": 0.222823923539265,
            "bin_end": 0.24866686373041685,
            "count": 12
           },
           {
            "bin_start": 0.24866686373041685,
            "bin_end": 0.27450980392156865,
            "count": 4
           }
          ]
         }
        },
        {
         "name": 8,
         "dtype": "float64",
         "stats": {
          "unique_count": 298,
          "nan_count": 1,
          "min": "0.001218026796589525",
          "max": "0.21451104100946372",
          "histogram": [
           {
            "bin_start": 0.001218026796589525,
            "bin_end": 0.022547328217876944,
            "count": 77
           },
           {
            "bin_start": 0.022547328217876944,
            "bin_end": 0.04387662963916437,
            "count": 74
           },
           {
            "bin_start": 0.04387662963916437,
            "bin_end": 0.06520593106045179,
            "count": 50
           },
           {
            "bin_start": 0.06520593106045179,
            "bin_end": 0.08653523248173921,
            "count": 49
           },
           {
            "bin_start": 0.08653523248173921,
            "bin_end": 0.10786453390302662,
            "count": 35
           },
           {
            "bin_start": 0.10786453390302662,
            "bin_end": 0.12919383532431405,
            "count": 18
           },
           {
            "bin_start": 0.12919383532431405,
            "bin_end": 0.15052313674560147,
            "count": 4
           },
           {
            "bin_start": 0.15052313674560147,
            "bin_end": 0.1718524381668889,
            "count": 6
           },
           {
            "bin_start": 0.1718524381668889,
            "bin_end": 0.1931817395881763,
            "count": 1
           },
           {
            "bin_start": 0.1931817395881763,
            "bin_end": 0.21451104100946372,
            "count": 3
           }
          ]
         }
        },
        {
         "name": 9,
         "dtype": "float64",
         "stats": {
          "unique_count": 299,
          "nan_count": 0,
          "min": "0.006279434850863423",
          "max": "0.21673640167364017",
          "histogram": [
           {
            "bin_start": 0.006279434850863423,
            "bin_end": 0.027325131533141096,
            "count": 44
           },
           {
            "bin_start": 0.027325131533141096,
            "bin_end": 0.04837082821541877,
            "count": 54
           },
           {
            "bin_start": 0.04837082821541877,
            "bin_end": 0.06941652489769644,
            "count": 43
           },
           {
            "bin_start": 0.06941652489769644,
            "bin_end": 0.09046222157997412,
            "count": 52
           },
           {
            "bin_start": 0.09046222157997412,
            "bin_end": 0.1115079182622518,
            "count": 59
           },
           {
            "bin_start": 0.1115079182622518,
            "bin_end": 0.13255361494452947,
            "count": 33
           },
           {
            "bin_start": 0.13255361494452947,
            "bin_end": 0.15359931162680715,
            "count": 22
           },
           {
            "bin_start": 0.15359931162680715,
            "bin_end": 0.17464500830908483,
            "count": 7
           },
           {
            "bin_start": 0.17464500830908483,
            "bin_end": 0.1956907049913625,
            "count": 3
           },
           {
            "bin_start": 0.1956907049913625,
            "bin_end": 0.21673640167364017,
            "count": 1
           }
          ]
         }
        },
        {
         "name": 10,
         "dtype": "float64",
         "stats": {
          "unique_count": 298,
          "nan_count": 1,
          "min": "0.001443001443001443",
          "max": "0.21171312245537113",
          "histogram": [
           {
            "bin_start": 0.001443001443001443,
            "bin_end": 0.022470013544238412,
            "count": 71
           },
           {
            "bin_start": 0.022470013544238412,
            "bin_end": 0.043497025645475376,
            "count": 73
           },
           {
            "bin_start": 0.043497025645475376,
            "bin_end": 0.06452403774671234,
            "count": 46
           },
           {
            "bin_start": 0.06452403774671234,
            "bin_end": 0.08555104984794931,
            "count": 52
           },
           {
            "bin_start": 0.08555104984794931,
            "bin_end": 0.10657806194918629,
            "count": 44
           },
           {
            "bin_start": 0.10657806194918629,
            "bin_end": 0.12760507405042323,
            "count": 14
           },
           {
            "bin_start": 0.12760507405042323,
            "bin_end": 0.1486320861516602,
            "count": 10
           },
           {
            "bin_start": 0.1486320861516602,
            "bin_end": 0.16965909825289718,
            "count": 5
           },
           {
            "bin_start": 0.16965909825289718,
            "bin_end": 0.19068611035413416,
            "count": 1
           },
           {
            "bin_start": 0.19068611035413416,
            "bin_end": 0.21171312245537113,
            "count": 1
           }
          ]
         }
        },
        {
         "name": 11,
         "dtype": "float64",
         "stats": {
          "unique_count": 298,
          "nan_count": 0,
          "min": "0.00827912477823773",
          "max": "0.18293515358361775",
          "histogram": [
           {
            "bin_start": 0.00827912477823773,
            "bin_end": 0.025744727658775734,
            "count": 20
           },
           {
            "bin_start": 0.025744727658775734,
            "bin_end": 0.04321033053931374,
            "count": 39
           },
           {
            "bin_start": 0.04321033053931374,
            "bin_end": 0.060675933419851745,
            "count": 55
           },
           {
            "bin_start": 0.060675933419851745,
            "bin_end": 0.07814153630038975,
            "count": 53
           },
           {
            "bin_start": 0.07814153630038975,
            "bin_end": 0.09560713918092775,
            "count": 66
           },
           {
            "bin_start": 0.09560713918092775,
            "bin_end": 0.11307274206146575,
            "count": 45
           },
           {
            "bin_start": 0.11307274206146575,
            "bin_end": 0.13053834494200375,
            "count": 20
           },
           {
            "bin_start": 0.13053834494200375,
            "bin_end": 0.14800394782254175,
            "count": 13
           },
           {
            "bin_start": 0.14800394782254175,
            "bin_end": 0.16546955070307975,
            "count": 2
           },
           {
            "bin_start": 0.16546955070307975,
            "bin_end": 0.18293515358361775,
            "count": 5
           }
          ]
         }
        },
        {
         "name": "_deepnote_index_column",
         "dtype": "int64"
        }
       ],
       "rows": [
        {
         "0": 0.14103343465045592,
         "1": 0.0756838905775076,
         "2": 0.03434650455927052,
         "3": 0.15820668693009118,
         "4": 0.05623100303951368,
         "5": 0.1127659574468085,
         "6": 0.041945288753799395,
         "7": 0.06930091185410335,
         "8": 0.10364741641337386,
         "9": 0.07401215805471124,
         "10": 0.09468085106382979,
         "11": 0.03814589665653496,
         "_deepnote_index_column": 1727
        },
        {
         "0": 0.18827772768259693,
         "1": 0.024706943192064925,
         "2": 0.11127141568981064,
         "3": 0.057709648331830475,
         "4": 0.06636609558160506,
         "5": 0.14355275022542832,
         "6": 0.018935978358881875,
         "7": 0.15834084761045988,
         "8": 0.03967538322813345,
         "9": 0.07141568981064021,
         "10": 0.0703336339044184,
         "11": 0.04941388638412985,
         "_deepnote_index_column": 1728
        },
        {
         "0": 0.21085210061899118,
         "1": 0.03292506255761886,
         "2": 0.05268010009219017,
         "3": 0.040300276570525484,
         "4": 0.09482418016594231,
         "5": 0.20255498485447124,
         "6": 0.01093112076912946,
         "7": 0.09627288291847755,
         "8": 0.0654550243645463,
         "9": 0.08889766890557092,
         "10": 0.06611352561569867,
         "11": 0.03819307256683788,
         "_deepnote_index_column": 1729
        },
        {
         "0": 0.1709467228823304,
         "1": 0.017886802095311103,
         "2": 0.11741407946850645,
         "3": 0.046505685447808864,
         "4": 0.0876453302670244,
         "5": 0.13236233550530216,
         "6": 0.02056982240960777,
         "7": 0.1450108598441293,
         "8": 0.034240449725309825,
         "9": 0.11243132745624122,
         "10": 0.06873642519483839,
         "11": 0.04625015970359014,
         "_deepnote_index_column": 1730
        },
        {
         "0": 0.10057598582188747,
         "1": 0.01595037660611431,
         "2": 0.08462560921577315,
         "3": 0.057598582188746125,
         "4": 0.2259636685866194,
         "5": 0.0460788657509969,
         "6": 0.02702702702702703,
         "7": 0.06823216659282233,
         "8": 0.06070004430660168,
         "9": 0.10101905183872396,
         "10": 0.05937084625609216,
         "11": 0.15285777580859547,
         "_deepnote_index_column": 1733
        },
        {
         "0": 0.14750171115674196,
         "1": 0.005817932922655715,
         "2": 0.07905544147843943,
         "3": 0.06194387405886379,
         "4": 0.10301163586584532,
         "5": 0.11943874058863792,
         "6": 0.019507186858316223,
         "7": 0.21013004791238876,
         "8": 0.049281314168377825,
         "9": 0.05373032169746749,
         "10": 0.10917180013689254,
         "11": 0.04140999315537303,
         "_deepnote_index_column": 1734
        },
        {
         "0": 0.15120473236185256,
         "1": 0.018323474246140527,
         "2": 0.13244842014139374,
         "3": 0.0422738421584187,
         "4": 0.1203289568604819,
         "5": 0.07964218727456356,
         "6": 0.031741451450007216,
         "7": 0.17905064204299523,
         "8": 0.032462848073871016,
         "9": 0.08930890203433849,
         "10": 0.035925551868417255,
         "11": 0.08728899148751984,
         "_deepnote_index_column": 1735
        },
        {
         "0": 0.15780696268501146,
         "1": 0.01719824890556598,
         "2": 0.13456326870961016,
         "3": 0.058890973525119863,
         "4": 0.09443402126328955,
         "5": 0.06837606837606838,
         "6": 0.028351052741296644,
         "7": 0.18376068376068377,
         "8": 0.03523035230352303,
         "9": 0.09787367104440275,
         "10": 0.054930164686262245,
         "11": 0.06858453199916614,
         "_deepnote_index_column": 1739
        },
        {
         "0": 0.10722100656455143,
         "1": 0.08655482616095307,
         "2": 0.046681254558716266,
         "3": 0.08388037928519329,
         "4": 0.08582543155847314,
         "5": 0.11548747872599076,
         "6": 0.07342572331631413,
         "7": 0.08315098468271334,
         "8": 0.08728422076343302,
         "9": 0.0712375395088743,
         "10": 0.06224167274495502,
         "11": 0.09700948212983224,
         "_deepnote_index_column": 1742
        },
        {
         "0": 0.11526246964319073,
         "1": 0.031571081636465534,
         "2": 0.09508686717728376,
         "3": 0.13487763870726696,
         "4": 0.02895572576125537,
         "5": 0.09265832243601718,
         "6": 0.02895572576125537,
         "7": 0.16103119745936859,
         "8": 0.09490005604334019,
         "9": 0.03437324864561928,
         "10": 0.1277788156174108,
         "11": 0.05454885111152625,
         "_deepnote_index_column": 1749
        }
       ]
      },
      "text/plain": "relative_note        0         1         2         3         4         5   \\\nid                                                                          \n1727           0.141033  0.075684  0.034347  0.158207  0.056231  0.112766   \n1728           0.188278  0.024707  0.111271  0.057710  0.066366  0.143553   \n1729           0.210852  0.032925  0.052680  0.040300  0.094824  0.202555   \n1730           0.170947  0.017887  0.117414  0.046506  0.087645  0.132362   \n1733           0.100576  0.015950  0.084626  0.057599  0.225964  0.046079   \n...                 ...       ...       ...       ...       ...       ...   \n2632           0.213418  0.007778  0.083131  0.030141  0.083131  0.160914   \n2633           0.191287  0.011517  0.113170  0.012018  0.112168  0.141713   \n2659           0.133568  0.007030  0.147627  0.130053  0.017575  0.145870   \n2677           0.185025  0.025441  0.130385  0.028332  0.087308  0.081816   \n2678           0.122146  0.026090  0.147643  0.040617  0.091906  0.076193   \n\nrelative_note        6         7         8         9         10        11  \nid                                                                         \n1727           0.041945  0.069301  0.103647  0.074012  0.094681  0.038146  \n1728           0.018936  0.158341  0.039675  0.071416  0.070334  0.049414  \n1729           0.010931  0.096273  0.065455  0.088898  0.066114  0.038193  \n1730           0.020570  0.145011  0.034240  0.112431  0.068736  0.046250  \n1733           0.027027  0.068232  0.060700  0.101019  0.059371  0.152858  \n...                 ...       ...       ...       ...       ...       ...  \n2632           0.026738  0.127370  0.006320  0.110355  0.134662  0.016043  \n2633           0.022033  0.177266  0.010516  0.102654  0.035053  0.070606  \n2659           0.007030  0.142355  0.089631  0.028120  0.087873  0.063269  \n2677           0.041631  0.210755  0.038161  0.066204  0.019081  0.085863  \n2678           0.049214  0.202490  0.030537  0.091906  0.032019  0.089238  \n\n[318 rows x 12 columns]",
      "text/html": "<div>\n<style scoped>\n    .dataframe tbody tr th:only-of-type {\n        vertical-align: middle;\n    }\n\n    .dataframe tbody tr th {\n        vertical-align: top;\n    }\n\n    .dataframe thead th {\n        text-align: right;\n    }\n</style>\n<table border=\"1\" class=\"dataframe\">\n  <thead>\n    <tr style=\"text-align: right;\">\n      <th>relative_note</th>\n      <th>0</th>\n      <th>1</th>\n      <th>2</th>\n      <th>3</th>\n      <th>4</th>\n      <th>5</th>\n      <th>6</th>\n      <th>7</th>\n      <th>8</th>\n      <th>9</th>\n      <th>10</th>\n      <th>11</th>\n    </tr>\n    <tr>\n      <th>id</th>\n      <th></th>\n      <th></th>\n      <th></th>\n      <th></th>\n      <th></th>\n      <th></th>\n      <th></th>\n      <th></th>\n      <th></th>\n      <th></th>\n      <th></th>\n      <th></th>\n    </tr>\n  </thead>\n  <tbody>\n    <tr>\n      <th>1727</th>\n      <td>0.141033</td>\n      <td>0.075684</td>\n      <td>0.034347</td>\n      <td>0.158207</td>\n      <td>0.056231</td>\n      <td>0.112766</td>\n      <td>0.041945</td>\n      <td>0.069301</td>\n      <td>0.103647</td>\n      <td>0.074012</td>\n      <td>0.094681</td>\n      <td>0.038146</td>\n    </tr>\n    <tr>\n      <th>1728</th>\n      <td>0.188278</td>\n      <td>0.024707</td>\n      <td>0.111271</td>\n      <td>0.057710</td>\n      <td>0.066366</td>\n      <td>0.143553</td>\n      <td>0.018936</td>\n      <td>0.158341</td>\n      <td>0.039675</td>\n      <td>0.071416</td>\n      <td>0.070334</td>\n      <td>0.049414</td>\n    </tr>\n    <tr>\n      <th>1729</th>\n      <td>0.210852</td>\n      <td>0.032925</td>\n      <td>0.052680</td>\n      <td>0.040300</td>\n      <td>0.094824</td>\n      <td>0.202555</td>\n      <td>0.010931</td>\n      <td>0.096273</td>\n      <td>0.065455</td>\n      <td>0.088898</td>\n      <td>0.066114</td>\n      <td>0.038193</td>\n    </tr>\n    <tr>\n      <th>1730</th>\n      <td>0.170947</td>\n      <td>0.017887</td>\n      <td>0.117414</td>\n      <td>0.046506</td>\n      <td>0.087645</td>\n      <td>0.132362</td>\n      <td>0.020570</td>\n      <td>0.145011</td>\n      <td>0.034240</td>\n      <td>0.112431</td>\n      <td>0.068736</td>\n      <td>0.046250</td>\n    </tr>\n    <tr>\n      <th>1733</th>\n      <td>0.100576</td>\n      <td>0.015950</td>\n      <td>0.084626</td>\n      <td>0.057599</td>\n      <td>0.225964</td>\n      <td>0.046079</td>\n      <td>0.027027</td>\n      <td>0.068232</td>\n      <td>0.060700</td>\n      <td>0.101019</td>\n      <td>0.059371</td>\n      <td>0.152858</td>\n    </tr>\n    <tr>\n      <th>...</th>\n      <td>...</td>\n      <td>...</td>\n      <td>...</td>\n      <td>...</td>\n      <td>...</td>\n      <td>...</td>\n      <td>...</td>\n      <td>...</td>\n      <td>...</td>\n      <td>...</td>\n      <td>...</td>\n      <td>...</td>\n    </tr>\n    <tr>\n      <th>2632</th>\n      <td>0.213418</td>\n      <td>0.007778</td>\n      <td>0.083131</td>\n      <td>0.030141</td>\n      <td>0.083131</td>\n      <td>0.160914</td>\n      <td>0.026738</td>\n      <td>0.127370</td>\n      <td>0.006320</td>\n      <td>0.110355</td>\n      <td>0.134662</td>\n      <td>0.016043</td>\n    </tr>\n    <tr>\n      <th>2633</th>\n      <td>0.191287</td>\n      <td>0.011517</td>\n      <td>0.113170</td>\n      <td>0.012018</td>\n      <td>0.112168</td>\n      <td>0.141713</td>\n      <td>0.022033</td>\n      <td>0.177266</td>\n      <td>0.010516</td>\n      <td>0.102654</td>\n      <td>0.035053</td>\n      <td>0.070606</td>\n    </tr>\n    <tr>\n      <th>2659</th>\n      <td>0.133568</td>\n      <td>0.007030</td>\n      <td>0.147627</td>\n      <td>0.130053</td>\n      <td>0.017575</td>\n      <td>0.145870</td>\n      <td>0.007030</td>\n      <td>0.142355</td>\n      <td>0.089631</td>\n      <td>0.028120</td>\n      <td>0.087873</td>\n      <td>0.063269</td>\n    </tr>\n    <tr>\n      <th>2677</th>\n      <td>0.185025</td>\n      <td>0.025441</td>\n      <td>0.130385</td>\n      <td>0.028332</td>\n      <td>0.087308</td>\n      <td>0.081816</td>\n      <td>0.041631</td>\n      <td>0.210755</td>\n      <td>0.038161</td>\n      <td>0.066204</td>\n      <td>0.019081</td>\n      <td>0.085863</td>\n    </tr>\n    <tr>\n      <th>2678</th>\n      <td>0.122146</td>\n      <td>0.026090</td>\n      <td>0.147643</td>\n      <td>0.040617</td>\n      <td>0.091906</td>\n      <td>0.076193</td>\n      <td>0.049214</td>\n      <td>0.202490</td>\n      <td>0.030537</td>\n      <td>0.091906</td>\n      <td>0.032019</td>\n      <td>0.089238</td>\n    </tr>\n  </tbody>\n</table>\n<p>318 rows × 12 columns</p>\n</div>"
     },
     "metadata": {}
    }
   ]
  },
  {
   "cell_type": "markdown",
   "source": "Now, based on the table generated, we can do some analysis on the ratio each note is played by piece.  \nLater, we can merge this dataset with the metadata again to do this analysis by composer.",
   "metadata": {
    "cell_id": "6be5c413-20ba-424f-b3a0-4b7d7851ecd6",
    "tags": [],
    "deepnote_cell_type": "markdown"
   }
  },
  {
   "cell_type": "code",
   "metadata": {
    "cell_id": "7a6c7811-d60d-4173-b6d6-937cc9bf5e24",
    "tags": [],
    "deepnote_to_be_reexecuted": false,
    "source_hash": "a5352c8b",
    "execution_start": 1645737241369,
    "execution_millis": 431,
    "deepnote_cell_type": "code"
   },
   "source": "# Merging the notes ratio with the metadata table\ndf_composition_ratios = df_meta.merge(df_notes_ratio, left_on='id', right_index=True)\n# = df_meta.merge(df_notes_ratio, left_on='id', right_index=True)\ndf_composition_ratios",
   "execution_count": null,
   "outputs": [
    {
     "output_type": "execute_result",
     "execution_count": 16,
     "data": {
      "application/vnd.deepnote.dataframe.v3+json": {
       "column_count": 22,
       "row_count": 318,
       "columns": [
        {
         "name": "id",
         "dtype": "int64",
         "stats": {
          "unique_count": 318,
          "nan_count": 0,
          "min": "1727",
          "max": "2678",
          "histogram": [
           {
            "bin_start": 1727,
            "bin_end": 1822.1,
            "count": 45
           },
           {
            "bin_start": 1822.1,
            "bin_end": 1917.2,
            "count": 10
           },
           {
            "bin_start": 1917.2,
            "bin_end": 2012.3,
            "count": 7
           },
           {
            "bin_start": 2012.3,
            "bin_end": 2107.4,
            "count": 12
           },
           {
            "bin_start": 2107.4,
            "bin_end": 2202.5,
            "count": 41
           },
           {
            "bin_start": 2202.5,
            "bin_end": 2297.6,
            "count": 37
           },
           {
            "bin_start": 2297.6,
            "bin_end": 2392.7,
            "count": 50
           },
           {
            "bin_start": 2392.7,
            "bin_end": 2487.8,
            "count": 40
           },
           {
            "bin_start": 2487.8,
            "bin_end": 2582.9,
            "count": 49
           },
           {
            "bin_start": 2582.9,
            "bin_end": 2678,
            "count": 27
           }
          ]
         }
        },
        {
         "name": "composer",
         "dtype": "object",
         "stats": {
          "unique_count": 10,
          "nan_count": 0,
          "categories": [
           {
            "name": "Beethoven",
            "count": 157
           },
           {
            "name": "Bach",
            "count": 55
           },
           {
            "name": "8 others",
            "count": 106
           }
          ]
         }
        },
        {
         "name": "composition",
         "dtype": "object",
         "stats": {
          "unique_count": 119,
          "nan_count": 0,
          "categories": [
           {
            "name": "Piano Sonata in A minor",
            "count": 6
           },
           {
            "name": "String Quartet No 19 in C major",
            "count": 6
           },
           {
            "name": "117 others",
            "count": 306
           }
          ]
         }
        },
        {
         "name": "movement",
         "dtype": "object",
         "stats": {
          "unique_count": 191,
          "nan_count": 0,
          "categories": [
           {
            "name": "1. Prelude",
            "count": 21
           },
           {
            "name": "2. Fugue",
            "count": 18
           },
           {
            "name": "189 others",
            "count": 279
           }
          ]
         }
        },
        {
         "name": "ensemble",
         "dtype": "object",
         "stats": {
          "unique_count": 20,
          "nan_count": 0,
          "categories": [
           {
            "name": "Solo Piano",
            "count": 156
           },
           {
            "name": "String Quartet",
            "count": 57
           },
           {
            "name": "18 others",
            "count": 105
           }
          ]
         }
        },
        {
         "name": "seconds",
         "dtype": "int64",
         "stats": {
          "unique_count": 256,
          "nan_count": 0,
          "min": "55",
          "max": "1069",
          "histogram": [
           {
            "bin_start": 55,
            "bin_end": 156.4,
            "count": 41
           },
           {
            "bin_start": 156.4,
            "bin_end": 257.8,
            "count": 61
           },
           {
            "bin_start": 257.8,
            "bin_end": 359.20000000000005,
            "count": 59
           },
           {
            "bin_start": 359.20000000000005,
            "bin_end": 460.6,
            "count": 61
           },
           {
            "bin_start": 460.6,
            "bin_end": 562,
            "count": 46
           },
           {
            "bin_start": 562,
            "bin_end": 663.4000000000001,
            "count": 26
           },
           {
            "bin_start": 663.4000000000001,
            "bin_end": 764.8000000000001,
            "count": 10
           },
           {
            "bin_start": 764.8000000000001,
            "bin_end": 866.2,
            "count": 5
           },
           {
            "bin_start": 866.2,
            "bin_end": 967.6,
            "count": 5
           },
           {
            "bin_start": 967.6,
            "bin_end": 1069,
            "count": 4
           }
          ]
         }
        },
        {
         "name": "key",
         "dtype": "object",
         "stats": {
          "unique_count": 25,
          "nan_count": 0,
          "categories": [
           {
            "name": "E-flat major",
            "count": 42
           },
           {
            "name": "A major",
            "count": 30
           },
           {
            "name": "23 others",
            "count": 246
           }
          ]
         }
        },
        {
         "name": "tonic",
         "dtype": "object",
         "stats": {
          "unique_count": 14,
          "nan_count": 0,
          "categories": [
           {
            "name": "A",
            "count": 47
           },
           {
            "name": "E-flat",
            "count": 43
           },
           {
            "name": "12 others",
            "count": 228
           }
          ]
         }
        },
        {
         "name": "tonic_encoded",
         "dtype": "int64",
         "stats": {
          "unique_count": 12,
          "nan_count": 0,
          "min": "0",
          "max": "11",
          "histogram": [
           {
            "bin_start": 0,
            "bin_end": 1.1,
            "count": 49
           },
           {
            "bin_start": 1.1,
            "bin_end": 2.2,
            "count": 30
           },
           {
            "bin_start": 2.2,
            "bin_end": 3.3000000000000003,
            "count": 43
           },
           {
            "bin_start": 3.3000000000000003,
            "bin_end": 4.4,
            "count": 22
           },
           {
            "bin_start": 4.4,
            "bin_end": 5.5,
            "count": 38
           },
           {
            "bin_start": 5.5,
            "bin_end": 6.6000000000000005,
            "count": 4
           },
           {
            "bin_start": 6.6000000000000005,
            "bin_end": 7.700000000000001,
            "count": 40
           },
           {
            "bin_start": 7.700000000000001,
            "bin_end": 8.8,
            "count": 11
           },
           {
            "bin_start": 8.8,
            "bin_end": 9.9,
            "count": 47
           },
           {
            "bin_start": 9.9,
            "bin_end": 11,
            "count": 34
           }
          ]
         }
        },
        {
         "name": "mode",
         "dtype": "object",
         "stats": {
          "unique_count": 2,
          "nan_count": 0,
          "categories": [
           {
            "name": "major",
            "count": 206
           },
           {
            "name": "minor",
            "count": 112
           }
          ]
         }
        },
        {
         "name": 0,
         "dtype": "float64",
         "stats": {
          "unique_count": 299,
          "nan_count": 0,
          "min": "0.0020100502512562816",
          "max": "0.2737940026075619",
          "histogram": [
           {
            "bin_start": 0.0020100502512562816,
            "bin_end": 0.029188445486886847,
            "count": 2
           },
           {
            "bin_start": 0.029188445486886847,
            "bin_end": 0.05636684072251741,
            "count": 8
           },
           {
            "bin_start": 0.05636684072251741,
            "bin_end": 0.08354523595814797,
            "count": 8
           },
           {
            "bin_start": 0.08354523595814797,
            "bin_end": 0.11072363119377854,
            "count": 19
           },
           {
            "bin_start": 0.11072363119377854,
            "bin_end": 0.1379020264294091,
            "count": 62
           },
           {
            "bin_start": 0.1379020264294091,
            "bin_end": 0.16508042166503967,
            "count": 118
           },
           {
            "bin_start": 0.16508042166503967,
            "bin_end": 0.19225881690067023,
            "count": 67
           },
           {
            "bin_start": 0.19225881690067023,
            "bin_end": 0.2194372121363008,
            "count": 26
           },
           {
            "bin_start": 0.2194372121363008,
            "bin_end": 0.24661560737193136,
            "count": 6
           },
           {
            "bin_start": 0.24661560737193136,
            "bin_end": 0.2737940026075619,
            "count": 2
           }
          ]
         }
        },
        {
         "name": 1,
         "dtype": "float64",
         "stats": {
          "unique_count": 295,
          "nan_count": 4,
          "min": "0.0006770480704129993",
          "max": "0.1748743718592965",
          "histogram": [
           {
            "bin_start": 0.0006770480704129993,
            "bin_end": 0.01809678044930135,
            "count": 125
           },
           {
            "bin_start": 0.01809678044930135,
            "bin_end": 0.035516512828189704,
            "count": 104
           },
           {
            "bin_start": 0.035516512828189704,
            "bin_end": 0.052936245207078056,
            "count": 35
           },
           {
            "bin_start": 0.052936245207078056,
            "bin_end": 0.0703559775859664,
            "count": 18
           },
           {
            "bin_start": 0.0703559775859664,
            "bin_end": 0.08777570996485476,
            "count": 15
           },
           {
            "bin_start": 0.08777570996485476,
            "bin_end": 0.1051954423437431,
            "count": 11
           },
           {
            "bin_start": 0.1051954423437431,
            "bin_end": 0.12261517472263145,
            "count": 3
           },
           {
            "bin_start": 0.12261517472263145,
            "bin_end": 0.1400349071015198,
            "count": 2
           },
           {
            "bin_start": 0.1400349071015198,
            "bin_end": 0.15745463948040817,
            "count": 0
           },
           {
            "bin_start": 0.15745463948040817,
            "bin_end": 0.1748743718592965,
            "count": 1
           }
          ]
         }
        },
        {
         "name": 2,
         "dtype": "float64",
         "stats": {
          "unique_count": 299,
          "nan_count": 0,
          "min": "0.014141414141414142",
          "max": "0.21868512110726643",
          "histogram": [
           {
            "bin_start": 0.014141414141414142,
            "bin_end": 0.03459578483799937,
            "count": 13
           },
           {
            "bin_start": 0.03459578483799937,
            "bin_end": 0.055050155534584595,
            "count": 11
           },
           {
            "bin_start": 0.055050155534584595,
            "bin_end": 0.07550452623116982,
            "count": 23
           },
           {
            "bin_start": 0.07550452623116982,
            "bin_end": 0.09595889692775506,
            "count": 44
           },
           {
            "bin_start": 0.09595889692775506,
            "bin_end": 0.11641326762434029,
            "count": 70
           },
           {
            "bin_start": 0.11641326762434029,
            "bin_end": 0.1368676383209255,
            "count": 87
           },
           {
            "bin_start": 0.1368676383209255,
            "bin_end": 0.15732200901751073,
            "count": 56
           },
           {
            "bin_start": 0.15732200901751073,
            "bin_end": 0.17777637971409596,
            "count": 6
           },
           {
            "bin_start": 0.17777637971409596,
            "bin_end": 0.1982307504106812,
            "count": 6
           },
           {
            "bin_start": 0.1982307504106812,
            "bin_end": 0.21868512110726643,
            "count": 2
           }
          ]
         }
        },
        {
         "name": 3,
         "dtype": "float64",
         "stats": {
          "unique_count": 293,
          "nan_count": 6,
          "min": "0.0004203446826397646",
          "max": "0.2410006101281269",
          "histogram": [
           {
            "bin_start": 0.0004203446826397646,
            "bin_end": 0.02447837122718848,
            "count": 92
           },
           {
            "bin_start": 0.02447837122718848,
            "bin_end": 0.0485363977717372,
            "count": 57
           },
           {
            "bin_start": 0.0485363977717372,
            "bin_end": 0.0725944243162859,
            "count": 34
           },
           {
            "bin_start": 0.0725944243162859,
            "bin_end": 0.09665245086083463,
            "count": 23
           },
           {
            "bin_start": 0.09665245086083463,
            "bin_end": 0.12071047740538335,
            "count": 45
           },
           {
            "bin_start": 0.12071047740538335,
            "bin_end": 0.14476850394993204,
            "count": 33
           },
           {
            "bin_start": 0.14476850394993204,
            "bin_end": 0.16882653049448076,
            "count": 11
           },
           {
            "bin_start": 0.16882653049448076,
            "bin_end": 0.1928845570390295,
            "count": 8
           },
           {
            "bin_start": 0.1928845570390295,
            "bin_end": 0.2169425835835782,
            "count": 6
           },
           {
            "bin_start": 0.2169425835835782,
            "bin_end": 0.2410006101281269,
            "count": 3
           }
          ]
         }
        },
        {
         "name": 4,
         "dtype": "float64",
         "stats": {
          "unique_count": 299,
          "nan_count": 0,
          "min": "0.0017497812773403325",
          "max": "0.2259636685866194",
          "histogram": [
           {
            "bin_start": 0.0017497812773403325,
            "bin_end": 0.024171170008268242,
            "count": 46
           },
           {
            "bin_start": 0.024171170008268242,
            "bin_end": 0.04659255873919615,
            "count": 52
           },
           {
            "bin_start": 0.04659255873919615,
            "bin_end": 0.06901394747012406,
            "count": 24
           },
           {
            "bin_start": 0.06901394747012406,
            "bin_end": 0.09143533620105197,
            "count": 39
           },
           {
            "bin_start": 0.09143533620105197,
            "bin_end": 0.11385672493197989,
            "count": 62
           },
           {
            "bin_start": 0.11385672493197989,
            "bin_end": 0.13627811366290776,
            "count": 44
           },
           {
            "bin_start": 0.13627811366290776,
            "bin_end": 0.15869950239383568,
            "count": 35
           },
           {
            "bin_start": 0.15869950239383568,
            "bin_end": 0.1811208911247636,
            "count": 7
           },
           {
            "bin_start": 0.1811208911247636,
            "bin_end": 0.2035422798556915,
            "count": 7
           },
           {
            "bin_start": 0.2035422798556915,
            "bin_end": 0.2259636685866194,
            "count": 2
           }
          ]
         }
        },
        {
         "name": 5,
         "dtype": "float64",
         "stats": {
          "unique_count": 299,
          "nan_count": 0,
          "min": "0.005527638190954774",
          "max": "0.20255498485447124",
          "histogram": [
           {
            "bin_start": 0.005527638190954774,
            "bin_end": 0.02523037285730642,
            "count": 7
           },
           {
            "bin_start": 0.02523037285730642,
            "bin_end": 0.04493310752365807,
            "count": 9
           },
           {
            "bin_start": 0.04493310752365807,
            "bin_end": 0.06463584219000972,
            "count": 27
           },
           {
            "bin_start": 0.06463584219000972,
            "bin_end": 0.08433857685636137,
            "count": 73
           },
           {
            "bin_start": 0.08433857685636137,
            "bin_end": 0.10404131152271301,
            "count": 84
           },
           {
            "bin_start": 0.10404131152271301,
            "bin_end": 0.12374404618906465,
            "count": 48
           },
           {
            "bin_start": 0.12374404618906465,
            "bin_end": 0.14344678085541632,
            "count": 35
           },
           {
            "bin_start": 0.14344678085541632,
            "bin_end": 0.16314951552176796,
            "count": 18
           },
           {
            "bin_start": 0.16314951552176796,
            "bin_end": 0.1828522501881196,
            "count": 8
           },
           {
            "bin_start": 0.1828522501881196,
            "bin_end": 0.20255498485447124,
            "count": 9
           }
          ]
         }
        },
        {
         "name": 6,
         "dtype": "float64",
         "stats": {
          "unique_count": 297,
          "nan_count": 2,
          "min": "0.0014652014652014652",
          "max": "0.1385083713850837",
          "histogram": [
           {
            "bin_start": 0.0014652014652014652,
            "bin_end": 0.01516951845718969,
            "count": 38
           },
           {
            "bin_start": 0.01516951845718969,
            "bin_end": 0.028873835449177918,
            "count": 105
           },
           {
            "bin_start": 0.028873835449177918,
            "bin_end": 0.042578152441166146,
            "count": 90
           },
           {
            "bin_start": 0.042578152441166146,
            "bin_end": 0.05628246943315437,
            "count": 49
           },
           {
            "bin_start": 0.05628246943315437,
            "bin_end": 0.06998678642514258,
            "count": 14
           },
           {
            "bin_start": 0.06998678642514258,
            "bin_end": 0.08369110341713082,
            "count": 8
           },
           {
            "bin_start": 0.08369110341713082,
            "bin_end": 0.09739542040911904,
            "count": 6
           },
           {
            "bin_start": 0.09739542040911904,
            "bin_end": 0.11109973740110726,
            "count": 2
           },
           {
            "bin_start": 0.11109973740110726,
            "bin_end": 0.12480405439309548,
            "count": 2
           },
           {
            "bin_start": 0.12480405439309548,
            "bin_end": 0.1385083713850837,
            "count": 2
           }
          ]
         }
        },
        {
         "name": 7,
         "dtype": "float64",
         "stats": {
          "unique_count": 299,
          "nan_count": 0,
          "min": "0.016080402010050253",
          "max": "0.27450980392156865",
          "histogram": [
           {
            "bin_start": 0.016080402010050253,
            "bin_end": 0.0419233422012021,
            "count": 5
           },
           {
            "bin_start": 0.0419233422012021,
            "bin_end": 0.06776628239235394,
            "count": 4
           },
           {
            "bin_start": 0.06776628239235394,
            "bin_end": 0.09360922258350579,
            "count": 22
           },
           {
            "bin_start": 0.09360922258350579,
            "bin_end": 0.11945216277465762,
            "count": 25
           },
           {
            "bin_start": 0.11945216277465762,
            "bin_end": 0.14529510296580947,
            "count": 57
           },
           {
            "bin_start": 0.14529510296580947,
            "bin_end": 0.17113804315696132,
            "count": 83
           },
           {
            "bin_start": 0.17113804315696132,
            "bin_end": 0.19698098334811315,
            "count": 65
           },
           {
            "bin_start": 0.19698098334811315,
            "bin_end": 0.222823923539265,
            "count": 41
           },
           {
            "bin_start": 0.222823923539265,
            "bin_end": 0.24866686373041685,
            "count": 12
           },
           {
            "bin_start": 0.24866686373041685,
            "bin_end": 0.27450980392156865,
            "count": 4
           }
          ]
         }
        },
        {
         "name": 8,
         "dtype": "float64",
         "stats": {
          "unique_count": 298,
          "nan_count": 1,
          "min": "0.001218026796589525",
          "max": "0.21451104100946372",
          "histogram": [
           {
            "bin_start": 0.001218026796589525,
            "bin_end": 0.022547328217876944,
            "count": 77
           },
           {
            "bin_start": 0.022547328217876944,
            "bin_end": 0.04387662963916437,
            "count": 74
           },
           {
            "bin_start": 0.04387662963916437,
            "bin_end": 0.06520593106045179,
            "count": 50
           },
           {
            "bin_start": 0.06520593106045179,
            "bin_end": 0.08653523248173921,
            "count": 49
           },
           {
            "bin_start": 0.08653523248173921,
            "bin_end": 0.10786453390302662,
            "count": 35
           },
           {
            "bin_start": 0.10786453390302662,
            "bin_end": 0.12919383532431405,
            "count": 18
           },
           {
            "bin_start": 0.12919383532431405,
            "bin_end": 0.15052313674560147,
            "count": 4
           },
           {
            "bin_start": 0.15052313674560147,
            "bin_end": 0.1718524381668889,
            "count": 6
           },
           {
            "bin_start": 0.1718524381668889,
            "bin_end": 0.1931817395881763,
            "count": 1
           },
           {
            "bin_start": 0.1931817395881763,
            "bin_end": 0.21451104100946372,
            "count": 3
           }
          ]
         }
        },
        {
         "name": 9,
         "dtype": "float64",
         "stats": {
          "unique_count": 299,
          "nan_count": 0,
          "min": "0.006279434850863423",
          "max": "0.21673640167364017",
          "histogram": [
           {
            "bin_start": 0.006279434850863423,
            "bin_end": 0.027325131533141096,
            "count": 44
           },
           {
            "bin_start": 0.027325131533141096,
            "bin_end": 0.04837082821541877,
            "count": 54
           },
           {
            "bin_start": 0.04837082821541877,
            "bin_end": 0.06941652489769644,
            "count": 43
           },
           {
            "bin_start": 0.06941652489769644,
            "bin_end": 0.09046222157997412,
            "count": 52
           },
           {
            "bin_start": 0.09046222157997412,
            "bin_end": 0.1115079182622518,
            "count": 59
           },
           {
            "bin_start": 0.1115079182622518,
            "bin_end": 0.13255361494452947,
            "count": 33
           },
           {
            "bin_start": 0.13255361494452947,
            "bin_end": 0.15359931162680715,
            "count": 22
           },
           {
            "bin_start": 0.15359931162680715,
            "bin_end": 0.17464500830908483,
            "count": 7
           },
           {
            "bin_start": 0.17464500830908483,
            "bin_end": 0.1956907049913625,
            "count": 3
           },
           {
            "bin_start": 0.1956907049913625,
            "bin_end": 0.21673640167364017,
            "count": 1
           }
          ]
         }
        },
        {
         "name": 10,
         "dtype": "float64",
         "stats": {
          "unique_count": 298,
          "nan_count": 1,
          "min": "0.001443001443001443",
          "max": "0.21171312245537113",
          "histogram": [
           {
            "bin_start": 0.001443001443001443,
            "bin_end": 0.022470013544238412,
            "count": 71
           },
           {
            "bin_start": 0.022470013544238412,
            "bin_end": 0.043497025645475376,
            "count": 73
           },
           {
            "bin_start": 0.043497025645475376,
            "bin_end": 0.06452403774671234,
            "count": 46
           },
           {
            "bin_start": 0.06452403774671234,
            "bin_end": 0.08555104984794931,
            "count": 52
           },
           {
            "bin_start": 0.08555104984794931,
            "bin_end": 0.10657806194918629,
            "count": 44
           },
           {
            "bin_start": 0.10657806194918629,
            "bin_end": 0.12760507405042323,
            "count": 14
           },
           {
            "bin_start": 0.12760507405042323,
            "bin_end": 0.1486320861516602,
            "count": 10
           },
           {
            "bin_start": 0.1486320861516602,
            "bin_end": 0.16965909825289718,
            "count": 5
           },
           {
            "bin_start": 0.16965909825289718,
            "bin_end": 0.19068611035413416,
            "count": 1
           },
           {
            "bin_start": 0.19068611035413416,
            "bin_end": 0.21171312245537113,
            "count": 1
           }
          ]
         }
        },
        {
         "name": 11,
         "dtype": "float64",
         "stats": {
          "unique_count": 298,
          "nan_count": 0,
          "min": "0.00827912477823773",
          "max": "0.18293515358361775",
          "histogram": [
           {
            "bin_start": 0.00827912477823773,
            "bin_end": 0.025744727658775734,
            "count": 20
           },
           {
            "bin_start": 0.025744727658775734,
            "bin_end": 0.04321033053931374,
            "count": 39
           },
           {
            "bin_start": 0.04321033053931374,
            "bin_end": 0.060675933419851745,
            "count": 55
           },
           {
            "bin_start": 0.060675933419851745,
            "bin_end": 0.07814153630038975,
            "count": 53
           },
           {
            "bin_start": 0.07814153630038975,
            "bin_end": 0.09560713918092775,
            "count": 66
           },
           {
            "bin_start": 0.09560713918092775,
            "bin_end": 0.11307274206146575,
            "count": 45
           },
           {
            "bin_start": 0.11307274206146575,
            "bin_end": 0.13053834494200375,
            "count": 20
           },
           {
            "bin_start": 0.13053834494200375,
            "bin_end": 0.14800394782254175,
            "count": 13
           },
           {
            "bin_start": 0.14800394782254175,
            "bin_end": 0.16546955070307975,
            "count": 2
           },
           {
            "bin_start": 0.16546955070307975,
            "bin_end": 0.18293515358361775,
            "count": 5
           }
          ]
         }
        },
        {
         "name": "_deepnote_index_column",
         "dtype": "int64"
        }
       ],
       "rows": [
        {
         "0": 0.14103343465045592,
         "1": 0.0756838905775076,
         "2": 0.03434650455927052,
         "3": 0.15820668693009118,
         "4": 0.05623100303951368,
         "5": 0.1127659574468085,
         "6": 0.041945288753799395,
         "7": 0.06930091185410335,
         "8": 0.10364741641337386,
         "9": 0.07401215805471124,
         "10": 0.09468085106382979,
         "11": 0.03814589665653496,
         "id": 1727,
         "composer": "Schubert",
         "composition": "Piano Quintet in A major",
         "movement": "2. Andante",
         "ensemble": "Piano Quintet",
         "seconds": 447,
         "key": "A major",
         "tonic": "A",
         "tonic_encoded": 9,
         "mode": "major",
         "_deepnote_index_column": 0
        },
        {
         "0": 0.18827772768259693,
         "1": 0.024706943192064925,
         "2": 0.11127141568981064,
         "3": 0.057709648331830475,
         "4": 0.06636609558160506,
         "5": 0.14355275022542832,
         "6": 0.018935978358881875,
         "7": 0.15834084761045988,
         "8": 0.03967538322813345,
         "9": 0.07141568981064021,
         "10": 0.0703336339044184,
         "11": 0.04941388638412985,
         "id": 1728,
         "composer": "Schubert",
         "composition": "Piano Quintet in A major",
         "movement": "3. Scherzo: Presto",
         "ensemble": "Piano Quintet",
         "seconds": 251,
         "key": "A major",
         "tonic": "A",
         "tonic_encoded": 9,
         "mode": "major",
         "_deepnote_index_column": 1
        },
        {
         "0": 0.21085210061899118,
         "1": 0.03292506255761886,
         "2": 0.05268010009219017,
         "3": 0.040300276570525484,
         "4": 0.09482418016594231,
         "5": 0.20255498485447124,
         "6": 0.01093112076912946,
         "7": 0.09627288291847755,
         "8": 0.0654550243645463,
         "9": 0.08889766890557092,
         "10": 0.06611352561569867,
         "11": 0.03819307256683788,
         "id": 1729,
         "composer": "Schubert",
         "composition": "Piano Quintet in A major",
         "movement": "4. Andantino - Allegretto",
         "ensemble": "Piano Quintet",
         "seconds": 444,
         "key": "A major",
         "tonic": "A",
         "tonic_encoded": 9,
         "mode": "major",
         "_deepnote_index_column": 2
        },
        {
         "0": 0.1709467228823304,
         "1": 0.017886802095311103,
         "2": 0.11741407946850645,
         "3": 0.046505685447808864,
         "4": 0.0876453302670244,
         "5": 0.13236233550530216,
         "6": 0.02056982240960777,
         "7": 0.1450108598441293,
         "8": 0.034240449725309825,
         "9": 0.11243132745624122,
         "10": 0.06873642519483839,
         "11": 0.04625015970359014,
         "id": 1730,
         "composer": "Schubert",
         "composition": "Piano Quintet in A major",
         "movement": "5. Allegro giusto",
         "ensemble": "Piano Quintet",
         "seconds": 368,
         "key": "A major",
         "tonic": "A",
         "tonic_encoded": 9,
         "mode": "major",
         "_deepnote_index_column": 3
        },
        {
         "0": 0.10057598582188747,
         "1": 0.01595037660611431,
         "2": 0.08462560921577315,
         "3": 0.057598582188746125,
         "4": 0.2259636685866194,
         "5": 0.0460788657509969,
         "6": 0.02702702702702703,
         "7": 0.06823216659282233,
         "8": 0.06070004430660168,
         "9": 0.10101905183872396,
         "10": 0.05937084625609216,
         "11": 0.15285777580859547,
         "id": 1733,
         "composer": "Schubert",
         "composition": "Piano Sonata in A major",
         "movement": "2. Andantino",
         "ensemble": "Solo Piano",
         "seconds": 546,
         "key": "A major",
         "tonic": "A",
         "tonic_encoded": 9,
         "mode": "major",
         "_deepnote_index_column": 4
        },
        {
         "0": 0.14750171115674196,
         "1": 0.005817932922655715,
         "2": 0.07905544147843943,
         "3": 0.06194387405886379,
         "4": 0.10301163586584532,
         "5": 0.11943874058863792,
         "6": 0.019507186858316223,
         "7": 0.21013004791238876,
         "8": 0.049281314168377825,
         "9": 0.05373032169746749,
         "10": 0.10917180013689254,
         "11": 0.04140999315537303,
         "id": 1734,
         "composer": "Schubert",
         "composition": "Piano Sonata in A major",
         "movement": "3. Scherzo. Allegro vivace",
         "ensemble": "Solo Piano",
         "seconds": 325,
         "key": "A major",
         "tonic": "A",
         "tonic_encoded": 9,
         "mode": "major",
         "_deepnote_index_column": 5
        },
        {
         "0": 0.15120473236185256,
         "1": 0.018323474246140527,
         "2": 0.13244842014139374,
         "3": 0.0422738421584187,
         "4": 0.1203289568604819,
         "5": 0.07964218727456356,
         "6": 0.031741451450007216,
         "7": 0.17905064204299523,
         "8": 0.032462848073871016,
         "9": 0.08930890203433849,
         "10": 0.035925551868417255,
         "11": 0.08728899148751984,
         "id": 1735,
         "composer": "Schubert",
         "composition": "Piano Sonata in A major",
         "movement": "4. Rondo. Allegretto",
         "ensemble": "Solo Piano",
         "seconds": 714,
         "key": "A major",
         "tonic": "A",
         "tonic_encoded": 9,
         "mode": "major",
         "_deepnote_index_column": 6
        },
        {
         "0": 0.15780696268501146,
         "1": 0.01719824890556598,
         "2": 0.13456326870961016,
         "3": 0.058890973525119863,
         "4": 0.09443402126328955,
         "5": 0.06837606837606838,
         "6": 0.028351052741296644,
         "7": 0.18376068376068377,
         "8": 0.03523035230352303,
         "9": 0.09787367104440275,
         "10": 0.054930164686262245,
         "11": 0.06858453199916614,
         "id": 1739,
         "composer": "Schubert",
         "composition": "Piano Trio in B-flat major",
         "movement": "4. Rondo. Allegro vivace",
         "ensemble": "Piano Trio",
         "seconds": 490,
         "key": "B-flat major",
         "tonic": "B-flat",
         "tonic_encoded": 10,
         "mode": "major",
         "_deepnote_index_column": 7
        },
        {
         "0": 0.10722100656455143,
         "1": 0.08655482616095307,
         "2": 0.046681254558716266,
         "3": 0.08388037928519329,
         "4": 0.08582543155847314,
         "5": 0.11548747872599076,
         "6": 0.07342572331631413,
         "7": 0.08315098468271334,
         "8": 0.08728422076343302,
         "9": 0.0712375395088743,
         "10": 0.06224167274495502,
         "11": 0.09700948212983224,
         "id": 1742,
         "composer": "Schubert",
         "composition": "String Quintet in C major",
         "movement": "2. Adagio",
         "ensemble": "Viola Quintet",
         "seconds": 924,
         "key": "C major",
         "tonic": "C",
         "tonic_encoded": 0,
         "mode": "major",
         "_deepnote_index_column": 8
        },
        {
         "0": 0.11526246964319073,
         "1": 0.031571081636465534,
         "2": 0.09508686717728376,
         "3": 0.13487763870726696,
         "4": 0.02895572576125537,
         "5": 0.09265832243601718,
         "6": 0.02895572576125537,
         "7": 0.16103119745936859,
         "8": 0.09490005604334019,
         "9": 0.03437324864561928,
         "10": 0.1277788156174108,
         "11": 0.05454885111152625,
         "id": 1749,
         "composer": "Schubert",
         "composition": "Piano Sonata in A minor",
         "movement": "1. Moderato",
         "ensemble": "Solo Piano",
         "seconds": 696,
         "key": "A minor",
         "tonic": "A",
         "tonic_encoded": 9,
         "mode": "minor",
         "_deepnote_index_column": 9
        }
       ]
      },
      "text/plain": "       id   composer                     composition  \\\n0    1727   Schubert        Piano Quintet in A major   \n1    1728   Schubert        Piano Quintet in A major   \n2    1729   Schubert        Piano Quintet in A major   \n3    1730   Schubert        Piano Quintet in A major   \n4    1733   Schubert         Piano Sonata in A major   \n..    ...        ...                             ...   \n313  2632  Beethoven   Piano Sonata No 10 in G major   \n314  2633  Beethoven   Piano Sonata No 10 in G major   \n315  2659       Bach  Violin Partita No 1 in B minor   \n316  2677  Beethoven    Piano Sonata No 9 in E major   \n317  2678  Beethoven   Piano Sonata No 10 in G major   \n\n                      movement       ensemble  seconds      key tonic  \\\n0                   2. Andante  Piano Quintet      447  A major     A   \n1           3. Scherzo: Presto  Piano Quintet      251  A major     A   \n2    4. Andantino - Allegretto  Piano Quintet      444  A major     A   \n3            5. Allegro giusto  Piano Quintet      368  A major     A   \n4                 2. Andantino     Solo Piano      546  A major     A   \n..                         ...            ...      ...      ...   ...   \n313                 2. Andante     Solo Piano      341  G major     G   \n314  3. Scherzo: Allegro assai     Solo Piano      227  G major     G   \n315                  6. Double    Solo Violin      108  B minor     B   \n316                 1. Allegro     Solo Piano      445  E major     E   \n317                 1. Allegro     Solo Piano      472  G major     G   \n\n     tonic_encoded   mode  ...         2         3         4         5  \\\n0                9  major  ...  0.034347  0.158207  0.056231  0.112766   \n1                9  major  ...  0.111271  0.057710  0.066366  0.143553   \n2                9  major  ...  0.052680  0.040300  0.094824  0.202555   \n3                9  major  ...  0.117414  0.046506  0.087645  0.132362   \n4                9  major  ...  0.084626  0.057599  0.225964  0.046079   \n..             ...    ...  ...       ...       ...       ...       ...   \n313              7  major  ...  0.083131  0.030141  0.083131  0.160914   \n314              7  major  ...  0.113170  0.012018  0.112168  0.141713   \n315             11  minor  ...  0.147627  0.130053  0.017575  0.145870   \n316              4  major  ...  0.130385  0.028332  0.087308  0.081816   \n317              7  major  ...  0.147643  0.040617  0.091906  0.076193   \n\n            6         7         8         9        10        11  \n0    0.041945  0.069301  0.103647  0.074012  0.094681  0.038146  \n1    0.018936  0.158341  0.039675  0.071416  0.070334  0.049414  \n2    0.010931  0.096273  0.065455  0.088898  0.066114  0.038193  \n3    0.020570  0.145011  0.034240  0.112431  0.068736  0.046250  \n4    0.027027  0.068232  0.060700  0.101019  0.059371  0.152858  \n..        ...       ...       ...       ...       ...       ...  \n313  0.026738  0.127370  0.006320  0.110355  0.134662  0.016043  \n314  0.022033  0.177266  0.010516  0.102654  0.035053  0.070606  \n315  0.007030  0.142355  0.089631  0.028120  0.087873  0.063269  \n316  0.041631  0.210755  0.038161  0.066204  0.019081  0.085863  \n317  0.049214  0.202490  0.030537  0.091906  0.032019  0.089238  \n\n[318 rows x 22 columns]",
      "text/html": "<div>\n<style scoped>\n    .dataframe tbody tr th:only-of-type {\n        vertical-align: middle;\n    }\n\n    .dataframe tbody tr th {\n        vertical-align: top;\n    }\n\n    .dataframe thead th {\n        text-align: right;\n    }\n</style>\n<table border=\"1\" class=\"dataframe\">\n  <thead>\n    <tr style=\"text-align: right;\">\n      <th></th>\n      <th>id</th>\n      <th>composer</th>\n      <th>composition</th>\n      <th>movement</th>\n      <th>ensemble</th>\n      <th>seconds</th>\n      <th>key</th>\n      <th>tonic</th>\n      <th>tonic_encoded</th>\n      <th>mode</th>\n      <th>...</th>\n      <th>2</th>\n      <th>3</th>\n      <th>4</th>\n      <th>5</th>\n      <th>6</th>\n      <th>7</th>\n      <th>8</th>\n      <th>9</th>\n      <th>10</th>\n      <th>11</th>\n    </tr>\n  </thead>\n  <tbody>\n    <tr>\n      <th>0</th>\n      <td>1727</td>\n      <td>Schubert</td>\n      <td>Piano Quintet in A major</td>\n      <td>2. Andante</td>\n      <td>Piano Quintet</td>\n      <td>447</td>\n      <td>A major</td>\n      <td>A</td>\n      <td>9</td>\n      <td>major</td>\n      <td>...</td>\n      <td>0.034347</td>\n      <td>0.158207</td>\n      <td>0.056231</td>\n      <td>0.112766</td>\n      <td>0.041945</td>\n      <td>0.069301</td>\n      <td>0.103647</td>\n      <td>0.074012</td>\n      <td>0.094681</td>\n      <td>0.038146</td>\n    </tr>\n    <tr>\n      <th>1</th>\n      <td>1728</td>\n      <td>Schubert</td>\n      <td>Piano Quintet in A major</td>\n      <td>3. Scherzo: Presto</td>\n      <td>Piano Quintet</td>\n      <td>251</td>\n      <td>A major</td>\n      <td>A</td>\n      <td>9</td>\n      <td>major</td>\n      <td>...</td>\n      <td>0.111271</td>\n      <td>0.057710</td>\n      <td>0.066366</td>\n      <td>0.143553</td>\n      <td>0.018936</td>\n      <td>0.158341</td>\n      <td>0.039675</td>\n      <td>0.071416</td>\n      <td>0.070334</td>\n      <td>0.049414</td>\n    </tr>\n    <tr>\n      <th>2</th>\n      <td>1729</td>\n      <td>Schubert</td>\n      <td>Piano Quintet in A major</td>\n      <td>4. Andantino - Allegretto</td>\n      <td>Piano Quintet</td>\n      <td>444</td>\n      <td>A major</td>\n      <td>A</td>\n      <td>9</td>\n      <td>major</td>\n      <td>...</td>\n      <td>0.052680</td>\n      <td>0.040300</td>\n      <td>0.094824</td>\n      <td>0.202555</td>\n      <td>0.010931</td>\n      <td>0.096273</td>\n      <td>0.065455</td>\n      <td>0.088898</td>\n      <td>0.066114</td>\n      <td>0.038193</td>\n    </tr>\n    <tr>\n      <th>3</th>\n      <td>1730</td>\n      <td>Schubert</td>\n      <td>Piano Quintet in A major</td>\n      <td>5. Allegro giusto</td>\n      <td>Piano Quintet</td>\n      <td>368</td>\n      <td>A major</td>\n      <td>A</td>\n      <td>9</td>\n      <td>major</td>\n      <td>...</td>\n      <td>0.117414</td>\n      <td>0.046506</td>\n      <td>0.087645</td>\n      <td>0.132362</td>\n      <td>0.020570</td>\n      <td>0.145011</td>\n      <td>0.034240</td>\n      <td>0.112431</td>\n      <td>0.068736</td>\n      <td>0.046250</td>\n    </tr>\n    <tr>\n      <th>4</th>\n      <td>1733</td>\n      <td>Schubert</td>\n      <td>Piano Sonata in A major</td>\n      <td>2. Andantino</td>\n      <td>Solo Piano</td>\n      <td>546</td>\n      <td>A major</td>\n      <td>A</td>\n      <td>9</td>\n      <td>major</td>\n      <td>...</td>\n      <td>0.084626</td>\n      <td>0.057599</td>\n      <td>0.225964</td>\n      <td>0.046079</td>\n      <td>0.027027</td>\n      <td>0.068232</td>\n      <td>0.060700</td>\n      <td>0.101019</td>\n      <td>0.059371</td>\n      <td>0.152858</td>\n    </tr>\n    <tr>\n      <th>...</th>\n      <td>...</td>\n      <td>...</td>\n      <td>...</td>\n      <td>...</td>\n      <td>...</td>\n      <td>...</td>\n      <td>...</td>\n      <td>...</td>\n      <td>...</td>\n      <td>...</td>\n      <td>...</td>\n      <td>...</td>\n      <td>...</td>\n      <td>...</td>\n      <td>...</td>\n      <td>...</td>\n      <td>...</td>\n      <td>...</td>\n      <td>...</td>\n      <td>...</td>\n      <td>...</td>\n    </tr>\n    <tr>\n      <th>313</th>\n      <td>2632</td>\n      <td>Beethoven</td>\n      <td>Piano Sonata No 10 in G major</td>\n      <td>2. Andante</td>\n      <td>Solo Piano</td>\n      <td>341</td>\n      <td>G major</td>\n      <td>G</td>\n      <td>7</td>\n      <td>major</td>\n      <td>...</td>\n      <td>0.083131</td>\n      <td>0.030141</td>\n      <td>0.083131</td>\n      <td>0.160914</td>\n      <td>0.026738</td>\n      <td>0.127370</td>\n      <td>0.006320</td>\n      <td>0.110355</td>\n      <td>0.134662</td>\n      <td>0.016043</td>\n    </tr>\n    <tr>\n      <th>314</th>\n      <td>2633</td>\n      <td>Beethoven</td>\n      <td>Piano Sonata No 10 in G major</td>\n      <td>3. Scherzo: Allegro assai</td>\n      <td>Solo Piano</td>\n      <td>227</td>\n      <td>G major</td>\n      <td>G</td>\n      <td>7</td>\n      <td>major</td>\n      <td>...</td>\n      <td>0.113170</td>\n      <td>0.012018</td>\n      <td>0.112168</td>\n      <td>0.141713</td>\n      <td>0.022033</td>\n      <td>0.177266</td>\n      <td>0.010516</td>\n      <td>0.102654</td>\n      <td>0.035053</td>\n      <td>0.070606</td>\n    </tr>\n    <tr>\n      <th>315</th>\n      <td>2659</td>\n      <td>Bach</td>\n      <td>Violin Partita No 1 in B minor</td>\n      <td>6. Double</td>\n      <td>Solo Violin</td>\n      <td>108</td>\n      <td>B minor</td>\n      <td>B</td>\n      <td>11</td>\n      <td>minor</td>\n      <td>...</td>\n      <td>0.147627</td>\n      <td>0.130053</td>\n      <td>0.017575</td>\n      <td>0.145870</td>\n      <td>0.007030</td>\n      <td>0.142355</td>\n      <td>0.089631</td>\n      <td>0.028120</td>\n      <td>0.087873</td>\n      <td>0.063269</td>\n    </tr>\n    <tr>\n      <th>316</th>\n      <td>2677</td>\n      <td>Beethoven</td>\n      <td>Piano Sonata No 9 in E major</td>\n      <td>1. Allegro</td>\n      <td>Solo Piano</td>\n      <td>445</td>\n      <td>E major</td>\n      <td>E</td>\n      <td>4</td>\n      <td>major</td>\n      <td>...</td>\n      <td>0.130385</td>\n      <td>0.028332</td>\n      <td>0.087308</td>\n      <td>0.081816</td>\n      <td>0.041631</td>\n      <td>0.210755</td>\n      <td>0.038161</td>\n      <td>0.066204</td>\n      <td>0.019081</td>\n      <td>0.085863</td>\n    </tr>\n    <tr>\n      <th>317</th>\n      <td>2678</td>\n      <td>Beethoven</td>\n      <td>Piano Sonata No 10 in G major</td>\n      <td>1. Allegro</td>\n      <td>Solo Piano</td>\n      <td>472</td>\n      <td>G major</td>\n      <td>G</td>\n      <td>7</td>\n      <td>major</td>\n      <td>...</td>\n      <td>0.147643</td>\n      <td>0.040617</td>\n      <td>0.091906</td>\n      <td>0.076193</td>\n      <td>0.049214</td>\n      <td>0.202490</td>\n      <td>0.030537</td>\n      <td>0.091906</td>\n      <td>0.032019</td>\n      <td>0.089238</td>\n    </tr>\n  </tbody>\n</table>\n<p>318 rows × 22 columns</p>\n</div>"
     },
     "metadata": {}
    }
   ]
  },
  {
   "cell_type": "code",
   "metadata": {
    "cell_id": "6c104442-fa47-4940-ad31-0e405f9000f6",
    "tags": [],
    "deepnote_to_be_reexecuted": false,
    "source_hash": "598141ee",
    "execution_start": 1645737418624,
    "execution_millis": 0,
    "deepnote_cell_type": "code"
   },
   "source": "# Defining function to get top -any note ratio- compositions\ndef top_ratio(n, top=5):\n    return df_composition_ratios.sort_values(n, ascending=False)[['id', 'composer', 'composition', 'movement', 'key', n]].head(top)",
   "execution_count": null,
   "outputs": []
  },
  {
   "cell_type": "code",
   "metadata": {
    "cell_id": "9ee8576f-851e-4edc-a263-c99ed6ec26b2",
    "tags": [],
    "deepnote_to_be_reexecuted": false,
    "source_hash": "5eaee15d",
    "execution_start": 1645737415472,
    "execution_millis": 35,
    "deepnote_cell_type": "code"
   },
   "source": "# Top 5 pieces with higher ratio of the infamous tritone\ntop_tritone = top_ratio(6)\ntop_tritone",
   "execution_count": null,
   "outputs": [
    {
     "output_type": "execute_result",
     "execution_count": 23,
     "data": {
      "application/vnd.deepnote.dataframe.v3+json": {
       "column_count": 6,
       "row_count": 5,
       "columns": [
        {
         "name": "id",
         "dtype": "int64",
         "stats": {
          "unique_count": 5,
          "nan_count": 0,
          "min": "1772",
          "max": "2471",
          "histogram": [
           {
            "bin_start": 1772,
            "bin_end": 1841.9,
            "count": 2
           },
           {
            "bin_start": 1841.9,
            "bin_end": 1911.8,
            "count": 0
           },
           {
            "bin_start": 1911.8,
            "bin_end": 1981.7,
            "count": 0
           },
           {
            "bin_start": 1981.7,
            "bin_end": 2051.6,
            "count": 0
           },
           {
            "bin_start": 2051.6,
            "bin_end": 2121.5,
            "count": 0
           },
           {
            "bin_start": 2121.5,
            "bin_end": 2191.4,
            "count": 1
           },
           {
            "bin_start": 2191.4,
            "bin_end": 2261.3,
            "count": 0
           },
           {
            "bin_start": 2261.3,
            "bin_end": 2331.2,
            "count": 0
           },
           {
            "bin_start": 2331.2,
            "bin_end": 2401.1,
            "count": 1
           },
           {
            "bin_start": 2401.1,
            "bin_end": 2471,
            "count": 1
           }
          ]
         }
        },
        {
         "name": "composer",
         "dtype": "object",
         "stats": {
          "unique_count": 3,
          "nan_count": 0,
          "categories": [
           {
            "name": "Schubert",
            "count": 2
           },
           {
            "name": "Beethoven",
            "count": 2
           },
           {
            "name": "Brahms",
            "count": 1
           }
          ]
         }
        },
        {
         "name": "composition",
         "dtype": "object",
         "stats": {
          "unique_count": 4,
          "nan_count": 0,
          "categories": [
           {
            "name": "Piano Sonata in D-flat major",
            "count": 2
           },
           {
            "name": "String Sextet No 1 in B-flat major",
            "count": 1
           },
           {
            "name": "2 others",
            "count": 2
           }
          ]
         }
        },
        {
         "name": "movement",
         "dtype": "object",
         "stats": {
          "unique_count": 5,
          "nan_count": 0,
          "categories": [
           {
            "name": "2. Andante, ma moderato",
            "count": 1
           },
           {
            "name": "2. Andante molto",
            "count": 1
           },
           {
            "name": "3 others",
            "count": 3
           }
          ]
         }
        },
        {
         "name": "key",
         "dtype": "object",
         "stats": {
          "unique_count": 3,
          "nan_count": 0,
          "categories": [
           {
            "name": "B-flat major",
            "count": 2
           },
           {
            "name": "D-flat major",
            "count": 2
           },
           {
            "name": "C major",
            "count": 1
           }
          ]
         }
        },
        {
         "name": 6,
         "dtype": "float64",
         "stats": {
          "unique_count": 5,
          "nan_count": 0,
          "min": "0.10170648464163823",
          "max": "0.1385083713850837",
          "histogram": [
           {
            "bin_start": 0.10170648464163823,
            "bin_end": 0.10538667331598278,
            "count": 1
           },
           {
            "bin_start": 0.10538667331598278,
            "bin_end": 0.10906686199032732,
            "count": 0
           },
           {
            "bin_start": 0.10906686199032732,
            "bin_end": 0.11274705066467187,
            "count": 0
           },
           {
            "bin_start": 0.11274705066467187,
            "bin_end": 0.11642723933901641,
            "count": 0
           },
           {
            "bin_start": 0.11642723933901641,
            "bin_end": 0.12010742801336097,
            "count": 1
           },
           {
            "bin_start": 0.12010742801336097,
            "bin_end": 0.12378761668770552,
            "count": 1
           },
           {
            "bin_start": 0.12378761668770552,
            "bin_end": 0.12746780536205007,
            "count": 0
           },
           {
            "bin_start": 0.12746780536205007,
            "bin_end": 0.1311479940363946,
            "count": 0
           },
           {
            "bin_start": 0.1311479940363946,
            "bin_end": 0.13482818271073915,
            "count": 1
           },
           {
            "bin_start": 0.13482818271073915,
            "bin_end": 0.1385083713850837,
            "count": 1
           }
          ]
         }
        },
        {
         "name": "_deepnote_index_column",
         "dtype": "int64"
        }
       ],
       "rows": [
        {
         "6": 0.1385083713850837,
         "id": 2155,
         "composer": "Brahms",
         "composition": "String Sextet No 1 in B-flat major",
         "movement": "2. Andante, ma moderato",
         "key": "B-flat major",
         "_deepnote_index_column": 91
        },
        {
         "6": 0.13393258426966292,
         "id": 1772,
         "composer": "Schubert",
         "composition": "Piano Sonata in D-flat major",
         "movement": "2. Andante molto",
         "key": "D-flat major",
         "_deepnote_index_column": 25
        },
        {
         "6": 0.12164813603662525,
         "id": 1773,
         "composer": "Schubert",
         "composition": "Piano Sonata in D-flat major",
         "movement": "3. Menuetto. Allegretto",
         "key": "D-flat major",
         "_deepnote_index_column": 26
        },
        {
         "6": 0.11758793969849246,
         "id": 2384,
         "composer": "Beethoven",
         "composition": "String Quartet No 13 in B-flat major",
         "movement": "4. Alla danza tedesca. Allegro assai",
         "key": "B-flat major",
         "_deepnote_index_column": 196
        },
        {
         "6": 0.10170648464163823,
         "id": 2471,
         "composer": "Beethoven",
         "composition": "Piano Sonata No 3 in C major",
         "movement": "2. Adagio",
         "key": "C major",
         "_deepnote_index_column": 230
        }
       ]
      },
      "text/plain": "       id   composer                           composition  \\\n91   2155     Brahms    String Sextet No 1 in B-flat major   \n25   1772   Schubert          Piano Sonata in D-flat major   \n26   1773   Schubert          Piano Sonata in D-flat major   \n196  2384  Beethoven  String Quartet No 13 in B-flat major   \n230  2471  Beethoven          Piano Sonata No 3 in C major   \n\n                                 movement           key         6  \n91                2. Andante, ma moderato  B-flat major  0.138508  \n25                       2. Andante molto  D-flat major  0.133933  \n26                3. Menuetto. Allegretto  D-flat major  0.121648  \n196  4. Alla danza tedesca. Allegro assai  B-flat major  0.117588  \n230                             2. Adagio       C major  0.101706  ",
      "text/html": "<div>\n<style scoped>\n    .dataframe tbody tr th:only-of-type {\n        vertical-align: middle;\n    }\n\n    .dataframe tbody tr th {\n        vertical-align: top;\n    }\n\n    .dataframe thead th {\n        text-align: right;\n    }\n</style>\n<table border=\"1\" class=\"dataframe\">\n  <thead>\n    <tr style=\"text-align: right;\">\n      <th></th>\n      <th>id</th>\n      <th>composer</th>\n      <th>composition</th>\n      <th>movement</th>\n      <th>key</th>\n      <th>6</th>\n    </tr>\n  </thead>\n  <tbody>\n    <tr>\n      <th>91</th>\n      <td>2155</td>\n      <td>Brahms</td>\n      <td>String Sextet No 1 in B-flat major</td>\n      <td>2. Andante, ma moderato</td>\n      <td>B-flat major</td>\n      <td>0.138508</td>\n    </tr>\n    <tr>\n      <th>25</th>\n      <td>1772</td>\n      <td>Schubert</td>\n      <td>Piano Sonata in D-flat major</td>\n      <td>2. Andante molto</td>\n      <td>D-flat major</td>\n      <td>0.133933</td>\n    </tr>\n    <tr>\n      <th>26</th>\n      <td>1773</td>\n      <td>Schubert</td>\n      <td>Piano Sonata in D-flat major</td>\n      <td>3. Menuetto. Allegretto</td>\n      <td>D-flat major</td>\n      <td>0.121648</td>\n    </tr>\n    <tr>\n      <th>196</th>\n      <td>2384</td>\n      <td>Beethoven</td>\n      <td>String Quartet No 13 in B-flat major</td>\n      <td>4. Alla danza tedesca. Allegro assai</td>\n      <td>B-flat major</td>\n      <td>0.117588</td>\n    </tr>\n    <tr>\n      <th>230</th>\n      <td>2471</td>\n      <td>Beethoven</td>\n      <td>Piano Sonata No 3 in C major</td>\n      <td>2. Adagio</td>\n      <td>C major</td>\n      <td>0.101706</td>\n    </tr>\n  </tbody>\n</table>\n</div>"
     },
     "metadata": {}
    }
   ]
  },
  {
   "cell_type": "code",
   "metadata": {
    "cell_id": "6dd0d962-0da7-40c7-8fa3-7203fb9099d0",
    "tags": [],
    "deepnote_to_be_reexecuted": false,
    "source_hash": "9c2bd972",
    "execution_start": 1645737438867,
    "execution_millis": 255,
    "deepnote_cell_type": "code"
   },
   "source": "# Top 5 pieces with higher ratio of the tonic\ntop_tonic = top_ratio(0)\ntop_tonic",
   "execution_count": null,
   "outputs": [
    {
     "output_type": "execute_result",
     "execution_count": 25,
     "data": {
      "application/vnd.deepnote.dataframe.v3+json": {
       "column_count": 6,
       "row_count": 5,
       "columns": [
        {
         "name": "id",
         "dtype": "int64",
         "stats": {
          "unique_count": 5,
          "nan_count": 0,
          "min": "1932",
          "max": "2506",
          "histogram": [
           {
            "bin_start": 1932,
            "bin_end": 1989.4,
            "count": 1
           },
           {
            "bin_start": 1989.4,
            "bin_end": 2046.8,
            "count": 0
           },
           {
            "bin_start": 2046.8,
            "bin_end": 2104.2,
            "count": 0
           },
           {
            "bin_start": 2104.2,
            "bin_end": 2161.6,
            "count": 0
           },
           {
            "bin_start": 2161.6,
            "bin_end": 2219,
            "count": 0
           },
           {
            "bin_start": 2219,
            "bin_end": 2276.4,
            "count": 0
           },
           {
            "bin_start": 2276.4,
            "bin_end": 2333.8,
            "count": 0
           },
           {
            "bin_start": 2333.8,
            "bin_end": 2391.2,
            "count": 2
           },
           {
            "bin_start": 2391.2,
            "bin_end": 2448.6,
            "count": 1
           },
           {
            "bin_start": 2448.6,
            "bin_end": 2506,
            "count": 1
           }
          ]
         }
        },
        {
         "name": "composer",
         "dtype": "object",
         "stats": {
          "unique_count": 2,
          "nan_count": 0,
          "categories": [
           {
            "name": "Beethoven",
            "count": 4
           },
           {
            "name": "Dvorak",
            "count": 1
           }
          ]
         }
        },
        {
         "name": "composition",
         "dtype": "object",
         "stats": {
          "unique_count": 5,
          "nan_count": 0,
          "categories": [
           {
            "name": "String Quartet No 12 in F major",
            "count": 1
           },
           {
            "name": "Sextet in E-flat major for Winds",
            "count": 1
           },
           {
            "name": "3 others",
            "count": 3
           }
          ]
         }
        },
        {
         "name": "movement",
         "dtype": "object",
         "stats": {
          "unique_count": 5,
          "nan_count": 0,
          "categories": [
           {
            "name": "3. Molto vivace",
            "count": 1
           },
           {
            "name": "4. Rondo. Allegro",
            "count": 1
           },
           {
            "name": "3 others",
            "count": 3
           }
          ]
         }
        },
        {
         "name": "key",
         "dtype": "object",
         "stats": {
          "unique_count": 3,
          "nan_count": 0,
          "categories": [
           {
            "name": "E-flat major",
            "count": 3
           },
           {
            "name": "F major",
            "count": 1
           },
           {
            "name": "E major",
            "count": 1
           }
          ]
         }
        },
        {
         "name": 0,
         "dtype": "float64",
         "stats": {
          "unique_count": 5,
          "nan_count": 0,
          "min": "0.23507805325987144",
          "max": "0.2737940026075619",
          "histogram": [
           {
            "bin_start": 0.23507805325987144,
            "bin_end": 0.23894964819464048,
            "count": 2
           },
           {
            "bin_start": 0.23894964819464048,
            "bin_end": 0.24282124312940953,
            "count": 0
           },
           {
            "bin_start": 0.24282124312940953,
            "bin_end": 0.24669283806417858,
            "count": 1
           },
           {
            "bin_start": 0.24669283806417858,
            "bin_end": 0.25056443299894765,
            "count": 0
           },
           {
            "bin_start": 0.25056443299894765,
            "bin_end": 0.25443602793371667,
            "count": 0
           },
           {
            "bin_start": 0.25443602793371667,
            "bin_end": 0.25830762286848574,
            "count": 1
           },
           {
            "bin_start": 0.25830762286848574,
            "bin_end": 0.26217921780325476,
            "count": 0
           },
           {
            "bin_start": 0.26217921780325476,
            "bin_end": 0.26605081273802383,
            "count": 0
           },
           {
            "bin_start": 0.26605081273802383,
            "bin_end": 0.26992240767279285,
            "count": 0
           },
           {
            "bin_start": 0.26992240767279285,
            "bin_end": 0.2737940026075619,
            "count": 1
           }
          ]
         }
        },
        {
         "name": "_deepnote_index_column",
         "dtype": "int64"
        }
       ],
       "rows": [
        {
         "0": 0.2737940026075619,
         "id": 1932,
         "composer": "Dvorak",
         "composition": "String Quartet No 12 in F major",
         "movement": "3. Molto vivace",
         "key": "F major",
         "_deepnote_index_column": 60
        },
        {
         "0": 0.25589991470002843,
         "id": 2417,
         "composer": "Beethoven",
         "composition": "Sextet in E-flat major for Winds",
         "movement": "4. Rondo. Allegro",
         "key": "E-flat major",
         "_deepnote_index_column": 213
        },
        {
         "0": 0.2442528735632184,
         "id": 2506,
         "composer": "Beethoven",
         "composition": "Octet in E-flat major for Winds",
         "movement": "3. Menuetto",
         "key": "E-flat major",
         "_deepnote_index_column": 252
        },
        {
         "0": 0.23626373626373626,
         "id": 2371,
         "composer": "Beethoven",
         "composition": "Piano Sonata No 9 in E major",
         "movement": "2. Allegretto",
         "key": "E major",
         "_deepnote_index_column": 186
        },
        {
         "0": 0.23507805325987144,
         "id": 2366,
         "composer": "Beethoven",
         "composition": "String Quartet No 12 in E-flat major",
         "movement": "2. Adagio, ma non troppo e molto cantabile",
         "key": "E-flat major",
         "_deepnote_index_column": 184
        }
       ]
      },
      "text/plain": "       id   composer                           composition  \\\n60   1932     Dvorak       String Quartet No 12 in F major   \n213  2417  Beethoven      Sextet in E-flat major for Winds   \n252  2506  Beethoven       Octet in E-flat major for Winds   \n186  2371  Beethoven          Piano Sonata No 9 in E major   \n184  2366  Beethoven  String Quartet No 12 in E-flat major   \n\n                                       movement           key         0  \n60                              3. Molto vivace       F major  0.273794  \n213                           4. Rondo. Allegro  E-flat major  0.255900  \n252                                 3. Menuetto  E-flat major  0.244253  \n186                               2. Allegretto       E major  0.236264  \n184  2. Adagio, ma non troppo e molto cantabile  E-flat major  0.235078  ",
      "text/html": "<div>\n<style scoped>\n    .dataframe tbody tr th:only-of-type {\n        vertical-align: middle;\n    }\n\n    .dataframe tbody tr th {\n        vertical-align: top;\n    }\n\n    .dataframe thead th {\n        text-align: right;\n    }\n</style>\n<table border=\"1\" class=\"dataframe\">\n  <thead>\n    <tr style=\"text-align: right;\">\n      <th></th>\n      <th>id</th>\n      <th>composer</th>\n      <th>composition</th>\n      <th>movement</th>\n      <th>key</th>\n      <th>0</th>\n    </tr>\n  </thead>\n  <tbody>\n    <tr>\n      <th>60</th>\n      <td>1932</td>\n      <td>Dvorak</td>\n      <td>String Quartet No 12 in F major</td>\n      <td>3. Molto vivace</td>\n      <td>F major</td>\n      <td>0.273794</td>\n    </tr>\n    <tr>\n      <th>213</th>\n      <td>2417</td>\n      <td>Beethoven</td>\n      <td>Sextet in E-flat major for Winds</td>\n      <td>4. Rondo. Allegro</td>\n      <td>E-flat major</td>\n      <td>0.255900</td>\n    </tr>\n    <tr>\n      <th>252</th>\n      <td>2506</td>\n      <td>Beethoven</td>\n      <td>Octet in E-flat major for Winds</td>\n      <td>3. Menuetto</td>\n      <td>E-flat major</td>\n      <td>0.244253</td>\n    </tr>\n    <tr>\n      <th>186</th>\n      <td>2371</td>\n      <td>Beethoven</td>\n      <td>Piano Sonata No 9 in E major</td>\n      <td>2. Allegretto</td>\n      <td>E major</td>\n      <td>0.236264</td>\n    </tr>\n    <tr>\n      <th>184</th>\n      <td>2366</td>\n      <td>Beethoven</td>\n      <td>String Quartet No 12 in E-flat major</td>\n      <td>2. Adagio, ma non troppo e molto cantabile</td>\n      <td>E-flat major</td>\n      <td>0.235078</td>\n    </tr>\n  </tbody>\n</table>\n</div>"
     },
     "metadata": {}
    }
   ]
  },
  {
   "cell_type": "markdown",
   "source": "<a style='text-decoration:none;line-height:16px;display:flex;color:#5B5B62;padding:10px;justify-content:end;' href='https://deepnote.com?utm_source=created-in-deepnote-cell&projectId=177ea176-1f94-4265-9666-0cca06278d8e' target=\"_blank\">\n<img alt='Created in deepnote.com' style='display:inline;max-height:16px;margin:0px;margin-right:7.5px;' src='data:image/svg+xml;base64,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' > </img>\nCreated in <span style='font-weight:600;margin-left:4px;'>Deepnote</span></a>",
   "metadata": {
    "tags": [],
    "created_in_deepnote_cell": true,
    "deepnote_cell_type": "markdown"
   }
  }
 ],
 "nbformat": 4,
 "nbformat_minor": 2,
 "metadata": {
  "orig_nbformat": 2,
  "deepnote": {
   "is_reactive": false
  },
  "deepnote_notebook_id": "51262fac-24f7-4644-af5e-4b9cb43d5b97",
  "deepnote_execution_queue": []
 }
}