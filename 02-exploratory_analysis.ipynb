{
 "cells": [
  {
   "cell_type": "markdown",
   "source": "#### Importing the processed data",
   "metadata": {
    "cell_id": "a44def36-d5f8-47ca-bf12-94899510d1c2",
    "tags": [],
    "deepnote_cell_type": "markdown"
   }
  },
  {
   "cell_type": "code",
   "metadata": {
    "cell_id": "ebae8cf8-c644-4ff9-9590-aee5bef4b73b",
    "tags": [],
    "deepnote_to_be_reexecuted": false,
    "source_hash": "dfe35b4b",
    "execution_start": 1644867141408,
    "execution_millis": 3899,
    "deepnote_cell_type": "code"
   },
   "source": "import pandas as pd\nimport matplotlib.pyplot as plt",
   "execution_count": 1,
   "outputs": []
  },
  {
   "cell_type": "code",
   "metadata": {
    "tags": [],
    "cell_id": "2ab9076f-41c2-43d4-8d5d-1d527268430a",
    "deepnote_to_be_reexecuted": false,
    "source_hash": "762905b2",
    "execution_start": 1644867145332,
    "execution_millis": 149,
    "deepnote_cell_type": "code"
   },
   "source": "df_meta = pd.read_csv('./data/processed/metadata.csv')\ndf_meta",
   "execution_count": 2,
   "outputs": [
    {
     "output_type": "execute_result",
     "execution_count": 2,
     "data": {
      "application/vnd.deepnote.dataframe.v3+json": {
       "column_count": 9,
       "row_count": 330,
       "columns": [
        {
         "name": "id",
         "dtype": "int64",
         "stats": {
          "unique_count": 330,
          "nan_count": 0,
          "min": "1727",
          "max": "2678",
          "histogram": [
           {
            "bin_start": 1727,
            "bin_end": 1822.1,
            "count": 45
           },
           {
            "bin_start": 1822.1,
            "bin_end": 1917.2,
            "count": 10
           },
           {
            "bin_start": 1917.2,
            "bin_end": 2012.3,
            "count": 7
           },
           {
            "bin_start": 2012.3,
            "bin_end": 2107.4,
            "count": 12
           },
           {
            "bin_start": 2107.4,
            "bin_end": 2202.5,
            "count": 41
           },
           {
            "bin_start": 2202.5,
            "bin_end": 2297.6,
            "count": 48
           },
           {
            "bin_start": 2297.6,
            "bin_end": 2392.7,
            "count": 51
           },
           {
            "bin_start": 2392.7,
            "bin_end": 2487.8,
            "count": 40
           },
           {
            "bin_start": 2487.8,
            "bin_end": 2582.9,
            "count": 49
           },
           {
            "bin_start": 2582.9,
            "bin_end": 2678,
            "count": 27
           }
          ]
         }
        },
        {
         "name": "composer",
         "dtype": "object",
         "stats": {
          "unique_count": 10,
          "nan_count": 0,
          "categories": [
           {
            "name": "Beethoven",
            "count": 157
           },
           {
            "name": "Bach",
            "count": 67
           },
           {
            "name": "8 others",
            "count": 106
           }
          ]
         }
        },
        {
         "name": "composition",
         "dtype": "object",
         "stats": {
          "unique_count": 121,
          "nan_count": 0,
          "categories": [
           {
            "name": "Piano Sonata in A minor",
            "count": 6
           },
           {
            "name": "String Quartet No 19 in C major",
            "count": 6
           },
           {
            "name": "119 others",
            "count": 318
           }
          ]
         }
        },
        {
         "name": "movement",
         "dtype": "object",
         "stats": {
          "unique_count": 196,
          "nan_count": 0,
          "categories": [
           {
            "name": "1. Prelude",
            "count": 23
           },
           {
            "name": "2. Fugue",
            "count": 18
           },
           {
            "name": "194 others",
            "count": 289
           }
          ]
         }
        },
        {
         "name": "ensemble",
         "dtype": "object",
         "stats": {
          "unique_count": 21,
          "nan_count": 0,
          "categories": [
           {
            "name": "Solo Piano",
            "count": 156
           },
           {
            "name": "String Quartet",
            "count": 57
           },
           {
            "name": "19 others",
            "count": 117
           }
          ]
         }
        },
        {
         "name": "seconds",
         "dtype": "int64",
         "stats": {
          "unique_count": 263,
          "nan_count": 0,
          "min": "55",
          "max": "1069",
          "histogram": [
           {
            "bin_start": 55,
            "bin_end": 156.4,
            "count": 42
           },
           {
            "bin_start": 156.4,
            "bin_end": 257.8,
            "count": 66
           },
           {
            "bin_start": 257.8,
            "bin_end": 359.20000000000005,
            "count": 65
           },
           {
            "bin_start": 359.20000000000005,
            "bin_end": 460.6,
            "count": 61
           },
           {
            "bin_start": 460.6,
            "bin_end": 562,
            "count": 46
           },
           {
            "bin_start": 562,
            "bin_end": 663.4000000000001,
            "count": 26
           },
           {
            "bin_start": 663.4000000000001,
            "bin_end": 764.8000000000001,
            "count": 10
           },
           {
            "bin_start": 764.8000000000001,
            "bin_end": 866.2,
            "count": 5
           },
           {
            "bin_start": 866.2,
            "bin_end": 967.6,
            "count": 5
           },
           {
            "bin_start": 967.6,
            "bin_end": 1069,
            "count": 4
           }
          ]
         }
        },
        {
         "name": "key",
         "dtype": "object",
         "stats": {
          "unique_count": 26,
          "nan_count": 12,
          "categories": [
           {
            "name": "E-flat major",
            "count": 42
           },
           {
            "name": "25 others",
            "count": 276
           },
           {
            "name": "Missing",
            "count": 12
           }
          ]
         }
        },
        {
         "name": "tonic",
         "dtype": "object",
         "stats": {
          "unique_count": 14,
          "nan_count": 12,
          "categories": [
           {
            "name": "A",
            "count": 47
           },
           {
            "name": "13 others",
            "count": 271
           },
           {
            "name": "Missing",
            "count": 12
           }
          ]
         }
        },
        {
         "name": "tonic_encoded",
         "dtype": "float64",
         "stats": {
          "unique_count": 12,
          "nan_count": 12,
          "min": "0.0",
          "max": "11.0",
          "histogram": [
           {
            "bin_start": 0,
            "bin_end": 1.1,
            "count": 49
           },
           {
            "bin_start": 1.1,
            "bin_end": 2.2,
            "count": 30
           },
           {
            "bin_start": 2.2,
            "bin_end": 3.3000000000000003,
            "count": 43
           },
           {
            "bin_start": 3.3000000000000003,
            "bin_end": 4.4,
            "count": 22
           },
           {
            "bin_start": 4.4,
            "bin_end": 5.5,
            "count": 38
           },
           {
            "bin_start": 5.5,
            "bin_end": 6.6000000000000005,
            "count": 4
           },
           {
            "bin_start": 6.6000000000000005,
            "bin_end": 7.700000000000001,
            "count": 40
           },
           {
            "bin_start": 7.700000000000001,
            "bin_end": 8.8,
            "count": 11
           },
           {
            "bin_start": 8.8,
            "bin_end": 9.9,
            "count": 47
           },
           {
            "bin_start": 9.9,
            "bin_end": 11,
            "count": 34
           }
          ]
         }
        },
        {
         "name": "_deepnote_index_column",
         "dtype": "int64"
        }
       ],
       "rows": [
        {
         "id": 1727,
         "composer": "Schubert",
         "composition": "Piano Quintet in A major",
         "movement": "2. Andante",
         "ensemble": "Piano Quintet",
         "seconds": 447,
         "key": "A major",
         "tonic": "A",
         "tonic_encoded": 9,
         "_deepnote_index_column": 0
        },
        {
         "id": 1728,
         "composer": "Schubert",
         "composition": "Piano Quintet in A major",
         "movement": "3. Scherzo: Presto",
         "ensemble": "Piano Quintet",
         "seconds": 251,
         "key": "A major",
         "tonic": "A",
         "tonic_encoded": 9,
         "_deepnote_index_column": 1
        },
        {
         "id": 1729,
         "composer": "Schubert",
         "composition": "Piano Quintet in A major",
         "movement": "4. Andantino - Allegretto",
         "ensemble": "Piano Quintet",
         "seconds": 444,
         "key": "A major",
         "tonic": "A",
         "tonic_encoded": 9,
         "_deepnote_index_column": 2
        },
        {
         "id": 1730,
         "composer": "Schubert",
         "composition": "Piano Quintet in A major",
         "movement": "5. Allegro giusto",
         "ensemble": "Piano Quintet",
         "seconds": 368,
         "key": "A major",
         "tonic": "A",
         "tonic_encoded": 9,
         "_deepnote_index_column": 3
        },
        {
         "id": 1733,
         "composer": "Schubert",
         "composition": "Piano Sonata in A major",
         "movement": "2. Andantino",
         "ensemble": "Solo Piano",
         "seconds": 546,
         "key": "A major",
         "tonic": "A",
         "tonic_encoded": 9,
         "_deepnote_index_column": 4
        },
        {
         "id": 1734,
         "composer": "Schubert",
         "composition": "Piano Sonata in A major",
         "movement": "3. Scherzo. Allegro vivace",
         "ensemble": "Solo Piano",
         "seconds": 325,
         "key": "A major",
         "tonic": "A",
         "tonic_encoded": 9,
         "_deepnote_index_column": 5
        },
        {
         "id": 1735,
         "composer": "Schubert",
         "composition": "Piano Sonata in A major",
         "movement": "4. Rondo. Allegretto",
         "ensemble": "Solo Piano",
         "seconds": 714,
         "key": "A major",
         "tonic": "A",
         "tonic_encoded": 9,
         "_deepnote_index_column": 6
        },
        {
         "id": 1739,
         "composer": "Schubert",
         "composition": "Piano Trio in B-flat major",
         "movement": "4. Rondo. Allegro vivace",
         "ensemble": "Piano Trio",
         "seconds": 490,
         "key": "B-flat major",
         "tonic": "B-flat",
         "tonic_encoded": 10,
         "_deepnote_index_column": 7
        },
        {
         "id": 1742,
         "composer": "Schubert",
         "composition": "String Quintet in C major",
         "movement": "2. Adagio",
         "ensemble": "Viola Quintet",
         "seconds": 924,
         "key": "C major",
         "tonic": "C",
         "tonic_encoded": 0,
         "_deepnote_index_column": 8
        },
        {
         "id": 1749,
         "composer": "Schubert",
         "composition": "Piano Sonata in A minor",
         "movement": "1. Moderato",
         "ensemble": "Solo Piano",
         "seconds": 696,
         "key": "A minor",
         "tonic": "A",
         "tonic_encoded": 9,
         "_deepnote_index_column": 9
        }
       ]
      },
      "text/plain": "       id   composer                     composition  \\\n0    1727   Schubert        Piano Quintet in A major   \n1    1728   Schubert        Piano Quintet in A major   \n2    1729   Schubert        Piano Quintet in A major   \n3    1730   Schubert        Piano Quintet in A major   \n4    1733   Schubert         Piano Sonata in A major   \n..    ...        ...                             ...   \n325  2632  Beethoven   Piano Sonata No 10 in G major   \n326  2633  Beethoven   Piano Sonata No 10 in G major   \n327  2659       Bach  Violin Partita No 1 in B minor   \n328  2677  Beethoven    Piano Sonata No 9 in E major   \n329  2678  Beethoven   Piano Sonata No 10 in G major   \n\n                      movement       ensemble  seconds      key tonic  \\\n0                   2. Andante  Piano Quintet      447  A major     A   \n1           3. Scherzo: Presto  Piano Quintet      251  A major     A   \n2    4. Andantino - Allegretto  Piano Quintet      444  A major     A   \n3            5. Allegro giusto  Piano Quintet      368  A major     A   \n4                 2. Andantino     Solo Piano      546  A major     A   \n..                         ...            ...      ...      ...   ...   \n325                 2. Andante     Solo Piano      341  G major     G   \n326  3. Scherzo: Allegro assai     Solo Piano      227  G major     G   \n327                  6. Double    Solo Violin      108  B minor     B   \n328                 1. Allegro     Solo Piano      445  E major     E   \n329                 1. Allegro     Solo Piano      472  G major     G   \n\n     tonic_encoded  \n0              9.0  \n1              9.0  \n2              9.0  \n3              9.0  \n4              9.0  \n..             ...  \n325            7.0  \n326            7.0  \n327           11.0  \n328            4.0  \n329            7.0  \n\n[330 rows x 9 columns]",
      "text/html": "<div>\n<style scoped>\n    .dataframe tbody tr th:only-of-type {\n        vertical-align: middle;\n    }\n\n    .dataframe tbody tr th {\n        vertical-align: top;\n    }\n\n    .dataframe thead th {\n        text-align: right;\n    }\n</style>\n<table border=\"1\" class=\"dataframe\">\n  <thead>\n    <tr style=\"text-align: right;\">\n      <th></th>\n      <th>id</th>\n      <th>composer</th>\n      <th>composition</th>\n      <th>movement</th>\n      <th>ensemble</th>\n      <th>seconds</th>\n      <th>key</th>\n      <th>tonic</th>\n      <th>tonic_encoded</th>\n    </tr>\n  </thead>\n  <tbody>\n    <tr>\n      <th>0</th>\n      <td>1727</td>\n      <td>Schubert</td>\n      <td>Piano Quintet in A major</td>\n      <td>2. Andante</td>\n      <td>Piano Quintet</td>\n      <td>447</td>\n      <td>A major</td>\n      <td>A</td>\n      <td>9.0</td>\n    </tr>\n    <tr>\n      <th>1</th>\n      <td>1728</td>\n      <td>Schubert</td>\n      <td>Piano Quintet in A major</td>\n      <td>3. Scherzo: Presto</td>\n      <td>Piano Quintet</td>\n      <td>251</td>\n      <td>A major</td>\n      <td>A</td>\n      <td>9.0</td>\n    </tr>\n    <tr>\n      <th>2</th>\n      <td>1729</td>\n      <td>Schubert</td>\n      <td>Piano Quintet in A major</td>\n      <td>4. Andantino - Allegretto</td>\n      <td>Piano Quintet</td>\n      <td>444</td>\n      <td>A major</td>\n      <td>A</td>\n      <td>9.0</td>\n    </tr>\n    <tr>\n      <th>3</th>\n      <td>1730</td>\n      <td>Schubert</td>\n      <td>Piano Quintet in A major</td>\n      <td>5. Allegro giusto</td>\n      <td>Piano Quintet</td>\n      <td>368</td>\n      <td>A major</td>\n      <td>A</td>\n      <td>9.0</td>\n    </tr>\n    <tr>\n      <th>4</th>\n      <td>1733</td>\n      <td>Schubert</td>\n      <td>Piano Sonata in A major</td>\n      <td>2. Andantino</td>\n      <td>Solo Piano</td>\n      <td>546</td>\n      <td>A major</td>\n      <td>A</td>\n      <td>9.0</td>\n    </tr>\n    <tr>\n      <th>...</th>\n      <td>...</td>\n      <td>...</td>\n      <td>...</td>\n      <td>...</td>\n      <td>...</td>\n      <td>...</td>\n      <td>...</td>\n      <td>...</td>\n      <td>...</td>\n    </tr>\n    <tr>\n      <th>325</th>\n      <td>2632</td>\n      <td>Beethoven</td>\n      <td>Piano Sonata No 10 in G major</td>\n      <td>2. Andante</td>\n      <td>Solo Piano</td>\n      <td>341</td>\n      <td>G major</td>\n      <td>G</td>\n      <td>7.0</td>\n    </tr>\n    <tr>\n      <th>326</th>\n      <td>2633</td>\n      <td>Beethoven</td>\n      <td>Piano Sonata No 10 in G major</td>\n      <td>3. Scherzo: Allegro assai</td>\n      <td>Solo Piano</td>\n      <td>227</td>\n      <td>G major</td>\n      <td>G</td>\n      <td>7.0</td>\n    </tr>\n    <tr>\n      <th>327</th>\n      <td>2659</td>\n      <td>Bach</td>\n      <td>Violin Partita No 1 in B minor</td>\n      <td>6. Double</td>\n      <td>Solo Violin</td>\n      <td>108</td>\n      <td>B minor</td>\n      <td>B</td>\n      <td>11.0</td>\n    </tr>\n    <tr>\n      <th>328</th>\n      <td>2677</td>\n      <td>Beethoven</td>\n      <td>Piano Sonata No 9 in E major</td>\n      <td>1. Allegro</td>\n      <td>Solo Piano</td>\n      <td>445</td>\n      <td>E major</td>\n      <td>E</td>\n      <td>4.0</td>\n    </tr>\n    <tr>\n      <th>329</th>\n      <td>2678</td>\n      <td>Beethoven</td>\n      <td>Piano Sonata No 10 in G major</td>\n      <td>1. Allegro</td>\n      <td>Solo Piano</td>\n      <td>472</td>\n      <td>G major</td>\n      <td>G</td>\n      <td>7.0</td>\n    </tr>\n  </tbody>\n</table>\n<p>330 rows × 9 columns</p>\n</div>"
     },
     "metadata": {}
    }
   ]
  },
  {
   "cell_type": "code",
   "source": "df_meta.dtypes",
   "metadata": {
    "cell_id": "bbc40c78-7598-47bc-86b8-1e3a530203a2",
    "tags": [],
    "deepnote_to_be_reexecuted": false,
    "source_hash": "444b4eb0",
    "execution_start": 1644867145500,
    "execution_millis": 19,
    "deepnote_output_heights": [
     193.875
    ],
    "deepnote_cell_type": "code"
   },
   "outputs": [
    {
     "output_type": "execute_result",
     "execution_count": 3,
     "data": {
      "text/plain": "id                 int64\ncomposer          object\ncomposition       object\nmovement          object\nensemble          object\nseconds            int64\nkey               object\ntonic             object\ntonic_encoded    float64\ndtype: object"
     },
     "metadata": {}
    }
   ],
   "execution_count": 3
  },
  {
   "cell_type": "code",
   "source": "df_meta.shape",
   "metadata": {
    "cell_id": "d4af4718-1764-4e70-9049-79d389c7d879",
    "tags": [],
    "deepnote_to_be_reexecuted": false,
    "source_hash": "48af79c3",
    "execution_start": 1644867363869,
    "execution_millis": 12,
    "deepnote_output_heights": [
     21.1875
    ],
    "deepnote_cell_type": "code"
   },
   "outputs": [
    {
     "output_type": "execute_result",
     "execution_count": 16,
     "data": {
      "text/plain": "(330, 9)"
     },
     "metadata": {}
    }
   ],
   "execution_count": 16
  },
  {
   "cell_type": "code",
   "source": "",
   "metadata": {
    "cell_id": "9cfc202b-a393-41c5-b940-f76ccd94922b",
    "tags": [],
    "deepnote_cell_type": "code"
   },
   "outputs": [],
   "execution_count": null
  },
  {
   "cell_type": "code",
   "metadata": {
    "cell_id": "54c62f59-c193-4ffa-9aa5-ec451027de4f",
    "tags": [],
    "deepnote_to_be_reexecuted": false,
    "source_hash": "f8d604db",
    "execution_start": 1644867145577,
    "execution_millis": 2,
    "deepnote_output_heights": [
     213.0625
    ],
    "deepnote_cell_type": "code"
   },
   "source": "# Who are the composers and how many pieces they have in this dataset?\ndf_meta.composer.value_counts()",
   "execution_count": 4,
   "outputs": [
    {
     "output_type": "execute_result",
     "execution_count": 4,
     "data": {
      "text/plain": "Beethoven    157\nBach          67\nSchubert      30\nMozart        24\nBrahms        24\nCambini        9\nDvorak         8\nFaure          4\nRavel          4\nHaydn          3\nName: composer, dtype: int64"
     },
     "metadata": {}
    }
   ]
  },
  {
   "cell_type": "code",
   "metadata": {
    "cell_id": "203109f2-d42a-4ec3-bab5-624e76a5f669",
    "tags": [],
    "deepnote_to_be_reexecuted": false,
    "source_hash": "db377ca1",
    "execution_start": 1644867145625,
    "execution_millis": 2,
    "deepnote_output_heights": [
     424.125
    ],
    "deepnote_cell_type": "code"
   },
   "source": "# What are the most common ensembles?\ndf_meta.ensemble.value_counts()",
   "execution_count": 5,
   "outputs": [
    {
     "output_type": "execute_result",
     "execution_count": 5,
     "data": {
      "text/plain": "Solo Piano                     156\nString Quartet                  57\nAccompanied Violin              22\nSolo Cello                      12\nSolo Violin                      9\nWind Quintet                     9\nPiano Quartet                    8\nAccompanied Cello                7\nPiano Trio                       7\nPairs Clarinet-Horn-Bassoon      6\nString Sextet                    5\nViolin and Harpsichord           4\nHorn Piano Trio                  4\nPiano Quintet                    4\nWind Octet                       4\nAccompanied Clarinet             4\nClarinet Quintet                 3\nSolo Flute                       3\nClarinet-Cello-Piano Trio        3\nWind and Strings Octet           2\nViola Quintet                    1\nName: ensemble, dtype: int64"
     },
     "metadata": {}
    }
   ]
  },
  {
   "cell_type": "code",
   "metadata": {
    "cell_id": "a0a20c6d-4c54-4297-a6ea-7ff2133b6b27",
    "tags": [],
    "deepnote_to_be_reexecuted": false,
    "source_hash": "1b8b6ac1",
    "execution_start": 1644867145626,
    "execution_millis": 81,
    "deepnote_output_heights": [
     78.75
    ],
    "deepnote_cell_type": "code"
   },
   "source": "# Let's dive a bit in the \"Solo Piano\" pieces\ndf_solopiano = df_meta[df_meta['ensemble']=='Solo Piano']\ndf_solopiano",
   "execution_count": 6,
   "outputs": [
    {
     "output_type": "execute_result",
     "execution_count": 6,
     "data": {
      "application/vnd.deepnote.dataframe.v3+json": {
       "column_count": 9,
       "row_count": 156,
       "columns": [
        {
         "name": "id",
         "dtype": "int64",
         "stats": {
          "unique_count": 156,
          "nan_count": 0,
          "min": "1733",
          "max": "2678",
          "histogram": [
           {
            "bin_start": 1733,
            "bin_end": 1827.5,
            "count": 24
           },
           {
            "bin_start": 1827.5,
            "bin_end": 1922,
            "count": 0
           },
           {
            "bin_start": 1922,
            "bin_end": 2016.5,
            "count": 0
           },
           {
            "bin_start": 2016.5,
            "bin_end": 2111,
            "count": 0
           },
           {
            "bin_start": 2111,
            "bin_end": 2205.5,
            "count": 6
           },
           {
            "bin_start": 2205.5,
            "bin_end": 2300,
            "count": 25
           },
           {
            "bin_start": 2300,
            "bin_end": 2394.5,
            "count": 29
           },
           {
            "bin_start": 2394.5,
            "bin_end": 2489,
            "count": 22
           },
           {
            "bin_start": 2489,
            "bin_end": 2583.5,
            "count": 31
           },
           {
            "bin_start": 2583.5,
            "bin_end": 2678,
            "count": 19
           }
          ]
         }
        },
        {
         "name": "composer",
         "dtype": "object",
         "stats": {
          "unique_count": 3,
          "nan_count": 0,
          "categories": [
           {
            "name": "Beethoven",
            "count": 93
           },
           {
            "name": "Bach",
            "count": 39
           },
           {
            "name": "Schubert",
            "count": 24
           }
          ]
         }
        },
        {
         "name": "composition",
         "dtype": "object",
         "stats": {
          "unique_count": 60,
          "nan_count": 0,
          "categories": [
           {
            "name": "Piano Sonata in A minor",
            "count": 6
           },
           {
            "name": "Piano Sonata No 17 in D minor",
            "count": 6
           },
           {
            "name": "58 others",
            "count": 144
           }
          ]
         }
        },
        {
         "name": "movement",
         "dtype": "object",
         "stats": {
          "unique_count": 84,
          "nan_count": 0,
          "categories": [
           {
            "name": "1. Prelude",
            "count": 21
           },
           {
            "name": "2. Fugue",
            "count": 18
           },
           {
            "name": "82 others",
            "count": 117
           }
          ]
         }
        },
        {
         "name": "ensemble",
         "dtype": "object",
         "stats": {
          "unique_count": 1,
          "nan_count": 0,
          "categories": [
           {
            "name": "Solo Piano",
            "count": 156
           }
          ]
         }
        },
        {
         "name": "seconds",
         "dtype": "int64",
         "stats": {
          "unique_count": 140,
          "nan_count": 0,
          "min": "55",
          "max": "1067",
          "histogram": [
           {
            "bin_start": 55,
            "bin_end": 156.2,
            "count": 34
           },
           {
            "bin_start": 156.2,
            "bin_end": 257.4,
            "count": 26
           },
           {
            "bin_start": 257.4,
            "bin_end": 358.6,
            "count": 26
           },
           {
            "bin_start": 358.6,
            "bin_end": 459.8,
            "count": 27
           },
           {
            "bin_start": 459.8,
            "bin_end": 561,
            "count": 18
           },
           {
            "bin_start": 561,
            "bin_end": 662.2,
            "count": 11
           },
           {
            "bin_start": 662.2,
            "bin_end": 763.4,
            "count": 8
           },
           {
            "bin_start": 763.4,
            "bin_end": 864.6,
            "count": 3
           },
           {
            "bin_start": 864.6,
            "bin_end": 965.8000000000001,
            "count": 0
           },
           {
            "bin_start": 965.8000000000001,
            "bin_end": 1067,
            "count": 3
           }
          ]
         }
        },
        {
         "name": "key",
         "dtype": "object",
         "stats": {
          "unique_count": 24,
          "nan_count": 0,
          "categories": [
           {
            "name": "C minor",
            "count": 15
           },
           {
            "name": "E-flat major",
            "count": 15
           },
           {
            "name": "22 others",
            "count": 126
           }
          ]
         }
        },
        {
         "name": "tonic",
         "dtype": "object",
         "stats": {
          "unique_count": 14,
          "nan_count": 0,
          "categories": [
           {
            "name": "C",
            "count": 23
           },
           {
            "name": "A",
            "count": 20
           },
           {
            "name": "12 others",
            "count": 113
           }
          ]
         }
        },
        {
         "name": "tonic_encoded",
         "dtype": "float64",
         "stats": {
          "unique_count": 12,
          "nan_count": 0,
          "min": "0.0",
          "max": "11.0",
          "histogram": [
           {
            "bin_start": 0,
            "bin_end": 1.1,
            "count": 35
           },
           {
            "bin_start": 1.1,
            "bin_end": 2.2,
            "count": 19
           },
           {
            "bin_start": 2.2,
            "bin_end": 3.3000000000000003,
            "count": 16
           },
           {
            "bin_start": 3.3000000000000003,
            "bin_end": 4.4,
            "count": 12
           },
           {
            "bin_start": 4.4,
            "bin_end": 5.5,
            "count": 15
           },
           {
            "bin_start": 5.5,
            "bin_end": 6.6000000000000005,
            "count": 4
           },
           {
            "bin_start": 6.6000000000000005,
            "bin_end": 7.700000000000001,
            "count": 12
           },
           {
            "bin_start": 7.700000000000001,
            "bin_end": 8.8,
            "count": 11
           },
           {
            "bin_start": 8.8,
            "bin_end": 9.9,
            "count": 20
           },
           {
            "bin_start": 9.9,
            "bin_end": 11,
            "count": 12
           }
          ]
         }
        },
        {
         "name": "_deepnote_index_column",
         "dtype": "int64"
        }
       ],
       "rows": [
        {
         "id": 1733,
         "composer": "Schubert",
         "composition": "Piano Sonata in A major",
         "movement": "2. Andantino",
         "ensemble": "Solo Piano",
         "seconds": 546,
         "key": "A major",
         "tonic": "A",
         "tonic_encoded": 9,
         "_deepnote_index_column": 4
        },
        {
         "id": 1734,
         "composer": "Schubert",
         "composition": "Piano Sonata in A major",
         "movement": "3. Scherzo. Allegro vivace",
         "ensemble": "Solo Piano",
         "seconds": 325,
         "key": "A major",
         "tonic": "A",
         "tonic_encoded": 9,
         "_deepnote_index_column": 5
        },
        {
         "id": 1735,
         "composer": "Schubert",
         "composition": "Piano Sonata in A major",
         "movement": "4. Rondo. Allegretto",
         "ensemble": "Solo Piano",
         "seconds": 714,
         "key": "A major",
         "tonic": "A",
         "tonic_encoded": 9,
         "_deepnote_index_column": 6
        },
        {
         "id": 1749,
         "composer": "Schubert",
         "composition": "Piano Sonata in A minor",
         "movement": "1. Moderato",
         "ensemble": "Solo Piano",
         "seconds": 696,
         "key": "A minor",
         "tonic": "A",
         "tonic_encoded": 9,
         "_deepnote_index_column": 9
        },
        {
         "id": 1750,
         "composer": "Schubert",
         "composition": "Piano Sonata in A minor",
         "movement": "2. Andante poco mosso",
         "ensemble": "Solo Piano",
         "seconds": 784,
         "key": "A minor",
         "tonic": "A",
         "tonic_encoded": 9,
         "_deepnote_index_column": 10
        },
        {
         "id": 1751,
         "composer": "Schubert",
         "composition": "Piano Sonata in A minor",
         "movement": "3. Scherzo. Allegro vivace - Trio. Un poco piu lento",
         "ensemble": "Solo Piano",
         "seconds": 475,
         "key": "A minor",
         "tonic": "A",
         "tonic_encoded": 9,
         "_deepnote_index_column": 11
        },
        {
         "id": 1752,
         "composer": "Schubert",
         "composition": "Piano Sonata in A minor",
         "movement": "4. Rondo. Allegro vivace",
         "ensemble": "Solo Piano",
         "seconds": 362,
         "key": "A minor",
         "tonic": "A",
         "tonic_encoded": 9,
         "_deepnote_index_column": 12
        },
        {
         "id": 1755,
         "composer": "Schubert",
         "composition": "Piano Sonata in A minor",
         "movement": "2. Andante",
         "ensemble": "Solo Piano",
         "seconds": 229,
         "key": "A minor",
         "tonic": "A",
         "tonic_encoded": 9,
         "_deepnote_index_column": 13
        },
        {
         "id": 1756,
         "composer": "Schubert",
         "composition": "Piano Sonata in A minor",
         "movement": "3. Allegro vivace",
         "ensemble": "Solo Piano",
         "seconds": 371,
         "key": "A minor",
         "tonic": "A",
         "tonic_encoded": 9,
         "_deepnote_index_column": 14
        },
        {
         "id": 1757,
         "composer": "Schubert",
         "composition": "Piano Sonata in C minor",
         "movement": "1. Allegro",
         "ensemble": "Solo Piano",
         "seconds": 710,
         "key": "C minor",
         "tonic": "C",
         "tonic_encoded": 0,
         "_deepnote_index_column": 15
        }
       ]
      },
      "text/plain": "       id   composer                    composition  \\\n4    1733   Schubert        Piano Sonata in A major   \n5    1734   Schubert        Piano Sonata in A major   \n6    1735   Schubert        Piano Sonata in A major   \n9    1749   Schubert        Piano Sonata in A minor   \n10   1750   Schubert        Piano Sonata in A minor   \n..    ...        ...                            ...   \n318  2620  Beethoven   Piano Sonata No 6 in F major   \n325  2632  Beethoven  Piano Sonata No 10 in G major   \n326  2633  Beethoven  Piano Sonata No 10 in G major   \n328  2677  Beethoven   Piano Sonata No 9 in E major   \n329  2678  Beethoven  Piano Sonata No 10 in G major   \n\n                       movement    ensemble  seconds      key tonic  \\\n4                  2. Andantino  Solo Piano      546  A major     A   \n5    3. Scherzo. Allegro vivace  Solo Piano      325  A major     A   \n6          4. Rondo. Allegretto  Solo Piano      714  A major     A   \n9                   1. Moderato  Solo Piano      696  A minor     A   \n10        2. Andante poco mosso  Solo Piano      784  A minor     A   \n..                          ...         ...      ...      ...   ...   \n318                   3. Presto  Solo Piano      159  F major     F   \n325                  2. Andante  Solo Piano      341  G major     G   \n326   3. Scherzo: Allegro assai  Solo Piano      227  G major     G   \n328                  1. Allegro  Solo Piano      445  E major     E   \n329                  1. Allegro  Solo Piano      472  G major     G   \n\n     tonic_encoded  \n4              9.0  \n5              9.0  \n6              9.0  \n9              9.0  \n10             9.0  \n..             ...  \n318            5.0  \n325            7.0  \n326            7.0  \n328            4.0  \n329            7.0  \n\n[156 rows x 9 columns]",
      "text/html": "<div>\n<style scoped>\n    .dataframe tbody tr th:only-of-type {\n        vertical-align: middle;\n    }\n\n    .dataframe tbody tr th {\n        vertical-align: top;\n    }\n\n    .dataframe thead th {\n        text-align: right;\n    }\n</style>\n<table border=\"1\" class=\"dataframe\">\n  <thead>\n    <tr style=\"text-align: right;\">\n      <th></th>\n      <th>id</th>\n      <th>composer</th>\n      <th>composition</th>\n      <th>movement</th>\n      <th>ensemble</th>\n      <th>seconds</th>\n      <th>key</th>\n      <th>tonic</th>\n      <th>tonic_encoded</th>\n    </tr>\n  </thead>\n  <tbody>\n    <tr>\n      <th>4</th>\n      <td>1733</td>\n      <td>Schubert</td>\n      <td>Piano Sonata in A major</td>\n      <td>2. Andantino</td>\n      <td>Solo Piano</td>\n      <td>546</td>\n      <td>A major</td>\n      <td>A</td>\n      <td>9.0</td>\n    </tr>\n    <tr>\n      <th>5</th>\n      <td>1734</td>\n      <td>Schubert</td>\n      <td>Piano Sonata in A major</td>\n      <td>3. Scherzo. Allegro vivace</td>\n      <td>Solo Piano</td>\n      <td>325</td>\n      <td>A major</td>\n      <td>A</td>\n      <td>9.0</td>\n    </tr>\n    <tr>\n      <th>6</th>\n      <td>1735</td>\n      <td>Schubert</td>\n      <td>Piano Sonata in A major</td>\n      <td>4. Rondo. Allegretto</td>\n      <td>Solo Piano</td>\n      <td>714</td>\n      <td>A major</td>\n      <td>A</td>\n      <td>9.0</td>\n    </tr>\n    <tr>\n      <th>9</th>\n      <td>1749</td>\n      <td>Schubert</td>\n      <td>Piano Sonata in A minor</td>\n      <td>1. Moderato</td>\n      <td>Solo Piano</td>\n      <td>696</td>\n      <td>A minor</td>\n      <td>A</td>\n      <td>9.0</td>\n    </tr>\n    <tr>\n      <th>10</th>\n      <td>1750</td>\n      <td>Schubert</td>\n      <td>Piano Sonata in A minor</td>\n      <td>2. Andante poco mosso</td>\n      <td>Solo Piano</td>\n      <td>784</td>\n      <td>A minor</td>\n      <td>A</td>\n      <td>9.0</td>\n    </tr>\n    <tr>\n      <th>...</th>\n      <td>...</td>\n      <td>...</td>\n      <td>...</td>\n      <td>...</td>\n      <td>...</td>\n      <td>...</td>\n      <td>...</td>\n      <td>...</td>\n      <td>...</td>\n    </tr>\n    <tr>\n      <th>318</th>\n      <td>2620</td>\n      <td>Beethoven</td>\n      <td>Piano Sonata No 6 in F major</td>\n      <td>3. Presto</td>\n      <td>Solo Piano</td>\n      <td>159</td>\n      <td>F major</td>\n      <td>F</td>\n      <td>5.0</td>\n    </tr>\n    <tr>\n      <th>325</th>\n      <td>2632</td>\n      <td>Beethoven</td>\n      <td>Piano Sonata No 10 in G major</td>\n      <td>2. Andante</td>\n      <td>Solo Piano</td>\n      <td>341</td>\n      <td>G major</td>\n      <td>G</td>\n      <td>7.0</td>\n    </tr>\n    <tr>\n      <th>326</th>\n      <td>2633</td>\n      <td>Beethoven</td>\n      <td>Piano Sonata No 10 in G major</td>\n      <td>3. Scherzo: Allegro assai</td>\n      <td>Solo Piano</td>\n      <td>227</td>\n      <td>G major</td>\n      <td>G</td>\n      <td>7.0</td>\n    </tr>\n    <tr>\n      <th>328</th>\n      <td>2677</td>\n      <td>Beethoven</td>\n      <td>Piano Sonata No 9 in E major</td>\n      <td>1. Allegro</td>\n      <td>Solo Piano</td>\n      <td>445</td>\n      <td>E major</td>\n      <td>E</td>\n      <td>4.0</td>\n    </tr>\n    <tr>\n      <th>329</th>\n      <td>2678</td>\n      <td>Beethoven</td>\n      <td>Piano Sonata No 10 in G major</td>\n      <td>1. Allegro</td>\n      <td>Solo Piano</td>\n      <td>472</td>\n      <td>G major</td>\n      <td>G</td>\n      <td>7.0</td>\n    </tr>\n  </tbody>\n</table>\n<p>156 rows × 9 columns</p>\n</div>"
     },
     "metadata": {}
    }
   ]
  },
  {
   "cell_type": "code",
   "metadata": {
    "cell_id": "df587817-d66c-433e-b1ce-5a07fbb48375",
    "tags": [],
    "deepnote_to_be_reexecuted": false,
    "source_hash": "b623e53d",
    "execution_start": 1644867145717,
    "execution_millis": 9,
    "deepnote_cell_type": "code"
   },
   "source": "",
   "execution_count": 6,
   "outputs": []
  },
  {
   "cell_type": "markdown",
   "source": "### Exploratory Data Analysis",
   "metadata": {
    "cell_id": "75c5db0e-f448-46f1-b912-5c87f17fb49f",
    "tags": [],
    "deepnote_cell_type": "markdown"
   }
  },
  {
   "cell_type": "markdown",
   "source": "Let's check Beethoven's data",
   "metadata": {
    "cell_id": "24859f6a-c3b1-4b5c-8659-649e7ac73e34",
    "tags": [],
    "deepnote_cell_type": "markdown"
   }
  },
  {
   "cell_type": "code",
   "metadata": {
    "cell_id": "8c0cbb47-1a0d-4473-949b-c338bf00c446",
    "tags": [],
    "deepnote_to_be_reexecuted": false,
    "source_hash": "2664c19a",
    "execution_start": 1644867145741,
    "execution_millis": 423,
    "deepnote_cell_type": "code"
   },
   "source": "# Let's check Beethoven\ndf_bet = df_meta[df_meta['composer']=='Beethoven']\ndf_bet",
   "execution_count": 7,
   "outputs": [
    {
     "output_type": "execute_result",
     "execution_count": 7,
     "data": {
      "application/vnd.deepnote.dataframe.v3+json": {
       "column_count": 9,
       "row_count": 157,
       "columns": [
        {
         "name": "id",
         "dtype": "int64",
         "stats": {
          "unique_count": 157,
          "nan_count": 0,
          "min": "2313",
          "max": "2678",
          "histogram": [
           {
            "bin_start": 2313,
            "bin_end": 2349.5,
            "count": 18
           },
           {
            "bin_start": 2349.5,
            "bin_end": 2386,
            "count": 19
           },
           {
            "bin_start": 2386,
            "bin_end": 2422.5,
            "count": 19
           },
           {
            "bin_start": 2422.5,
            "bin_end": 2459,
            "count": 11
           },
           {
            "bin_start": 2459,
            "bin_end": 2495.5,
            "count": 20
           },
           {
            "bin_start": 2495.5,
            "bin_end": 2532,
            "count": 20
           },
           {
            "bin_start": 2532,
            "bin_end": 2568.5,
            "count": 16
           },
           {
            "bin_start": 2568.5,
            "bin_end": 2605,
            "count": 17
           },
           {
            "bin_start": 2605,
            "bin_end": 2641.5,
            "count": 15
           },
           {
            "bin_start": 2641.5,
            "bin_end": 2678,
            "count": 2
           }
          ]
         }
        },
        {
         "name": "composer",
         "dtype": "object",
         "stats": {
          "unique_count": 1,
          "nan_count": 0,
          "categories": [
           {
            "name": "Beethoven",
            "count": 157
           }
          ]
         }
        },
        {
         "name": "composition",
         "dtype": "object",
         "stats": {
          "unique_count": 55,
          "nan_count": 0,
          "categories": [
           {
            "name": "Piano Sonata No 17 in D minor",
            "count": 6
           },
           {
            "name": "Piano Sonata No 3 in C major",
            "count": 6
           },
           {
            "name": "53 others",
            "count": 145
           }
          ]
         }
        },
        {
         "name": "movement",
         "dtype": "object",
         "stats": {
          "unique_count": 107,
          "nan_count": 0,
          "categories": [
           {
            "name": "1. Allegro",
            "count": 11
           },
           {
            "name": "2. Adagio",
            "count": 6
           },
           {
            "name": "105 others",
            "count": 140
           }
          ]
         }
        },
        {
         "name": "ensemble",
         "dtype": "object",
         "stats": {
          "unique_count": 7,
          "nan_count": 0,
          "categories": [
           {
            "name": "Solo Piano",
            "count": 93
           },
           {
            "name": "String Quartet",
            "count": 28
           },
           {
            "name": "5 others",
            "count": 36
           }
          ]
         }
        },
        {
         "name": "seconds",
         "dtype": "int64",
         "stats": {
          "unique_count": 139,
          "nan_count": 0,
          "min": "117",
          "max": "1069",
          "histogram": [
           {
            "bin_start": 117,
            "bin_end": 212.2,
            "count": 20
           },
           {
            "bin_start": 212.2,
            "bin_end": 307.4,
            "count": 27
           },
           {
            "bin_start": 307.4,
            "bin_end": 402.6,
            "count": 38
           },
           {
            "bin_start": 402.6,
            "bin_end": 497.8,
            "count": 31
           },
           {
            "bin_start": 497.8,
            "bin_end": 593,
            "count": 18
           },
           {
            "bin_start": 593,
            "bin_end": 688.2,
            "count": 12
           },
           {
            "bin_start": 688.2,
            "bin_end": 783.4,
            "count": 4
           },
           {
            "bin_start": 783.4,
            "bin_end": 878.6,
            "count": 1
           },
           {
            "bin_start": 878.6,
            "bin_end": 973.8000000000001,
            "count": 2
           },
           {
            "bin_start": 973.8000000000001,
            "bin_end": 1069,
            "count": 4
           }
          ]
         }
        },
        {
         "name": "key",
         "dtype": "object",
         "stats": {
          "unique_count": 17,
          "nan_count": 0,
          "categories": [
           {
            "name": "E-flat major",
            "count": 28
           },
           {
            "name": "G major",
            "count": 18
           },
           {
            "name": "15 others",
            "count": 111
           }
          ]
         }
        },
        {
         "name": "tonic",
         "dtype": "object",
         "stats": {
          "unique_count": 11,
          "nan_count": 0,
          "categories": [
           {
            "name": "E-flat",
            "count": 28
           },
           {
            "name": "A",
            "count": 23
           },
           {
            "name": "9 others",
            "count": 106
           }
          ]
         }
        },
        {
         "name": "tonic_encoded",
         "dtype": "float64",
         "stats": {
          "unique_count": 11,
          "nan_count": 0,
          "min": "0.0",
          "max": "10.0",
          "histogram": [
           {
            "bin_start": 0,
            "bin_end": 1,
            "count": 21
           },
           {
            "bin_start": 1,
            "bin_end": 2,
            "count": 5
           },
           {
            "bin_start": 2,
            "bin_end": 3,
            "count": 13
           },
           {
            "bin_start": 3,
            "bin_end": 4,
            "count": 28
           },
           {
            "bin_start": 4,
            "bin_end": 5,
            "count": 11
           },
           {
            "bin_start": 5,
            "bin_end": 6,
            "count": 18
           },
           {
            "bin_start": 6,
            "bin_end": 7,
            "count": 1
           },
           {
            "bin_start": 7,
            "bin_end": 8,
            "count": 20
           },
           {
            "bin_start": 8,
            "bin_end": 9,
            "count": 6
           },
           {
            "bin_start": 9,
            "bin_end": 10,
            "count": 34
           }
          ]
         }
        },
        {
         "name": "_deepnote_index_column",
         "dtype": "int64"
        }
       ],
       "rows": [
        {
         "id": 2313,
         "composer": "Beethoven",
         "composition": "String Quartet No 15 in A minor",
         "movement": "1. Allegro",
         "ensemble": "String Quartet",
         "seconds": 593,
         "key": "A minor",
         "tonic": "A",
         "tonic_encoded": 9,
         "_deepnote_index_column": 172
        },
        {
         "id": 2314,
         "composer": "Beethoven",
         "composition": "String Quartet No 15 in A minor",
         "movement": "2. Allegro ma non tanto",
         "ensemble": "String Quartet",
         "seconds": 568,
         "key": "A minor",
         "tonic": "A",
         "tonic_encoded": 9,
         "_deepnote_index_column": 173
        },
        {
         "id": 2315,
         "composer": "Beethoven",
         "composition": "String Quartet No 15 in A minor",
         "movement": "3. Molto Adagio; Andante",
         "ensemble": "String Quartet",
         "seconds": 1069,
         "key": "A minor",
         "tonic": "A",
         "tonic_encoded": 9,
         "_deepnote_index_column": 174
        },
        {
         "id": 2318,
         "composer": "Beethoven",
         "composition": "Trio in E-flat major",
         "movement": "1. Allegro moderato",
         "ensemble": "Clarinet-Cello-Piano Trio",
         "seconds": 641,
         "key": "E-flat major",
         "tonic": "E-flat",
         "tonic_encoded": 3,
         "_deepnote_index_column": 175
        },
        {
         "id": 2319,
         "composer": "Beethoven",
         "composition": "Trio in E-flat major",
         "movement": "2. Scherzo: Allegro ma non troppo",
         "ensemble": "Clarinet-Cello-Piano Trio",
         "seconds": 620,
         "key": "E-flat major",
         "tonic": "E-flat",
         "tonic_encoded": 3,
         "_deepnote_index_column": 176
        },
        {
         "id": 2320,
         "composer": "Beethoven",
         "composition": "Trio in E-flat major",
         "movement": "3. Rondo: Allegro",
         "ensemble": "Clarinet-Cello-Piano Trio",
         "seconds": 222,
         "key": "E-flat major",
         "tonic": "E-flat",
         "tonic_encoded": 3,
         "_deepnote_index_column": 177
        },
        {
         "id": 2322,
         "composer": "Beethoven",
         "composition": "Piano Sonata No 23 in F minor",
         "movement": "1. Allegro assai",
         "ensemble": "Solo Piano",
         "seconds": 645,
         "key": "F minor",
         "tonic": "F",
         "tonic_encoded": 5,
         "_deepnote_index_column": 178
        },
        {
         "id": 2325,
         "composer": "Beethoven",
         "composition": "Piano Sonata No 23 in F minor",
         "movement": "1. Allegro assai",
         "ensemble": "Solo Piano",
         "seconds": 551,
         "key": "F minor",
         "tonic": "F",
         "tonic_encoded": 5,
         "_deepnote_index_column": 179
        },
        {
         "id": 2330,
         "composer": "Beethoven",
         "composition": "Violin Sonata No 1 in D major",
         "movement": "1. Allegro con brio",
         "ensemble": "Accompanied Violin",
         "seconds": 532,
         "key": "D major",
         "tonic": "D",
         "tonic_encoded": 2,
         "_deepnote_index_column": 180
        },
        {
         "id": 2334,
         "composer": "Beethoven",
         "composition": "Violin Sonata No 8 in G major",
         "movement": "1. Allegro assai",
         "ensemble": "Accompanied Violin",
         "seconds": 409,
         "key": "G major",
         "tonic": "G",
         "tonic_encoded": 7,
         "_deepnote_index_column": 181
        }
       ]
      },
      "text/plain": "       id   composer                      composition  \\\n172  2313  Beethoven  String Quartet No 15 in A minor   \n173  2314  Beethoven  String Quartet No 15 in A minor   \n174  2315  Beethoven  String Quartet No 15 in A minor   \n175  2318  Beethoven             Trio in E-flat major   \n176  2319  Beethoven             Trio in E-flat major   \n..    ...        ...                              ...   \n324  2629  Beethoven   Violin Sonata No 10 in G major   \n325  2632  Beethoven    Piano Sonata No 10 in G major   \n326  2633  Beethoven    Piano Sonata No 10 in G major   \n328  2677  Beethoven     Piano Sonata No 9 in E major   \n329  2678  Beethoven    Piano Sonata No 10 in G major   \n\n                              movement                   ensemble  seconds  \\\n172                         1. Allegro             String Quartet      593   \n173            2. Allegro ma non tanto             String Quartet      568   \n174           3. Molto Adagio; Andante             String Quartet     1069   \n175                1. Allegro moderato  Clarinet-Cello-Piano Trio      641   \n176  2. Scherzo: Allegro ma non troppo  Clarinet-Cello-Piano Trio      620   \n..                                 ...                        ...      ...   \n324                 4. Poco allegretto         Accompanied Violin      517   \n325                         2. Andante                 Solo Piano      341   \n326          3. Scherzo: Allegro assai                 Solo Piano      227   \n328                         1. Allegro                 Solo Piano      445   \n329                         1. Allegro                 Solo Piano      472   \n\n              key   tonic  tonic_encoded  \n172       A minor       A            9.0  \n173       A minor       A            9.0  \n174       A minor       A            9.0  \n175  E-flat major  E-flat            3.0  \n176  E-flat major  E-flat            3.0  \n..            ...     ...            ...  \n324       G major       G            7.0  \n325       G major       G            7.0  \n326       G major       G            7.0  \n328       E major       E            4.0  \n329       G major       G            7.0  \n\n[157 rows x 9 columns]",
      "text/html": "<div>\n<style scoped>\n    .dataframe tbody tr th:only-of-type {\n        vertical-align: middle;\n    }\n\n    .dataframe tbody tr th {\n        vertical-align: top;\n    }\n\n    .dataframe thead th {\n        text-align: right;\n    }\n</style>\n<table border=\"1\" class=\"dataframe\">\n  <thead>\n    <tr style=\"text-align: right;\">\n      <th></th>\n      <th>id</th>\n      <th>composer</th>\n      <th>composition</th>\n      <th>movement</th>\n      <th>ensemble</th>\n      <th>seconds</th>\n      <th>key</th>\n      <th>tonic</th>\n      <th>tonic_encoded</th>\n    </tr>\n  </thead>\n  <tbody>\n    <tr>\n      <th>172</th>\n      <td>2313</td>\n      <td>Beethoven</td>\n      <td>String Quartet No 15 in A minor</td>\n      <td>1. Allegro</td>\n      <td>String Quartet</td>\n      <td>593</td>\n      <td>A minor</td>\n      <td>A</td>\n      <td>9.0</td>\n    </tr>\n    <tr>\n      <th>173</th>\n      <td>2314</td>\n      <td>Beethoven</td>\n      <td>String Quartet No 15 in A minor</td>\n      <td>2. Allegro ma non tanto</td>\n      <td>String Quartet</td>\n      <td>568</td>\n      <td>A minor</td>\n      <td>A</td>\n      <td>9.0</td>\n    </tr>\n    <tr>\n      <th>174</th>\n      <td>2315</td>\n      <td>Beethoven</td>\n      <td>String Quartet No 15 in A minor</td>\n      <td>3. Molto Adagio; Andante</td>\n      <td>String Quartet</td>\n      <td>1069</td>\n      <td>A minor</td>\n      <td>A</td>\n      <td>9.0</td>\n    </tr>\n    <tr>\n      <th>175</th>\n      <td>2318</td>\n      <td>Beethoven</td>\n      <td>Trio in E-flat major</td>\n      <td>1. Allegro moderato</td>\n      <td>Clarinet-Cello-Piano Trio</td>\n      <td>641</td>\n      <td>E-flat major</td>\n      <td>E-flat</td>\n      <td>3.0</td>\n    </tr>\n    <tr>\n      <th>176</th>\n      <td>2319</td>\n      <td>Beethoven</td>\n      <td>Trio in E-flat major</td>\n      <td>2. Scherzo: Allegro ma non troppo</td>\n      <td>Clarinet-Cello-Piano Trio</td>\n      <td>620</td>\n      <td>E-flat major</td>\n      <td>E-flat</td>\n      <td>3.0</td>\n    </tr>\n    <tr>\n      <th>...</th>\n      <td>...</td>\n      <td>...</td>\n      <td>...</td>\n      <td>...</td>\n      <td>...</td>\n      <td>...</td>\n      <td>...</td>\n      <td>...</td>\n      <td>...</td>\n    </tr>\n    <tr>\n      <th>324</th>\n      <td>2629</td>\n      <td>Beethoven</td>\n      <td>Violin Sonata No 10 in G major</td>\n      <td>4. Poco allegretto</td>\n      <td>Accompanied Violin</td>\n      <td>517</td>\n      <td>G major</td>\n      <td>G</td>\n      <td>7.0</td>\n    </tr>\n    <tr>\n      <th>325</th>\n      <td>2632</td>\n      <td>Beethoven</td>\n      <td>Piano Sonata No 10 in G major</td>\n      <td>2. Andante</td>\n      <td>Solo Piano</td>\n      <td>341</td>\n      <td>G major</td>\n      <td>G</td>\n      <td>7.0</td>\n    </tr>\n    <tr>\n      <th>326</th>\n      <td>2633</td>\n      <td>Beethoven</td>\n      <td>Piano Sonata No 10 in G major</td>\n      <td>3. Scherzo: Allegro assai</td>\n      <td>Solo Piano</td>\n      <td>227</td>\n      <td>G major</td>\n      <td>G</td>\n      <td>7.0</td>\n    </tr>\n    <tr>\n      <th>328</th>\n      <td>2677</td>\n      <td>Beethoven</td>\n      <td>Piano Sonata No 9 in E major</td>\n      <td>1. Allegro</td>\n      <td>Solo Piano</td>\n      <td>445</td>\n      <td>E major</td>\n      <td>E</td>\n      <td>4.0</td>\n    </tr>\n    <tr>\n      <th>329</th>\n      <td>2678</td>\n      <td>Beethoven</td>\n      <td>Piano Sonata No 10 in G major</td>\n      <td>1. Allegro</td>\n      <td>Solo Piano</td>\n      <td>472</td>\n      <td>G major</td>\n      <td>G</td>\n      <td>7.0</td>\n    </tr>\n  </tbody>\n</table>\n<p>157 rows × 9 columns</p>\n</div>"
     },
     "metadata": {}
    }
   ]
  },
  {
   "cell_type": "code",
   "metadata": {
    "cell_id": "21a00117-f578-44b6-bd1a-64da41cf0866",
    "tags": [],
    "deepnote_to_be_reexecuted": false,
    "source_hash": "99da5491",
    "execution_start": 1644867145852,
    "execution_millis": 318,
    "deepnote_output_heights": [
     232
    ],
    "deepnote_cell_type": "code"
   },
   "source": "df_bet.tonic.value_counts()",
   "execution_count": 8,
   "outputs": [
    {
     "output_type": "execute_result",
     "execution_count": 8,
     "data": {
      "text/plain": "E-flat     28\nA          23\nC          21\nG          20\nF          18\nD          13\nB-flat     11\nE          11\nA-flat      6\nC-sharp     5\nF-sharp     1\nName: tonic, dtype: int64"
     },
     "metadata": {}
    }
   ]
  },
  {
   "cell_type": "code",
   "metadata": {
    "cell_id": "ee039113-ddd0-499c-836b-70be83e4b956",
    "tags": [],
    "deepnote_to_be_reexecuted": false,
    "source_hash": "4830f843",
    "execution_start": 1644867145878,
    "execution_millis": 293,
    "deepnote_output_heights": [
     232
    ],
    "deepnote_cell_type": "code"
   },
   "source": "df_bet.tonic_encoded.value_counts()",
   "execution_count": 9,
   "outputs": [
    {
     "output_type": "execute_result",
     "execution_count": 9,
     "data": {
      "text/plain": "3.0     28\n9.0     23\n0.0     21\n7.0     20\n5.0     18\n2.0     13\n10.0    11\n4.0     11\n8.0      6\n1.0      5\n6.0      1\nName: tonic_encoded, dtype: int64"
     },
     "metadata": {}
    }
   ]
  },
  {
   "cell_type": "code",
   "metadata": {
    "cell_id": "490b15b5-1dda-42f8-81b5-d8691b9576a3",
    "tags": [],
    "deepnote_to_be_reexecuted": false,
    "source_hash": "84f3bbb3",
    "execution_start": 1644867145952,
    "execution_millis": 221,
    "deepnote_cell_type": "code"
   },
   "source": "df_piano = df_meta[df_meta['ensemble'] == 'Solo Piano']\ndf_piiano",
   "execution_count": 10,
   "outputs": [
    {
     "output_type": "error",
     "ename": "NameError",
     "evalue": "name 'df_piiano' is not defined",
     "traceback": [
      "\u001b[0;31m---------------------------------------------------------------------------\u001b[0m",
      "\u001b[0;31mNameError\u001b[0m                                 Traceback (most recent call last)",
      "\u001b[0;32m<ipython-input-10-de8bb0fd1a6b>\u001b[0m in \u001b[0;36m<module>\u001b[0;34m\u001b[0m\n\u001b[1;32m      1\u001b[0m \u001b[0mdf_piano\u001b[0m \u001b[0;34m=\u001b[0m \u001b[0mdf_meta\u001b[0m\u001b[0;34m[\u001b[0m\u001b[0mdf_meta\u001b[0m\u001b[0;34m[\u001b[0m\u001b[0;34m'ensemble'\u001b[0m\u001b[0;34m]\u001b[0m \u001b[0;34m==\u001b[0m \u001b[0;34m'Solo Piano'\u001b[0m\u001b[0;34m]\u001b[0m\u001b[0;34m\u001b[0m\u001b[0;34m\u001b[0m\u001b[0m\n\u001b[0;32m----> 2\u001b[0;31m \u001b[0mdf_piiano\u001b[0m\u001b[0;34m\u001b[0m\u001b[0;34m\u001b[0m\u001b[0m\n\u001b[0m",
      "\u001b[0;31mNameError\u001b[0m: name 'df_piiano' is not defined"
     ]
    }
   ]
  },
  {
   "cell_type": "markdown",
   "source": "### After merged",
   "metadata": {
    "cell_id": "5cc29993-6768-4f0e-8bef-a479f3265144",
    "tags": [],
    "deepnote_cell_type": "markdown"
   }
  },
  {
   "cell_type": "code",
   "metadata": {
    "cell_id": "d7c5e740-e8b5-4d2b-a69e-94edc771efd0",
    "tags": [],
    "deepnote_to_be_reexecuted": true,
    "source_hash": "9028e91b",
    "deepnote_cell_type": "code"
   },
   "source": "# I'll add a column indicating the difference between each note played and the tonic of the composition\n# This way, we'll know which notes on a chromatic scale are being used\n# Thus, we may determine which scales are used\n\n#df_scores['chromatic_degree'] = df_scores.note - df_scores.tonic_encoded",
   "execution_count": null,
   "outputs": []
  },
  {
   "cell_type": "markdown",
   "source": "<a style='text-decoration:none;line-height:16px;display:flex;color:#5B5B62;padding:10px;justify-content:end;' href='https://deepnote.com?utm_source=created-in-deepnote-cell&projectId=177ea176-1f94-4265-9666-0cca06278d8e' target=\"_blank\">\n<img alt='Created in deepnote.com' style='display:inline;max-height:16px;margin:0px;margin-right:7.5px;' src='data:image/svg+xml;base64,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' > </img>\nCreated in <span style='font-weight:600;margin-left:4px;'>Deepnote</span></a>",
   "metadata": {
    "tags": [],
    "created_in_deepnote_cell": true,
    "deepnote_cell_type": "markdown"
   }
  }
 ],
 "nbformat": 4,
 "nbformat_minor": 2,
 "metadata": {
  "orig_nbformat": 2,
  "deepnote": {
   "is_reactive": false
  },
  "deepnote_notebook_id": "dfc6a4e2-1081-4fbe-90a5-989e6cdf41f3",
  "deepnote_execution_queue": []
 }
}