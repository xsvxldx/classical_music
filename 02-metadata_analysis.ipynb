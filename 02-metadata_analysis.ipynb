{
 "cells": [
  {
   "cell_type": "markdown",
   "source": "### Scores Metadata Analysis",
   "metadata": {
    "cell_id": "6ce486a0-49f3-41f5-85be-ceb024481b60",
    "tags": [],
    "deepnote_cell_height": 62,
    "deepnote_cell_type": "markdown"
   }
  },
  {
   "cell_type": "markdown",
   "source": "#### Importing the processed data",
   "metadata": {
    "cell_id": "a44def36-d5f8-47ca-bf12-94899510d1c2",
    "tags": [],
    "deepnote_cell_height": 54,
    "deepnote_cell_type": "markdown"
   }
  },
  {
   "cell_type": "code",
   "metadata": {
    "cell_id": "ebae8cf8-c644-4ff9-9590-aee5bef4b73b",
    "tags": [],
    "deepnote_to_be_reexecuted": false,
    "source_hash": "2c6f8d73",
    "execution_start": 1645186918084,
    "execution_millis": 2636,
    "deepnote_cell_height": 117,
    "deepnote_cell_type": "code"
   },
   "source": "import pandas as pd\nimport matplotlib.pyplot as plt\nimport numpy as np",
   "execution_count": 1,
   "outputs": []
  },
  {
   "cell_type": "code",
   "metadata": {
    "tags": [],
    "cell_id": "2ab9076f-41c2-43d4-8d5d-1d527268430a",
    "deepnote_to_be_reexecuted": false,
    "source_hash": "d5f3caca",
    "execution_start": 1645186920728,
    "execution_millis": 1394,
    "deepnote_cell_height": 99,
    "deepnote_cell_type": "code"
   },
   "source": "df_meta = pd.read_csv('./data/processed/scores_metadata.csv')\ndf_scores = pd.read_csv('./data/processed/scores.csv')",
   "execution_count": 2,
   "outputs": []
  },
  {
   "cell_type": "markdown",
   "source": "#### General Overview\n\nLet's check the scores metadata. We shall make an analysis of this dataset first.  \nThe only numeric variable of interest here is the column `seconds`, which shows the duration of each composition.  \nWe can make some aggregations to look for patterns.\n\n*Later, we will combine this dataset with the scores dataset. Particularly, we are interested in having the column `tonic_encoded` from the scores metadata together with the `notes` column in the scores data, so we can calculate the difference between the root (tonic) and each note, thus, getting what musical degrees are used with each note in a chromatic scale. From there, we might get which scales and scale degrees are used.*",
   "metadata": {
    "cell_id": "062e0087-b86e-4c9b-804e-f456d9d003ae",
    "tags": [],
    "deepnote_cell_height": 214.34375,
    "deepnote_cell_type": "markdown"
   }
  },
  {
   "cell_type": "code",
   "metadata": {
    "cell_id": "d244ad8e-223d-43a9-b4f4-9dddb4c1e8e9",
    "tags": [],
    "deepnote_to_be_reexecuted": false,
    "source_hash": "d54dd59a",
    "execution_start": 1645186922171,
    "execution_millis": 81,
    "deepnote_cell_height": 342,
    "deepnote_cell_type": "code"
   },
   "source": "df_meta.head(5)",
   "execution_count": 3,
   "outputs": [
    {
     "output_type": "execute_result",
     "execution_count": 3,
     "data": {
      "application/vnd.deepnote.dataframe.v3+json": {
       "column_count": 9,
       "row_count": 5,
       "columns": [
        {
         "name": "id",
         "dtype": "int64",
         "stats": {
          "unique_count": 5,
          "nan_count": 0,
          "min": "1727",
          "max": "1733",
          "histogram": [
           {
            "bin_start": 1727,
            "bin_end": 1727.6,
            "count": 1
           },
           {
            "bin_start": 1727.6,
            "bin_end": 1728.2,
            "count": 1
           },
           {
            "bin_start": 1728.2,
            "bin_end": 1728.8,
            "count": 0
           },
           {
            "bin_start": 1728.8,
            "bin_end": 1729.4,
            "count": 1
           },
           {
            "bin_start": 1729.4,
            "bin_end": 1730,
            "count": 0
           },
           {
            "bin_start": 1730,
            "bin_end": 1730.6,
            "count": 1
           },
           {
            "bin_start": 1730.6,
            "bin_end": 1731.2,
            "count": 0
           },
           {
            "bin_start": 1731.2,
            "bin_end": 1731.8,
            "count": 0
           },
           {
            "bin_start": 1731.8,
            "bin_end": 1732.4,
            "count": 0
           },
           {
            "bin_start": 1732.4,
            "bin_end": 1733,
            "count": 1
           }
          ]
         }
        },
        {
         "name": "composer",
         "dtype": "object",
         "stats": {
          "unique_count": 1,
          "nan_count": 0,
          "categories": [
           {
            "name": "Schubert",
            "count": 5
           }
          ]
         }
        },
        {
         "name": "composition",
         "dtype": "object",
         "stats": {
          "unique_count": 2,
          "nan_count": 0,
          "categories": [
           {
            "name": "Piano Quintet in A major",
            "count": 4
           },
           {
            "name": "Piano Sonata in A major",
            "count": 1
           }
          ]
         }
        },
        {
         "name": "movement",
         "dtype": "object",
         "stats": {
          "unique_count": 5,
          "nan_count": 0,
          "categories": [
           {
            "name": "2. Andante",
            "count": 1
           },
           {
            "name": "3. Scherzo: Presto",
            "count": 1
           },
           {
            "name": "3 others",
            "count": 3
           }
          ]
         }
        },
        {
         "name": "ensemble",
         "dtype": "object",
         "stats": {
          "unique_count": 2,
          "nan_count": 0,
          "categories": [
           {
            "name": "Piano Quintet",
            "count": 4
           },
           {
            "name": "Solo Piano",
            "count": 1
           }
          ]
         }
        },
        {
         "name": "seconds",
         "dtype": "int64",
         "stats": {
          "unique_count": 5,
          "nan_count": 0,
          "min": "251",
          "max": "546",
          "histogram": [
           {
            "bin_start": 251,
            "bin_end": 280.5,
            "count": 1
           },
           {
            "bin_start": 280.5,
            "bin_end": 310,
            "count": 0
           },
           {
            "bin_start": 310,
            "bin_end": 339.5,
            "count": 0
           },
           {
            "bin_start": 339.5,
            "bin_end": 369,
            "count": 1
           },
           {
            "bin_start": 369,
            "bin_end": 398.5,
            "count": 0
           },
           {
            "bin_start": 398.5,
            "bin_end": 428,
            "count": 0
           },
           {
            "bin_start": 428,
            "bin_end": 457.5,
            "count": 2
           },
           {
            "bin_start": 457.5,
            "bin_end": 487,
            "count": 0
           },
           {
            "bin_start": 487,
            "bin_end": 516.5,
            "count": 0
           },
           {
            "bin_start": 516.5,
            "bin_end": 546,
            "count": 1
           }
          ]
         }
        },
        {
         "name": "key",
         "dtype": "object",
         "stats": {
          "unique_count": 1,
          "nan_count": 0,
          "categories": [
           {
            "name": "A major",
            "count": 5
           }
          ]
         }
        },
        {
         "name": "tonic",
         "dtype": "object",
         "stats": {
          "unique_count": 1,
          "nan_count": 0,
          "categories": [
           {
            "name": "A",
            "count": 5
           }
          ]
         }
        },
        {
         "name": "tonic_encoded",
         "dtype": "int64",
         "stats": {
          "unique_count": 1,
          "nan_count": 0,
          "min": "9",
          "max": "9",
          "histogram": [
           {
            "bin_start": 8.5,
            "bin_end": 8.6,
            "count": 0
           },
           {
            "bin_start": 8.6,
            "bin_end": 8.7,
            "count": 0
           },
           {
            "bin_start": 8.7,
            "bin_end": 8.8,
            "count": 0
           },
           {
            "bin_start": 8.8,
            "bin_end": 8.9,
            "count": 0
           },
           {
            "bin_start": 8.9,
            "bin_end": 9,
            "count": 0
           },
           {
            "bin_start": 9,
            "bin_end": 9.1,
            "count": 5
           },
           {
            "bin_start": 9.1,
            "bin_end": 9.2,
            "count": 0
           },
           {
            "bin_start": 9.2,
            "bin_end": 9.3,
            "count": 0
           },
           {
            "bin_start": 9.3,
            "bin_end": 9.4,
            "count": 0
           },
           {
            "bin_start": 9.4,
            "bin_end": 9.5,
            "count": 0
           }
          ]
         }
        },
        {
         "name": "_deepnote_index_column",
         "dtype": "int64"
        }
       ],
       "rows": [
        {
         "id": 1727,
         "composer": "Schubert",
         "composition": "Piano Quintet in A major",
         "movement": "2. Andante",
         "ensemble": "Piano Quintet",
         "seconds": 447,
         "key": "A major",
         "tonic": "A",
         "tonic_encoded": 9,
         "_deepnote_index_column": 0
        },
        {
         "id": 1728,
         "composer": "Schubert",
         "composition": "Piano Quintet in A major",
         "movement": "3. Scherzo: Presto",
         "ensemble": "Piano Quintet",
         "seconds": 251,
         "key": "A major",
         "tonic": "A",
         "tonic_encoded": 9,
         "_deepnote_index_column": 1
        },
        {
         "id": 1729,
         "composer": "Schubert",
         "composition": "Piano Quintet in A major",
         "movement": "4. Andantino - Allegretto",
         "ensemble": "Piano Quintet",
         "seconds": 444,
         "key": "A major",
         "tonic": "A",
         "tonic_encoded": 9,
         "_deepnote_index_column": 2
        },
        {
         "id": 1730,
         "composer": "Schubert",
         "composition": "Piano Quintet in A major",
         "movement": "5. Allegro giusto",
         "ensemble": "Piano Quintet",
         "seconds": 368,
         "key": "A major",
         "tonic": "A",
         "tonic_encoded": 9,
         "_deepnote_index_column": 3
        },
        {
         "id": 1733,
         "composer": "Schubert",
         "composition": "Piano Sonata in A major",
         "movement": "2. Andantino",
         "ensemble": "Solo Piano",
         "seconds": 546,
         "key": "A major",
         "tonic": "A",
         "tonic_encoded": 9,
         "_deepnote_index_column": 4
        }
       ]
      },
      "text/plain": "     id  composer               composition                   movement  \\\n0  1727  Schubert  Piano Quintet in A major                 2. Andante   \n1  1728  Schubert  Piano Quintet in A major         3. Scherzo: Presto   \n2  1729  Schubert  Piano Quintet in A major  4. Andantino - Allegretto   \n3  1730  Schubert  Piano Quintet in A major          5. Allegro giusto   \n4  1733  Schubert   Piano Sonata in A major               2. Andantino   \n\n        ensemble  seconds      key tonic  tonic_encoded  \n0  Piano Quintet      447  A major     A              9  \n1  Piano Quintet      251  A major     A              9  \n2  Piano Quintet      444  A major     A              9  \n3  Piano Quintet      368  A major     A              9  \n4     Solo Piano      546  A major     A              9  ",
      "text/html": "<div>\n<style scoped>\n    .dataframe tbody tr th:only-of-type {\n        vertical-align: middle;\n    }\n\n    .dataframe tbody tr th {\n        vertical-align: top;\n    }\n\n    .dataframe thead th {\n        text-align: right;\n    }\n</style>\n<table border=\"1\" class=\"dataframe\">\n  <thead>\n    <tr style=\"text-align: right;\">\n      <th></th>\n      <th>id</th>\n      <th>composer</th>\n      <th>composition</th>\n      <th>movement</th>\n      <th>ensemble</th>\n      <th>seconds</th>\n      <th>key</th>\n      <th>tonic</th>\n      <th>tonic_encoded</th>\n    </tr>\n  </thead>\n  <tbody>\n    <tr>\n      <th>0</th>\n      <td>1727</td>\n      <td>Schubert</td>\n      <td>Piano Quintet in A major</td>\n      <td>2. Andante</td>\n      <td>Piano Quintet</td>\n      <td>447</td>\n      <td>A major</td>\n      <td>A</td>\n      <td>9</td>\n    </tr>\n    <tr>\n      <th>1</th>\n      <td>1728</td>\n      <td>Schubert</td>\n      <td>Piano Quintet in A major</td>\n      <td>3. Scherzo: Presto</td>\n      <td>Piano Quintet</td>\n      <td>251</td>\n      <td>A major</td>\n      <td>A</td>\n      <td>9</td>\n    </tr>\n    <tr>\n      <th>2</th>\n      <td>1729</td>\n      <td>Schubert</td>\n      <td>Piano Quintet in A major</td>\n      <td>4. Andantino - Allegretto</td>\n      <td>Piano Quintet</td>\n      <td>444</td>\n      <td>A major</td>\n      <td>A</td>\n      <td>9</td>\n    </tr>\n    <tr>\n      <th>3</th>\n      <td>1730</td>\n      <td>Schubert</td>\n      <td>Piano Quintet in A major</td>\n      <td>5. Allegro giusto</td>\n      <td>Piano Quintet</td>\n      <td>368</td>\n      <td>A major</td>\n      <td>A</td>\n      <td>9</td>\n    </tr>\n    <tr>\n      <th>4</th>\n      <td>1733</td>\n      <td>Schubert</td>\n      <td>Piano Sonata in A major</td>\n      <td>2. Andantino</td>\n      <td>Solo Piano</td>\n      <td>546</td>\n      <td>A major</td>\n      <td>A</td>\n      <td>9</td>\n    </tr>\n  </tbody>\n</table>\n</div>"
     },
     "metadata": {}
    }
   ]
  },
  {
   "cell_type": "code",
   "metadata": {
    "cell_id": "3e056fe1-e8d3-4ed3-b332-f79659f592ad",
    "tags": [],
    "deepnote_to_be_reexecuted": false,
    "source_hash": "48af79c3",
    "execution_start": 1645186922250,
    "execution_millis": 56342406,
    "deepnote_output_heights": [
     21.1875
    ],
    "deepnote_cell_height": 118.1875,
    "deepnote_cell_type": "code"
   },
   "source": "df_meta.shape",
   "execution_count": 4,
   "outputs": [
    {
     "output_type": "execute_result",
     "execution_count": 4,
     "data": {
      "text/plain": "(318, 9)"
     },
     "metadata": {}
    }
   ]
  },
  {
   "cell_type": "code",
   "metadata": {
    "cell_id": "bbc40c78-7598-47bc-86b8-1e3a530203a2",
    "tags": [],
    "deepnote_to_be_reexecuted": false,
    "source_hash": "444b4eb0",
    "execution_start": 1645186922255,
    "execution_millis": 56342395,
    "deepnote_output_heights": [
     193.875
    ],
    "deepnote_cell_height": 290.875,
    "deepnote_cell_type": "code"
   },
   "source": "df_meta.dtypes",
   "execution_count": 5,
   "outputs": [
    {
     "output_type": "execute_result",
     "execution_count": 5,
     "data": {
      "text/plain": "id                int64\ncomposer         object\ncomposition      object\nmovement         object\nensemble         object\nseconds           int64\nkey              object\ntonic            object\ntonic_encoded     int64\ndtype: object"
     },
     "metadata": {}
    }
   ]
  },
  {
   "cell_type": "code",
   "metadata": {
    "cell_id": "9cfc202b-a393-41c5-b940-f76ccd94922b",
    "tags": [],
    "deepnote_to_be_reexecuted": false,
    "source_hash": "4ba4374d",
    "execution_start": 1645186922308,
    "execution_millis": 56342354,
    "deepnote_output_heights": [
     232.25
    ],
    "deepnote_cell_height": 347.25,
    "deepnote_cell_type": "code"
   },
   "source": "# Changing type to column `tonic_encoded`\ndf_meta.tonic_encoded.astype(\"int64\")",
   "execution_count": 6,
   "outputs": [
    {
     "output_type": "execute_result",
     "execution_count": 6,
     "data": {
      "text/plain": "0       9\n1       9\n2       9\n3       9\n4       9\n       ..\n313     7\n314     7\n315    11\n316     4\n317     7\nName: tonic_encoded, Length: 318, dtype: int64"
     },
     "metadata": {}
    }
   ]
  },
  {
   "cell_type": "code",
   "metadata": {
    "cell_id": "a0cfe1ec-fdc5-427f-95bb-15cd4e5f7a11",
    "tags": [],
    "deepnote_to_be_reexecuted": false,
    "source_hash": "5340795f",
    "execution_start": 1645186922310,
    "execution_millis": 416,
    "deepnote_output_heights": [
     40.375
    ],
    "deepnote_cell_height": 155.375,
    "deepnote_cell_type": "code"
   },
   "source": "# Checking duplicated rows\ndf_meta.duplicated().value_counts()",
   "execution_count": 7,
   "outputs": [
    {
     "output_type": "execute_result",
     "execution_count": 7,
     "data": {
      "text/plain": "False    318\ndtype: int64"
     },
     "metadata": {}
    }
   ]
  },
  {
   "cell_type": "code",
   "metadata": {
    "cell_id": "773de08b-b0c2-44b9-a278-82476247669e",
    "tags": [],
    "deepnote_to_be_reexecuted": false,
    "source_hash": "8553043f",
    "execution_start": 1645186922310,
    "execution_millis": 416,
    "deepnote_output_heights": [
     193.875
    ],
    "deepnote_cell_height": 308.875,
    "deepnote_cell_type": "code"
   },
   "source": "# Checking for NaN values\ndf_meta.isna().any()",
   "execution_count": 8,
   "outputs": [
    {
     "output_type": "execute_result",
     "execution_count": 8,
     "data": {
      "text/plain": "id               False\ncomposer         False\ncomposition      False\nmovement         False\nensemble         False\nseconds          False\nkey              False\ntonic            False\ntonic_encoded    False\ndtype: bool"
     },
     "metadata": {}
    }
   ]
  },
  {
   "cell_type": "code",
   "metadata": {
    "cell_id": "4bced2af-115a-477e-9843-e240d5edd988",
    "tags": [],
    "deepnote_to_be_reexecuted": false,
    "source_hash": "23fa9071",
    "execution_start": 1645186922357,
    "execution_millis": 370,
    "deepnote_cell_height": 483,
    "deepnote_cell_type": "code"
   },
   "source": "# Numeric variables summary\ndf_meta.describe()",
   "execution_count": 9,
   "outputs": [
    {
     "output_type": "execute_result",
     "execution_count": 9,
     "data": {
      "application/vnd.deepnote.dataframe.v3+json": {
       "column_count": 3,
       "row_count": 8,
       "columns": [
        {
         "name": "id",
         "dtype": "float64",
         "stats": {
          "unique_count": 8,
          "nan_count": 0,
          "min": "269.5041161520533",
          "max": "2678.0",
          "histogram": [
           {
            "bin_start": 269.5041161520533,
            "bin_end": 510.353704536848,
            "count": 2
           },
           {
            "bin_start": 510.353704536848,
            "bin_end": 751.2032929216426,
            "count": 0
           },
           {
            "bin_start": 751.2032929216426,
            "bin_end": 992.0528813064373,
            "count": 0
           },
           {
            "bin_start": 992.0528813064373,
            "bin_end": 1232.902469691232,
            "count": 0
           },
           {
            "bin_start": 1232.902469691232,
            "bin_end": 1473.7520580760265,
            "count": 0
           },
           {
            "bin_start": 1473.7520580760265,
            "bin_end": 1714.6016464608213,
            "count": 0
           },
           {
            "bin_start": 1714.6016464608213,
            "bin_end": 1955.4512348456158,
            "count": 1
           },
           {
            "bin_start": 1955.4512348456158,
            "bin_end": 2196.3008232304105,
            "count": 1
           },
           {
            "bin_start": 2196.3008232304105,
            "bin_end": 2437.1504116152055,
            "count": 2
           },
           {
            "bin_start": 2437.1504116152055,
            "bin_end": 2678,
            "count": 2
           }
          ]
         }
        },
        {
         "name": "seconds",
         "dtype": "float64",
         "stats": {
          "unique_count": 8,
          "nan_count": 0,
          "min": "55.0",
          "max": "1069.0",
          "histogram": [
           {
            "bin_start": 55,
            "bin_end": 156.4,
            "count": 1
           },
           {
            "bin_start": 156.4,
            "bin_end": 257.8,
            "count": 2
           },
           {
            "bin_start": 257.8,
            "bin_end": 359.20000000000005,
            "count": 2
           },
           {
            "bin_start": 359.20000000000005,
            "bin_end": 460.6,
            "count": 1
           },
           {
            "bin_start": 460.6,
            "bin_end": 562,
            "count": 1
           },
           {
            "bin_start": 562,
            "bin_end": 663.4000000000001,
            "count": 0
           },
           {
            "bin_start": 663.4000000000001,
            "bin_end": 764.8000000000001,
            "count": 0
           },
           {
            "bin_start": 764.8000000000001,
            "bin_end": 866.2,
            "count": 0
           },
           {
            "bin_start": 866.2,
            "bin_end": 967.6,
            "count": 0
           },
           {
            "bin_start": 967.6,
            "bin_end": 1069,
            "count": 1
           }
          ]
         }
        },
        {
         "name": "tonic_encoded",
         "dtype": "float64",
         "stats": {
          "unique_count": 8,
          "nan_count": 0,
          "min": "0.0",
          "max": "318.0",
          "histogram": [
           {
            "bin_start": 0,
            "bin_end": 31.8,
            "count": 7
           },
           {
            "bin_start": 31.8,
            "bin_end": 63.6,
            "count": 0
           },
           {
            "bin_start": 63.6,
            "bin_end": 95.4,
            "count": 0
           },
           {
            "bin_start": 95.4,
            "bin_end": 127.2,
            "count": 0
           },
           {
            "bin_start": 127.2,
            "bin_end": 159,
            "count": 0
           },
           {
            "bin_start": 159,
            "bin_end": 190.8,
            "count": 0
           },
           {
            "bin_start": 190.8,
            "bin_end": 222.6,
            "count": 0
           },
           {
            "bin_start": 222.6,
            "bin_end": 254.4,
            "count": 0
           },
           {
            "bin_start": 254.4,
            "bin_end": 286.2,
            "count": 0
           },
           {
            "bin_start": 286.2,
            "bin_end": 318,
            "count": 1
           }
          ]
         }
        },
        {
         "name": "_deepnote_index_column",
         "dtype": "object"
        }
       ],
       "rows": [
        {
         "id": 318,
         "seconds": 318,
         "tonic_encoded": 318,
         "_deepnote_index_column": "count"
        },
        {
         "id": 2257.685534591195,
         "seconds": 376.55345911949684,
         "tonic_encoded": 5.166666666666667,
         "_deepnote_index_column": "mean"
        },
        {
         "id": 269.5041161520533,
         "seconds": 197.58040004834712,
         "tonic_encoded": 3.339925133120132,
         "_deepnote_index_column": "std"
        },
        {
         "id": 1727,
         "seconds": 55,
         "tonic_encoded": 0,
         "_deepnote_index_column": "min"
        },
        {
         "id": 2118.25,
         "seconds": 227,
         "tonic_encoded": 3,
         "_deepnote_index_column": "25%"
        },
        {
         "id": 2309,
         "seconds": 356.5,
         "tonic_encoded": 5,
         "_deepnote_index_column": "50%"
        },
        {
         "id": 2481.75,
         "seconds": 481.5,
         "tonic_encoded": 9,
         "_deepnote_index_column": "75%"
        },
        {
         "id": 2678,
         "seconds": 1069,
         "tonic_encoded": 11,
         "_deepnote_index_column": "max"
        }
       ]
      },
      "text/plain": "                id      seconds  tonic_encoded\ncount   318.000000   318.000000     318.000000\nmean   2257.685535   376.553459       5.166667\nstd     269.504116   197.580400       3.339925\nmin    1727.000000    55.000000       0.000000\n25%    2118.250000   227.000000       3.000000\n50%    2309.000000   356.500000       5.000000\n75%    2481.750000   481.500000       9.000000\nmax    2678.000000  1069.000000      11.000000",
      "text/html": "<div>\n<style scoped>\n    .dataframe tbody tr th:only-of-type {\n        vertical-align: middle;\n    }\n\n    .dataframe tbody tr th {\n        vertical-align: top;\n    }\n\n    .dataframe thead th {\n        text-align: right;\n    }\n</style>\n<table border=\"1\" class=\"dataframe\">\n  <thead>\n    <tr style=\"text-align: right;\">\n      <th></th>\n      <th>id</th>\n      <th>seconds</th>\n      <th>tonic_encoded</th>\n    </tr>\n  </thead>\n  <tbody>\n    <tr>\n      <th>count</th>\n      <td>318.000000</td>\n      <td>318.000000</td>\n      <td>318.000000</td>\n    </tr>\n    <tr>\n      <th>mean</th>\n      <td>2257.685535</td>\n      <td>376.553459</td>\n      <td>5.166667</td>\n    </tr>\n    <tr>\n      <th>std</th>\n      <td>269.504116</td>\n      <td>197.580400</td>\n      <td>3.339925</td>\n    </tr>\n    <tr>\n      <th>min</th>\n      <td>1727.000000</td>\n      <td>55.000000</td>\n      <td>0.000000</td>\n    </tr>\n    <tr>\n      <th>25%</th>\n      <td>2118.250000</td>\n      <td>227.000000</td>\n      <td>3.000000</td>\n    </tr>\n    <tr>\n      <th>50%</th>\n      <td>2309.000000</td>\n      <td>356.500000</td>\n      <td>5.000000</td>\n    </tr>\n    <tr>\n      <th>75%</th>\n      <td>2481.750000</td>\n      <td>481.500000</td>\n      <td>9.000000</td>\n    </tr>\n    <tr>\n      <th>max</th>\n      <td>2678.000000</td>\n      <td>1069.000000</td>\n      <td>11.000000</td>\n    </tr>\n  </tbody>\n</table>\n</div>"
     },
     "metadata": {}
    }
   ]
  },
  {
   "cell_type": "markdown",
   "source": "Here we have that the shortest composition is 55 seconds. The longest one is 1069 seconds (17 min 49 sec). Average of 377 seconds (6 min 17 sec).  \nLet's see what are the shortest and longest ones.",
   "metadata": {
    "cell_id": "e7ae2996-268d-47f8-9947-6773ffe460a3",
    "tags": [],
    "deepnote_cell_height": 74.78125,
    "deepnote_cell_type": "markdown"
   }
  },
  {
   "cell_type": "code",
   "metadata": {
    "cell_id": "cbc42f3b-03cb-4eb9-ae48-d9f877b556e1",
    "tags": [],
    "deepnote_to_be_reexecuted": false,
    "source_hash": "39df9f22",
    "execution_start": 1645186922373,
    "execution_millis": 356,
    "deepnote_cell_height": 178,
    "deepnote_cell_type": "code"
   },
   "source": "df_meta[df_meta['seconds']==df_meta['seconds'].min()]",
   "execution_count": 10,
   "outputs": [
    {
     "output_type": "execute_result",
     "execution_count": 10,
     "data": {
      "application/vnd.deepnote.dataframe.v3+json": {
       "column_count": 9,
       "row_count": 1,
       "columns": [
        {
         "name": "id",
         "dtype": "int64",
         "stats": {
          "unique_count": 1,
          "nan_count": 0,
          "min": "2310",
          "max": "2310",
          "histogram": [
           {
            "bin_start": 2309.5,
            "bin_end": 2309.6,
            "count": 0
           },
           {
            "bin_start": 2309.6,
            "bin_end": 2309.7,
            "count": 0
           },
           {
            "bin_start": 2309.7,
            "bin_end": 2309.8,
            "count": 0
           },
           {
            "bin_start": 2309.8,
            "bin_end": 2309.9,
            "count": 0
           },
           {
            "bin_start": 2309.9,
            "bin_end": 2310,
            "count": 0
           },
           {
            "bin_start": 2310,
            "bin_end": 2310.1,
            "count": 1
           },
           {
            "bin_start": 2310.1,
            "bin_end": 2310.2,
            "count": 0
           },
           {
            "bin_start": 2310.2,
            "bin_end": 2310.3,
            "count": 0
           },
           {
            "bin_start": 2310.3,
            "bin_end": 2310.4,
            "count": 0
           },
           {
            "bin_start": 2310.4,
            "bin_end": 2310.5,
            "count": 0
           }
          ]
         }
        },
        {
         "name": "composer",
         "dtype": "object",
         "stats": {
          "unique_count": 1,
          "nan_count": 0,
          "categories": [
           {
            "name": "Bach",
            "count": 1
           }
          ]
         }
        },
        {
         "name": "composition",
         "dtype": "object",
         "stats": {
          "unique_count": 1,
          "nan_count": 0,
          "categories": [
           {
            "name": "WTK I, No. 15: Prelude and Fugue in G major",
            "count": 1
           }
          ]
         }
        },
        {
         "name": "movement",
         "dtype": "object",
         "stats": {
          "unique_count": 1,
          "nan_count": 0,
          "categories": [
           {
            "name": "1. Prelude",
            "count": 1
           }
          ]
         }
        },
        {
         "name": "ensemble",
         "dtype": "object",
         "stats": {
          "unique_count": 1,
          "nan_count": 0,
          "categories": [
           {
            "name": "Solo Piano",
            "count": 1
           }
          ]
         }
        },
        {
         "name": "seconds",
         "dtype": "int64",
         "stats": {
          "unique_count": 1,
          "nan_count": 0,
          "min": "55",
          "max": "55",
          "histogram": [
           {
            "bin_start": 54.5,
            "bin_end": 54.6,
            "count": 0
           },
           {
            "bin_start": 54.6,
            "bin_end": 54.7,
            "count": 0
           },
           {
            "bin_start": 54.7,
            "bin_end": 54.8,
            "count": 0
           },
           {
            "bin_start": 54.8,
            "bin_end": 54.9,
            "count": 0
           },
           {
            "bin_start": 54.9,
            "bin_end": 55,
            "count": 0
           },
           {
            "bin_start": 55,
            "bin_end": 55.1,
            "count": 1
           },
           {
            "bin_start": 55.1,
            "bin_end": 55.2,
            "count": 0
           },
           {
            "bin_start": 55.2,
            "bin_end": 55.3,
            "count": 0
           },
           {
            "bin_start": 55.3,
            "bin_end": 55.4,
            "count": 0
           },
           {
            "bin_start": 55.4,
            "bin_end": 55.5,
            "count": 0
           }
          ]
         }
        },
        {
         "name": "key",
         "dtype": "object",
         "stats": {
          "unique_count": 1,
          "nan_count": 0,
          "categories": [
           {
            "name": "G major",
            "count": 1
           }
          ]
         }
        },
        {
         "name": "tonic",
         "dtype": "object",
         "stats": {
          "unique_count": 1,
          "nan_count": 0,
          "categories": [
           {
            "name": "G",
            "count": 1
           }
          ]
         }
        },
        {
         "name": "tonic_encoded",
         "dtype": "int64",
         "stats": {
          "unique_count": 1,
          "nan_count": 0,
          "min": "7",
          "max": "7",
          "histogram": [
           {
            "bin_start": 6.5,
            "bin_end": 6.6,
            "count": 0
           },
           {
            "bin_start": 6.6,
            "bin_end": 6.7,
            "count": 0
           },
           {
            "bin_start": 6.7,
            "bin_end": 6.8,
            "count": 0
           },
           {
            "bin_start": 6.8,
            "bin_end": 6.9,
            "count": 0
           },
           {
            "bin_start": 6.9,
            "bin_end": 7,
            "count": 0
           },
           {
            "bin_start": 7,
            "bin_end": 7.1,
            "count": 1
           },
           {
            "bin_start": 7.1,
            "bin_end": 7.2,
            "count": 0
           },
           {
            "bin_start": 7.2,
            "bin_end": 7.3,
            "count": 0
           },
           {
            "bin_start": 7.3,
            "bin_end": 7.4,
            "count": 0
           },
           {
            "bin_start": 7.4,
            "bin_end": 7.5,
            "count": 0
           }
          ]
         }
        },
        {
         "name": "_deepnote_index_column",
         "dtype": "int64"
        }
       ],
       "rows": [
        {
         "id": 2310,
         "composer": "Bach",
         "composition": "WTK I, No. 15: Prelude and Fugue in G major",
         "movement": "1. Prelude",
         "ensemble": "Solo Piano",
         "seconds": 55,
         "key": "G major",
         "tonic": "G",
         "tonic_encoded": 7,
         "_deepnote_index_column": 159
        }
       ]
      },
      "text/plain": "       id composer                                  composition    movement  \\\n159  2310     Bach  WTK I, No. 15: Prelude and Fugue in G major  1. Prelude   \n\n       ensemble  seconds      key tonic  tonic_encoded  \n159  Solo Piano       55  G major     G              7  ",
      "text/html": "<div>\n<style scoped>\n    .dataframe tbody tr th:only-of-type {\n        vertical-align: middle;\n    }\n\n    .dataframe tbody tr th {\n        vertical-align: top;\n    }\n\n    .dataframe thead th {\n        text-align: right;\n    }\n</style>\n<table border=\"1\" class=\"dataframe\">\n  <thead>\n    <tr style=\"text-align: right;\">\n      <th></th>\n      <th>id</th>\n      <th>composer</th>\n      <th>composition</th>\n      <th>movement</th>\n      <th>ensemble</th>\n      <th>seconds</th>\n      <th>key</th>\n      <th>tonic</th>\n      <th>tonic_encoded</th>\n    </tr>\n  </thead>\n  <tbody>\n    <tr>\n      <th>159</th>\n      <td>2310</td>\n      <td>Bach</td>\n      <td>WTK I, No. 15: Prelude and Fugue in G major</td>\n      <td>1. Prelude</td>\n      <td>Solo Piano</td>\n      <td>55</td>\n      <td>G major</td>\n      <td>G</td>\n      <td>7</td>\n    </tr>\n  </tbody>\n</table>\n</div>"
     },
     "metadata": {}
    }
   ]
  },
  {
   "cell_type": "code",
   "metadata": {
    "cell_id": "07305abe-7455-4cac-9cf4-3660125fa879",
    "tags": [],
    "deepnote_to_be_reexecuted": false,
    "source_hash": "96492a5c",
    "execution_start": 1645186922496,
    "execution_millis": 236,
    "deepnote_cell_height": 178,
    "deepnote_cell_type": "code"
   },
   "source": "df_meta[df_meta['seconds']==df_meta['seconds'].max()]",
   "execution_count": 11,
   "outputs": [
    {
     "output_type": "execute_result",
     "execution_count": 11,
     "data": {
      "application/vnd.deepnote.dataframe.v3+json": {
       "column_count": 9,
       "row_count": 1,
       "columns": [
        {
         "name": "id",
         "dtype": "int64",
         "stats": {
          "unique_count": 1,
          "nan_count": 0,
          "min": "2315",
          "max": "2315",
          "histogram": [
           {
            "bin_start": 2314.5,
            "bin_end": 2314.6,
            "count": 0
           },
           {
            "bin_start": 2314.6,
            "bin_end": 2314.7,
            "count": 0
           },
           {
            "bin_start": 2314.7,
            "bin_end": 2314.8,
            "count": 0
           },
           {
            "bin_start": 2314.8,
            "bin_end": 2314.9,
            "count": 0
           },
           {
            "bin_start": 2314.9,
            "bin_end": 2315,
            "count": 0
           },
           {
            "bin_start": 2315,
            "bin_end": 2315.1,
            "count": 1
           },
           {
            "bin_start": 2315.1,
            "bin_end": 2315.2,
            "count": 0
           },
           {
            "bin_start": 2315.2,
            "bin_end": 2315.3,
            "count": 0
           },
           {
            "bin_start": 2315.3,
            "bin_end": 2315.4,
            "count": 0
           },
           {
            "bin_start": 2315.4,
            "bin_end": 2315.5,
            "count": 0
           }
          ]
         }
        },
        {
         "name": "composer",
         "dtype": "object",
         "stats": {
          "unique_count": 1,
          "nan_count": 0,
          "categories": [
           {
            "name": "Beethoven",
            "count": 1
           }
          ]
         }
        },
        {
         "name": "composition",
         "dtype": "object",
         "stats": {
          "unique_count": 1,
          "nan_count": 0,
          "categories": [
           {
            "name": "String Quartet No 15 in A minor",
            "count": 1
           }
          ]
         }
        },
        {
         "name": "movement",
         "dtype": "object",
         "stats": {
          "unique_count": 1,
          "nan_count": 0,
          "categories": [
           {
            "name": "3. Molto Adagio; Andante",
            "count": 1
           }
          ]
         }
        },
        {
         "name": "ensemble",
         "dtype": "object",
         "stats": {
          "unique_count": 1,
          "nan_count": 0,
          "categories": [
           {
            "name": "String Quartet",
            "count": 1
           }
          ]
         }
        },
        {
         "name": "seconds",
         "dtype": "int64",
         "stats": {
          "unique_count": 1,
          "nan_count": 0,
          "min": "1069",
          "max": "1069",
          "histogram": [
           {
            "bin_start": 1068.5,
            "bin_end": 1068.6,
            "count": 0
           },
           {
            "bin_start": 1068.6,
            "bin_end": 1068.7,
            "count": 0
           },
           {
            "bin_start": 1068.7,
            "bin_end": 1068.8,
            "count": 0
           },
           {
            "bin_start": 1068.8,
            "bin_end": 1068.9,
            "count": 0
           },
           {
            "bin_start": 1068.9,
            "bin_end": 1069,
            "count": 0
           },
           {
            "bin_start": 1069,
            "bin_end": 1069.1,
            "count": 1
           },
           {
            "bin_start": 1069.1,
            "bin_end": 1069.2,
            "count": 0
           },
           {
            "bin_start": 1069.2,
            "bin_end": 1069.3,
            "count": 0
           },
           {
            "bin_start": 1069.3,
            "bin_end": 1069.4,
            "count": 0
           },
           {
            "bin_start": 1069.4,
            "bin_end": 1069.5,
            "count": 0
           }
          ]
         }
        },
        {
         "name": "key",
         "dtype": "object",
         "stats": {
          "unique_count": 1,
          "nan_count": 0,
          "categories": [
           {
            "name": "A minor",
            "count": 1
           }
          ]
         }
        },
        {
         "name": "tonic",
         "dtype": "object",
         "stats": {
          "unique_count": 1,
          "nan_count": 0,
          "categories": [
           {
            "name": "A",
            "count": 1
           }
          ]
         }
        },
        {
         "name": "tonic_encoded",
         "dtype": "int64",
         "stats": {
          "unique_count": 1,
          "nan_count": 0,
          "min": "9",
          "max": "9",
          "histogram": [
           {
            "bin_start": 8.5,
            "bin_end": 8.6,
            "count": 0
           },
           {
            "bin_start": 8.6,
            "bin_end": 8.7,
            "count": 0
           },
           {
            "bin_start": 8.7,
            "bin_end": 8.8,
            "count": 0
           },
           {
            "bin_start": 8.8,
            "bin_end": 8.9,
            "count": 0
           },
           {
            "bin_start": 8.9,
            "bin_end": 9,
            "count": 0
           },
           {
            "bin_start": 9,
            "bin_end": 9.1,
            "count": 1
           },
           {
            "bin_start": 9.1,
            "bin_end": 9.2,
            "count": 0
           },
           {
            "bin_start": 9.2,
            "bin_end": 9.3,
            "count": 0
           },
           {
            "bin_start": 9.3,
            "bin_end": 9.4,
            "count": 0
           },
           {
            "bin_start": 9.4,
            "bin_end": 9.5,
            "count": 0
           }
          ]
         }
        },
        {
         "name": "_deepnote_index_column",
         "dtype": "int64"
        }
       ],
       "rows": [
        {
         "id": 2315,
         "composer": "Beethoven",
         "composition": "String Quartet No 15 in A minor",
         "movement": "3. Molto Adagio; Andante",
         "ensemble": "String Quartet",
         "seconds": 1069,
         "key": "A minor",
         "tonic": "A",
         "tonic_encoded": 9,
         "_deepnote_index_column": 162
        }
       ]
      },
      "text/plain": "       id   composer                      composition  \\\n162  2315  Beethoven  String Quartet No 15 in A minor   \n\n                     movement        ensemble  seconds      key tonic  \\\n162  3. Molto Adagio; Andante  String Quartet     1069  A minor     A   \n\n     tonic_encoded  \n162              9  ",
      "text/html": "<div>\n<style scoped>\n    .dataframe tbody tr th:only-of-type {\n        vertical-align: middle;\n    }\n\n    .dataframe tbody tr th {\n        vertical-align: top;\n    }\n\n    .dataframe thead th {\n        text-align: right;\n    }\n</style>\n<table border=\"1\" class=\"dataframe\">\n  <thead>\n    <tr style=\"text-align: right;\">\n      <th></th>\n      <th>id</th>\n      <th>composer</th>\n      <th>composition</th>\n      <th>movement</th>\n      <th>ensemble</th>\n      <th>seconds</th>\n      <th>key</th>\n      <th>tonic</th>\n      <th>tonic_encoded</th>\n    </tr>\n  </thead>\n  <tbody>\n    <tr>\n      <th>162</th>\n      <td>2315</td>\n      <td>Beethoven</td>\n      <td>String Quartet No 15 in A minor</td>\n      <td>3. Molto Adagio; Andante</td>\n      <td>String Quartet</td>\n      <td>1069</td>\n      <td>A minor</td>\n      <td>A</td>\n      <td>9</td>\n    </tr>\n  </tbody>\n</table>\n</div>"
     },
     "metadata": {}
    }
   ]
  },
  {
   "cell_type": "markdown",
   "source": "#### Univariable analsysis\n\nWe start by plotting a histogram of the `seconds` column, which shows the duration of each piece.  \nThen, we will do some countings, to see which composers have more compositions in this dataset, most popular keys, and most popular ensembles.",
   "metadata": {
    "cell_id": "4bd3aebf-89ea-4ae0-9f9c-32d9c6ac32d5",
    "tags": [],
    "deepnote_cell_height": 110.78125,
    "deepnote_cell_type": "markdown"
   }
  },
  {
   "cell_type": "code",
   "metadata": {
    "cell_id": "c33ad41c-cf75-4926-9abf-89f634abd59c",
    "tags": [],
    "deepnote_to_be_reexecuted": false,
    "source_hash": "efe3897f",
    "execution_start": 1645186922541,
    "execution_millis": 474,
    "deepnote_output_heights": [
     21.1875,
     250
    ],
    "deepnote_cell_height": 417.1875,
    "deepnote_cell_type": "code"
   },
   "source": "# Histogram of durations\ndf_meta.seconds.hist(bins=40)",
   "execution_count": 12,
   "outputs": [
    {
     "output_type": "execute_result",
     "execution_count": 12,
     "data": {
      "text/plain": "<AxesSubplot:>"
     },
     "metadata": {}
    },
    {
     "data": {
      "text/plain": "<Figure size 432x288 with 1 Axes>",
      "image/png": "[encoded data removed]"
     },
     "metadata": {
      "needs_background": "light",
      "image/png": {
       "width": 378,
       "height": 248
      }
     },
     "output_type": "display_data"
    }
   ]
  },
  {
   "cell_type": "code",
   "metadata": {
    "cell_id": "54c62f59-c193-4ffa-9aa5-ec451027de4f",
    "tags": [],
    "deepnote_to_be_reexecuted": false,
    "source_hash": "f8d604db",
    "execution_start": 1645186923072,
    "execution_millis": 1,
    "deepnote_output_heights": [
     213.0625
    ],
    "deepnote_cell_height": 328.0625,
    "deepnote_cell_type": "code"
   },
   "source": "# Who are the composers and how many pieces they have in this dataset?\ndf_meta.composer.value_counts()",
   "execution_count": 13,
   "outputs": [
    {
     "output_type": "execute_result",
     "execution_count": 13,
     "data": {
      "text/plain": "Beethoven    157\nBach          55\nSchubert      30\nBrahms        24\nMozart        24\nCambini        9\nDvorak         8\nFaure          4\nRavel          4\nHaydn          3\nName: composer, dtype: int64"
     },
     "metadata": {}
    }
   ]
  },
  {
   "cell_type": "code",
   "metadata": {
    "cell_id": "cf067dac-9dee-418f-acb6-b3100fcb0300",
    "tags": [],
    "deepnote_to_be_reexecuted": false,
    "source_hash": "9efb9483",
    "execution_start": 1645186923074,
    "execution_millis": 313,
    "deepnote_output_heights": [
     null,
     21.1875,
     233
    ],
    "deepnote_cell_height": 702.25,
    "deepnote_cell_type": "code"
   },
   "source": "# What's the ratio of the number of compositions of each composer compared against the total?\nprint(df_meta.composer.value_counts(normalize=True)*100)\n\n# Pie chart showing these ratios\ndf_meta.composer.value_counts().plot(kind='pie')",
   "execution_count": 14,
   "outputs": [
    {
     "name": "stdout",
     "text": "Beethoven    49.371069\nBach         17.295597\nSchubert      9.433962\nBrahms        7.547170\nMozart        7.547170\nCambini       2.830189\nDvorak        2.515723\nFaure         1.257862\nRavel         1.257862\nHaydn         0.943396\nName: composer, dtype: float64\n",
     "output_type": "stream"
    },
    {
     "output_type": "execute_result",
     "execution_count": 14,
     "data": {
      "text/plain": "<AxesSubplot:ylabel='composer'>"
     },
     "metadata": {}
    },
    {
     "data": {
      "text/plain": "<Figure size 432x288 with 1 Axes>",
      "image/png": "[encoded data removed]"
     },
     "metadata": {
      "image/png": {
       "width": 265,
       "height": 231
      }
     },
     "output_type": "display_data"
    }
   ]
  },
  {
   "cell_type": "markdown",
   "source": "Lots of Beethoven comopositions in the dataset (almost a half). Bach also holds it's share.",
   "metadata": {
    "cell_id": "a9e33d70-b5bb-4ce3-9da9-429bde7260a4",
    "tags": [],
    "deepnote_cell_height": 52.390625,
    "deepnote_cell_type": "markdown"
   }
  },
  {
   "cell_type": "code",
   "metadata": {
    "cell_id": "203109f2-d42a-4ec3-bab5-624e76a5f669",
    "tags": [],
    "deepnote_to_be_reexecuted": false,
    "source_hash": "91935405",
    "execution_start": 1645186923392,
    "execution_millis": 38,
    "deepnote_output_heights": [
     520.0625
    ],
    "deepnote_cell_height": 635.0625,
    "deepnote_cell_type": "code"
   },
   "source": "# What are the most common keys?\ndf_meta.key.value_counts()",
   "execution_count": 15,
   "outputs": [
    {
     "output_type": "execute_result",
     "execution_count": 15,
     "data": {
      "text/plain": "E-flat major     42\nA major          30\nB-flat major     24\nG major          24\nC minor          21\nF major          19\nA minor          17\nD major          17\nG minor          16\nC major          16\nF minor          15\nD minor          13\nE major          12\nE minor          10\nA-flat major      9\nB minor           7\nC-sharp minor     7\nF                 4\nD-flat major      3\nF-sharp major     2\nF-sharp minor     2\nC-sharp major     2\nB major           2\nG-sharp minor     2\nB-flat minor      1\nE-flat minor      1\nName: key, dtype: int64"
     },
     "metadata": {}
    }
   ]
  },
  {
   "cell_type": "code",
   "metadata": {
    "cell_id": "d516818c-b843-4bb4-beeb-850fdf51b759",
    "tags": [],
    "deepnote_to_be_reexecuted": false,
    "source_hash": "d9e6aa51",
    "execution_start": 1645186923476,
    "execution_millis": 752,
    "deepnote_output_heights": [
     null,
     21.1875,
     312
    ],
    "deepnote_cell_height": 1104.25,
    "deepnote_cell_type": "code"
   },
   "source": "# Now the ratio for each key\nprint(df_meta.key.value_counts(normalize=True)*100)\n\n# Bar chart for keys\ndf_meta.key.value_counts().plot(kind='bar', figsize=(15,4))",
   "execution_count": 16,
   "outputs": [
    {
     "name": "stdout",
     "text": "E-flat major     13.207547\nA major           9.433962\nB-flat major      7.547170\nG major           7.547170\nC minor           6.603774\nF major           5.974843\nA minor           5.345912\nD major           5.345912\nG minor           5.031447\nC major           5.031447\nF minor           4.716981\nD minor           4.088050\nE major           3.773585\nE minor           3.144654\nA-flat major      2.830189\nB minor           2.201258\nC-sharp minor     2.201258\nF                 1.257862\nD-flat major      0.943396\nF-sharp major     0.628931\nF-sharp minor     0.628931\nC-sharp major     0.628931\nB major           0.628931\nG-sharp minor     0.628931\nB-flat minor      0.314465\nE-flat minor      0.314465\nName: key, dtype: float64\n",
     "output_type": "stream"
    },
    {
     "output_type": "execute_result",
     "execution_count": 16,
     "data": {
      "text/plain": "<AxesSubplot:>"
     },
     "metadata": {}
    },
    {
     "data": {
      "text/plain": "<Figure size 1080x288 with 1 Axes>",
      "image/png": "[encoded data removed]"
     },
     "metadata": {
      "needs_background": "light",
      "image/png": {
       "width": 871,
       "height": 310
      }
     },
     "output_type": "display_data"
    }
   ]
  },
  {
   "cell_type": "markdown",
   "source": "E-flat major seems to be a pretty popular key. I wonder why is this.",
   "metadata": {
    "cell_id": "02b0ed98-39aa-4ead-90fb-5547d301793d",
    "tags": [],
    "deepnote_cell_height": 52.390625,
    "deepnote_cell_type": "markdown"
   }
  },
  {
   "cell_type": "code",
   "metadata": {
    "cell_id": "93f80c1c-204d-4c5a-a828-ed33744f7867",
    "tags": [],
    "deepnote_to_be_reexecuted": false,
    "source_hash": "db377ca1",
    "execution_start": 1645186924249,
    "execution_millis": 33,
    "deepnote_output_heights": [
     404.9375
    ],
    "deepnote_cell_height": 519.9375,
    "deepnote_cell_type": "code"
   },
   "source": "# What are the most common ensembles?\ndf_meta.ensemble.value_counts()",
   "execution_count": 17,
   "outputs": [
    {
     "output_type": "execute_result",
     "execution_count": 17,
     "data": {
      "text/plain": "Solo Piano                     156\nString Quartet                  57\nAccompanied Violin              22\nSolo Violin                      9\nWind Quintet                     9\nPiano Quartet                    8\nAccompanied Cello                7\nPiano Trio                       7\nPairs Clarinet-Horn-Bassoon      6\nString Sextet                    5\nAccompanied Clarinet             4\nPiano Quintet                    4\nWind Octet                       4\nHorn Piano Trio                  4\nViolin and Harpsichord           4\nClarinet-Cello-Piano Trio        3\nClarinet Quintet                 3\nSolo Flute                       3\nWind and Strings Octet           2\nViola Quintet                    1\nName: ensemble, dtype: int64"
     },
     "metadata": {}
    }
   ]
  },
  {
   "cell_type": "code",
   "metadata": {
    "cell_id": "979a281b-b35b-49e2-a1e7-27dd7f81ac34",
    "tags": [],
    "deepnote_to_be_reexecuted": false,
    "source_hash": "151b44a3",
    "execution_start": 1645186924345,
    "execution_millis": 308,
    "deepnote_output_heights": [
     null,
     21.1875,
     233
    ],
    "deepnote_cell_height": 729.5,
    "deepnote_cell_type": "code"
   },
   "source": "# Now the ratio for each ensemble (showing only top 6 ensembles)\nprint(df_meta.ensemble.value_counts(normalize = True).head(6)*100)\n\n\n# Pie chart showing these ratios\n\ns=df_meta.ensemble.value_counts() # Series with the count for each category\n\n# Using the combination of groupby() (with np.where for condition) and sum() to create the category 'Others'\ns.groupby(np.where(s>=8,s.index,'Other')).sum().plot(kind='pie',startangle=-60)\n",
   "execution_count": 18,
   "outputs": [
    {
     "name": "stdout",
     "text": "Solo Piano            49.056604\nString Quartet        17.924528\nAccompanied Violin     6.918239\nSolo Violin            2.830189\nWind Quintet           2.830189\nPiano Quartet          2.515723\nName: ensemble, dtype: float64\n",
     "output_type": "stream"
    },
    {
     "output_type": "execute_result",
     "execution_count": 18,
     "data": {
      "text/plain": "<AxesSubplot:ylabel='ensemble'>"
     },
     "metadata": {}
    },
    {
     "data": {
      "text/plain": "<Figure size 432x288 with 1 Axes>",
      "image/png": "[encoded data removed]"
     },
     "metadata": {
      "image/png": {
       "width": 302,
       "height": 231
      }
     },
     "output_type": "display_data"
    }
   ]
  },
  {
   "cell_type": "markdown",
   "source": "Once again one category has almost half of the dataset. In this case, Solo Piano compositions. This might be related to the fact that almost a half of the composition are Beethoven's.",
   "metadata": {
    "cell_id": "a132b132-ac93-44a3-8a80-2d4d08dc8b50",
    "tags": [],
    "deepnote_cell_height": 52.390625,
    "deepnote_cell_type": "markdown"
   }
  },
  {
   "cell_type": "markdown",
   "source": "#### Multivariable analsysis\n",
   "metadata": {
    "cell_id": "6632dc17-4de9-4a68-9ec7-1e996f115cfa",
    "tags": [],
    "deepnote_cell_height": 55,
    "deepnote_cell_type": "markdown"
   }
  },
  {
   "cell_type": "markdown",
   "source": "The only numeric variable of interest we have is the duration of the composition in the column `seconds`, so we will analyze it by categorical variables such as `composer`, `ensemble`, and `key`.  \nWe will also look for patterns between these categorical variables.\n",
   "metadata": {
    "cell_id": "63e5c96e-2610-4ca9-80da-c876cf9f58d1",
    "tags": [],
    "deepnote_cell_height": 74.78125,
    "deepnote_cell_type": "markdown"
   }
  },
  {
   "cell_type": "code",
   "metadata": {
    "cell_id": "ad8992a1-b1e1-4bbb-968d-0651534473e4",
    "tags": [],
    "deepnote_to_be_reexecuted": false,
    "source_hash": "ae1a926c",
    "execution_start": 1645186924708,
    "execution_millis": 3,
    "deepnote_output_heights": [
     232.25
    ],
    "deepnote_cell_height": 347.25,
    "deepnote_cell_type": "code"
   },
   "source": "# Mean of duration by composer\ndf_meta.groupby(['composer'])['seconds'].mean().sort_values(ascending=False)",
   "execution_count": 19,
   "outputs": [
    {
     "output_type": "execute_result",
     "execution_count": 19,
     "data": {
      "text/plain": "composer\nSchubert     506.266667\nFaure        490.750000\nBrahms       480.458333\nDvorak       417.875000\nBeethoven    414.961783\nRavel        410.750000\nMozart       391.083333\nHaydn        296.000000\nCambini      286.333333\nBach         146.836364\nName: seconds, dtype: float64"
     },
     "metadata": {}
    }
   ]
  },
  {
   "cell_type": "markdown",
   "source": "Catches my attention how short are Bach's compositions (average of 147 seconds), being the second most prolific composer within this dataset.",
   "metadata": {
    "cell_id": "b547c817-65b5-485d-be4a-17d9a7c4add0",
    "tags": [],
    "deepnote_cell_height": 52.390625,
    "deepnote_cell_type": "markdown"
   }
  },
  {
   "cell_type": "code",
   "metadata": {
    "cell_id": "4784e3fb-db10-44f2-8687-2ffa8cf23a29",
    "tags": [],
    "deepnote_to_be_reexecuted": false,
    "source_hash": "2dbab309",
    "execution_start": 1645186924709,
    "execution_millis": 467,
    "deepnote_output_heights": [
     424.125
    ],
    "deepnote_cell_height": 539.125,
    "deepnote_cell_type": "code"
   },
   "source": "# Mean of duration by ensemble\ndf_meta.groupby(['ensemble'])['seconds'].mean().sort_values(ascending=False)",
   "execution_count": 20,
   "outputs": [
    {
     "output_type": "execute_result",
     "execution_count": 20,
     "data": {
      "text/plain": "ensemble\nViola Quintet                  924.000000\nString Sextet                  570.800000\nPiano Quartet                  549.125000\nAccompanied Cello              536.142857\nClarinet Quintet               515.333333\nClarinet-Cello-Piano Trio      494.333333\nHorn Piano Trio                447.750000\nString Quartet                 426.333333\nAccompanied Violin             402.863636\nWind and Strings Octet         396.000000\nPiano Trio                     390.285714\nPiano Quintet                  377.500000\nSolo Piano                     352.807692\nWind Octet                     338.250000\nAccompanied Clarinet           300.500000\nWind Quintet                   286.333333\nViolin and Harpsichord         239.250000\nPairs Clarinet-Horn-Bassoon    237.833333\nSolo Violin                    197.666667\nSolo Flute                     156.333333\nName: seconds, dtype: float64"
     },
     "metadata": {}
    }
   ]
  },
  {
   "cell_type": "code",
   "metadata": {
    "cell_id": "ffaa756b-ac5d-469f-9994-6dfa79f7a5a6",
    "tags": [],
    "deepnote_to_be_reexecuted": false,
    "source_hash": "9233b0a7",
    "execution_start": 1645186924754,
    "execution_millis": 0,
    "deepnote_output_heights": [
     251.4375
    ],
    "deepnote_cell_height": 171,
    "deepnote_cell_type": "code"
   },
   "source": "# Creating series grouped by composer and ansemble, showing mean duration of compositions\ns_ce_duration = df_meta.groupby(['composer', 'ensemble'])['seconds'].mean().round(1)\n\n# Creating series with number of compositions with the same grouping\ns_ce_count = df_meta.groupby(['composer', 'ensemble']).size().rename(\"counts\")\n",
   "execution_count": 21,
   "outputs": []
  },
  {
   "cell_type": "code",
   "metadata": {
    "cell_id": "c769698c-c6c9-4f3c-9cac-7e4cf0d3feb4",
    "tags": [],
    "deepnote_to_be_reexecuted": false,
    "source_hash": "121cb149",
    "execution_start": 1645186924797,
    "execution_millis": 72,
    "deepnote_cell_height": 670,
    "deepnote_cell_type": "code"
   },
   "source": "# Joining both series to create a dataframe, sorted by counts and mean duration\ndf_ce = pd.concat([s_ce_duration, s_ce_count], join='inner', axis=1).sort_values([\"seconds\",\"counts\"],ascending=[False, True]).reset_index()\n\n# Top 10\ndf_ce.head(10)",
   "execution_count": 22,
   "outputs": [
    {
     "output_type": "execute_result",
     "execution_count": 22,
     "data": {
      "application/vnd.deepnote.dataframe.v3+json": {
       "column_count": 4,
       "row_count": 10,
       "columns": [
        {
         "name": "composer",
         "dtype": "object",
         "stats": {
          "unique_count": 5,
          "nan_count": 0,
          "categories": [
           {
            "name": "Schubert",
            "count": 3
           },
           {
            "name": "Brahms",
            "count": 3
           },
           {
            "name": "3 others",
            "count": 4
           }
          ]
         }
        },
        {
         "name": "ensemble",
         "dtype": "object",
         "stats": {
          "unique_count": 8,
          "nan_count": 0,
          "categories": [
           {
            "name": "Piano Quartet",
            "count": 2
           },
           {
            "name": "Accompanied Cello",
            "count": 2
           },
           {
            "name": "6 others",
            "count": 6
           }
          ]
         }
        },
        {
         "name": "seconds",
         "dtype": "float64",
         "stats": {
          "unique_count": 10,
          "nan_count": 0,
          "min": "490.0",
          "max": "924.0",
          "histogram": [
           {
            "bin_start": 490,
            "bin_end": 533.4,
            "count": 6
           },
           {
            "bin_start": 533.4,
            "bin_end": 576.8,
            "count": 2
           },
           {
            "bin_start": 576.8,
            "bin_end": 620.2,
            "count": 1
           },
           {
            "bin_start": 620.2,
            "bin_end": 663.6,
            "count": 0
           },
           {
            "bin_start": 663.6,
            "bin_end": 707,
            "count": 0
           },
           {
            "bin_start": 707,
            "bin_end": 750.4,
            "count": 0
           },
           {
            "bin_start": 750.4,
            "bin_end": 793.8,
            "count": 0
           },
           {
            "bin_start": 793.8,
            "bin_end": 837.2,
            "count": 0
           },
           {
            "bin_start": 837.2,
            "bin_end": 880.5999999999999,
            "count": 0
           },
           {
            "bin_start": 880.5999999999999,
            "bin_end": 924,
            "count": 1
           }
          ]
         }
        },
        {
         "name": "counts",
         "dtype": "int64",
         "stats": {
          "unique_count": 5,
          "nan_count": 0,
          "min": "1",
          "max": "24",
          "histogram": [
           {
            "bin_start": 1,
            "bin_end": 3.3,
            "count": 5
           },
           {
            "bin_start": 3.3,
            "bin_end": 5.6,
            "count": 4
           },
           {
            "bin_start": 5.6,
            "bin_end": 7.8999999999999995,
            "count": 0
           },
           {
            "bin_start": 7.8999999999999995,
            "bin_end": 10.2,
            "count": 0
           },
           {
            "bin_start": 10.2,
            "bin_end": 12.5,
            "count": 0
           },
           {
            "bin_start": 12.5,
            "bin_end": 14.799999999999999,
            "count": 0
           },
           {
            "bin_start": 14.799999999999999,
            "bin_end": 17.099999999999998,
            "count": 0
           },
           {
            "bin_start": 17.099999999999998,
            "bin_end": 19.4,
            "count": 0
           },
           {
            "bin_start": 19.4,
            "bin_end": 21.7,
            "count": 0
           },
           {
            "bin_start": 21.7,
            "bin_end": 24,
            "count": 1
           }
          ]
         }
        },
        {
         "name": "_deepnote_index_column",
         "dtype": "int64"
        }
       ],
       "rows": [
        {
         "composer": "Schubert",
         "ensemble": "Viola Quintet",
         "seconds": 924,
         "counts": 1,
         "_deepnote_index_column": 0
        },
        {
         "composer": "Brahms",
         "ensemble": "Piano Quartet",
         "seconds": 607.5,
         "counts": 4,
         "_deepnote_index_column": 1
        },
        {
         "composer": "Brahms",
         "ensemble": "String Sextet",
         "seconds": 570.8,
         "counts": 5,
         "_deepnote_index_column": 2
        },
        {
         "composer": "Brahms",
         "ensemble": "Accompanied Cello",
         "seconds": 550.7,
         "counts": 3,
         "_deepnote_index_column": 3
        },
        {
         "composer": "Beethoven",
         "ensemble": "Accompanied Cello",
         "seconds": 525.2,
         "counts": 4,
         "_deepnote_index_column": 4
        },
        {
         "composer": "Mozart",
         "ensemble": "Clarinet Quintet",
         "seconds": 515.3,
         "counts": 3,
         "_deepnote_index_column": 5
        },
        {
         "composer": "Schubert",
         "ensemble": "Solo Piano",
         "seconds": 511,
         "counts": 24,
         "_deepnote_index_column": 6
        },
        {
         "composer": "Beethoven",
         "ensemble": "Clarinet-Cello-Piano Trio",
         "seconds": 494.3,
         "counts": 3,
         "_deepnote_index_column": 7
        },
        {
         "composer": "Faure",
         "ensemble": "Piano Quartet",
         "seconds": 490.8,
         "counts": 4,
         "_deepnote_index_column": 8
        },
        {
         "composer": "Schubert",
         "ensemble": "Piano Trio",
         "seconds": 490,
         "counts": 1,
         "_deepnote_index_column": 9
        }
       ]
      },
      "text/plain": "    composer                   ensemble  seconds  counts\n0   Schubert              Viola Quintet    924.0       1\n1     Brahms              Piano Quartet    607.5       4\n2     Brahms              String Sextet    570.8       5\n3     Brahms          Accompanied Cello    550.7       3\n4  Beethoven          Accompanied Cello    525.2       4\n5     Mozart           Clarinet Quintet    515.3       3\n6   Schubert                 Solo Piano    511.0      24\n7  Beethoven  Clarinet-Cello-Piano Trio    494.3       3\n8      Faure              Piano Quartet    490.8       4\n9   Schubert                 Piano Trio    490.0       1",
      "text/html": "<div>\n<style scoped>\n    .dataframe tbody tr th:only-of-type {\n        vertical-align: middle;\n    }\n\n    .dataframe tbody tr th {\n        vertical-align: top;\n    }\n\n    .dataframe thead th {\n        text-align: right;\n    }\n</style>\n<table border=\"1\" class=\"dataframe\">\n  <thead>\n    <tr style=\"text-align: right;\">\n      <th></th>\n      <th>composer</th>\n      <th>ensemble</th>\n      <th>seconds</th>\n      <th>counts</th>\n    </tr>\n  </thead>\n  <tbody>\n    <tr>\n      <th>0</th>\n      <td>Schubert</td>\n      <td>Viola Quintet</td>\n      <td>924.0</td>\n      <td>1</td>\n    </tr>\n    <tr>\n      <th>1</th>\n      <td>Brahms</td>\n      <td>Piano Quartet</td>\n      <td>607.5</td>\n      <td>4</td>\n    </tr>\n    <tr>\n      <th>2</th>\n      <td>Brahms</td>\n      <td>String Sextet</td>\n      <td>570.8</td>\n      <td>5</td>\n    </tr>\n    <tr>\n      <th>3</th>\n      <td>Brahms</td>\n      <td>Accompanied Cello</td>\n      <td>550.7</td>\n      <td>3</td>\n    </tr>\n    <tr>\n      <th>4</th>\n      <td>Beethoven</td>\n      <td>Accompanied Cello</td>\n      <td>525.2</td>\n      <td>4</td>\n    </tr>\n    <tr>\n      <th>5</th>\n      <td>Mozart</td>\n      <td>Clarinet Quintet</td>\n      <td>515.3</td>\n      <td>3</td>\n    </tr>\n    <tr>\n      <th>6</th>\n      <td>Schubert</td>\n      <td>Solo Piano</td>\n      <td>511.0</td>\n      <td>24</td>\n    </tr>\n    <tr>\n      <th>7</th>\n      <td>Beethoven</td>\n      <td>Clarinet-Cello-Piano Trio</td>\n      <td>494.3</td>\n      <td>3</td>\n    </tr>\n    <tr>\n      <th>8</th>\n      <td>Faure</td>\n      <td>Piano Quartet</td>\n      <td>490.8</td>\n      <td>4</td>\n    </tr>\n    <tr>\n      <th>9</th>\n      <td>Schubert</td>\n      <td>Piano Trio</td>\n      <td>490.0</td>\n      <td>1</td>\n    </tr>\n  </tbody>\n</table>\n</div>"
     },
     "metadata": {}
    }
   ]
  },
  {
   "cell_type": "code",
   "metadata": {
    "cell_id": "7e93727e-5ca5-457a-9774-d53900202ba1",
    "tags": [],
    "deepnote_to_be_reexecuted": false,
    "source_hash": "33921f57",
    "execution_start": 1645186924873,
    "execution_millis": 329,
    "deepnote_cell_height": 616,
    "deepnote_cell_type": "code"
   },
   "source": "# Bottom 10\ndf_ce.tail(10)",
   "execution_count": 23,
   "outputs": [
    {
     "output_type": "execute_result",
     "execution_count": 23,
     "data": {
      "application/vnd.deepnote.dataframe.v3+json": {
       "column_count": 4,
       "row_count": 10,
       "columns": [
        {
         "name": "composer",
         "dtype": "object",
         "stats": {
          "unique_count": 6,
          "nan_count": 0,
          "categories": [
           {
            "name": "Bach",
            "count": 4
           },
           {
            "name": "Beethoven",
            "count": 2
           },
           {
            "name": "4 others",
            "count": 4
           }
          ]
         }
        },
        {
         "name": "ensemble",
         "dtype": "object",
         "stats": {
          "unique_count": 9,
          "nan_count": 0,
          "categories": [
           {
            "name": "Pairs Clarinet-Horn-Bassoon",
            "count": 2
           },
           {
            "name": "Wind Octet",
            "count": 1
           },
           {
            "name": "7 others",
            "count": 7
           }
          ]
         }
        },
        {
         "name": "seconds",
         "dtype": "float64",
         "stats": {
          "unique_count": 9,
          "nan_count": 0,
          "min": "124.9",
          "max": "338.2",
          "histogram": [
           {
            "bin_start": 124.9,
            "bin_end": 146.23000000000002,
            "count": 1
           },
           {
            "bin_start": 146.23000000000002,
            "bin_end": 167.56,
            "count": 1
           },
           {
            "bin_start": 167.56,
            "bin_end": 188.89,
            "count": 0
           },
           {
            "bin_start": 188.89,
            "bin_end": 210.22,
            "count": 2
           },
           {
            "bin_start": 210.22,
            "bin_end": 231.55,
            "count": 0
           },
           {
            "bin_start": 231.55,
            "bin_end": 252.88,
            "count": 1
           },
           {
            "bin_start": 252.88,
            "bin_end": 274.21000000000004,
            "count": 0
           },
           {
            "bin_start": 274.21000000000004,
            "bin_end": 295.53999999999996,
            "count": 2
           },
           {
            "bin_start": 295.53999999999996,
            "bin_end": 316.87,
            "count": 2
           },
           {
            "bin_start": 316.87,
            "bin_end": 338.2,
            "count": 1
           }
          ]
         }
        },
        {
         "name": "counts",
         "dtype": "int64",
         "stats": {
          "unique_count": 4,
          "nan_count": 0,
          "min": "3",
          "max": "39",
          "histogram": [
           {
            "bin_start": 3,
            "bin_end": 6.6,
            "count": 7
           },
           {
            "bin_start": 6.6,
            "bin_end": 10.2,
            "count": 2
           },
           {
            "bin_start": 10.2,
            "bin_end": 13.8,
            "count": 0
           },
           {
            "bin_start": 13.8,
            "bin_end": 17.4,
            "count": 0
           },
           {
            "bin_start": 17.4,
            "bin_end": 21,
            "count": 0
           },
           {
            "bin_start": 21,
            "bin_end": 24.6,
            "count": 0
           },
           {
            "bin_start": 24.6,
            "bin_end": 28.2,
            "count": 0
           },
           {
            "bin_start": 28.2,
            "bin_end": 31.8,
            "count": 0
           },
           {
            "bin_start": 31.8,
            "bin_end": 35.4,
            "count": 0
           },
           {
            "bin_start": 35.4,
            "bin_end": 39,
            "count": 1
           }
          ]
         }
        },
        {
         "name": "_deepnote_index_column",
         "dtype": "int64"
        }
       ],
       "rows": [
        {
         "composer": "Beethoven",
         "ensemble": "Wind Octet",
         "seconds": 338.2,
         "counts": 4,
         "_deepnote_index_column": 21
        },
        {
         "composer": "Brahms",
         "ensemble": "Accompanied Clarinet",
         "seconds": 300.5,
         "counts": 4,
         "_deepnote_index_column": 22
        },
        {
         "composer": "Haydn",
         "ensemble": "String Quartet",
         "seconds": 296,
         "counts": 3,
         "_deepnote_index_column": 23
        },
        {
         "composer": "Cambini",
         "ensemble": "Wind Quintet",
         "seconds": 286.3,
         "counts": 9,
         "_deepnote_index_column": 24
        },
        {
         "composer": "Mozart",
         "ensemble": "Pairs Clarinet-Horn-Bassoon",
         "seconds": 278,
         "counts": 3,
         "_deepnote_index_column": 25
        },
        {
         "composer": "Bach",
         "ensemble": "Violin and Harpsichord",
         "seconds": 239.2,
         "counts": 4,
         "_deepnote_index_column": 26
        },
        {
         "composer": "Beethoven",
         "ensemble": "Pairs Clarinet-Horn-Bassoon",
         "seconds": 197.7,
         "counts": 3,
         "_deepnote_index_column": 27
        },
        {
         "composer": "Bach",
         "ensemble": "Solo Violin",
         "seconds": 197.7,
         "counts": 9,
         "_deepnote_index_column": 28
        },
        {
         "composer": "Bach",
         "ensemble": "Solo Flute",
         "seconds": 156.3,
         "counts": 3,
         "_deepnote_index_column": 29
        },
        {
         "composer": "Bach",
         "ensemble": "Solo Piano",
         "seconds": 124.9,
         "counts": 39,
         "_deepnote_index_column": 30
        }
       ]
      },
      "text/plain": "     composer                     ensemble  seconds  counts\n21  Beethoven                   Wind Octet    338.2       4\n22     Brahms         Accompanied Clarinet    300.5       4\n23      Haydn               String Quartet    296.0       3\n24    Cambini                 Wind Quintet    286.3       9\n25     Mozart  Pairs Clarinet-Horn-Bassoon    278.0       3\n26       Bach       Violin and Harpsichord    239.2       4\n27  Beethoven  Pairs Clarinet-Horn-Bassoon    197.7       3\n28       Bach                  Solo Violin    197.7       9\n29       Bach                   Solo Flute    156.3       3\n30       Bach                   Solo Piano    124.9      39",
      "text/html": "<div>\n<style scoped>\n    .dataframe tbody tr th:only-of-type {\n        vertical-align: middle;\n    }\n\n    .dataframe tbody tr th {\n        vertical-align: top;\n    }\n\n    .dataframe thead th {\n        text-align: right;\n    }\n</style>\n<table border=\"1\" class=\"dataframe\">\n  <thead>\n    <tr style=\"text-align: right;\">\n      <th></th>\n      <th>composer</th>\n      <th>ensemble</th>\n      <th>seconds</th>\n      <th>counts</th>\n    </tr>\n  </thead>\n  <tbody>\n    <tr>\n      <th>21</th>\n      <td>Beethoven</td>\n      <td>Wind Octet</td>\n      <td>338.2</td>\n      <td>4</td>\n    </tr>\n    <tr>\n      <th>22</th>\n      <td>Brahms</td>\n      <td>Accompanied Clarinet</td>\n      <td>300.5</td>\n      <td>4</td>\n    </tr>\n    <tr>\n      <th>23</th>\n      <td>Haydn</td>\n      <td>String Quartet</td>\n      <td>296.0</td>\n      <td>3</td>\n    </tr>\n    <tr>\n      <th>24</th>\n      <td>Cambini</td>\n      <td>Wind Quintet</td>\n      <td>286.3</td>\n      <td>9</td>\n    </tr>\n    <tr>\n      <th>25</th>\n      <td>Mozart</td>\n      <td>Pairs Clarinet-Horn-Bassoon</td>\n      <td>278.0</td>\n      <td>3</td>\n    </tr>\n    <tr>\n      <th>26</th>\n      <td>Bach</td>\n      <td>Violin and Harpsichord</td>\n      <td>239.2</td>\n      <td>4</td>\n    </tr>\n    <tr>\n      <th>27</th>\n      <td>Beethoven</td>\n      <td>Pairs Clarinet-Horn-Bassoon</td>\n      <td>197.7</td>\n      <td>3</td>\n    </tr>\n    <tr>\n      <th>28</th>\n      <td>Bach</td>\n      <td>Solo Violin</td>\n      <td>197.7</td>\n      <td>9</td>\n    </tr>\n    <tr>\n      <th>29</th>\n      <td>Bach</td>\n      <td>Solo Flute</td>\n      <td>156.3</td>\n      <td>3</td>\n    </tr>\n    <tr>\n      <th>30</th>\n      <td>Bach</td>\n      <td>Solo Piano</td>\n      <td>124.9</td>\n      <td>39</td>\n    </tr>\n  </tbody>\n</table>\n</div>"
     },
     "metadata": {}
    }
   ]
  },
  {
   "cell_type": "markdown",
   "source": "The combionation of composer and ensemble with the longest mean duration is Schubert with a Viola Quintet. Although, there's only one composition that fits this, so it doesn't say much. It's followed by Brahms with different ensembles.    \nAt the other end, we have Bach. Shortest mean duration with different ensembles: Solo Violin, Solo Flute, Solo Piano. Pretty solo guy.",
   "metadata": {
    "cell_id": "0bfbbf09-2d17-44f7-91ae-adfb2d4a820f",
    "tags": [],
    "deepnote_cell_height": 97.171875,
    "deepnote_cell_type": "markdown"
   }
  },
  {
   "cell_type": "code",
   "metadata": {
    "cell_id": "40835b0d-db4b-4c29-be5c-f6b811fe8d5e",
    "tags": [],
    "deepnote_to_be_reexecuted": false,
    "source_hash": "3ffbc036",
    "execution_start": 1645186924926,
    "execution_millis": 277,
    "deepnote_output_heights": [
     117.125
    ],
    "deepnote_cell_height": 319,
    "deepnote_cell_type": "code"
   },
   "source": "# Only Bach's ensembles\ndf_ce[df_ce['composer']=='Bach'][['composer','ensemble']]",
   "execution_count": 24,
   "outputs": [
    {
     "output_type": "execute_result",
     "execution_count": 24,
     "data": {
      "application/vnd.deepnote.dataframe.v3+json": {
       "column_count": 2,
       "row_count": 4,
       "columns": [
        {
         "name": "composer",
         "dtype": "object",
         "stats": {
          "unique_count": 1,
          "nan_count": 0,
          "categories": [
           {
            "name": "Bach",
            "count": 4
           }
          ]
         }
        },
        {
         "name": "ensemble",
         "dtype": "object",
         "stats": {
          "unique_count": 4,
          "nan_count": 0,
          "categories": [
           {
            "name": "Violin and Harpsichord",
            "count": 1
           },
           {
            "name": "Solo Violin",
            "count": 1
           },
           {
            "name": "2 others",
            "count": 2
           }
          ]
         }
        },
        {
         "name": "_deepnote_index_column",
         "dtype": "int64"
        }
       ],
       "rows": [
        {
         "composer": "Bach",
         "ensemble": "Violin and Harpsichord",
         "_deepnote_index_column": 26
        },
        {
         "composer": "Bach",
         "ensemble": "Solo Violin",
         "_deepnote_index_column": 28
        },
        {
         "composer": "Bach",
         "ensemble": "Solo Flute",
         "_deepnote_index_column": 29
        },
        {
         "composer": "Bach",
         "ensemble": "Solo Piano",
         "_deepnote_index_column": 30
        }
       ]
      },
      "text/plain": "   composer                ensemble\n26     Bach  Violin and Harpsichord\n28     Bach             Solo Violin\n29     Bach              Solo Flute\n30     Bach              Solo Piano",
      "text/html": "<div>\n<style scoped>\n    .dataframe tbody tr th:only-of-type {\n        vertical-align: middle;\n    }\n\n    .dataframe tbody tr th {\n        vertical-align: top;\n    }\n\n    .dataframe thead th {\n        text-align: right;\n    }\n</style>\n<table border=\"1\" class=\"dataframe\">\n  <thead>\n    <tr style=\"text-align: right;\">\n      <th></th>\n      <th>composer</th>\n      <th>ensemble</th>\n    </tr>\n  </thead>\n  <tbody>\n    <tr>\n      <th>26</th>\n      <td>Bach</td>\n      <td>Violin and Harpsichord</td>\n    </tr>\n    <tr>\n      <th>28</th>\n      <td>Bach</td>\n      <td>Solo Violin</td>\n    </tr>\n    <tr>\n      <th>29</th>\n      <td>Bach</td>\n      <td>Solo Flute</td>\n    </tr>\n    <tr>\n      <th>30</th>\n      <td>Bach</td>\n      <td>Solo Piano</td>\n    </tr>\n  </tbody>\n</table>\n</div>"
     },
     "metadata": {}
    }
   ]
  },
  {
   "cell_type": "markdown",
   "source": "Pretty solo guy, indeed.  \nWe will analyze the dataset by composer soon.  \n\nFirst, let's see if there are popular combinations of ensembles and keys.",
   "metadata": {
    "cell_id": "a19eed0c-1d12-4ea1-8e71-df034b6bd6bb",
    "tags": [],
    "deepnote_cell_height": 111.171875,
    "deepnote_cell_type": "markdown"
   }
  },
  {
   "cell_type": "code",
   "metadata": {
    "cell_id": "1a133728-8d23-4c0c-ab8a-d072395a300a",
    "tags": [],
    "deepnote_to_be_reexecuted": false,
    "source_hash": "a5195dd9",
    "execution_start": 1645186924952,
    "execution_millis": 7,
    "deepnote_table_state": {
     "pageSize": 10,
     "pageIndex": 0,
     "filters": [],
     "sortBy": []
    },
    "deepnote_table_loading": false,
    "deepnote_cell_height": 99,
    "deepnote_cell_type": "code"
   },
   "source": "# Grouping by ensemble and key, and counting the compositions\ndf_composer_key = df_meta.groupby(['ensemble', 'key']).size().reset_index(name='counts')",
   "execution_count": 25,
   "outputs": []
  },
  {
   "cell_type": "code",
   "metadata": {
    "cell_id": "cb7b5f7a-4484-4143-a882-91c56804a1a1",
    "tags": [],
    "deepnote_to_be_reexecuted": false,
    "source_hash": "e52e4a2",
    "execution_start": 1645186924996,
    "execution_millis": 212,
    "deepnote_table_state": {
     "pageSize": 10,
     "pageIndex": 0,
     "filters": [],
     "sortBy": []
    },
    "deepnote_table_loading": false,
    "deepnote_output_heights": [
     21.1875,
     269
    ],
    "deepnote_cell_height": 616,
    "deepnote_cell_type": "code"
   },
   "source": "# Top 20 combinations of ensemble and key\ndf_composer_key.sort_values('counts',ascending=False).reset_index(drop=True).iloc[0:20]",
   "execution_count": 26,
   "outputs": [
    {
     "output_type": "execute_result",
     "execution_count": 26,
     "data": {
      "application/vnd.deepnote.dataframe.v3+json": {
       "column_count": 3,
       "row_count": 20,
       "columns": [
        {
         "name": "ensemble",
         "dtype": "object",
         "stats": {
          "unique_count": 5,
          "nan_count": 0,
          "categories": [
           {
            "name": "Solo Piano",
            "count": 14
           },
           {
            "name": "String Quartet",
            "count": 3
           },
           {
            "name": "3 others",
            "count": 3
           }
          ]
         }
        },
        {
         "name": "key",
         "dtype": "object",
         "stats": {
          "unique_count": 15,
          "nan_count": 0,
          "categories": [
           {
            "name": "E-flat major",
            "count": 3
           },
           {
            "name": "F major",
            "count": 2
           },
           {
            "name": "13 others",
            "count": 15
           }
          ]
         }
        },
        {
         "name": "counts",
         "dtype": "int64",
         "stats": {
          "unique_count": 8,
          "nan_count": 0,
          "min": "6",
          "max": "15",
          "histogram": [
           {
            "bin_start": 6,
            "bin_end": 6.9,
            "count": 3
           },
           {
            "bin_start": 6.9,
            "bin_end": 7.8,
            "count": 1
           },
           {
            "bin_start": 7.8,
            "bin_end": 8.7,
            "count": 7
           },
           {
            "bin_start": 8.7,
            "bin_end": 9.6,
            "count": 4
           },
           {
            "bin_start": 9.6,
            "bin_end": 10.5,
            "count": 1
           },
           {
            "bin_start": 10.5,
            "bin_end": 11.4,
            "count": 1
           },
           {
            "bin_start": 11.4,
            "bin_end": 12.3,
            "count": 1
           },
           {
            "bin_start": 12.3,
            "bin_end": 13.2,
            "count": 0
           },
           {
            "bin_start": 13.2,
            "bin_end": 14.1,
            "count": 0
           },
           {
            "bin_start": 14.1,
            "bin_end": 15,
            "count": 2
           }
          ]
         }
        },
        {
         "name": "_deepnote_index_column",
         "dtype": "int64"
        }
       ],
       "rows": [
        {
         "ensemble": "Solo Piano",
         "key": "C minor",
         "counts": 15,
         "_deepnote_index_column": 0
        },
        {
         "ensemble": "Solo Piano",
         "key": "E-flat major",
         "counts": 15,
         "_deepnote_index_column": 1
        },
        {
         "ensemble": "Solo Piano",
         "key": "A major",
         "counts": 12,
         "_deepnote_index_column": 2
        },
        {
         "ensemble": "Solo Piano",
         "key": "D major",
         "counts": 11,
         "_deepnote_index_column": 3
        },
        {
         "ensemble": "String Quartet",
         "key": "F major",
         "counts": 10,
         "_deepnote_index_column": 4
        },
        {
         "ensemble": "Accompanied Violin",
         "key": "G major",
         "counts": 9,
         "_deepnote_index_column": 5
        },
        {
         "ensemble": "Solo Piano",
         "key": "B-flat major",
         "counts": 9,
         "_deepnote_index_column": 6
        },
        {
         "ensemble": "Solo Piano",
         "key": "A-flat major",
         "counts": 9,
         "_deepnote_index_column": 7
        },
        {
         "ensemble": "Solo Piano",
         "key": "F minor",
         "counts": 9,
         "_deepnote_index_column": 8
        },
        {
         "ensemble": "Solo Piano",
         "key": "D minor",
         "counts": 8,
         "_deepnote_index_column": 9
        }
       ]
      },
      "text/plain": "                       ensemble            key  counts\n0                    Solo Piano        C minor      15\n1                    Solo Piano   E-flat major      15\n2                    Solo Piano        A major      12\n3                    Solo Piano        D major      11\n4                String Quartet        F major      10\n5            Accompanied Violin        G major       9\n6                    Solo Piano   B-flat major       9\n7                    Solo Piano   A-flat major       9\n8                    Solo Piano        F minor       9\n9                    Solo Piano        D minor       8\n10                   Solo Piano        E major       8\n11                Piano Quartet        G minor       8\n12                   Solo Piano        C major       8\n13               String Quartet   E-flat major       8\n14                   Solo Piano        G major       8\n15                   Solo Piano        A minor       8\n16                   Solo Piano  C-sharp minor       7\n17  Pairs Clarinet-Horn-Bassoon   E-flat major       6\n18                   Solo Piano        F major       6\n19               String Quartet        C major       6",
      "text/html": "<div>\n<style scoped>\n    .dataframe tbody tr th:only-of-type {\n        vertical-align: middle;\n    }\n\n    .dataframe tbody tr th {\n        vertical-align: top;\n    }\n\n    .dataframe thead th {\n        text-align: right;\n    }\n</style>\n<table border=\"1\" class=\"dataframe\">\n  <thead>\n    <tr style=\"text-align: right;\">\n      <th></th>\n      <th>ensemble</th>\n      <th>key</th>\n      <th>counts</th>\n    </tr>\n  </thead>\n  <tbody>\n    <tr>\n      <th>0</th>\n      <td>Solo Piano</td>\n      <td>C minor</td>\n      <td>15</td>\n    </tr>\n    <tr>\n      <th>1</th>\n      <td>Solo Piano</td>\n      <td>E-flat major</td>\n      <td>15</td>\n    </tr>\n    <tr>\n      <th>2</th>\n      <td>Solo Piano</td>\n      <td>A major</td>\n      <td>12</td>\n    </tr>\n    <tr>\n      <th>3</th>\n      <td>Solo Piano</td>\n      <td>D major</td>\n      <td>11</td>\n    </tr>\n    <tr>\n      <th>4</th>\n      <td>String Quartet</td>\n      <td>F major</td>\n      <td>10</td>\n    </tr>\n    <tr>\n      <th>5</th>\n      <td>Accompanied Violin</td>\n      <td>G major</td>\n      <td>9</td>\n    </tr>\n    <tr>\n      <th>6</th>\n      <td>Solo Piano</td>\n      <td>B-flat major</td>\n      <td>9</td>\n    </tr>\n    <tr>\n      <th>7</th>\n      <td>Solo Piano</td>\n      <td>A-flat major</td>\n      <td>9</td>\n    </tr>\n    <tr>\n      <th>8</th>\n      <td>Solo Piano</td>\n      <td>F minor</td>\n      <td>9</td>\n    </tr>\n    <tr>\n      <th>9</th>\n      <td>Solo Piano</td>\n      <td>D minor</td>\n      <td>8</td>\n    </tr>\n    <tr>\n      <th>10</th>\n      <td>Solo Piano</td>\n      <td>E major</td>\n      <td>8</td>\n    </tr>\n    <tr>\n      <th>11</th>\n      <td>Piano Quartet</td>\n      <td>G minor</td>\n      <td>8</td>\n    </tr>\n    <tr>\n      <th>12</th>\n      <td>Solo Piano</td>\n      <td>C major</td>\n      <td>8</td>\n    </tr>\n    <tr>\n      <th>13</th>\n      <td>String Quartet</td>\n      <td>E-flat major</td>\n      <td>8</td>\n    </tr>\n    <tr>\n      <th>14</th>\n      <td>Solo Piano</td>\n      <td>G major</td>\n      <td>8</td>\n    </tr>\n    <tr>\n      <th>15</th>\n      <td>Solo Piano</td>\n      <td>A minor</td>\n      <td>8</td>\n    </tr>\n    <tr>\n      <th>16</th>\n      <td>Solo Piano</td>\n      <td>C-sharp minor</td>\n      <td>7</td>\n    </tr>\n    <tr>\n      <th>17</th>\n      <td>Pairs Clarinet-Horn-Bassoon</td>\n      <td>E-flat major</td>\n      <td>6</td>\n    </tr>\n    <tr>\n      <th>18</th>\n      <td>Solo Piano</td>\n      <td>F major</td>\n      <td>6</td>\n    </tr>\n    <tr>\n      <th>19</th>\n      <td>String Quartet</td>\n      <td>C major</td>\n      <td>6</td>\n    </tr>\n  </tbody>\n</table>\n</div>"
     },
     "metadata": {}
    }
   ]
  },
  {
   "cell_type": "markdown",
   "source": "Mostly Solo Piano compositions, as they're the most popular. Maybe we should check combinations of ensemble and keys for the most popular ensembles separately. We shall do that.",
   "metadata": {
    "cell_id": "0e9910ec-2d94-4ad1-b43d-badcb4b8a430",
    "tags": [],
    "deepnote_cell_height": 52.390625,
    "deepnote_cell_type": "markdown"
   }
  },
  {
   "cell_type": "markdown",
   "source": "#### Analysis by ensemble",
   "metadata": {
    "cell_id": "e14a2f5d-0526-4dfd-a51a-258d23d1eff3",
    "tags": [],
    "deepnote_cell_height": 54,
    "deepnote_cell_type": "markdown"
   }
  },
  {
   "cell_type": "markdown",
   "source": "We will create dataframes of the compositions with the most repeated ensembles.",
   "metadata": {
    "cell_id": "9163f3fb-1fb3-4ffd-99a8-3ca255c2cb81",
    "tags": [],
    "deepnote_cell_height": 52.390625,
    "deepnote_cell_type": "markdown"
   }
  },
  {
   "cell_type": "code",
   "metadata": {
    "cell_id": "a0a20c6d-4c54-4297-a6ea-7ff2133b6b27",
    "tags": [],
    "deepnote_to_be_reexecuted": false,
    "source_hash": "b0d8c5e",
    "execution_start": 1645186925013,
    "execution_millis": 10,
    "deepnote_output_heights": [
     78.75
    ],
    "deepnote_cell_height": 207,
    "deepnote_cell_type": "code"
   },
   "source": "# \"Solo Piano\" compositions\ndf_solopiano = df_meta[df_meta['ensemble']=='Solo Piano']\n\n# \"String Quartet\" compositions\ndf_strquartet = df_meta[df_meta['ensemble']=='String Quartet']\n\n# \"Accompanied Violin\" compositions\ndf_accviolin = df_meta[df_meta['ensemble']=='Accompanied Violin']",
   "execution_count": 27,
   "outputs": []
  },
  {
   "cell_type": "markdown",
   "source": "Let's dig in the **Solo Piano** compositions first.",
   "metadata": {
    "cell_id": "da5d4234-2382-478a-9d5b-417edae62371",
    "tags": [],
    "deepnote_cell_height": 52.390625,
    "deepnote_cell_type": "markdown"
   }
  },
  {
   "cell_type": "code",
   "metadata": {
    "cell_id": "cbe1d92f-b3d3-4290-9cf2-95bb685418e4",
    "tags": [],
    "deepnote_to_be_reexecuted": false,
    "source_hash": "76ab3463",
    "execution_start": 1645186925033,
    "execution_millis": 193,
    "deepnote_output_heights": [
     null,
     233
    ],
    "deepnote_cell_height": 492.9375,
    "deepnote_cell_type": "code"
   },
   "source": "# Solo Piano count of compositions by composer\nprint(df_solopiano.composer.value_counts())\nprint(df_solopiano.composer.value_counts().plot(kind='pie'))",
   "execution_count": 28,
   "outputs": [
    {
     "name": "stdout",
     "text": "Beethoven    93\nBach         39\nSchubert     24\nName: composer, dtype: int64\nAxesSubplot(0.260833,0.125;0.503333x0.755)\n",
     "output_type": "stream"
    },
    {
     "data": {
      "text/plain": "<Figure size 432x288 with 1 Axes>",
      "image/png": "[encoded data removed]"
     },
     "metadata": {
      "image/png": {
       "width": 266,
       "height": 231
      }
     },
     "output_type": "display_data"
    }
   ]
  },
  {
   "cell_type": "markdown",
   "source": "Beethoven dominates in amount of piano compositions in this dataset",
   "metadata": {
    "cell_id": "b73b9712-eae5-434f-925e-521eb12b668d",
    "tags": [],
    "deepnote_cell_height": 52.390625,
    "deepnote_cell_type": "markdown"
   }
  },
  {
   "cell_type": "code",
   "metadata": {
    "cell_id": "10865495-6177-4620-9b9b-879108c06a38",
    "tags": [],
    "deepnote_to_be_reexecuted": false,
    "source_hash": "e82aa46e",
    "execution_start": 1645186925245,
    "execution_millis": 17,
    "deepnote_output_heights": [
     97.9375
    ],
    "deepnote_cell_height": 212.9375,
    "deepnote_cell_type": "code"
   },
   "source": "# Average duration by composer in Solo Piano ensembles\ndf_solopiano.groupby('composer')['seconds'].mean()",
   "execution_count": 29,
   "outputs": [
    {
     "output_type": "execute_result",
     "execution_count": 29,
     "data": {
      "text/plain": "composer\nBach         124.897436\nBeethoven    407.559140\nSchubert     511.000000\nName: seconds, dtype: float64"
     },
     "metadata": {}
    }
   ]
  },
  {
   "cell_type": "code",
   "metadata": {
    "cell_id": "5aee8455-bdd1-419c-95bd-9ab7e729c081",
    "tags": [],
    "deepnote_to_be_reexecuted": false,
    "source_hash": "cf33e3fc",
    "execution_start": 1645186925317,
    "execution_millis": 4,
    "deepnote_output_heights": [
     232.25
    ],
    "deepnote_cell_height": 347.25,
    "deepnote_cell_type": "code"
   },
   "source": "# Most popular keys in Solo Piano\ndf_solopiano.groupby('key').size().sort_values(ascending=False).head(10)",
   "execution_count": 30,
   "outputs": [
    {
     "output_type": "execute_result",
     "execution_count": 30,
     "data": {
      "text/plain": "key\nC minor         15\nE-flat major    15\nA major         12\nD major         11\nA-flat major     9\nB-flat major     9\nF minor          9\nG major          8\nC major          8\nD minor          8\ndtype: int64"
     },
     "metadata": {}
    }
   ]
  },
  {
   "cell_type": "markdown",
   "source": "I thought C major would be on top for this one. I was wrong.  \n\nOk, now let's check **String Quartet** compositions.\n",
   "metadata": {
    "cell_id": "c108dddd-d242-4527-9448-9e2368cc9978",
    "tags": [],
    "deepnote_cell_height": 91,
    "deepnote_cell_type": "markdown"
   }
  },
  {
   "cell_type": "code",
   "metadata": {
    "cell_id": "482e91f4-e6f4-40b6-ae29-eb302e54dede",
    "tags": [],
    "deepnote_to_be_reexecuted": false,
    "source_hash": "62861281",
    "execution_start": 1645186925319,
    "execution_millis": 389,
    "deepnote_output_heights": [
     null,
     233
    ],
    "deepnote_cell_height": 553.5,
    "deepnote_cell_type": "code"
   },
   "source": "# String Quartet count of compositions by composer\nprint(df_strquartet.composer.value_counts())\nprint(df_strquartet.composer.value_counts().plot(kind='pie'))",
   "execution_count": 31,
   "outputs": [
    {
     "name": "stdout",
     "text": "Beethoven    28\nMozart       12\nDvorak        8\nRavel         4\nHaydn         3\nBrahms        2\nName: composer, dtype: int64\nAxesSubplot(0.260833,0.125;0.503333x0.755)\n",
     "output_type": "stream"
    },
    {
     "data": {
      "text/plain": "<Figure size 432x288 with 1 Axes>",
      "image/png": "[encoded data removed]"
     },
     "metadata": {
      "image/png": {
       "width": 270,
       "height": 231
      }
     },
     "output_type": "display_data"
    }
   ]
  },
  {
   "cell_type": "markdown",
   "source": "Once again, our friend Beethoven being the most prolific composer. This time for String Quartet compositions.",
   "metadata": {
    "cell_id": "fc8af23c-4228-43ec-8d6c-16b590106c56",
    "tags": [],
    "deepnote_cell_height": 52.390625,
    "deepnote_cell_type": "markdown"
   }
  },
  {
   "cell_type": "code",
   "metadata": {
    "cell_id": "209a2c4a-14bd-4b9c-8597-e7b50254b164",
    "tags": [],
    "deepnote_to_be_reexecuted": false,
    "source_hash": "87799c83",
    "execution_start": 1645186925712,
    "execution_millis": 22,
    "deepnote_output_heights": [
     155.5
    ],
    "deepnote_cell_height": 270.5,
    "deepnote_cell_type": "code"
   },
   "source": "# Average duration by composer on String Quartet ensembles\ndf_strquartet.groupby('composer')['seconds'].mean()",
   "execution_count": 32,
   "outputs": [
    {
     "output_type": "execute_result",
     "execution_count": 32,
     "data": {
      "text/plain": "composer\nBeethoven    459.035714\nBrahms       405.000000\nDvorak       417.875000\nHaydn        296.000000\nMozart       397.000000\nRavel        410.750000\nName: seconds, dtype: float64"
     },
     "metadata": {}
    }
   ]
  },
  {
   "cell_type": "code",
   "metadata": {
    "cell_id": "cf9fbd96-dce2-4d20-a6ed-367462eeb391",
    "tags": [],
    "deepnote_to_be_reexecuted": false,
    "source_hash": "cc664056",
    "execution_start": 1645186925760,
    "execution_millis": 35,
    "deepnote_output_heights": [
     232.25
    ],
    "deepnote_cell_height": 347.25,
    "deepnote_cell_type": "code"
   },
   "source": "# Most popular keys in String Quartet ensembles\ndf_strquartet.groupby('key').size().sort_values(ascending=False).head(10)",
   "execution_count": 33,
   "outputs": [
    {
     "output_type": "execute_result",
     "execution_count": 33,
     "data": {
      "text/plain": "key\nF major         10\nE-flat major     8\nC major          6\nA major          5\nB-flat major     5\nF                4\nG major          4\nA minor          3\nD major          3\nE minor          3\ndtype: int64"
     },
     "metadata": {}
    }
   ]
  },
  {
   "cell_type": "markdown",
   "source": "Let's repeat this analysis again for **Accompanied Violin** ensembles.",
   "metadata": {
    "cell_id": "e1b09c2a-baae-48f3-bbb7-d85cd65cbcea",
    "tags": [],
    "deepnote_cell_height": 52.390625,
    "deepnote_cell_type": "markdown"
   }
  },
  {
   "cell_type": "code",
   "metadata": {
    "cell_id": "1eb77b37-8709-4ddc-974a-336e3db38106",
    "tags": [],
    "deepnote_to_be_reexecuted": false,
    "source_hash": "2e249cb7",
    "execution_start": 1645186925829,
    "execution_millis": 234,
    "deepnote_output_heights": [
     null,
     233
    ],
    "deepnote_cell_height": 452.5625,
    "deepnote_cell_type": "code"
   },
   "source": "# Accompanied Violin count of compositions by composer\nprint(df_accviolin.composer.value_counts())\nprint(df_accviolin.composer.value_counts().plot(kind='pie', startangle=-45))",
   "execution_count": 34,
   "outputs": [
    {
     "name": "stdout",
     "text": "Beethoven    22\nName: composer, dtype: int64\nAxesSubplot(0.260833,0.125;0.503333x0.755)\n",
     "output_type": "stream"
    },
    {
     "data": {
      "text/plain": "<Figure size 432x288 with 1 Axes>",
      "image/png": "[encoded data removed]"
     },
     "metadata": {
      "image/png": {
       "width": 245,
       "height": 231
      }
     },
     "output_type": "display_data"
    }
   ]
  },
  {
   "cell_type": "markdown",
   "source": "Oh, that was the next step. Being the only one with compositions in an ensemble category.",
   "metadata": {
    "cell_id": "7ee73914-982b-4692-bc4f-33923ec10c11",
    "tags": [],
    "deepnote_cell_height": 52.390625,
    "deepnote_cell_type": "markdown"
   }
  },
  {
   "cell_type": "code",
   "metadata": {
    "cell_id": "cd0a9974-6d4c-4686-90c7-dd94b89f8e80",
    "tags": [],
    "deepnote_to_be_reexecuted": false,
    "source_hash": "a5af1368",
    "execution_start": 1645186926068,
    "execution_millis": 26,
    "deepnote_output_heights": [
     59.5625
    ],
    "deepnote_cell_height": 174.5625,
    "deepnote_cell_type": "code"
   },
   "source": "# Average duration by composer on Accompanied Violin ensembles\ndf_accviolin.groupby('composer')['seconds'].mean()",
   "execution_count": 35,
   "outputs": [
    {
     "output_type": "execute_result",
     "execution_count": 35,
     "data": {
      "text/plain": "composer\nBeethoven    402.863636\nName: seconds, dtype: float64"
     },
     "metadata": {}
    }
   ]
  },
  {
   "cell_type": "code",
   "metadata": {
    "cell_id": "b07d579a-7bf1-48fc-92bd-d69205fe3382",
    "tags": [],
    "deepnote_to_be_reexecuted": false,
    "source_hash": "fba64d71",
    "execution_start": 1645186926152,
    "execution_millis": 2,
    "deepnote_output_heights": [
     155.5
    ],
    "deepnote_cell_height": 270.5,
    "deepnote_cell_type": "code"
   },
   "source": "# Most popular keys in Accompanied Violin ensembles\ndf_accviolin.groupby('key').size().sort_values(ascending=False).head(10)",
   "execution_count": 36,
   "outputs": [
    {
     "output_type": "execute_result",
     "execution_count": 36,
     "data": {
      "text/plain": "key\nG major         9\nC minor         4\nA major         3\nA minor         3\nE-flat major    2\nD major         1\ndtype: int64"
     },
     "metadata": {}
    }
   ]
  },
  {
   "cell_type": "markdown",
   "source": "#### Analysis by composer",
   "metadata": {
    "cell_id": "db1f57d1-216d-4f9d-95b2-ef503928f388",
    "tags": [],
    "deepnote_cell_height": 54,
    "deepnote_cell_type": "markdown"
   }
  },
  {
   "cell_type": "markdown",
   "source": "As before, we will create dataframes for the composers with more compositions in the dataset.",
   "metadata": {
    "cell_id": "6b10dc1a-109a-4fdf-a8ff-b8977a9fe2bb",
    "tags": [],
    "deepnote_cell_height": 52.390625,
    "deepnote_cell_type": "markdown"
   }
  },
  {
   "cell_type": "code",
   "metadata": {
    "cell_id": "df587817-d66c-433e-b1ce-5a07fbb48375",
    "tags": [],
    "deepnote_to_be_reexecuted": false,
    "source_hash": "873102de",
    "execution_start": 1645186926153,
    "execution_millis": 43,
    "deepnote_cell_height": 261,
    "deepnote_cell_type": "code"
   },
   "source": "# Beethoven's compositions\ndf_bet = df_meta[df_meta['composer']=='Beethoven']\n\n# Bach's compositions\ndf_bach = df_meta[df_meta['composer']=='Bach']\n\n# Schubert's compositions\ndf_schubert = df_meta[df_meta['composer']=='Schubert']\n\n# Mozart's compositions\ndf_mozart = df_meta[df_meta['composer']=='Mozart']",
   "execution_count": 37,
   "outputs": []
  },
  {
   "cell_type": "markdown",
   "source": "We shall star with our star guest, **Beethoven**.",
   "metadata": {
    "cell_id": "73283cbc-132e-4dd7-8a3f-8ca2d876a239",
    "tags": [],
    "deepnote_cell_height": 52.390625,
    "deepnote_cell_type": "markdown"
   }
  },
  {
   "cell_type": "code",
   "metadata": {
    "cell_id": "dd364f8d-0347-4b4f-b12e-61ac9d74baa0",
    "tags": [],
    "deepnote_to_be_reexecuted": false,
    "source_hash": "a7c10dec",
    "execution_start": 1645186926198,
    "execution_millis": 35,
    "deepnote_output_heights": [
     347.375
    ],
    "deepnote_cell_height": 462.375,
    "deepnote_cell_type": "code"
   },
   "source": "# Most used keys for Beethoven\ndf_bet.key.value_counts()",
   "execution_count": 38,
   "outputs": [
    {
     "output_type": "execute_result",
     "execution_count": 38,
     "data": {
      "text/plain": "E-flat major     28\nG major          18\nA major          17\nC minor          13\nF major          11\nB-flat major     11\nC major           8\nF minor           7\nD major           7\nE major           6\nA-flat major      6\nD minor           6\nA minor           6\nC-sharp minor     5\nE minor           5\nG minor           2\nF-sharp major     1\nName: key, dtype: int64"
     },
     "metadata": {}
    }
   ]
  },
  {
   "cell_type": "markdown",
   "source": "E-flat major seems to be Beethoven's favorite key.  \nLot's of compositions in major keys, that's interesting. Let's do a count of compositions in major and minor keys. To do that, I'll add a column to the dataframes.  \nI probably should go back to the beginning and add the column, so I don't have to do it for every composer at this point. I'll stick to the second (and worst) option for now.",
   "metadata": {
    "cell_id": "6fa1a376-9474-47f5-8a5c-e0d48bce45b2",
    "tags": [],
    "deepnote_cell_height": 97.171875,
    "deepnote_cell_type": "markdown"
   }
  },
  {
   "cell_type": "code",
   "metadata": {
    "cell_id": "9437ea5d-a693-4406-9fbd-63fde65f2d76",
    "tags": [],
    "deepnote_to_be_reexecuted": false,
    "source_hash": "d778a6b9",
    "execution_start": 1645186926244,
    "execution_millis": 46,
    "deepnote_output_heights": [
     null,
     59.5625
    ],
    "deepnote_cell_height": 375.6875,
    "deepnote_cell_type": "code"
   },
   "source": "# Creating column to identify the mode of the key, i.e. if it's major or minor\ndf_bet['mode'] = df_bet['key'].str.split().str[-1]\n\n# Count of the modes used by Beethoven\ndf_bet['mode'].value_counts()",
   "execution_count": 39,
   "outputs": [
    {
     "name": "stderr",
     "text": "/shared-libs/python3.7/py-core/lib/python3.7/site-packages/ipykernel_launcher.py:2: SettingWithCopyWarning: \nA value is trying to be set on a copy of a slice from a DataFrame.\nTry using .loc[row_indexer,col_indexer] = value instead\n\nSee the caveats in the documentation: https://pandas.pydata.org/pandas-docs/stable/user_guide/indexing.html#returning-a-view-versus-a-copy\n  \n",
     "output_type": "stream"
    },
    {
     "output_type": "execute_result",
     "execution_count": 39,
     "data": {
      "text/plain": "major    113\nminor     44\nName: mode, dtype: int64"
     },
     "metadata": {}
    }
   ]
  },
  {
   "cell_type": "markdown",
   "source": "Yep, that's a lot of major keys.",
   "metadata": {
    "cell_id": "b8162333-1099-452b-a97b-37d290dd92f3",
    "tags": [],
    "deepnote_cell_height": 52.390625,
    "deepnote_cell_type": "markdown"
   }
  },
  {
   "cell_type": "code",
   "metadata": {
    "cell_id": "8cb69619-8fa0-4ed9-8af5-ae9aa6fb6311",
    "tags": [],
    "deepnote_to_be_reexecuted": false,
    "source_hash": "78f0d2cb",
    "execution_start": 1645186926305,
    "execution_millis": 16,
    "deepnote_output_heights": [
     78.75
    ],
    "deepnote_cell_height": 193.75,
    "deepnote_cell_type": "code"
   },
   "source": "# Average duration by key mode\ndf_bet.groupby('mode')['seconds'].mean()",
   "execution_count": 40,
   "outputs": [
    {
     "output_type": "execute_result",
     "execution_count": 40,
     "data": {
      "text/plain": "mode\nmajor    400.522124\nminor    452.045455\nName: seconds, dtype: float64"
     },
     "metadata": {}
    }
   ]
  },
  {
   "cell_type": "code",
   "metadata": {
    "cell_id": "b3bd2f38-9bb7-46d1-935f-d3341acf555a",
    "tags": [],
    "deepnote_to_be_reexecuted": false,
    "source_hash": "d726c969",
    "execution_start": 1645186926381,
    "execution_millis": 2,
    "deepnote_output_heights": [
     366.5625
    ],
    "deepnote_cell_height": 481.5625,
    "deepnote_cell_type": "code"
   },
   "source": "# Beethoven's mean duration by key\ndf_bet.groupby('key')['seconds'].mean().sort_values(ascending=False)",
   "execution_count": 41,
   "outputs": [
    {
     "output_type": "execute_result",
     "execution_count": 41,
     "data": {
      "text/plain": "key\nA minor          555.500000\nE minor          509.400000\nC minor          497.153846\nB-flat major     493.181818\nA major          481.705882\nD minor          434.500000\nD major          403.428571\nC major          391.125000\nE-flat major     382.892857\nC-sharp minor    375.800000\nA-flat major     373.166667\nG major          363.722222\nF major          362.818182\nF minor          361.000000\nE major          335.666667\nG minor          267.000000\nF-sharp major    180.000000\nName: seconds, dtype: float64"
     },
     "metadata": {}
    }
   ]
  },
  {
   "cell_type": "code",
   "metadata": {
    "cell_id": "ba38e529-f524-4c58-82f7-48bc0d9df89f",
    "tags": [],
    "deepnote_to_be_reexecuted": false,
    "source_hash": "5491f917",
    "execution_start": 1645186926382,
    "execution_millis": 0,
    "deepnote_output_heights": [
     155.5
    ],
    "deepnote_cell_height": 270.5,
    "deepnote_cell_type": "code"
   },
   "source": "# Most used ensembles for Beethoven\ndf_bet.ensemble.value_counts()",
   "execution_count": 42,
   "outputs": [
    {
     "output_type": "execute_result",
     "execution_count": 42,
     "data": {
      "text/plain": "Solo Piano                     93\nString Quartet                 28\nAccompanied Violin             22\nWind Octet                      4\nAccompanied Cello               4\nClarinet-Cello-Piano Trio       3\nPairs Clarinet-Horn-Bassoon     3\nName: ensemble, dtype: int64"
     },
     "metadata": {}
    }
   ]
  },
  {
   "cell_type": "code",
   "metadata": {
    "cell_id": "7374eaa5-6091-45f5-9702-0fa9cb217a08",
    "tags": [],
    "deepnote_to_be_reexecuted": false,
    "source_hash": "152e6242",
    "execution_start": 1645186926425,
    "execution_millis": 1,
    "deepnote_output_heights": [
     174.6875
    ],
    "deepnote_cell_height": 289.6875,
    "deepnote_cell_type": "code"
   },
   "source": "# Beethoven's mean duration by ensemble\ndf_bet.groupby('ensemble')['seconds'].mean()",
   "execution_count": 43,
   "outputs": [
    {
     "output_type": "execute_result",
     "execution_count": 43,
     "data": {
      "text/plain": "ensemble\nAccompanied Cello              525.250000\nAccompanied Violin             402.863636\nClarinet-Cello-Piano Trio      494.333333\nPairs Clarinet-Horn-Bassoon    197.666667\nSolo Piano                     407.559140\nString Quartet                 459.035714\nWind Octet                     338.250000\nName: seconds, dtype: float64"
     },
     "metadata": {}
    }
   ]
  },
  {
   "cell_type": "markdown",
   "source": "Well, I think it's safe to say that **Beethoven** preferred major keys (mostly **E-flat major**) and **Solo Piano** pieces, apparently.  \n\nLet's check now **Bach's** compositions.",
   "metadata": {
    "cell_id": "35a738c1-ecd3-4382-a43e-632dc30f9b2c",
    "tags": [],
    "deepnote_cell_height": 88.78125,
    "deepnote_cell_type": "markdown"
   }
  },
  {
   "cell_type": "code",
   "metadata": {
    "cell_id": "52aedd0a-5423-4469-a602-84544713a0e1",
    "tags": [],
    "deepnote_to_be_reexecuted": false,
    "source_hash": "30d6398a",
    "execution_start": 1645186926426,
    "execution_millis": 1,
    "deepnote_output_heights": [
     481.6875
    ],
    "output_cleared": false,
    "deepnote_cell_height": 596.6875,
    "deepnote_cell_type": "code"
   },
   "source": "# Most used keys for Bach\ndf_bach.key.value_counts()",
   "execution_count": 44,
   "outputs": [
    {
     "output_type": "execute_result",
     "execution_count": 44,
     "data": {
      "text/plain": "B minor          7\nG minor          6\nA minor          5\nE major          4\nG-sharp minor    2\nC-sharp major    2\nF-sharp minor    2\nB major          2\nE minor          2\nF minor          2\nC minor          2\nE-flat major     2\nC-sharp minor    2\nD minor          2\nB-flat major     2\nD major          2\nA-flat major     2\nC major          1\nB-flat minor     1\nA major          1\nE-flat minor     1\nG major          1\nF-sharp major    1\nF major          1\nName: key, dtype: int64"
     },
     "metadata": {}
    }
   ]
  },
  {
   "cell_type": "markdown",
   "source": "Lots of compositions in minor keys. Let's check.",
   "metadata": {
    "cell_id": "0647852a-2d90-4545-a823-93c3fec9d520",
    "tags": [],
    "deepnote_cell_height": 52.390625,
    "deepnote_cell_type": "markdown"
   }
  },
  {
   "cell_type": "code",
   "metadata": {
    "cell_id": "6f876514-8979-4d3c-8d74-795b5b9b8616",
    "tags": [],
    "deepnote_to_be_reexecuted": false,
    "source_hash": "3063ca29",
    "execution_start": 1645186926488,
    "execution_millis": 56011960,
    "deepnote_output_heights": [
     null,
     59.5625
    ],
    "deepnote_cell_height": 375.6875,
    "deepnote_cell_type": "code"
   },
   "source": "# Creating column to identify the mode of the key, i.e. if it's major or minor\ndf_bach['mode'] = df_bach['key'].str.split().str[-1]\n\n# Count of the modes used by Bach\ndf_bach['mode'].value_counts()",
   "execution_count": 45,
   "outputs": [
    {
     "name": "stderr",
     "text": "/shared-libs/python3.7/py-core/lib/python3.7/site-packages/ipykernel_launcher.py:2: SettingWithCopyWarning: \nA value is trying to be set on a copy of a slice from a DataFrame.\nTry using .loc[row_indexer,col_indexer] = value instead\n\nSee the caveats in the documentation: https://pandas.pydata.org/pandas-docs/stable/user_guide/indexing.html#returning-a-view-versus-a-copy\n  \n",
     "output_type": "stream"
    },
    {
     "output_type": "execute_result",
     "execution_count": 45,
     "data": {
      "text/plain": "minor    34\nmajor    21\nName: mode, dtype: int64"
     },
     "metadata": {}
    }
   ]
  },
  {
   "cell_type": "markdown",
   "source": "Yep, more minor keys this time.",
   "metadata": {
    "cell_id": "956af01f-c899-4ccd-983c-818555dd6495",
    "tags": [],
    "deepnote_cell_height": 52.390625,
    "deepnote_cell_type": "markdown"
   }
  },
  {
   "cell_type": "code",
   "metadata": {
    "cell_id": "27a2bb15-ca90-4336-862f-9720e9f8b822",
    "tags": [],
    "deepnote_to_be_reexecuted": false,
    "source_hash": "29bd7f45",
    "execution_start": 1645186926490,
    "execution_millis": 1,
    "deepnote_output_heights": [
     78.75
    ],
    "deepnote_cell_height": 193.75,
    "deepnote_cell_type": "code"
   },
   "source": "# Average duration by key mode\ndf_bach.groupby('mode')['seconds'].mean()",
   "execution_count": 46,
   "outputs": [
    {
     "output_type": "execute_result",
     "execution_count": 46,
     "data": {
      "text/plain": "mode\nmajor    107.238095\nminor    171.294118\nName: seconds, dtype: float64"
     },
     "metadata": {}
    }
   ]
  },
  {
   "cell_type": "code",
   "metadata": {
    "cell_id": "d3486403-c89c-4c16-9314-1e6d63e02644",
    "tags": [],
    "deepnote_to_be_reexecuted": false,
    "source_hash": "91f8a2bb",
    "execution_start": 1645186926533,
    "execution_millis": 55487287,
    "deepnote_output_heights": [
     500.875
    ],
    "output_cleared": false,
    "deepnote_cell_height": 615.875,
    "deepnote_cell_type": "code"
   },
   "source": "# Bach's mean duration by key\ndf_bach.groupby('key')['seconds'].mean().sort_values(ascending=False)",
   "execution_count": 47,
   "outputs": [
    {
     "output_type": "execute_result",
     "execution_count": 47,
     "data": {
      "text/plain": "key\nE-flat minor     238.000000\nB minor          208.428571\nF minor          205.000000\nG minor          201.333333\nB-flat minor     197.000000\nC-sharp minor    169.000000\nE-flat major     160.500000\nA minor          159.400000\nF-sharp minor    130.500000\nG-sharp minor    129.000000\nE major          125.250000\nC major          116.000000\nC-sharp major    115.000000\nD minor          113.500000\nC minor          111.000000\nA-flat major     106.000000\nE minor          104.500000\nD major          100.000000\nF-sharp major    100.000000\nB-flat major      96.500000\nA major           91.000000\nB major           84.500000\nF major           64.000000\nG major           55.000000\nName: seconds, dtype: float64"
     },
     "metadata": {}
    }
   ]
  },
  {
   "cell_type": "code",
   "metadata": {
    "cell_id": "37025ca2-10f4-46bb-9986-b5ae9447e95c",
    "tags": [],
    "deepnote_to_be_reexecuted": false,
    "source_hash": "d069d8f",
    "execution_start": 1645186926540,
    "execution_millis": 55315120,
    "deepnote_output_heights": [
     97.9375
    ],
    "deepnote_cell_height": 212.9375,
    "deepnote_cell_type": "code"
   },
   "source": "# Most used ensembles for Bach\ndf_bach.ensemble.value_counts()",
   "execution_count": 48,
   "outputs": [
    {
     "output_type": "execute_result",
     "execution_count": 48,
     "data": {
      "text/plain": "Solo Piano                39\nSolo Violin                9\nViolin and Harpsichord     4\nSolo Flute                 3\nName: ensemble, dtype: int64"
     },
     "metadata": {}
    }
   ]
  },
  {
   "cell_type": "code",
   "metadata": {
    "cell_id": "ef1d07c1-24e1-462c-9592-329fe0f08aa0",
    "tags": [],
    "deepnote_to_be_reexecuted": false,
    "source_hash": "188800c2",
    "execution_start": 1645186926604,
    "execution_millis": 55310966,
    "deepnote_output_heights": [
     117.125
    ],
    "deepnote_cell_height": 232.125,
    "deepnote_cell_type": "code"
   },
   "source": "# Bach's mean duration by ensemble\ndf_bach.groupby('ensemble')['seconds'].mean()",
   "execution_count": 49,
   "outputs": [
    {
     "output_type": "execute_result",
     "execution_count": 49,
     "data": {
      "text/plain": "ensemble\nSolo Flute                156.333333\nSolo Piano                124.897436\nSolo Violin               197.666667\nViolin and Harpsichord    239.250000\nName: seconds, dtype: float64"
     },
     "metadata": {}
    }
   ]
  },
  {
   "cell_type": "markdown",
   "source": "**Bach** also preferred **Solo Piano** compositions. The most notable difference with Beethoven is that most of Bach's compositions are in **minor keys**.  \nLet's go with Schubert now",
   "metadata": {
    "cell_id": "8759ec51-e3bd-4bc7-b957-5e84437f6ced",
    "tags": [],
    "deepnote_cell_height": 74.78125,
    "deepnote_cell_type": "markdown"
   }
  },
  {
   "cell_type": "code",
   "metadata": {
    "cell_id": "3d9a23d3-d665-4899-8fa7-679e60858402",
    "tags": [],
    "deepnote_to_be_reexecuted": false,
    "source_hash": "5c2da9df",
    "execution_start": 1645186926606,
    "execution_millis": 2,
    "deepnote_output_heights": [
     193.875
    ],
    "deepnote_cell_height": 308.875,
    "deepnote_cell_type": "code"
   },
   "source": "# Most used keys for Schubert\ndf_schubert.key.value_counts()",
   "execution_count": 50,
   "outputs": [
    {
     "output_type": "execute_result",
     "execution_count": 50,
     "data": {
      "text/plain": "A major         8\nA minor         6\nC minor         4\nD major         3\nD-flat major    3\nF minor         2\nB-flat major    2\nA-flat major    1\nC major         1\nName: key, dtype: int64"
     },
     "metadata": {}
    }
   ]
  },
  {
   "cell_type": "code",
   "metadata": {
    "cell_id": "5137c4eb-4b0b-4d86-89fd-aebd12f4d78f",
    "tags": [],
    "deepnote_to_be_reexecuted": false,
    "source_hash": "75bb76de",
    "execution_start": 1645186926648,
    "execution_millis": 55126504,
    "deepnote_output_heights": [
     null,
     59.5625
    ],
    "deepnote_cell_height": 375.6875,
    "deepnote_cell_type": "code"
   },
   "source": "# Creating column to identify the mode of the key, i.e. if it's major or minor\ndf_schubert['mode'] = df_schubert['key'].str.split().str[-1]\n\n# Count of the modes used by Bach\ndf_schubert['mode'].value_counts()",
   "execution_count": 51,
   "outputs": [
    {
     "name": "stderr",
     "text": "/shared-libs/python3.7/py-core/lib/python3.7/site-packages/ipykernel_launcher.py:2: SettingWithCopyWarning: \nA value is trying to be set on a copy of a slice from a DataFrame.\nTry using .loc[row_indexer,col_indexer] = value instead\n\nSee the caveats in the documentation: https://pandas.pydata.org/pandas-docs/stable/user_guide/indexing.html#returning-a-view-versus-a-copy\n  \n",
     "output_type": "stream"
    },
    {
     "output_type": "execute_result",
     "execution_count": 51,
     "data": {
      "text/plain": "major    18\nminor    12\nName: mode, dtype: int64"
     },
     "metadata": {}
    }
   ]
  },
  {
   "cell_type": "markdown",
   "source": "More major keys in this one. Not a vast difference, though.",
   "metadata": {
    "cell_id": "b273764e-ba57-4f14-acb3-00a38531bf3c",
    "tags": [],
    "deepnote_cell_height": 52.390625,
    "deepnote_cell_type": "markdown"
   }
  },
  {
   "cell_type": "code",
   "metadata": {
    "cell_id": "27ae4901-b879-47fb-987a-228d7e09bdcd",
    "tags": [],
    "deepnote_to_be_reexecuted": false,
    "source_hash": "268633c4",
    "execution_start": 1645186926650,
    "execution_millis": 55219550,
    "deepnote_output_heights": [
     78.75
    ],
    "deepnote_cell_height": 193.75,
    "deepnote_cell_type": "code"
   },
   "source": "# Average duration by key mode\ndf_schubert.groupby('mode')['seconds'].mean()",
   "execution_count": 52,
   "outputs": [
    {
     "output_type": "execute_result",
     "execution_count": 52,
     "data": {
      "text/plain": "mode\nmajor    512.055556\nminor    497.583333\nName: seconds, dtype: float64"
     },
     "metadata": {}
    }
   ]
  },
  {
   "cell_type": "code",
   "metadata": {
    "cell_id": "145e3dd6-60b5-4cc2-b65c-9527b64cffce",
    "tags": [],
    "deepnote_to_be_reexecuted": false,
    "source_hash": "6483b841",
    "execution_start": 1645186926694,
    "execution_millis": 54909555,
    "deepnote_output_heights": [
     213.0625
    ],
    "deepnote_cell_height": 328.0625,
    "deepnote_cell_type": "code"
   },
   "source": "# Schubert's mean duration by key\ndf_schubert.groupby('key')['seconds'].mean().sort_values(ascending=False)",
   "execution_count": 53,
   "outputs": [
    {
     "output_type": "execute_result",
     "execution_count": 53,
     "data": {
      "text/plain": "key\nC major         924.000000\nD major         644.333333\nB-flat major    583.000000\nF minor         513.500000\nC minor         506.750000\nA minor         486.166667\nD-flat major    457.000000\nA-flat major    438.000000\nA major         423.125000\nName: seconds, dtype: float64"
     },
     "metadata": {}
    }
   ]
  },
  {
   "cell_type": "code",
   "metadata": {
    "cell_id": "b055b8de-0199-4f6e-9fef-c0fc9c08d803",
    "tags": [],
    "deepnote_to_be_reexecuted": false,
    "source_hash": "2d00a733",
    "execution_start": 1645186926695,
    "execution_millis": 1,
    "deepnote_output_heights": [
     97.9375
    ],
    "deepnote_cell_height": 212.9375,
    "deepnote_cell_type": "code"
   },
   "source": "# Most used ensembles for Schubert\ndf_schubert.ensemble.value_counts()",
   "execution_count": 54,
   "outputs": [
    {
     "output_type": "execute_result",
     "execution_count": 54,
     "data": {
      "text/plain": "Solo Piano       24\nPiano Quintet     4\nViola Quintet     1\nPiano Trio        1\nName: ensemble, dtype: int64"
     },
     "metadata": {}
    }
   ]
  },
  {
   "cell_type": "markdown",
   "source": "Oh, another Solo Piano advocate. Cool.",
   "metadata": {
    "cell_id": "db83ad6b-9add-48cd-a04a-535fbb20908a",
    "tags": [],
    "deepnote_cell_height": 52.390625,
    "deepnote_cell_type": "markdown"
   }
  },
  {
   "cell_type": "code",
   "metadata": {
    "cell_id": "9ff6d50a-7633-4591-8fa5-cda6975ef935",
    "tags": [],
    "deepnote_to_be_reexecuted": false,
    "source_hash": "c56a5589",
    "execution_start": 1645186926741,
    "execution_millis": 55287217,
    "deepnote_output_heights": [
     117.125
    ],
    "deepnote_cell_height": 232.125,
    "deepnote_cell_type": "code"
   },
   "source": "# Schubert's mean duration by ensemble\ndf_schubert.groupby('ensemble')['seconds'].mean()",
   "execution_count": 55,
   "outputs": [
    {
     "output_type": "execute_result",
     "execution_count": 55,
     "data": {
      "text/plain": "ensemble\nPiano Quintet    377.5\nPiano Trio       490.0\nSolo Piano       511.0\nViola Quintet    924.0\nName: seconds, dtype: float64"
     },
     "metadata": {}
    }
   ]
  },
  {
   "cell_type": "markdown",
   "source": "The mean duration by ensemble didn't really shed light to the analysis of any of these 4 chosen composers.  \nThere's not much to say about Schubert really. Another **Solo Piano** kind of guy who prefers **major keys**, though there are some compositions in minor keys, too.  \n\nFor my final act in this notebook, let's check **Mozart**.",
   "metadata": {
    "cell_id": "957fdbc6-d241-40ed-a9b5-450c5f93823f",
    "tags": [],
    "deepnote_cell_height": 111.171875,
    "deepnote_cell_type": "markdown"
   }
  },
  {
   "cell_type": "code",
   "metadata": {
    "cell_id": "c2af6da1-13de-48e1-ab3e-36d67177ef83",
    "tags": [],
    "deepnote_to_be_reexecuted": false,
    "source_hash": "1419b02c",
    "execution_start": 1645186926756,
    "execution_millis": 55284861,
    "deepnote_output_heights": [
     174.6875
    ],
    "deepnote_cell_height": 289.6875,
    "deepnote_cell_type": "code"
   },
   "source": "# Most used keys for Mozart\ndf_mozart.key.value_counts()",
   "execution_count": 56,
   "outputs": [
    {
     "output_type": "execute_result",
     "execution_count": 56,
     "data": {
      "text/plain": "C major         6\nA major         4\nG major         4\nE-flat major    3\nD minor         2\nE major         2\nB-flat major    2\nF major         1\nName: key, dtype: int64"
     },
     "metadata": {}
    }
   ]
  },
  {
   "cell_type": "code",
   "metadata": {
    "cell_id": "5c5964db-0f24-48d8-8d4c-6e552de84f22",
    "tags": [],
    "deepnote_to_be_reexecuted": false,
    "source_hash": "12af4b05",
    "execution_start": 1645186926813,
    "execution_millis": 55039198,
    "deepnote_output_heights": [
     null,
     59.5625
    ],
    "deepnote_cell_height": 375.6875,
    "deepnote_cell_type": "code"
   },
   "source": "# Creating column to identify the mode of the key, i.e. if it's major or minor\ndf_mozart['mode'] = df_mozart['key'].str.split().str[-1]\n\n# Count of the modes used by Bach\ndf_mozart['mode'].value_counts()",
   "execution_count": 57,
   "outputs": [
    {
     "name": "stderr",
     "text": "/shared-libs/python3.7/py-core/lib/python3.7/site-packages/ipykernel_launcher.py:2: SettingWithCopyWarning: \nA value is trying to be set on a copy of a slice from a DataFrame.\nTry using .loc[row_indexer,col_indexer] = value instead\n\nSee the caveats in the documentation: https://pandas.pydata.org/pandas-docs/stable/user_guide/indexing.html#returning-a-view-versus-a-copy\n  \n",
     "output_type": "stream"
    },
    {
     "output_type": "execute_result",
     "execution_count": 57,
     "data": {
      "text/plain": "major    22\nminor     2\nName: mode, dtype: int64"
     },
     "metadata": {}
    }
   ]
  },
  {
   "cell_type": "markdown",
   "source": "Almost all major, wow.",
   "metadata": {
    "cell_id": "bd1107ec-93cd-48f9-97ef-b9acbfc3ecdc",
    "tags": [],
    "deepnote_cell_height": 52.390625,
    "deepnote_cell_type": "markdown"
   }
  },
  {
   "cell_type": "code",
   "metadata": {
    "cell_id": "d0fa126a-a052-4c31-9444-aa55b1a1210f",
    "tags": [],
    "deepnote_to_be_reexecuted": false,
    "source_hash": "c7e6b340",
    "execution_start": 1645186926814,
    "execution_millis": 55015551,
    "deepnote_output_heights": [
     78.75
    ],
    "deepnote_cell_height": 193.75,
    "deepnote_cell_type": "code"
   },
   "source": "# Average duration by key mode\ndf_mozart.groupby('mode')['seconds'].mean()",
   "execution_count": 58,
   "outputs": [
    {
     "output_type": "execute_result",
     "execution_count": 58,
     "data": {
      "text/plain": "mode\nmajor    394.272727\nminor    356.000000\nName: seconds, dtype: float64"
     },
     "metadata": {}
    }
   ]
  },
  {
   "cell_type": "code",
   "metadata": {
    "cell_id": "2ed58dea-4ab6-4090-be99-50262d823bc5",
    "tags": [],
    "deepnote_to_be_reexecuted": false,
    "source_hash": "a61e3530",
    "execution_start": 1645186926857,
    "execution_millis": 54875678,
    "deepnote_output_heights": [
     193.875
    ],
    "deepnote_cell_height": 308.875,
    "deepnote_cell_type": "code"
   },
   "source": "# Mozart's mean duration by key\ndf_mozart.groupby('key')['seconds'].mean().sort_values(ascending=False)",
   "execution_count": 59,
   "outputs": [
    {
     "output_type": "execute_result",
     "execution_count": 59,
     "data": {
      "text/plain": "key\nA major         484.500000\nB-flat major    437.500000\nC major         437.333333\nG major         370.250000\nD minor         356.000000\nE major         343.000000\nE-flat major    278.000000\nF major         236.000000\nName: seconds, dtype: float64"
     },
     "metadata": {}
    }
   ]
  },
  {
   "cell_type": "code",
   "metadata": {
    "cell_id": "a0789e3a-7b4b-469c-854d-db2747a06947",
    "tags": [],
    "deepnote_to_be_reexecuted": false,
    "source_hash": "4cbf367f",
    "execution_start": 1645186926857,
    "execution_millis": 55282826,
    "deepnote_output_heights": [
     97.9375
    ],
    "deepnote_cell_height": 212.9375,
    "deepnote_cell_type": "code"
   },
   "source": "# Most used ensembles for Mozart\ndf_mozart.ensemble.value_counts()",
   "execution_count": 60,
   "outputs": [
    {
     "output_type": "execute_result",
     "execution_count": 60,
     "data": {
      "text/plain": "String Quartet                 12\nPiano Trio                      6\nClarinet Quintet                3\nPairs Clarinet-Horn-Bassoon     3\nName: ensemble, dtype: int64"
     },
     "metadata": {}
    }
   ]
  },
  {
   "cell_type": "markdown",
   "source": "Good to see someone who has a different taste in ensembles. Although I'm not an expert, **String Quartet** seems fine for Mozart.",
   "metadata": {
    "cell_id": "947a7d6b-eebb-41a4-9fe5-e9c7397882ac",
    "tags": [],
    "deepnote_cell_height": 52.390625,
    "deepnote_cell_type": "markdown"
   }
  },
  {
   "cell_type": "code",
   "metadata": {
    "cell_id": "b330bd84-9bc2-4622-93fb-3427264e66c5",
    "tags": [],
    "deepnote_to_be_reexecuted": false,
    "source_hash": "8103c0f4",
    "execution_start": 1645186926858,
    "execution_millis": 2,
    "deepnote_output_heights": [
     117.125
    ],
    "deepnote_cell_height": 232.125,
    "deepnote_cell_type": "code"
   },
   "source": "# Mozart's mean duration by ensemble\ndf_mozart.groupby('ensemble')['seconds'].mean()",
   "execution_count": 61,
   "outputs": [
    {
     "output_type": "execute_result",
     "execution_count": 61,
     "data": {
      "text/plain": "ensemble\nClarinet Quintet               515.333333\nPairs Clarinet-Horn-Bassoon    278.000000\nPiano Trio                     373.666667\nString Quartet                 397.000000\nName: seconds, dtype: float64"
     },
     "metadata": {}
    }
   ]
  },
  {
   "cell_type": "markdown",
   "source": "Ok, this Mozart guy is an strings advocate, more precisely, **String Quartets**, and almost all of his compositions within this dataset are in **major keys**.  \nThe major and minor keys might be something generational. I googled quickly the 4 composers analyzed and the 3 that have more major than minor keys are 18th-19th century composers. Bach, being the only one with more minor keys, is from the 17th-18th century.",
   "metadata": {
    "cell_id": "f45b06ff-6a32-4b8d-9fa3-1afc12a20426",
    "tags": [],
    "deepnote_cell_height": 97.171875,
    "deepnote_cell_type": "markdown"
   }
  },
  {
   "cell_type": "markdown",
   "source": "##### Final conclusion on the metadata?",
   "metadata": {
    "cell_id": "5cc29993-6768-4f0e-8bef-a479f3265144",
    "tags": [],
    "deepnote_cell_height": 54,
    "deepnote_cell_type": "markdown"
   }
  },
  {
   "cell_type": "markdown",
   "source": "<a style='text-decoration:none;line-height:16px;display:flex;color:#5B5B62;padding:10px;justify-content:end;' href='https://deepnote.com?utm_source=created-in-deepnote-cell&projectId=177ea176-1f94-4265-9666-0cca06278d8e' target=\"_blank\">\n<img alt='Created in deepnote.com' style='display:inline;max-height:16px;margin:0px;margin-right:7.5px;' src='data:image/svg+xml;base64,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' > </img>\nCreated in <span style='font-weight:600;margin-left:4px;'>Deepnote</span></a>",
   "metadata": {
    "tags": [],
    "created_in_deepnote_cell": true,
    "deepnote_cell_type": "markdown"
   }
  }
 ],
 "nbformat": 4,
 "nbformat_minor": 2,
 "metadata": {
  "orig_nbformat": 2,
  "deepnote": {
   "is_reactive": false
  },
  "deepnote_notebook_id": "dfc6a4e2-1081-4fbe-90a5-989e6cdf41f3",
  "deepnote_execution_queue": []
 }
}