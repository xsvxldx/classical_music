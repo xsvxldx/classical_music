{
 "cells": [
  {
   "cell_type": "markdown",
   "source": "### Scores Metadata Analysis",
   "metadata": {
    "cell_id": "6ce486a0-49f3-41f5-85be-ceb024481b60",
    "tags": [],
    "deepnote_cell_type": "markdown"
   }
  },
  {
   "cell_type": "markdown",
   "source": "#### Importing the processed data",
   "metadata": {
    "cell_id": "a44def36-d5f8-47ca-bf12-94899510d1c2",
    "tags": [],
    "deepnote_cell_type": "markdown"
   }
  },
  {
   "cell_type": "code",
   "metadata": {
    "cell_id": "ebae8cf8-c644-4ff9-9590-aee5bef4b73b",
    "tags": [],
    "deepnote_to_be_reexecuted": false,
    "source_hash": "2c6f8d73",
    "execution_start": 1645009340484,
    "execution_millis": 2893,
    "deepnote_cell_type": "code"
   },
   "source": "import pandas as pd\nimport matplotlib.pyplot as plt\nimport numpy as np",
   "execution_count": 1,
   "outputs": []
  },
  {
   "cell_type": "code",
   "metadata": {
    "tags": [],
    "cell_id": "2ab9076f-41c2-43d4-8d5d-1d527268430a",
    "deepnote_to_be_reexecuted": false,
    "source_hash": "d5f3caca",
    "execution_start": 1645009343385,
    "execution_millis": 1343,
    "deepnote_cell_type": "code"
   },
   "source": "df_meta = pd.read_csv('./data/processed/scores_metadata.csv')\ndf_scores = pd.read_csv('./data/processed/scores.csv')",
   "execution_count": 2,
   "outputs": []
  },
  {
   "cell_type": "markdown",
   "source": "#### General Overview\n\nWe check the scores metadata. We shall make an analysis of this dataset first.  \n*Later, we will combine this dataset with the scores dataset. Particularly, we are interested in having the column `tonic_encoded` from the scores metadata together with the `notes` column in the scores data, so we can calculate the difference between the root (tonic) and each note, thus, getting what musical degrees are used with each note in a chromatic scale. From there, we might get which scales and scale degrees are used.*",
   "metadata": {
    "cell_id": "062e0087-b86e-4c9b-804e-f456d9d003ae",
    "tags": [],
    "deepnote_cell_type": "markdown"
   }
  },
  {
   "cell_type": "code",
   "metadata": {
    "cell_id": "d244ad8e-223d-43a9-b4f4-9dddb4c1e8e9",
    "tags": [],
    "deepnote_to_be_reexecuted": false,
    "source_hash": "d54dd59a",
    "execution_start": 1645009344784,
    "execution_millis": 432,
    "deepnote_cell_type": "code"
   },
   "source": "df_meta.head(5)",
   "execution_count": 3,
   "outputs": [
    {
     "output_type": "execute_result",
     "execution_count": 3,
     "data": {
      "application/vnd.deepnote.dataframe.v3+json": {
       "column_count": 9,
       "row_count": 5,
       "columns": [
        {
         "name": "id",
         "dtype": "int64",
         "stats": {
          "unique_count": 5,
          "nan_count": 0,
          "min": "1727",
          "max": "1733",
          "histogram": [
           {
            "bin_start": 1727,
            "bin_end": 1727.6,
            "count": 1
           },
           {
            "bin_start": 1727.6,
            "bin_end": 1728.2,
            "count": 1
           },
           {
            "bin_start": 1728.2,
            "bin_end": 1728.8,
            "count": 0
           },
           {
            "bin_start": 1728.8,
            "bin_end": 1729.4,
            "count": 1
           },
           {
            "bin_start": 1729.4,
            "bin_end": 1730,
            "count": 0
           },
           {
            "bin_start": 1730,
            "bin_end": 1730.6,
            "count": 1
           },
           {
            "bin_start": 1730.6,
            "bin_end": 1731.2,
            "count": 0
           },
           {
            "bin_start": 1731.2,
            "bin_end": 1731.8,
            "count": 0
           },
           {
            "bin_start": 1731.8,
            "bin_end": 1732.4,
            "count": 0
           },
           {
            "bin_start": 1732.4,
            "bin_end": 1733,
            "count": 1
           }
          ]
         }
        },
        {
         "name": "composer",
         "dtype": "object",
         "stats": {
          "unique_count": 1,
          "nan_count": 0,
          "categories": [
           {
            "name": "Schubert",
            "count": 5
           }
          ]
         }
        },
        {
         "name": "composition",
         "dtype": "object",
         "stats": {
          "unique_count": 2,
          "nan_count": 0,
          "categories": [
           {
            "name": "Piano Quintet in A major",
            "count": 4
           },
           {
            "name": "Piano Sonata in A major",
            "count": 1
           }
          ]
         }
        },
        {
         "name": "movement",
         "dtype": "object",
         "stats": {
          "unique_count": 5,
          "nan_count": 0,
          "categories": [
           {
            "name": "2. Andante",
            "count": 1
           },
           {
            "name": "3. Scherzo: Presto",
            "count": 1
           },
           {
            "name": "3 others",
            "count": 3
           }
          ]
         }
        },
        {
         "name": "ensemble",
         "dtype": "object",
         "stats": {
          "unique_count": 2,
          "nan_count": 0,
          "categories": [
           {
            "name": "Piano Quintet",
            "count": 4
           },
           {
            "name": "Solo Piano",
            "count": 1
           }
          ]
         }
        },
        {
         "name": "seconds",
         "dtype": "int64",
         "stats": {
          "unique_count": 5,
          "nan_count": 0,
          "min": "251",
          "max": "546",
          "histogram": [
           {
            "bin_start": 251,
            "bin_end": 280.5,
            "count": 1
           },
           {
            "bin_start": 280.5,
            "bin_end": 310,
            "count": 0
           },
           {
            "bin_start": 310,
            "bin_end": 339.5,
            "count": 0
           },
           {
            "bin_start": 339.5,
            "bin_end": 369,
            "count": 1
           },
           {
            "bin_start": 369,
            "bin_end": 398.5,
            "count": 0
           },
           {
            "bin_start": 398.5,
            "bin_end": 428,
            "count": 0
           },
           {
            "bin_start": 428,
            "bin_end": 457.5,
            "count": 2
           },
           {
            "bin_start": 457.5,
            "bin_end": 487,
            "count": 0
           },
           {
            "bin_start": 487,
            "bin_end": 516.5,
            "count": 0
           },
           {
            "bin_start": 516.5,
            "bin_end": 546,
            "count": 1
           }
          ]
         }
        },
        {
         "name": "key",
         "dtype": "object",
         "stats": {
          "unique_count": 1,
          "nan_count": 0,
          "categories": [
           {
            "name": "A major",
            "count": 5
           }
          ]
         }
        },
        {
         "name": "tonic",
         "dtype": "object",
         "stats": {
          "unique_count": 1,
          "nan_count": 0,
          "categories": [
           {
            "name": "A",
            "count": 5
           }
          ]
         }
        },
        {
         "name": "tonic_encoded",
         "dtype": "int64",
         "stats": {
          "unique_count": 1,
          "nan_count": 0,
          "min": "9",
          "max": "9",
          "histogram": [
           {
            "bin_start": 8.5,
            "bin_end": 8.6,
            "count": 0
           },
           {
            "bin_start": 8.6,
            "bin_end": 8.7,
            "count": 0
           },
           {
            "bin_start": 8.7,
            "bin_end": 8.8,
            "count": 0
           },
           {
            "bin_start": 8.8,
            "bin_end": 8.9,
            "count": 0
           },
           {
            "bin_start": 8.9,
            "bin_end": 9,
            "count": 0
           },
           {
            "bin_start": 9,
            "bin_end": 9.1,
            "count": 5
           },
           {
            "bin_start": 9.1,
            "bin_end": 9.2,
            "count": 0
           },
           {
            "bin_start": 9.2,
            "bin_end": 9.3,
            "count": 0
           },
           {
            "bin_start": 9.3,
            "bin_end": 9.4,
            "count": 0
           },
           {
            "bin_start": 9.4,
            "bin_end": 9.5,
            "count": 0
           }
          ]
         }
        },
        {
         "name": "_deepnote_index_column",
         "dtype": "int64"
        }
       ],
       "rows": [
        {
         "id": 1727,
         "composer": "Schubert",
         "composition": "Piano Quintet in A major",
         "movement": "2. Andante",
         "ensemble": "Piano Quintet",
         "seconds": 447,
         "key": "A major",
         "tonic": "A",
         "tonic_encoded": 9,
         "_deepnote_index_column": 0
        },
        {
         "id": 1728,
         "composer": "Schubert",
         "composition": "Piano Quintet in A major",
         "movement": "3. Scherzo: Presto",
         "ensemble": "Piano Quintet",
         "seconds": 251,
         "key": "A major",
         "tonic": "A",
         "tonic_encoded": 9,
         "_deepnote_index_column": 1
        },
        {
         "id": 1729,
         "composer": "Schubert",
         "composition": "Piano Quintet in A major",
         "movement": "4. Andantino - Allegretto",
         "ensemble": "Piano Quintet",
         "seconds": 444,
         "key": "A major",
         "tonic": "A",
         "tonic_encoded": 9,
         "_deepnote_index_column": 2
        },
        {
         "id": 1730,
         "composer": "Schubert",
         "composition": "Piano Quintet in A major",
         "movement": "5. Allegro giusto",
         "ensemble": "Piano Quintet",
         "seconds": 368,
         "key": "A major",
         "tonic": "A",
         "tonic_encoded": 9,
         "_deepnote_index_column": 3
        },
        {
         "id": 1733,
         "composer": "Schubert",
         "composition": "Piano Sonata in A major",
         "movement": "2. Andantino",
         "ensemble": "Solo Piano",
         "seconds": 546,
         "key": "A major",
         "tonic": "A",
         "tonic_encoded": 9,
         "_deepnote_index_column": 4
        }
       ]
      },
      "text/plain": "     id  composer               composition                   movement  \\\n0  1727  Schubert  Piano Quintet in A major                 2. Andante   \n1  1728  Schubert  Piano Quintet in A major         3. Scherzo: Presto   \n2  1729  Schubert  Piano Quintet in A major  4. Andantino - Allegretto   \n3  1730  Schubert  Piano Quintet in A major          5. Allegro giusto   \n4  1733  Schubert   Piano Sonata in A major               2. Andantino   \n\n        ensemble  seconds      key tonic  tonic_encoded  \n0  Piano Quintet      447  A major     A              9  \n1  Piano Quintet      251  A major     A              9  \n2  Piano Quintet      444  A major     A              9  \n3  Piano Quintet      368  A major     A              9  \n4     Solo Piano      546  A major     A              9  ",
      "text/html": "<div>\n<style scoped>\n    .dataframe tbody tr th:only-of-type {\n        vertical-align: middle;\n    }\n\n    .dataframe tbody tr th {\n        vertical-align: top;\n    }\n\n    .dataframe thead th {\n        text-align: right;\n    }\n</style>\n<table border=\"1\" class=\"dataframe\">\n  <thead>\n    <tr style=\"text-align: right;\">\n      <th></th>\n      <th>id</th>\n      <th>composer</th>\n      <th>composition</th>\n      <th>movement</th>\n      <th>ensemble</th>\n      <th>seconds</th>\n      <th>key</th>\n      <th>tonic</th>\n      <th>tonic_encoded</th>\n    </tr>\n  </thead>\n  <tbody>\n    <tr>\n      <th>0</th>\n      <td>1727</td>\n      <td>Schubert</td>\n      <td>Piano Quintet in A major</td>\n      <td>2. Andante</td>\n      <td>Piano Quintet</td>\n      <td>447</td>\n      <td>A major</td>\n      <td>A</td>\n      <td>9</td>\n    </tr>\n    <tr>\n      <th>1</th>\n      <td>1728</td>\n      <td>Schubert</td>\n      <td>Piano Quintet in A major</td>\n      <td>3. Scherzo: Presto</td>\n      <td>Piano Quintet</td>\n      <td>251</td>\n      <td>A major</td>\n      <td>A</td>\n      <td>9</td>\n    </tr>\n    <tr>\n      <th>2</th>\n      <td>1729</td>\n      <td>Schubert</td>\n      <td>Piano Quintet in A major</td>\n      <td>4. Andantino - Allegretto</td>\n      <td>Piano Quintet</td>\n      <td>444</td>\n      <td>A major</td>\n      <td>A</td>\n      <td>9</td>\n    </tr>\n    <tr>\n      <th>3</th>\n      <td>1730</td>\n      <td>Schubert</td>\n      <td>Piano Quintet in A major</td>\n      <td>5. Allegro giusto</td>\n      <td>Piano Quintet</td>\n      <td>368</td>\n      <td>A major</td>\n      <td>A</td>\n      <td>9</td>\n    </tr>\n    <tr>\n      <th>4</th>\n      <td>1733</td>\n      <td>Schubert</td>\n      <td>Piano Sonata in A major</td>\n      <td>2. Andantino</td>\n      <td>Solo Piano</td>\n      <td>546</td>\n      <td>A major</td>\n      <td>A</td>\n      <td>9</td>\n    </tr>\n  </tbody>\n</table>\n</div>"
     },
     "metadata": {}
    }
   ]
  },
  {
   "cell_type": "code",
   "metadata": {
    "cell_id": "3e056fe1-e8d3-4ed3-b332-f79659f592ad",
    "tags": [],
    "deepnote_to_be_reexecuted": false,
    "source_hash": "48af79c3",
    "execution_start": 1645009344824,
    "execution_millis": 398,
    "deepnote_output_heights": [
     21.1875
    ],
    "deepnote_cell_type": "code"
   },
   "source": "df_meta.shape",
   "execution_count": 4,
   "outputs": [
    {
     "output_type": "execute_result",
     "execution_count": 4,
     "data": {
      "text/plain": "(318, 9)"
     },
     "metadata": {}
    }
   ]
  },
  {
   "cell_type": "code",
   "metadata": {
    "cell_id": "bbc40c78-7598-47bc-86b8-1e3a530203a2",
    "tags": [],
    "deepnote_to_be_reexecuted": false,
    "source_hash": "444b4eb0",
    "execution_start": 1645009344846,
    "execution_millis": 377,
    "deepnote_output_heights": [
     193.875
    ],
    "deepnote_cell_type": "code"
   },
   "source": "df_meta.dtypes",
   "execution_count": 5,
   "outputs": [
    {
     "output_type": "execute_result",
     "execution_count": 5,
     "data": {
      "text/plain": "id                int64\ncomposer         object\ncomposition      object\nmovement         object\nensemble         object\nseconds           int64\nkey              object\ntonic            object\ntonic_encoded     int64\ndtype: object"
     },
     "metadata": {}
    }
   ]
  },
  {
   "cell_type": "code",
   "metadata": {
    "cell_id": "9cfc202b-a393-41c5-b940-f76ccd94922b",
    "tags": [],
    "deepnote_to_be_reexecuted": false,
    "source_hash": "4ba4374d",
    "execution_start": 1645009344912,
    "execution_millis": 313,
    "deepnote_output_heights": [
     232.25
    ],
    "deepnote_cell_type": "code"
   },
   "source": "# Changing type to column `tonic_encoded`\ndf_meta.tonic_encoded.astype(\"int64\")",
   "execution_count": 6,
   "outputs": [
    {
     "output_type": "execute_result",
     "execution_count": 6,
     "data": {
      "text/plain": "0       9\n1       9\n2       9\n3       9\n4       9\n       ..\n313     7\n314     7\n315    11\n316     4\n317     7\nName: tonic_encoded, Length: 318, dtype: int64"
     },
     "metadata": {}
    }
   ]
  },
  {
   "cell_type": "code",
   "metadata": {
    "cell_id": "4bced2af-115a-477e-9843-e240d5edd988",
    "tags": [],
    "deepnote_to_be_reexecuted": false,
    "source_hash": "23fa9071",
    "execution_start": 1645009344913,
    "execution_millis": 317,
    "deepnote_cell_type": "code"
   },
   "source": "# Numeric variables summary\ndf_meta.describe()",
   "execution_count": 7,
   "outputs": [
    {
     "output_type": "execute_result",
     "execution_count": 7,
     "data": {
      "application/vnd.deepnote.dataframe.v3+json": {
       "column_count": 3,
       "row_count": 8,
       "columns": [
        {
         "name": "id",
         "dtype": "float64",
         "stats": {
          "unique_count": 8,
          "nan_count": 0,
          "min": "269.5041161520533",
          "max": "2678.0",
          "histogram": [
           {
            "bin_start": 269.5041161520533,
            "bin_end": 510.353704536848,
            "count": 2
           },
           {
            "bin_start": 510.353704536848,
            "bin_end": 751.2032929216426,
            "count": 0
           },
           {
            "bin_start": 751.2032929216426,
            "bin_end": 992.0528813064373,
            "count": 0
           },
           {
            "bin_start": 992.0528813064373,
            "bin_end": 1232.902469691232,
            "count": 0
           },
           {
            "bin_start": 1232.902469691232,
            "bin_end": 1473.7520580760265,
            "count": 0
           },
           {
            "bin_start": 1473.7520580760265,
            "bin_end": 1714.6016464608213,
            "count": 0
           },
           {
            "bin_start": 1714.6016464608213,
            "bin_end": 1955.4512348456158,
            "count": 1
           },
           {
            "bin_start": 1955.4512348456158,
            "bin_end": 2196.3008232304105,
            "count": 1
           },
           {
            "bin_start": 2196.3008232304105,
            "bin_end": 2437.1504116152055,
            "count": 2
           },
           {
            "bin_start": 2437.1504116152055,
            "bin_end": 2678,
            "count": 2
           }
          ]
         }
        },
        {
         "name": "seconds",
         "dtype": "float64",
         "stats": {
          "unique_count": 8,
          "nan_count": 0,
          "min": "55.0",
          "max": "1069.0",
          "histogram": [
           {
            "bin_start": 55,
            "bin_end": 156.4,
            "count": 1
           },
           {
            "bin_start": 156.4,
            "bin_end": 257.8,
            "count": 2
           },
           {
            "bin_start": 257.8,
            "bin_end": 359.20000000000005,
            "count": 2
           },
           {
            "bin_start": 359.20000000000005,
            "bin_end": 460.6,
            "count": 1
           },
           {
            "bin_start": 460.6,
            "bin_end": 562,
            "count": 1
           },
           {
            "bin_start": 562,
            "bin_end": 663.4000000000001,
            "count": 0
           },
           {
            "bin_start": 663.4000000000001,
            "bin_end": 764.8000000000001,
            "count": 0
           },
           {
            "bin_start": 764.8000000000001,
            "bin_end": 866.2,
            "count": 0
           },
           {
            "bin_start": 866.2,
            "bin_end": 967.6,
            "count": 0
           },
           {
            "bin_start": 967.6,
            "bin_end": 1069,
            "count": 1
           }
          ]
         }
        },
        {
         "name": "tonic_encoded",
         "dtype": "float64",
         "stats": {
          "unique_count": 8,
          "nan_count": 0,
          "min": "0.0",
          "max": "318.0",
          "histogram": [
           {
            "bin_start": 0,
            "bin_end": 31.8,
            "count": 7
           },
           {
            "bin_start": 31.8,
            "bin_end": 63.6,
            "count": 0
           },
           {
            "bin_start": 63.6,
            "bin_end": 95.4,
            "count": 0
           },
           {
            "bin_start": 95.4,
            "bin_end": 127.2,
            "count": 0
           },
           {
            "bin_start": 127.2,
            "bin_end": 159,
            "count": 0
           },
           {
            "bin_start": 159,
            "bin_end": 190.8,
            "count": 0
           },
           {
            "bin_start": 190.8,
            "bin_end": 222.6,
            "count": 0
           },
           {
            "bin_start": 222.6,
            "bin_end": 254.4,
            "count": 0
           },
           {
            "bin_start": 254.4,
            "bin_end": 286.2,
            "count": 0
           },
           {
            "bin_start": 286.2,
            "bin_end": 318,
            "count": 1
           }
          ]
         }
        },
        {
         "name": "_deepnote_index_column",
         "dtype": "object"
        }
       ],
       "rows": [
        {
         "id": 318,
         "seconds": 318,
         "tonic_encoded": 318,
         "_deepnote_index_column": "count"
        },
        {
         "id": 2257.685534591195,
         "seconds": 376.55345911949684,
         "tonic_encoded": 5.166666666666667,
         "_deepnote_index_column": "mean"
        },
        {
         "id": 269.5041161520533,
         "seconds": 197.58040004834712,
         "tonic_encoded": 3.339925133120132,
         "_deepnote_index_column": "std"
        },
        {
         "id": 1727,
         "seconds": 55,
         "tonic_encoded": 0,
         "_deepnote_index_column": "min"
        },
        {
         "id": 2118.25,
         "seconds": 227,
         "tonic_encoded": 3,
         "_deepnote_index_column": "25%"
        },
        {
         "id": 2309,
         "seconds": 356.5,
         "tonic_encoded": 5,
         "_deepnote_index_column": "50%"
        },
        {
         "id": 2481.75,
         "seconds": 481.5,
         "tonic_encoded": 9,
         "_deepnote_index_column": "75%"
        },
        {
         "id": 2678,
         "seconds": 1069,
         "tonic_encoded": 11,
         "_deepnote_index_column": "max"
        }
       ]
      },
      "text/plain": "                id      seconds  tonic_encoded\ncount   318.000000   318.000000     318.000000\nmean   2257.685535   376.553459       5.166667\nstd     269.504116   197.580400       3.339925\nmin    1727.000000    55.000000       0.000000\n25%    2118.250000   227.000000       3.000000\n50%    2309.000000   356.500000       5.000000\n75%    2481.750000   481.500000       9.000000\nmax    2678.000000  1069.000000      11.000000",
      "text/html": "<div>\n<style scoped>\n    .dataframe tbody tr th:only-of-type {\n        vertical-align: middle;\n    }\n\n    .dataframe tbody tr th {\n        vertical-align: top;\n    }\n\n    .dataframe thead th {\n        text-align: right;\n    }\n</style>\n<table border=\"1\" class=\"dataframe\">\n  <thead>\n    <tr style=\"text-align: right;\">\n      <th></th>\n      <th>id</th>\n      <th>seconds</th>\n      <th>tonic_encoded</th>\n    </tr>\n  </thead>\n  <tbody>\n    <tr>\n      <th>count</th>\n      <td>318.000000</td>\n      <td>318.000000</td>\n      <td>318.000000</td>\n    </tr>\n    <tr>\n      <th>mean</th>\n      <td>2257.685535</td>\n      <td>376.553459</td>\n      <td>5.166667</td>\n    </tr>\n    <tr>\n      <th>std</th>\n      <td>269.504116</td>\n      <td>197.580400</td>\n      <td>3.339925</td>\n    </tr>\n    <tr>\n      <th>min</th>\n      <td>1727.000000</td>\n      <td>55.000000</td>\n      <td>0.000000</td>\n    </tr>\n    <tr>\n      <th>25%</th>\n      <td>2118.250000</td>\n      <td>227.000000</td>\n      <td>3.000000</td>\n    </tr>\n    <tr>\n      <th>50%</th>\n      <td>2309.000000</td>\n      <td>356.500000</td>\n      <td>5.000000</td>\n    </tr>\n    <tr>\n      <th>75%</th>\n      <td>2481.750000</td>\n      <td>481.500000</td>\n      <td>9.000000</td>\n    </tr>\n    <tr>\n      <th>max</th>\n      <td>2678.000000</td>\n      <td>1069.000000</td>\n      <td>11.000000</td>\n    </tr>\n  </tbody>\n</table>\n</div>"
     },
     "metadata": {}
    }
   ]
  },
  {
   "cell_type": "markdown",
   "source": "Not really helpful, except for the `seconds` column stats. This column shows the duration for each piece.",
   "metadata": {
    "cell_id": "e7ae2996-268d-47f8-9947-6773ffe460a3",
    "tags": [],
    "deepnote_cell_type": "markdown"
   }
  },
  {
   "cell_type": "code",
   "metadata": {
    "cell_id": "37328809-9118-4dbe-af66-f079362846db",
    "tags": [],
    "deepnote_to_be_reexecuted": false,
    "source_hash": "5340795f",
    "execution_start": 1645009345022,
    "execution_millis": 208,
    "deepnote_output_heights": [
     40.375
    ],
    "deepnote_cell_type": "code"
   },
   "source": "# Checking duplicated rows\ndf_meta.duplicated().value_counts()",
   "execution_count": 8,
   "outputs": [
    {
     "output_type": "execute_result",
     "execution_count": 8,
     "data": {
      "text/plain": "False    318\ndtype: int64"
     },
     "metadata": {}
    }
   ]
  },
  {
   "cell_type": "code",
   "metadata": {
    "cell_id": "8817a8a6-8b85-4bb9-9fe0-fdc32bfb17aa",
    "tags": [],
    "deepnote_to_be_reexecuted": false,
    "source_hash": "8553043f",
    "execution_start": 1645009345023,
    "execution_millis": 208,
    "deepnote_output_heights": [
     193.875
    ],
    "deepnote_cell_type": "code"
   },
   "source": "# Checking for NaN values\ndf_meta.isna().any()",
   "execution_count": 9,
   "outputs": [
    {
     "output_type": "execute_result",
     "execution_count": 9,
     "data": {
      "text/plain": "id               False\ncomposer         False\ncomposition      False\nmovement         False\nensemble         False\nseconds          False\nkey              False\ntonic            False\ntonic_encoded    False\ndtype: bool"
     },
     "metadata": {}
    }
   ]
  },
  {
   "cell_type": "markdown",
   "source": "#### Univariable analsysis\n\nWe start by plotting a histogram of the `seconds` column, which shows the duration of each piece.  \nThen, we will do some countings, to see which composers have more compositions in this dataset, most popular keys, and most popular ensembles.",
   "metadata": {
    "cell_id": "4bd3aebf-89ea-4ae0-9f9c-32d9c6ac32d5",
    "tags": [],
    "deepnote_cell_type": "markdown"
   }
  },
  {
   "cell_type": "code",
   "metadata": {
    "cell_id": "c33ad41c-cf75-4926-9abf-89f634abd59c",
    "tags": [],
    "deepnote_to_be_reexecuted": false,
    "source_hash": "efe3897f",
    "execution_start": 1645009345084,
    "execution_millis": 530,
    "deepnote_output_heights": [
     21.1875,
     250
    ],
    "deepnote_cell_type": "code"
   },
   "source": "# Histogram of durations\ndf_meta.seconds.hist(bins=40)",
   "execution_count": 10,
   "outputs": [
    {
     "output_type": "execute_result",
     "execution_count": 10,
     "data": {
      "text/plain": "<AxesSubplot:>"
     },
     "metadata": {}
    },
    {
     "data": {
      "text/plain": "<Figure size 432x288 with 1 Axes>",
      "image/png": "[encoded data removed]"
     },
     "metadata": {
      "needs_background": "light",
      "image/png": {
       "width": 378,
       "height": 248
      }
     },
     "output_type": "display_data"
    }
   ]
  },
  {
   "cell_type": "code",
   "metadata": {
    "cell_id": "54c62f59-c193-4ffa-9aa5-ec451027de4f",
    "tags": [],
    "deepnote_to_be_reexecuted": false,
    "source_hash": "f8d604db",
    "execution_start": 1645009345620,
    "execution_millis": 8,
    "deepnote_output_heights": [
     213.0625
    ],
    "deepnote_cell_type": "code"
   },
   "source": "# Who are the composers and how many pieces they have in this dataset?\ndf_meta.composer.value_counts()",
   "execution_count": 11,
   "outputs": [
    {
     "output_type": "execute_result",
     "execution_count": 11,
     "data": {
      "text/plain": "Beethoven    157\nBach          55\nSchubert      30\nMozart        24\nBrahms        24\nCambini        9\nDvorak         8\nRavel          4\nFaure          4\nHaydn          3\nName: composer, dtype: int64"
     },
     "metadata": {}
    }
   ]
  },
  {
   "cell_type": "code",
   "metadata": {
    "cell_id": "cf067dac-9dee-418f-acb6-b3100fcb0300",
    "tags": [],
    "deepnote_to_be_reexecuted": false,
    "source_hash": "9efb9483",
    "execution_start": 1645009345680,
    "execution_millis": 227,
    "deepnote_output_heights": [
     null,
     21.1875,
     233
    ],
    "deepnote_cell_type": "code"
   },
   "source": "# What's the ratio of the number of compositions of each composer compared against the total?\nprint(df_meta.composer.value_counts(normalize=True)*100)\n\n# Pie chart showing these ratios\ndf_meta.composer.value_counts().plot(kind='pie')",
   "execution_count": 12,
   "outputs": [
    {
     "name": "stdout",
     "text": "Beethoven    49.371069\nBach         17.295597\nSchubert      9.433962\nMozart        7.547170\nBrahms        7.547170\nCambini       2.830189\nDvorak        2.515723\nRavel         1.257862\nFaure         1.257862\nHaydn         0.943396\nName: composer, dtype: float64\n",
     "output_type": "stream"
    },
    {
     "output_type": "execute_result",
     "execution_count": 12,
     "data": {
      "text/plain": "<AxesSubplot:ylabel='composer'>"
     },
     "metadata": {}
    },
    {
     "data": {
      "text/plain": "<Figure size 432x288 with 1 Axes>",
      "image/png": "[encoded data removed]"
     },
     "metadata": {
      "image/png": {
       "width": 265,
       "height": 231
      }
     },
     "output_type": "display_data"
    }
   ]
  },
  {
   "cell_type": "code",
   "metadata": {
    "cell_id": "203109f2-d42a-4ec3-bab5-624e76a5f669",
    "tags": [],
    "deepnote_to_be_reexecuted": false,
    "source_hash": "91935405",
    "execution_start": 1645009345924,
    "execution_millis": 12,
    "deepnote_output_heights": [
     520.0625,
     520.0625
    ],
    "deepnote_cell_type": "code"
   },
   "source": "# What are the most common keys?\ndf_meta.key.value_counts()",
   "execution_count": 13,
   "outputs": [
    {
     "output_type": "execute_result",
     "execution_count": 13,
     "data": {
      "text/plain": "E-flat major     42\nA major          30\nG major          24\nB-flat major     24\nC minor          21\nF major          19\nA minor          17\nD major          17\nG minor          16\nC major          16\nF minor          15\nD minor          13\nE major          12\nE minor          10\nA-flat major      9\nB minor           7\nC-sharp minor     7\nF                 4\nD-flat major      3\nB major           2\nF-sharp major     2\nC-sharp major     2\nF-sharp minor     2\nG-sharp minor     2\nB-flat minor      1\nE-flat minor      1\nName: key, dtype: int64"
     },
     "metadata": {}
    }
   ]
  },
  {
   "cell_type": "code",
   "metadata": {
    "cell_id": "d516818c-b843-4bb4-beeb-850fdf51b759",
    "tags": [],
    "deepnote_to_be_reexecuted": false,
    "source_hash": "d9e6aa51",
    "execution_start": 1645009345997,
    "execution_millis": 515,
    "deepnote_output_heights": [
     null,
     21.1875,
     312
    ],
    "deepnote_cell_type": "code"
   },
   "source": "# Now the ratio for each key\nprint(df_meta.key.value_counts(normalize=True)*100)\n\n# Bar chart for keys\ndf_meta.key.value_counts().plot(kind='bar', figsize=(15,4))",
   "execution_count": 14,
   "outputs": [
    {
     "name": "stdout",
     "text": "E-flat major     13.207547\nA major           9.433962\nG major           7.547170\nB-flat major      7.547170\nC minor           6.603774\nF major           5.974843\nA minor           5.345912\nD major           5.345912\nG minor           5.031447\nC major           5.031447\nF minor           4.716981\nD minor           4.088050\nE major           3.773585\nE minor           3.144654\nA-flat major      2.830189\nB minor           2.201258\nC-sharp minor     2.201258\nF                 1.257862\nD-flat major      0.943396\nB major           0.628931\nF-sharp major     0.628931\nC-sharp major     0.628931\nF-sharp minor     0.628931\nG-sharp minor     0.628931\nB-flat minor      0.314465\nE-flat minor      0.314465\nName: key, dtype: float64\n",
     "output_type": "stream"
    },
    {
     "output_type": "execute_result",
     "execution_count": 14,
     "data": {
      "text/plain": "<AxesSubplot:>"
     },
     "metadata": {}
    },
    {
     "data": {
      "text/plain": "<Figure size 1080x288 with 1 Axes>",
      "image/png": "[encoded data removed]"
     },
     "metadata": {
      "needs_background": "light",
      "image/png": {
       "width": 871,
       "height": 310
      }
     },
     "output_type": "display_data"
    }
   ]
  },
  {
   "cell_type": "code",
   "metadata": {
    "cell_id": "93f80c1c-204d-4c5a-a828-ed33744f7867",
    "tags": [],
    "deepnote_to_be_reexecuted": false,
    "source_hash": "db377ca1",
    "execution_start": 1645009346572,
    "execution_millis": 2,
    "deepnote_output_heights": [
     404.9375
    ],
    "deepnote_cell_type": "code"
   },
   "source": "# What are the most common ensembles?\ndf_meta.ensemble.value_counts()",
   "execution_count": 15,
   "outputs": [
    {
     "output_type": "execute_result",
     "execution_count": 15,
     "data": {
      "text/plain": "Solo Piano                     156\nString Quartet                  57\nAccompanied Violin              22\nSolo Violin                      9\nWind Quintet                     9\nPiano Quartet                    8\nAccompanied Cello                7\nPiano Trio                       7\nPairs Clarinet-Horn-Bassoon      6\nString Sextet                    5\nViolin and Harpsichord           4\nAccompanied Clarinet             4\nHorn Piano Trio                  4\nPiano Quintet                    4\nWind Octet                       4\nClarinet Quintet                 3\nSolo Flute                       3\nClarinet-Cello-Piano Trio        3\nWind and Strings Octet           2\nViola Quintet                    1\nName: ensemble, dtype: int64"
     },
     "metadata": {}
    }
   ]
  },
  {
   "cell_type": "code",
   "metadata": {
    "cell_id": "979a281b-b35b-49e2-a1e7-27dd7f81ac34",
    "tags": [],
    "deepnote_to_be_reexecuted": false,
    "source_hash": "151b44a3",
    "execution_start": 1645009346616,
    "execution_millis": 200,
    "deepnote_output_heights": [
     null,
     21.1875,
     233
    ],
    "deepnote_cell_type": "code"
   },
   "source": "# Now the ratio for each ensemble (showing only top 6 ensembles)\nprint(df_meta.ensemble.value_counts(normalize = True).head(6)*100)\n\n\n# Pie chart showing these ratios\n\ns=df_meta.ensemble.value_counts() # Series with the count for each category\n\n# Using the combination of groupby() (with np.where for condition) and sum() to create the category 'Others'\ns.groupby(np.where(s>=8,s.index,'Other')).sum().plot(kind='pie',startangle=-60)\n",
   "execution_count": 16,
   "outputs": [
    {
     "name": "stdout",
     "text": "Solo Piano            49.056604\nString Quartet        17.924528\nAccompanied Violin     6.918239\nSolo Violin            2.830189\nWind Quintet           2.830189\nPiano Quartet          2.515723\nName: ensemble, dtype: float64\n",
     "output_type": "stream"
    },
    {
     "output_type": "execute_result",
     "execution_count": 16,
     "data": {
      "text/plain": "<AxesSubplot:ylabel='ensemble'>"
     },
     "metadata": {}
    },
    {
     "data": {
      "text/plain": "<Figure size 432x288 with 1 Axes>",
      "image/png": "[encoded data removed]"
     },
     "metadata": {
      "image/png": {
       "width": 302,
       "height": 231
      }
     },
     "output_type": "display_data"
    }
   ]
  },
  {
   "cell_type": "markdown",
   "source": "#### Multivariable analsysis\n",
   "metadata": {
    "cell_id": "6632dc17-4de9-4a68-9ec7-1e996f115cfa",
    "tags": [],
    "deepnote_cell_type": "markdown"
   }
  },
  {
   "cell_type": "markdown",
   "source": "The only numeric variable of interest we have is the duration of the composition in the column `seconds`, so we will analyze it by categorical variables such as `composer`, `ensemble`, and `key`.  \nWe will also look for patterns between these categorical variables.\n",
   "metadata": {
    "cell_id": "63e5c96e-2610-4ca9-80da-c876cf9f58d1",
    "tags": [],
    "deepnote_cell_type": "markdown"
   }
  },
  {
   "cell_type": "code",
   "metadata": {
    "cell_id": "ad8992a1-b1e1-4bbb-968d-0651534473e4",
    "tags": [],
    "deepnote_to_be_reexecuted": false,
    "source_hash": "29ae904d",
    "execution_start": 1645009346819,
    "execution_millis": 24,
    "deepnote_output_heights": [
     232.25
    ],
    "deepnote_cell_type": "code"
   },
   "source": "# Mean of duration by composer\ndf_meta.groupby(['composer'])['seconds'].mean()",
   "execution_count": 17,
   "outputs": [
    {
     "output_type": "execute_result",
     "execution_count": 17,
     "data": {
      "text/plain": "composer\nBach         146.836364\nBeethoven    414.961783\nBrahms       480.458333\nCambini      286.333333\nDvorak       417.875000\nFaure        490.750000\nHaydn        296.000000\nMozart       391.083333\nRavel        410.750000\nSchubert     506.266667\nName: seconds, dtype: float64"
     },
     "metadata": {}
    }
   ]
  },
  {
   "cell_type": "code",
   "metadata": {
    "cell_id": "4784e3fb-db10-44f2-8687-2ffa8cf23a29",
    "tags": [],
    "deepnote_to_be_reexecuted": false,
    "source_hash": "e3a32496",
    "execution_start": 1645009346849,
    "execution_millis": 20,
    "deepnote_output_heights": [
     424.125
    ],
    "deepnote_cell_type": "code"
   },
   "source": "# Mean of duration by ensemble\ndf_meta.groupby(['ensemble'])['seconds'].mean()",
   "execution_count": 18,
   "outputs": [
    {
     "output_type": "execute_result",
     "execution_count": 18,
     "data": {
      "text/plain": "ensemble\nAccompanied Cello              536.142857\nAccompanied Clarinet           300.500000\nAccompanied Violin             402.863636\nClarinet Quintet               515.333333\nClarinet-Cello-Piano Trio      494.333333\nHorn Piano Trio                447.750000\nPairs Clarinet-Horn-Bassoon    237.833333\nPiano Quartet                  549.125000\nPiano Quintet                  377.500000\nPiano Trio                     390.285714\nSolo Flute                     156.333333\nSolo Piano                     352.807692\nSolo Violin                    197.666667\nString Quartet                 426.333333\nString Sextet                  570.800000\nViola Quintet                  924.000000\nViolin and Harpsichord         239.250000\nWind Octet                     338.250000\nWind Quintet                   286.333333\nWind and Strings Octet         396.000000\nName: seconds, dtype: float64"
     },
     "metadata": {}
    }
   ]
  },
  {
   "cell_type": "code",
   "metadata": {
    "cell_id": "c9d4959f-fb41-4020-ad95-e7bebf40a006",
    "tags": [],
    "deepnote_to_be_reexecuted": false,
    "source_hash": "33d697da",
    "execution_start": 1645009346875,
    "execution_millis": 50,
    "deepnote_output_heights": [
     611
    ],
    "deepnote_cell_type": "code"
   },
   "source": "# Mean of duration, grouping by composer and ensemble\ndf_meta.groupby(['composer', 'ensemble'])['seconds'].mean().sort_values(ascending=False).reset_index()",
   "execution_count": 19,
   "outputs": [
    {
     "output_type": "execute_result",
     "execution_count": 19,
     "data": {
      "application/vnd.deepnote.dataframe.v3+json": {
       "column_count": 3,
       "row_count": 31,
       "columns": [
        {
         "name": "composer",
         "dtype": "object",
         "stats": {
          "unique_count": 10,
          "nan_count": 0,
          "categories": [
           {
            "name": "Brahms",
            "count": 7
           },
           {
            "name": "Beethoven",
            "count": 7
           },
           {
            "name": "8 others",
            "count": 17
           }
          ]
         }
        },
        {
         "name": "ensemble",
         "dtype": "object",
         "stats": {
          "unique_count": 20,
          "nan_count": 0,
          "categories": [
           {
            "name": "String Quartet",
            "count": 6
           },
           {
            "name": "Solo Piano",
            "count": 3
           },
           {
            "name": "18 others",
            "count": 22
           }
          ]
         }
        },
        {
         "name": "seconds",
         "dtype": "float64",
         "stats": {
          "unique_count": 30,
          "nan_count": 0,
          "min": "124.8974358974359",
          "max": "924.0",
          "histogram": [
           {
            "bin_start": 124.8974358974359,
            "bin_end": 204.80769230769232,
            "count": 4
           },
           {
            "bin_start": 204.80769230769232,
            "bin_end": 284.71794871794873,
            "count": 2
           },
           {
            "bin_start": 284.71794871794873,
            "bin_end": 364.62820512820514,
            "count": 4
           },
           {
            "bin_start": 364.62820512820514,
            "bin_end": 444.53846153846155,
            "count": 9
           },
           {
            "bin_start": 444.53846153846155,
            "bin_end": 524.4487179487179,
            "count": 7
           },
           {
            "bin_start": 524.4487179487179,
            "bin_end": 604.3589743589744,
            "count": 3
           },
           {
            "bin_start": 604.3589743589744,
            "bin_end": 684.2692307692308,
            "count": 1
           },
           {
            "bin_start": 684.2692307692308,
            "bin_end": 764.1794871794872,
            "count": 0
           },
           {
            "bin_start": 764.1794871794872,
            "bin_end": 844.0897435897435,
            "count": 0
           },
           {
            "bin_start": 844.0897435897435,
            "bin_end": 924,
            "count": 1
           }
          ]
         }
        },
        {
         "name": "_deepnote_index_column",
         "dtype": "int64"
        }
       ],
       "rows": [
        {
         "composer": "Schubert",
         "ensemble": "Viola Quintet",
         "seconds": 924,
         "_deepnote_index_column": 0
        },
        {
         "composer": "Brahms",
         "ensemble": "Piano Quartet",
         "seconds": 607.5,
         "_deepnote_index_column": 1
        },
        {
         "composer": "Brahms",
         "ensemble": "String Sextet",
         "seconds": 570.8,
         "_deepnote_index_column": 2
        },
        {
         "composer": "Brahms",
         "ensemble": "Accompanied Cello",
         "seconds": 550.6666666666666,
         "_deepnote_index_column": 3
        },
        {
         "composer": "Beethoven",
         "ensemble": "Accompanied Cello",
         "seconds": 525.25,
         "_deepnote_index_column": 4
        },
        {
         "composer": "Mozart",
         "ensemble": "Clarinet Quintet",
         "seconds": 515.3333333333334,
         "_deepnote_index_column": 5
        },
        {
         "composer": "Schubert",
         "ensemble": "Solo Piano",
         "seconds": 511,
         "_deepnote_index_column": 6
        },
        {
         "composer": "Beethoven",
         "ensemble": "Clarinet-Cello-Piano Trio",
         "seconds": 494.3333333333333,
         "_deepnote_index_column": 7
        },
        {
         "composer": "Faure",
         "ensemble": "Piano Quartet",
         "seconds": 490.75,
         "_deepnote_index_column": 8
        },
        {
         "composer": "Schubert",
         "ensemble": "Piano Trio",
         "seconds": 490,
         "_deepnote_index_column": 9
        }
       ]
      },
      "text/plain": "     composer                     ensemble     seconds\n0    Schubert                Viola Quintet  924.000000\n1      Brahms                Piano Quartet  607.500000\n2      Brahms                String Sextet  570.800000\n3      Brahms            Accompanied Cello  550.666667\n4   Beethoven            Accompanied Cello  525.250000\n5      Mozart             Clarinet Quintet  515.333333\n6    Schubert                   Solo Piano  511.000000\n7   Beethoven    Clarinet-Cello-Piano Trio  494.333333\n8       Faure                Piano Quartet  490.750000\n9    Schubert                   Piano Trio  490.000000\n10  Beethoven               String Quartet  459.035714\n11     Brahms              Horn Piano Trio  447.750000\n12     Dvorak               String Quartet  417.875000\n13      Ravel               String Quartet  410.750000\n14  Beethoven                   Solo Piano  407.559140\n15     Brahms               String Quartet  405.000000\n16  Beethoven           Accompanied Violin  402.863636\n17     Mozart               String Quartet  397.000000\n18     Brahms       Wind and Strings Octet  396.000000\n19   Schubert                Piano Quintet  377.500000\n20     Mozart                   Piano Trio  373.666667\n21  Beethoven                   Wind Octet  338.250000\n22     Brahms         Accompanied Clarinet  300.500000\n23      Haydn               String Quartet  296.000000\n24    Cambini                 Wind Quintet  286.333333\n25     Mozart  Pairs Clarinet-Horn-Bassoon  278.000000\n26       Bach       Violin and Harpsichord  239.250000\n27  Beethoven  Pairs Clarinet-Horn-Bassoon  197.666667\n28       Bach                  Solo Violin  197.666667\n29       Bach                   Solo Flute  156.333333\n30       Bach                   Solo Piano  124.897436",
      "text/html": "<div>\n<style scoped>\n    .dataframe tbody tr th:only-of-type {\n        vertical-align: middle;\n    }\n\n    .dataframe tbody tr th {\n        vertical-align: top;\n    }\n\n    .dataframe thead th {\n        text-align: right;\n    }\n</style>\n<table border=\"1\" class=\"dataframe\">\n  <thead>\n    <tr style=\"text-align: right;\">\n      <th></th>\n      <th>composer</th>\n      <th>ensemble</th>\n      <th>seconds</th>\n    </tr>\n  </thead>\n  <tbody>\n    <tr>\n      <th>0</th>\n      <td>Schubert</td>\n      <td>Viola Quintet</td>\n      <td>924.000000</td>\n    </tr>\n    <tr>\n      <th>1</th>\n      <td>Brahms</td>\n      <td>Piano Quartet</td>\n      <td>607.500000</td>\n    </tr>\n    <tr>\n      <th>2</th>\n      <td>Brahms</td>\n      <td>String Sextet</td>\n      <td>570.800000</td>\n    </tr>\n    <tr>\n      <th>3</th>\n      <td>Brahms</td>\n      <td>Accompanied Cello</td>\n      <td>550.666667</td>\n    </tr>\n    <tr>\n      <th>4</th>\n      <td>Beethoven</td>\n      <td>Accompanied Cello</td>\n      <td>525.250000</td>\n    </tr>\n    <tr>\n      <th>5</th>\n      <td>Mozart</td>\n      <td>Clarinet Quintet</td>\n      <td>515.333333</td>\n    </tr>\n    <tr>\n      <th>6</th>\n      <td>Schubert</td>\n      <td>Solo Piano</td>\n      <td>511.000000</td>\n    </tr>\n    <tr>\n      <th>7</th>\n      <td>Beethoven</td>\n      <td>Clarinet-Cello-Piano Trio</td>\n      <td>494.333333</td>\n    </tr>\n    <tr>\n      <th>8</th>\n      <td>Faure</td>\n      <td>Piano Quartet</td>\n      <td>490.750000</td>\n    </tr>\n    <tr>\n      <th>9</th>\n      <td>Schubert</td>\n      <td>Piano Trio</td>\n      <td>490.000000</td>\n    </tr>\n    <tr>\n      <th>10</th>\n      <td>Beethoven</td>\n      <td>String Quartet</td>\n      <td>459.035714</td>\n    </tr>\n    <tr>\n      <th>11</th>\n      <td>Brahms</td>\n      <td>Horn Piano Trio</td>\n      <td>447.750000</td>\n    </tr>\n    <tr>\n      <th>12</th>\n      <td>Dvorak</td>\n      <td>String Quartet</td>\n      <td>417.875000</td>\n    </tr>\n    <tr>\n      <th>13</th>\n      <td>Ravel</td>\n      <td>String Quartet</td>\n      <td>410.750000</td>\n    </tr>\n    <tr>\n      <th>14</th>\n      <td>Beethoven</td>\n      <td>Solo Piano</td>\n      <td>407.559140</td>\n    </tr>\n    <tr>\n      <th>15</th>\n      <td>Brahms</td>\n      <td>String Quartet</td>\n      <td>405.000000</td>\n    </tr>\n    <tr>\n      <th>16</th>\n      <td>Beethoven</td>\n      <td>Accompanied Violin</td>\n      <td>402.863636</td>\n    </tr>\n    <tr>\n      <th>17</th>\n      <td>Mozart</td>\n      <td>String Quartet</td>\n      <td>397.000000</td>\n    </tr>\n    <tr>\n      <th>18</th>\n      <td>Brahms</td>\n      <td>Wind and Strings Octet</td>\n      <td>396.000000</td>\n    </tr>\n    <tr>\n      <th>19</th>\n      <td>Schubert</td>\n      <td>Piano Quintet</td>\n      <td>377.500000</td>\n    </tr>\n    <tr>\n      <th>20</th>\n      <td>Mozart</td>\n      <td>Piano Trio</td>\n      <td>373.666667</td>\n    </tr>\n    <tr>\n      <th>21</th>\n      <td>Beethoven</td>\n      <td>Wind Octet</td>\n      <td>338.250000</td>\n    </tr>\n    <tr>\n      <th>22</th>\n      <td>Brahms</td>\n      <td>Accompanied Clarinet</td>\n      <td>300.500000</td>\n    </tr>\n    <tr>\n      <th>23</th>\n      <td>Haydn</td>\n      <td>String Quartet</td>\n      <td>296.000000</td>\n    </tr>\n    <tr>\n      <th>24</th>\n      <td>Cambini</td>\n      <td>Wind Quintet</td>\n      <td>286.333333</td>\n    </tr>\n    <tr>\n      <th>25</th>\n      <td>Mozart</td>\n      <td>Pairs Clarinet-Horn-Bassoon</td>\n      <td>278.000000</td>\n    </tr>\n    <tr>\n      <th>26</th>\n      <td>Bach</td>\n      <td>Violin and Harpsichord</td>\n      <td>239.250000</td>\n    </tr>\n    <tr>\n      <th>27</th>\n      <td>Beethoven</td>\n      <td>Pairs Clarinet-Horn-Bassoon</td>\n      <td>197.666667</td>\n    </tr>\n    <tr>\n      <th>28</th>\n      <td>Bach</td>\n      <td>Solo Violin</td>\n      <td>197.666667</td>\n    </tr>\n    <tr>\n      <th>29</th>\n      <td>Bach</td>\n      <td>Solo Flute</td>\n      <td>156.333333</td>\n    </tr>\n    <tr>\n      <th>30</th>\n      <td>Bach</td>\n      <td>Solo Piano</td>\n      <td>124.897436</td>\n    </tr>\n  </tbody>\n</table>\n</div>"
     },
     "metadata": {}
    }
   ]
  },
  {
   "cell_type": "code",
   "metadata": {
    "cell_id": "1a133728-8d23-4c0c-ab8a-d072395a300a",
    "tags": [],
    "deepnote_to_be_reexecuted": false,
    "source_hash": "1892d348",
    "execution_start": 1645009346973,
    "execution_millis": 0,
    "deepnote_table_state": {
     "pageSize": 10,
     "pageIndex": 0,
     "filters": [],
     "sortBy": []
    },
    "deepnote_table_loading": false,
    "deepnote_cell_type": "code"
   },
   "source": "# Grouping by composer and ensemble, and counting the compositions\ndf_composer_ensemble = df_meta.groupby(['ensemble', 'key']).size().reset_index(name='counts')",
   "execution_count": 20,
   "outputs": []
  },
  {
   "cell_type": "code",
   "metadata": {
    "cell_id": "cb7b5f7a-4484-4143-a882-91c56804a1a1",
    "tags": [],
    "deepnote_to_be_reexecuted": false,
    "source_hash": "e1a496d5",
    "execution_start": 1645009346974,
    "execution_millis": 44,
    "deepnote_table_state": {
     "pageSize": 10,
     "pageIndex": 0,
     "filters": [],
     "sortBy": []
    },
    "deepnote_table_loading": false,
    "deepnote_cell_type": "code"
   },
   "source": "# Top 20 combinations of ensemble and key\ndf_composer_ensemble.sort_values('counts',ascending=False).reset_index(drop=True).iloc[0:20]",
   "execution_count": 21,
   "outputs": [
    {
     "output_type": "execute_result",
     "execution_count": 21,
     "data": {
      "application/vnd.deepnote.dataframe.v3+json": {
       "column_count": 3,
       "row_count": 20,
       "columns": [
        {
         "name": "ensemble",
         "dtype": "object",
         "stats": {
          "unique_count": 5,
          "nan_count": 0,
          "categories": [
           {
            "name": "Solo Piano",
            "count": 14
           },
           {
            "name": "String Quartet",
            "count": 3
           },
           {
            "name": "3 others",
            "count": 3
           }
          ]
         }
        },
        {
         "name": "key",
         "dtype": "object",
         "stats": {
          "unique_count": 15,
          "nan_count": 0,
          "categories": [
           {
            "name": "E-flat major",
            "count": 3
           },
           {
            "name": "F major",
            "count": 2
           },
           {
            "name": "13 others",
            "count": 15
           }
          ]
         }
        },
        {
         "name": "counts",
         "dtype": "int64",
         "stats": {
          "unique_count": 8,
          "nan_count": 0,
          "min": "6",
          "max": "15",
          "histogram": [
           {
            "bin_start": 6,
            "bin_end": 6.9,
            "count": 3
           },
           {
            "bin_start": 6.9,
            "bin_end": 7.8,
            "count": 1
           },
           {
            "bin_start": 7.8,
            "bin_end": 8.7,
            "count": 7
           },
           {
            "bin_start": 8.7,
            "bin_end": 9.6,
            "count": 4
           },
           {
            "bin_start": 9.6,
            "bin_end": 10.5,
            "count": 1
           },
           {
            "bin_start": 10.5,
            "bin_end": 11.4,
            "count": 1
           },
           {
            "bin_start": 11.4,
            "bin_end": 12.3,
            "count": 1
           },
           {
            "bin_start": 12.3,
            "bin_end": 13.2,
            "count": 0
           },
           {
            "bin_start": 13.2,
            "bin_end": 14.1,
            "count": 0
           },
           {
            "bin_start": 14.1,
            "bin_end": 15,
            "count": 2
           }
          ]
         }
        },
        {
         "name": "_deepnote_index_column",
         "dtype": "int64"
        }
       ],
       "rows": [
        {
         "ensemble": "Solo Piano",
         "key": "C minor",
         "counts": 15,
         "_deepnote_index_column": 0
        },
        {
         "ensemble": "Solo Piano",
         "key": "E-flat major",
         "counts": 15,
         "_deepnote_index_column": 1
        },
        {
         "ensemble": "Solo Piano",
         "key": "A major",
         "counts": 12,
         "_deepnote_index_column": 2
        },
        {
         "ensemble": "Solo Piano",
         "key": "D major",
         "counts": 11,
         "_deepnote_index_column": 3
        },
        {
         "ensemble": "String Quartet",
         "key": "F major",
         "counts": 10,
         "_deepnote_index_column": 4
        },
        {
         "ensemble": "Accompanied Violin",
         "key": "G major",
         "counts": 9,
         "_deepnote_index_column": 5
        },
        {
         "ensemble": "Solo Piano",
         "key": "B-flat major",
         "counts": 9,
         "_deepnote_index_column": 6
        },
        {
         "ensemble": "Solo Piano",
         "key": "A-flat major",
         "counts": 9,
         "_deepnote_index_column": 7
        },
        {
         "ensemble": "Solo Piano",
         "key": "F minor",
         "counts": 9,
         "_deepnote_index_column": 8
        },
        {
         "ensemble": "Solo Piano",
         "key": "D minor",
         "counts": 8,
         "_deepnote_index_column": 9
        }
       ]
      },
      "text/plain": "                       ensemble            key  counts\n0                    Solo Piano        C minor      15\n1                    Solo Piano   E-flat major      15\n2                    Solo Piano        A major      12\n3                    Solo Piano        D major      11\n4                String Quartet        F major      10\n5            Accompanied Violin        G major       9\n6                    Solo Piano   B-flat major       9\n7                    Solo Piano   A-flat major       9\n8                    Solo Piano        F minor       9\n9                    Solo Piano        D minor       8\n10                   Solo Piano        E major       8\n11                Piano Quartet        G minor       8\n12                   Solo Piano        C major       8\n13               String Quartet   E-flat major       8\n14                   Solo Piano        G major       8\n15                   Solo Piano        A minor       8\n16                   Solo Piano  C-sharp minor       7\n17  Pairs Clarinet-Horn-Bassoon   E-flat major       6\n18                   Solo Piano        F major       6\n19               String Quartet        C major       6",
      "text/html": "<div>\n<style scoped>\n    .dataframe tbody tr th:only-of-type {\n        vertical-align: middle;\n    }\n\n    .dataframe tbody tr th {\n        vertical-align: top;\n    }\n\n    .dataframe thead th {\n        text-align: right;\n    }\n</style>\n<table border=\"1\" class=\"dataframe\">\n  <thead>\n    <tr style=\"text-align: right;\">\n      <th></th>\n      <th>ensemble</th>\n      <th>key</th>\n      <th>counts</th>\n    </tr>\n  </thead>\n  <tbody>\n    <tr>\n      <th>0</th>\n      <td>Solo Piano</td>\n      <td>C minor</td>\n      <td>15</td>\n    </tr>\n    <tr>\n      <th>1</th>\n      <td>Solo Piano</td>\n      <td>E-flat major</td>\n      <td>15</td>\n    </tr>\n    <tr>\n      <th>2</th>\n      <td>Solo Piano</td>\n      <td>A major</td>\n      <td>12</td>\n    </tr>\n    <tr>\n      <th>3</th>\n      <td>Solo Piano</td>\n      <td>D major</td>\n      <td>11</td>\n    </tr>\n    <tr>\n      <th>4</th>\n      <td>String Quartet</td>\n      <td>F major</td>\n      <td>10</td>\n    </tr>\n    <tr>\n      <th>5</th>\n      <td>Accompanied Violin</td>\n      <td>G major</td>\n      <td>9</td>\n    </tr>\n    <tr>\n      <th>6</th>\n      <td>Solo Piano</td>\n      <td>B-flat major</td>\n      <td>9</td>\n    </tr>\n    <tr>\n      <th>7</th>\n      <td>Solo Piano</td>\n      <td>A-flat major</td>\n      <td>9</td>\n    </tr>\n    <tr>\n      <th>8</th>\n      <td>Solo Piano</td>\n      <td>F minor</td>\n      <td>9</td>\n    </tr>\n    <tr>\n      <th>9</th>\n      <td>Solo Piano</td>\n      <td>D minor</td>\n      <td>8</td>\n    </tr>\n    <tr>\n      <th>10</th>\n      <td>Solo Piano</td>\n      <td>E major</td>\n      <td>8</td>\n    </tr>\n    <tr>\n      <th>11</th>\n      <td>Piano Quartet</td>\n      <td>G minor</td>\n      <td>8</td>\n    </tr>\n    <tr>\n      <th>12</th>\n      <td>Solo Piano</td>\n      <td>C major</td>\n      <td>8</td>\n    </tr>\n    <tr>\n      <th>13</th>\n      <td>String Quartet</td>\n      <td>E-flat major</td>\n      <td>8</td>\n    </tr>\n    <tr>\n      <th>14</th>\n      <td>Solo Piano</td>\n      <td>G major</td>\n      <td>8</td>\n    </tr>\n    <tr>\n      <th>15</th>\n      <td>Solo Piano</td>\n      <td>A minor</td>\n      <td>8</td>\n    </tr>\n    <tr>\n      <th>16</th>\n      <td>Solo Piano</td>\n      <td>C-sharp minor</td>\n      <td>7</td>\n    </tr>\n    <tr>\n      <th>17</th>\n      <td>Pairs Clarinet-Horn-Bassoon</td>\n      <td>E-flat major</td>\n      <td>6</td>\n    </tr>\n    <tr>\n      <th>18</th>\n      <td>Solo Piano</td>\n      <td>F major</td>\n      <td>6</td>\n    </tr>\n    <tr>\n      <th>19</th>\n      <td>String Quartet</td>\n      <td>C major</td>\n      <td>6</td>\n    </tr>\n  </tbody>\n</table>\n</div>"
     },
     "metadata": {}
    }
   ]
  },
  {
   "cell_type": "code",
   "metadata": {
    "cell_id": "3e392b2a-16fd-4101-a801-3964a51a745f",
    "tags": [],
    "deepnote_to_be_reexecuted": false,
    "source_hash": "b985ece7",
    "execution_start": 1645009347034,
    "execution_millis": 2,
    "deepnote_output_heights": [
     611
    ],
    "deepnote_table_state": {
     "pageSize": 10,
     "pageIndex": 0,
     "filters": [],
     "sortBy": []
    },
    "deepnote_table_loading": false,
    "deepnote_cell_type": "code"
   },
   "source": "# Grouping by composer and ensemble, and counting the compositions\ndf_meta.groupby(['composer', 'ensemble']).size().to_frame(name='counts').sort_values(['composer','counts'],ascending=[True,False])",
   "execution_count": 22,
   "outputs": [
    {
     "output_type": "execute_result",
     "execution_count": 22,
     "data": {
      "application/vnd.deepnote.dataframe.v3+json": {
       "column_count": 1,
       "row_count": 31,
       "columns": [
        {
         "name": "counts",
         "dtype": "int64",
         "stats": {
          "unique_count": 14,
          "nan_count": 0,
          "min": "1",
          "max": "93",
          "histogram": [
           {
            "bin_start": 1,
            "bin_end": 10.2,
            "count": 25
           },
           {
            "bin_start": 10.2,
            "bin_end": 19.4,
            "count": 1
           },
           {
            "bin_start": 19.4,
            "bin_end": 28.599999999999998,
            "count": 3
           },
           {
            "bin_start": 28.599999999999998,
            "bin_end": 37.8,
            "count": 0
           },
           {
            "bin_start": 37.8,
            "bin_end": 47,
            "count": 1
           },
           {
            "bin_start": 47,
            "bin_end": 56.199999999999996,
            "count": 0
           },
           {
            "bin_start": 56.199999999999996,
            "bin_end": 65.39999999999999,
            "count": 0
           },
           {
            "bin_start": 65.39999999999999,
            "bin_end": 74.6,
            "count": 0
           },
           {
            "bin_start": 74.6,
            "bin_end": 83.8,
            "count": 0
           },
           {
            "bin_start": 83.8,
            "bin_end": 93,
            "count": 1
           }
          ]
         }
        },
        {
         "name": "_deepnote_index_column",
         "dtype": "object"
        }
       ],
       "rows": [
        {
         "counts": 39,
         "_deepnote_index_column": "('Bach', 'Solo Piano')"
        },
        {
         "counts": 9,
         "_deepnote_index_column": "('Bach', 'Solo Violin')"
        },
        {
         "counts": 4,
         "_deepnote_index_column": "('Bach', 'Violin and Harpsichord')"
        },
        {
         "counts": 3,
         "_deepnote_index_column": "('Bach', 'Solo Flute')"
        },
        {
         "counts": 93,
         "_deepnote_index_column": "('Beethoven', 'Solo Piano')"
        },
        {
         "counts": 28,
         "_deepnote_index_column": "('Beethoven', 'String Quartet')"
        },
        {
         "counts": 22,
         "_deepnote_index_column": "('Beethoven', 'Accompanied Violin')"
        },
        {
         "counts": 4,
         "_deepnote_index_column": "('Beethoven', 'Accompanied Cello')"
        },
        {
         "counts": 4,
         "_deepnote_index_column": "('Beethoven', 'Wind Octet')"
        },
        {
         "counts": 3,
         "_deepnote_index_column": "('Beethoven', 'Clarinet-Cello-Piano Trio')"
        }
       ]
      },
      "text/plain": "                                       counts\ncomposer  ensemble                           \nBach      Solo Piano                       39\n          Solo Violin                       9\n          Violin and Harpsichord            4\n          Solo Flute                        3\nBeethoven Solo Piano                       93\n          String Quartet                   28\n          Accompanied Violin               22\n          Accompanied Cello                 4\n          Wind Octet                        4\n          Clarinet-Cello-Piano Trio         3\n          Pairs Clarinet-Horn-Bassoon       3\nBrahms    String Sextet                     5\n          Accompanied Clarinet              4\n          Horn Piano Trio                   4\n          Piano Quartet                     4\n          Accompanied Cello                 3\n          String Quartet                    2\n          Wind and Strings Octet            2\nCambini   Wind Quintet                      9\nDvorak    String Quartet                    8\nFaure     Piano Quartet                     4\nHaydn     String Quartet                    3\nMozart    String Quartet                   12\n          Piano Trio                        6\n          Clarinet Quintet                  3\n          Pairs Clarinet-Horn-Bassoon       3\nRavel     String Quartet                    4\nSchubert  Solo Piano                       24\n          Piano Quintet                     4\n          Piano Trio                        1\n          Viola Quintet                     1",
      "text/html": "<div>\n<style scoped>\n    .dataframe tbody tr th:only-of-type {\n        vertical-align: middle;\n    }\n\n    .dataframe tbody tr th {\n        vertical-align: top;\n    }\n\n    .dataframe thead th {\n        text-align: right;\n    }\n</style>\n<table border=\"1\" class=\"dataframe\">\n  <thead>\n    <tr style=\"text-align: right;\">\n      <th></th>\n      <th></th>\n      <th>counts</th>\n    </tr>\n    <tr>\n      <th>composer</th>\n      <th>ensemble</th>\n      <th></th>\n    </tr>\n  </thead>\n  <tbody>\n    <tr>\n      <th rowspan=\"4\" valign=\"top\">Bach</th>\n      <th>Solo Piano</th>\n      <td>39</td>\n    </tr>\n    <tr>\n      <th>Solo Violin</th>\n      <td>9</td>\n    </tr>\n    <tr>\n      <th>Violin and Harpsichord</th>\n      <td>4</td>\n    </tr>\n    <tr>\n      <th>Solo Flute</th>\n      <td>3</td>\n    </tr>\n    <tr>\n      <th rowspan=\"7\" valign=\"top\">Beethoven</th>\n      <th>Solo Piano</th>\n      <td>93</td>\n    </tr>\n    <tr>\n      <th>String Quartet</th>\n      <td>28</td>\n    </tr>\n    <tr>\n      <th>Accompanied Violin</th>\n      <td>22</td>\n    </tr>\n    <tr>\n      <th>Accompanied Cello</th>\n      <td>4</td>\n    </tr>\n    <tr>\n      <th>Wind Octet</th>\n      <td>4</td>\n    </tr>\n    <tr>\n      <th>Clarinet-Cello-Piano Trio</th>\n      <td>3</td>\n    </tr>\n    <tr>\n      <th>Pairs Clarinet-Horn-Bassoon</th>\n      <td>3</td>\n    </tr>\n    <tr>\n      <th rowspan=\"7\" valign=\"top\">Brahms</th>\n      <th>String Sextet</th>\n      <td>5</td>\n    </tr>\n    <tr>\n      <th>Accompanied Clarinet</th>\n      <td>4</td>\n    </tr>\n    <tr>\n      <th>Horn Piano Trio</th>\n      <td>4</td>\n    </tr>\n    <tr>\n      <th>Piano Quartet</th>\n      <td>4</td>\n    </tr>\n    <tr>\n      <th>Accompanied Cello</th>\n      <td>3</td>\n    </tr>\n    <tr>\n      <th>String Quartet</th>\n      <td>2</td>\n    </tr>\n    <tr>\n      <th>Wind and Strings Octet</th>\n      <td>2</td>\n    </tr>\n    <tr>\n      <th>Cambini</th>\n      <th>Wind Quintet</th>\n      <td>9</td>\n    </tr>\n    <tr>\n      <th>Dvorak</th>\n      <th>String Quartet</th>\n      <td>8</td>\n    </tr>\n    <tr>\n      <th>Faure</th>\n      <th>Piano Quartet</th>\n      <td>4</td>\n    </tr>\n    <tr>\n      <th>Haydn</th>\n      <th>String Quartet</th>\n      <td>3</td>\n    </tr>\n    <tr>\n      <th rowspan=\"4\" valign=\"top\">Mozart</th>\n      <th>String Quartet</th>\n      <td>12</td>\n    </tr>\n    <tr>\n      <th>Piano Trio</th>\n      <td>6</td>\n    </tr>\n    <tr>\n      <th>Clarinet Quintet</th>\n      <td>3</td>\n    </tr>\n    <tr>\n      <th>Pairs Clarinet-Horn-Bassoon</th>\n      <td>3</td>\n    </tr>\n    <tr>\n      <th>Ravel</th>\n      <th>String Quartet</th>\n      <td>4</td>\n    </tr>\n    <tr>\n      <th rowspan=\"4\" valign=\"top\">Schubert</th>\n      <th>Solo Piano</th>\n      <td>24</td>\n    </tr>\n    <tr>\n      <th>Piano Quintet</th>\n      <td>4</td>\n    </tr>\n    <tr>\n      <th>Piano Trio</th>\n      <td>1</td>\n    </tr>\n    <tr>\n      <th>Viola Quintet</th>\n      <td>1</td>\n    </tr>\n  </tbody>\n</table>\n</div>"
     },
     "metadata": {}
    }
   ]
  },
  {
   "cell_type": "markdown",
   "source": "We will create dataframes with the compositions with the most repeated ensembles and composers to dig in.",
   "metadata": {
    "cell_id": "9163f3fb-1fb3-4ffd-99a8-3ca255c2cb81",
    "tags": [],
    "deepnote_cell_type": "markdown"
   }
  },
  {
   "cell_type": "code",
   "metadata": {
    "cell_id": "a0a20c6d-4c54-4297-a6ea-7ff2133b6b27",
    "tags": [],
    "deepnote_to_be_reexecuted": false,
    "source_hash": "b0d8c5e",
    "execution_start": 1645009347050,
    "execution_millis": 1,
    "deepnote_output_heights": [
     78.75
    ],
    "deepnote_cell_type": "code"
   },
   "source": "# \"Solo Piano\" compositions\ndf_solopiano = df_meta[df_meta['ensemble']=='Solo Piano']\n\n# \"String Quartet\" compositions\ndf_strquartet = df_meta[df_meta['ensemble']=='String Quartet']\n\n# \"Accompanied Violin\" compositions\ndf_accviolin = df_meta[df_meta['ensemble']=='Accompanied Violin']",
   "execution_count": 23,
   "outputs": []
  },
  {
   "cell_type": "code",
   "metadata": {
    "cell_id": "df587817-d66c-433e-b1ce-5a07fbb48375",
    "tags": [],
    "deepnote_to_be_reexecuted": false,
    "source_hash": "873102de",
    "execution_start": 1645009347100,
    "execution_millis": 1,
    "deepnote_cell_type": "code"
   },
   "source": "# Beethoven's compositions\ndf_bet = df_meta[df_meta['composer']=='Beethoven']\n\n# Bach's compositions\ndf_bach = df_meta[df_meta['composer']=='Bach']\n\n# Schubert's compositions\ndf_schubert = df_meta[df_meta['composer']=='Schubert']\n\n# Mozart's compositions\ndf_mozart = df_meta[df_meta['composer']=='Mozart']",
   "execution_count": 24,
   "outputs": []
  },
  {
   "cell_type": "markdown",
   "source": "#### *experiments*",
   "metadata": {
    "cell_id": "73283cbc-132e-4dd7-8a3f-8ca2d876a239",
    "tags": [],
    "deepnote_cell_type": "markdown"
   }
  },
  {
   "cell_type": "markdown",
   "source": "From here on, sketches to be developed",
   "metadata": {
    "cell_id": "24859f6a-c3b1-4b5c-8659-649e7ac73e34",
    "tags": [],
    "deepnote_cell_type": "markdown"
   }
  },
  {
   "cell_type": "code",
   "metadata": {
    "cell_id": "21a00117-f578-44b6-bd1a-64da41cf0866",
    "tags": [],
    "deepnote_to_be_reexecuted": false,
    "source_hash": "4a8a7abe",
    "execution_start": 1645009347102,
    "execution_millis": 0,
    "deepnote_output_heights": [
     347.375
    ],
    "deepnote_cell_type": "code"
   },
   "source": "df_bet.key.value_counts()",
   "execution_count": 25,
   "outputs": [
    {
     "output_type": "execute_result",
     "execution_count": 25,
     "data": {
      "text/plain": "E-flat major     28\nG major          18\nA major          17\nC minor          13\nB-flat major     11\nF major          11\nC major           8\nD major           7\nF minor           7\nD minor           6\nA-flat major      6\nE major           6\nA minor           6\nC-sharp minor     5\nE minor           5\nG minor           2\nF-sharp major     1\nName: key, dtype: int64"
     },
     "metadata": {}
    }
   ]
  },
  {
   "cell_type": "markdown",
   "source": "### After merged",
   "metadata": {
    "cell_id": "5cc29993-6768-4f0e-8bef-a479f3265144",
    "tags": [],
    "deepnote_cell_type": "markdown"
   }
  },
  {
   "cell_type": "code",
   "metadata": {
    "cell_id": "d7c5e740-e8b5-4d2b-a69e-94edc771efd0",
    "tags": [],
    "deepnote_to_be_reexecuted": false,
    "source_hash": "9028e91b",
    "execution_start": 1645009347105,
    "deepnote_cell_type": "code"
   },
   "source": "# I'll add a column indicating the difference between each note played and the tonic of the composition\n# This way, we'll know which notes on a chromatic scale are being used\n# Thus, we may determine which scales are used\n\n#df_scores['chromatic_degree'] = df_scores.note - df_scores.tonic_encoded",
   "execution_count": 26,
   "outputs": []
  },
  {
   "cell_type": "markdown",
   "source": "<a style='text-decoration:none;line-height:16px;display:flex;color:#5B5B62;padding:10px;justify-content:end;' href='https://deepnote.com?utm_source=created-in-deepnote-cell&projectId=177ea176-1f94-4265-9666-0cca06278d8e' target=\"_blank\">\n<img alt='Created in deepnote.com' style='display:inline;max-height:16px;margin:0px;margin-right:7.5px;' src='data:image/svg+xml;base64,PD94bWwgdmVyc2lvbj0iMS4wIiBlbmNvZGluZz0iVVRGLTgiPz4KPHN2ZyB3aWR0aD0iODBweCIgaGVpZ2h0PSI4MHB4IiB2aWV3Qm94PSIwIDAgODAgODAiIHZlcnNpb249IjEuMSIgeG1sbnM9Imh0dHA6Ly93d3cudzMub3JnLzIwMDAvc3ZnIiB4bWxuczp4bGluaz0iaHR0cDovL3d3dy53My5vcmcvMTk5OS94bGluayI+CiAgICA8IS0tIEdlbmVyYXRvcjogU2tldGNoIDU0LjEgKDc2NDkwKSAtIGh0dHBzOi8vc2tldGNoYXBwLmNvbSAtLT4KICAgIDx0aXRsZT5Hcm91cCAzPC90aXRsZT4KICAgIDxkZXNjPkNyZWF0ZWQgd2l0aCBTa2V0Y2guPC9kZXNjPgogICAgPGcgaWQ9IkxhbmRpbmciIHN0cm9rZT0ibm9uZSIgc3Ryb2tlLXdpZHRoPSIxIiBmaWxsPSJub25lIiBmaWxsLXJ1bGU9ImV2ZW5vZGQiPgogICAgICAgIDxnIGlkPSJBcnRib2FyZCIgdHJhbnNmb3JtPSJ0cmFuc2xhdGUoLTEyMzUuMDAwMDAwLCAtNzkuMDAwMDAwKSI+CiAgICAgICAgICAgIDxnIGlkPSJHcm91cC0zIiB0cmFuc2Zvcm09InRyYW5zbGF0ZSgxMjM1LjAwMDAwMCwgNzkuMDAwMDAwKSI+CiAgICAgICAgICAgICAgICA8cG9seWdvbiBpZD0iUGF0aC0yMCIgZmlsbD0iIzAyNjVCNCIgcG9pbnRzPSIyLjM3NjIzNzYyIDgwIDM4LjA0NzY2NjcgODAgNTcuODIxNzgyMiA3My44MDU3NTkyIDU3LjgyMTc4MjIgMzIuNzU5MjczOSAzOS4xNDAyMjc4IDMxLjY4MzE2ODMiPjwvcG9seWdvbj4KICAgICAgICAgICAgICAgIDxwYXRoIGQ9Ik0zNS4wMDc3MTgsODAgQzQyLjkwNjIwMDcsNzYuNDU0OTM1OCA0Ny41NjQ5MTY3LDcxLjU0MjI2NzEgNDguOTgzODY2LDY1LjI2MTk5MzkgQzUxLjExMjI4OTksNTUuODQxNTg0MiA0MS42NzcxNzk1LDQ5LjIxMjIyODQgMjUuNjIzOTg0Niw0OS4yMTIyMjg0IEMyNS40ODQ5Mjg5LDQ5LjEyNjg0NDggMjkuODI2MTI5Niw0My4yODM4MjQ4IDM4LjY0NzU4NjksMzEuNjgzMTY4MyBMNzIuODcxMjg3MSwzMi41NTQ0MjUgTDY1LjI4MDk3Myw2Ny42NzYzNDIxIEw1MS4xMTIyODk5LDc3LjM3NjE0NCBMMzUuMDA3NzE4LDgwIFoiIGlkPSJQYXRoLTIyIiBmaWxsPSIjMDAyODY4Ij48L3BhdGg+CiAgICAgICAgICAgICAgICA8cGF0aCBkPSJNMCwzNy43MzA0NDA1IEwyNy4xMTQ1MzcsMC4yNTcxMTE0MzYgQzYyLjM3MTUxMjMsLTEuOTkwNzE3MDEgODAsMTAuNTAwMzkyNyA4MCwzNy43MzA0NDA1IEM4MCw2NC45NjA0ODgyIDY0Ljc3NjUwMzgsNzkuMDUwMzQxNCAzNC4zMjk1MTEzLDgwIEM0Ny4wNTUzNDg5LDc3LjU2NzA4MDggNTMuNDE4MjY3Nyw3MC4zMTM2MTAzIDUzLjQxODI2NzcsNTguMjM5NTg4NSBDNTMuNDE4MjY3Nyw0MC4xMjg1NTU3IDM2LjMwMzk1NDQsMzcuNzMwNDQwNSAyNS4yMjc0MTcsMzcuNzMwNDQwNSBDMTcuODQzMDU4NiwzNy43MzA0NDA1IDkuNDMzOTE5NjYsMzcuNzMwNDQwNSAwLDM3LjczMDQ0MDUgWiIgaWQ9IlBhdGgtMTkiIGZpbGw9IiMzNzkzRUYiPjwvcGF0aD4KICAgICAgICAgICAgPC9nPgogICAgICAgIDwvZz4KICAgIDwvZz4KPC9zdmc+' > </img>\nCreated in <span style='font-weight:600;margin-left:4px;'>Deepnote</span></a>",
   "metadata": {
    "tags": [],
    "created_in_deepnote_cell": true,
    "deepnote_cell_type": "markdown"
   }
  }
 ],
 "nbformat": 4,
 "nbformat_minor": 2,
 "metadata": {
  "orig_nbformat": 2,
  "deepnote": {
   "is_reactive": false
  },
  "deepnote_notebook_id": "dfc6a4e2-1081-4fbe-90a5-989e6cdf41f3",
  "deepnote_execution_queue": []
 }
}